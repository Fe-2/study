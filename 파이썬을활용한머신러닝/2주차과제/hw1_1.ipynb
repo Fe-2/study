{
 "cells": [
  {
   "cell_type": "code",
   "execution_count": 1,
   "metadata": {},
   "outputs": [
    {
     "name": "stdin",
     "output_type": "stream",
     "text": [
      "Enter a score : 65\n",
      "Enter a year : 23\n"
     ]
    },
    {
     "name": "stdout",
     "output_type": "stream",
     "text": [
      "Result : FAIL\n"
     ]
    }
   ],
   "source": [
    "score = int(input('Enter a score :'))\n",
    "year = int(input('Enter a year :'))\n",
    "if year >= 22:\n",
    "    if score >= 70:\n",
    "        result = 'PASS'\n",
    "    else:\n",
    "        result = 'FAIL'\n",
    "else:\n",
    "    if score >= 60:\n",
    "        result = 'PASS'\n",
    "    else:\n",
    "        result = 'FAIL'\n",
    "print(f'Result : {result}')"
   ]
  },
  {
   "cell_type": "code",
   "execution_count": null,
   "metadata": {},
   "outputs": [],
   "source": [
    "\n"
   ]
  }
 ],
 "metadata": {
  "kernelspec": {
   "display_name": "Python 3",
   "language": "python",
   "name": "python3"
  },
  "language_info": {
   "codemirror_mode": {
    "name": "ipython",
    "version": 3
   },
   "file_extension": ".py",
   "mimetype": "text/x-python",
   "name": "python",
   "nbconvert_exporter": "python",
   "pygments_lexer": "ipython3",
   "version": "3.8.3"
  }
 },
 "nbformat": 4,
 "nbformat_minor": 4
}
