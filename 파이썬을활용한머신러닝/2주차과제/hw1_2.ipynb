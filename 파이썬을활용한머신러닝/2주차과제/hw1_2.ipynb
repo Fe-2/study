{
 "cells": [
  {
   "cell_type": "code",
   "execution_count": 1,
   "metadata": {},
   "outputs": [
    {
     "name": "stdin",
     "output_type": "stream",
     "text": [
      "N : 18\n",
      "K : 12\n",
      "J : 12\n"
     ]
    },
    {
     "name": "stdout",
     "output_type": "stream",
     "text": [
      "Smallest number : 12\n"
     ]
    }
   ],
   "source": [
    "N = int(input('N :'))\n",
    "K = int(input('K :'))\n",
    "J = int(input('J :'))\n",
    "\n",
    "if N > K:\n",
    "    if K > J:\n",
    "        smallest = J\n",
    "    else:\n",
    "        smallest = K\n",
    "else:\n",
    "    if N > J:\n",
    "        smallest = J\n",
    "    else:\n",
    "        smallest = N\n",
    "\n",
    "print(f'Smallest number : {smallest}')\n"
   ]
  },
  {
   "cell_type": "code",
   "execution_count": null,
   "metadata": {},
   "outputs": [],
   "source": [
    "\n"
   ]
  }
 ],
 "metadata": {
  "kernelspec": {
   "display_name": "Python 3",
   "language": "python",
   "name": "python3"
  },
  "language_info": {
   "codemirror_mode": {
    "name": "ipython",
    "version": 3
   },
   "file_extension": ".py",
   "mimetype": "text/x-python",
   "name": "python",
   "nbconvert_exporter": "python",
   "pygments_lexer": "ipython3",
   "version": "3.8.3"
  }
 },
 "nbformat": 4,
 "nbformat_minor": 4
}
