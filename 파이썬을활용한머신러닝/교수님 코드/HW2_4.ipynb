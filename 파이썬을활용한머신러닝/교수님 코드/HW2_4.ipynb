{
 "cells": [
  {
   "cell_type": "code",
   "execution_count": 1,
   "metadata": {},
   "outputs": [],
   "source": [
    "f2 = open(\"Average.txt\", 'w')\n",
    "f2.write('Name\\tTotal\\tAverage\\n')\n",
    "\n",
    "for line in open(\"class.txt\", 'r').readlines()[1:]:\n",
    "    line = line.replace('\\n','')\n",
    "    name = line.split('\\t')[0]\n",
    "    math = int(line.split('\\t')[2])\n",
    "    english = int(line.split('\\t')[1])\n",
    "    science = int(line.split('\\t')[3])\n",
    "    \n",
    "    total = math+english+science\n",
    "    average = total/3\n",
    "    \n",
    "    \n",
    "    f2.write(f'{name}\\t{total}\\t{average}\\n')\n",
    "f2.close() "
   ]
  }
 ],
 "metadata": {
  "kernelspec": {
   "display_name": "Python 3",
   "language": "python",
   "name": "python3"
  },
  "language_info": {
   "codemirror_mode": {
    "name": "ipython",
    "version": 3
   },
   "file_extension": ".py",
   "mimetype": "text/x-python",
   "name": "python",
   "nbconvert_exporter": "python",
   "pygments_lexer": "ipython3",
   "version": "3.8.3"
  }
 },
 "nbformat": 4,
 "nbformat_minor": 4
}
