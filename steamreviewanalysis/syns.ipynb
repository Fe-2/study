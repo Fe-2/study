{
 "cells": [
  {
   "cell_type": "code",
   "execution_count": 1,
   "metadata": {},
   "outputs": [],
   "source": [
    "import nltk"
   ]
  },
  {
   "cell_type": "code",
   "execution_count": 2,
   "metadata": {},
   "outputs": [
    {
     "name": "stderr",
     "output_type": "stream",
     "text": [
      "[nltk_data] Downloading package wordnet to\n",
      "[nltk_data]     C:\\Users\\LEE\\AppData\\Roaming\\nltk_data...\n",
      "[nltk_data]   Package wordnet is already up-to-date!\n"
     ]
    },
    {
     "data": {
      "text/plain": [
       "True"
      ]
     },
     "execution_count": 2,
     "metadata": {},
     "output_type": "execute_result"
    }
   ],
   "source": [
    "nltk.download('wordnet')"
   ]
  },
  {
   "cell_type": "code",
   "execution_count": 4,
   "metadata": {},
   "outputs": [],
   "source": [
    "from nltk.corpus import wordnet as wn\n"
   ]
  },
  {
   "cell_type": "code",
   "execution_count": 8,
   "metadata": {},
   "outputs": [
    {
     "data": {
      "text/plain": [
       "[Lemma('car.n.01.car'),\n",
       " Lemma('car.n.01.auto'),\n",
       " Lemma('car.n.01.automobile'),\n",
       " Lemma('car.n.01.machine'),\n",
       " Lemma('car.n.01.motorcar')]"
      ]
     },
     "execution_count": 8,
     "metadata": {},
     "output_type": "execute_result"
    }
   ],
   "source": [
    "wn.synsets('')[0].lemmas()"
   ]
  },
  {
   "cell_type": "code",
   "execution_count": 9,
   "metadata": {},
   "outputs": [],
   "source": [
    "import pandas as pd"
   ]
  },
  {
   "cell_type": "code",
   "execution_count": 56,
   "metadata": {},
   "outputs": [],
   "source": [
    "df = pd.read_csv('TFIDF&Freq.csv')"
   ]
  },
  {
   "cell_type": "code",
   "execution_count": 59,
   "metadata": {},
   "outputs": [],
   "source": [
    "ALLS = df['Words'].to_list()[401:]\n",
    "words = df['Words'].to_list()[:401]"
   ]
  },
  {
   "cell_type": "code",
   "execution_count": 60,
   "metadata": {},
   "outputs": [
    {
     "name": "stdout",
     "output_type": "stream",
     "text": [
      "time  ==  clip\n",
      "server  ==  waiter\n",
      "amaze  ==  astonish\n",
      "amaze  ==  astound\n",
      "bad  ==  badness\n",
      "pay  ==  wage\n",
      "pay  ==  salary\n",
      "grind  ==  nerd\n",
      "grind  ==  wonk\n",
      "grind  ==  dweeb\n",
      "story  ==  narrative\n",
      "story  ==  narration\n",
      "story  ==  tale\n",
      "make  ==  brand\n",
      "enjoy  ==  relish\n",
      "enjoy  ==  savor\n",
      "level  ==  degree\n",
      "level  ==  grade\n",
      "go  ==  spell\n",
      "go  ==  tour\n",
      "recommend  ==  urge\n",
      "recommend  ==  advocate\n",
      "wait  ==  delay\n",
      "wait  ==  hold\n",
      "try  ==  attempt\n",
      "try  ==  effort\n",
      "try  ==  endeavor\n",
      "try  ==  endeavour\n",
      "awesome  ==  awful\n",
      "quest  ==  pursuit\n",
      "player  ==  participant\n",
      "want  ==  deprivation\n",
      "look  ==  expression\n",
      "look  ==  face\n",
      "give  ==  spring\n",
      "class  ==  category\n",
      "addict  ==  nut\n",
      "addict  ==  freak\n",
      "addict  ==  junkie\n",
      "addict  ==  junky\n",
      "long  ==  yearn\n",
      "take  ==  return\n",
      "take  ==  yield\n",
      "take  ==  payoff\n",
      "end  ==  terminal\n",
      "need  ==  demand\n",
      "wow  ==  scream\n",
      "wow  ==  riot\n",
      "dungeon  ==  donjon\n",
      "way  ==  manner\n",
      "way  ==  mode\n",
      "way  ==  fashion\n",
      "fix  ==  hole\n",
      "fix  ==  jam\n",
      "fix  ==  mess\n",
      "fix  ==  muddle\n",
      "fix  ==  pickle\n",
      "world  ==  universe\n",
      "world  ==  existence\n",
      "world  ==  creation\n",
      "world  ==  cosmos\n",
      "come  ==  semen\n",
      "come  ==  ejaculate\n",
      "come  ==  cum\n",
      "shit  ==  crap\n",
      "shit  ==  dirt\n",
      "shit  ==  shite\n",
      "shit  ==  poop\n",
      "shit  ==  turd\n",
      "find  ==  discovery\n",
      "find  ==  breakthrough\n",
      "keep  ==  sustenance\n",
      "use  ==  usage\n",
      "use  ==  exercise\n",
      "mechanic  ==  machinist\n",
      "nothing  ==  nil\n",
      "nothing  ==  nix\n",
      "nothing  ==  nada\n",
      "nothing  ==  naught\n",
      "nothing  ==  zero\n",
      "nothing  ==  zilch\n",
      "nothing  ==  zip\n",
      "buy  ==  bargain\n",
      "buy  ==  steal\n",
      "big  ==  large\n",
      "enjoyable  ==  pleasurable\n",
      "skill  ==  accomplishment\n",
      "skill  ==  acquisition\n",
      "raid  ==  foray\n",
      "interest  ==  involvement\n",
      "stop  ==  halt\n",
      "progress  ==  advancement\n",
      "style  ==  manner\n",
      "style  ==  mode\n",
      "style  ==  fashion\n",
      "change  ==  alteration\n",
      "change  ==  modification\n",
      "hard  ==  difficult\n",
      "trash  ==  rubbish\n",
      "trash  ==  scrap\n",
      "error  ==  mistake\n",
      "error  ==  fault\n",
      "boss  ==  foreman\n",
      "boss  ==  chief\n",
      "press  ==  pressure\n",
      "help  ==  aid\n",
      "help  ==  assist\n",
      "help  ==  assistance\n",
      "fantastic  ==  antic\n",
      "fantastic  ==  fantastical\n",
      "fantastic  ==  grotesque\n",
      "pack  ==  multitude\n",
      "amount  ==  sum\n",
      "expect  ==  anticipate\n",
      "fight  ==  battle\n",
      "fight  ==  conflict\n",
      "fight  ==  engagement\n",
      "upgrade  ==  ascent\n",
      "upgrade  ==  rise\n",
      "upgrade  ==  raise\n",
      "upgrade  ==  climb\n",
      "learn  ==  acquire\n",
      "load  ==  burden\n",
      "fail  ==  neglect\n",
      "reward  ==  payoff\n",
      "terrible  ==  awful\n",
      "terrible  ==  dire\n",
      "terrible  ==  dread\n",
      "terrible  ==  dreadful\n",
      "terrible  ==  horrendous\n",
      "terrible  ==  horrific\n",
      "open  ==  clear\n",
      "satisfy  ==  fulfill\n",
      "satisfy  ==  fulfil\n",
      "reason  ==  ground\n",
      "tier  ==  grade\n",
      "job  ==  occupation\n",
      "job  ==  business\n",
      "reach  ==  range\n",
      "click  ==  chink\n",
      "connect  ==  link\n",
      "connect  ==  tie\n",
      "hype  ==  plug\n",
      "huge  ==  immense\n",
      "huge  ==  vast\n",
      "break  ==  interruption\n",
      "care  ==  attention\n",
      "care  ==  aid\n",
      "kind  ==  sort\n",
      "kind  ==  form\n",
      "kind  ==  variety\n",
      "engage  ==  prosecute\n",
      "engage  ==  pursue\n",
      "edit  ==  redact\n",
      "last  ==  finale\n",
      "last  ==  finish\n",
      "last  ==  conclusion\n",
      "garbage  ==  refuse\n",
      "slow  ==  retard\n",
      "chance  ==  opportunity\n",
      "aspect  ==  facet\n",
      "mind  ==  head\n",
      "mind  ==  brain\n",
      "mind  ==  psyche\n",
      "moment  ==  instant\n",
      "okay  ==  okey\n",
      "hate  ==  hatred\n",
      "complete  ==  finish\n",
      "join  ==  joint\n",
      "join  ==  juncture\n",
      "repetitive  ==  insistent\n",
      "shop  ==  store\n",
      "number  ==  figure\n",
      "crash  ==  clang\n",
      "crash  ==  clash\n",
      "pick  ==  choice\n",
      "pick  ==  selection\n",
      "excellent  ==  splendid\n",
      "watch  ==  ticker\n",
      "turn  ==  bend\n",
      "turn  ==  crook\n",
      "turn  ==  twist\n",
      "write  ==  compose\n",
      "write  ==  pen\n",
      "lack  ==  deficiency\n",
      "dope  ==  pot\n",
      "dope  ==  grass\n",
      "dope  ==  weed\n",
      "dope  ==  sens\n",
      "dope  ==  smoke\n",
      "build  ==  physique\n",
      "area  ==  country\n",
      "die  ==  dice\n",
      "second  ==  sec\n",
      "mob  ==  rout\n",
      "explore  ==  research\n",
      "explore  ==  search\n",
      "guild  ==  club\n",
      "guild  ==  society\n",
      "guild  ==  gild\n",
      "guild  ==  lodge\n",
      "guild  ==  order\n",
      "someone  ==  person\n",
      "someone  ==  individual\n",
      "someone  ==  somebody\n",
      "someone  ==  mortal\n",
      "someone  ==  soul\n",
      "guy  ==  cat\n",
      "guy  ==  hombre\n",
      "guy  ==  bozo\n",
      "drop  ==  pearl\n",
      "hell  ==  hellhole\n",
      "hell  ==  inferno\n",
      "close  ==  finale\n",
      "close  ==  finish\n",
      "close  ==  conclusion\n",
      "account  ==  history\n",
      "account  ==  chronicle\n",
      "complain  ==  kick\n",
      "complain  ==  plain\n",
      "unique  ==  alone\n",
      "unique  ==  unparalleled\n",
      "annoy  ==  rag\n",
      "annoy  ==  irritate\n",
      "annoy  ==  vex\n",
      "annoy  ==  devil\n",
      "maintenance  ==  upkeep\n",
      "place  ==  spot\n",
      "massive  ==  monumental\n",
      "choose  ==  select\n",
      "pass  ==  walk\n",
      "overwhelm  ==  overpower\n",
      "overwhelm  ==  whelm\n",
      "overwhelm  ==  overcome\n",
      "overwhelm  ==  overtake\n",
      "actual  ==  existent\n",
      "bother  ==  fuss\n",
      "bother  ==  trouble\n",
      "bother  ==  hassle\n",
      "require  ==  necessitate\n",
      "require  ==  ask\n",
      "require  ==  involve\n",
      "require  ==  demand\n",
      "max  ==  soap\n",
      "max  ==  scoop\n",
      "horrible  ==  atrocious\n",
      "happen  ==  occur\n",
      "matter  ==  affair\n",
      "sometime  ==  former\n",
      "busy  ==  occupy\n",
      "feature  ==  characteristic\n",
      "limit  ==  bound\n",
      "limit  ==  boundary\n",
      "behind  ==  buttocks\n",
      "behind  ==  arse\n",
      "behind  ==  butt\n",
      "behind  ==  backside\n",
      "behind  ==  bum\n",
      "behind  ==  buns\n",
      "behind  ==  fundament\n",
      "behind  ==  prat\n",
      "behind  ==  rear\n",
      "behind  ==  rump\n",
      "behind  ==  stern\n",
      "behind  ==  seat\n",
      "behind  ==  tail\n",
      "behind  ==  tush\n",
      "behind  ==  bottom\n",
      "depth  ==  deepness\n",
      "opinion  ==  sentiment\n",
      "opinion  ==  view\n",
      "hack  ==  drudge\n",
      "hack  ==  hacker\n",
      "transfer  ==  transportation\n",
      "transfer  ==  transport\n",
      "transfer  ==  conveyance\n",
      "polish  ==  gloss\n",
      "miss  ==  girl\n",
      "miss  ==  fille\n",
      "decide  ==  determine\n",
      "allow  ==  permit\n",
      "incredible  ==  unbelievable\n",
      "market  ==  marketplace\n",
      "element  ==  component\n",
      "element  ==  factor\n",
      "element  ==  ingredient\n",
      "crack  ==  fissure\n",
      "rush  ==  haste\n",
      "rush  ==  hurry\n",
      "couple  ==  duo\n",
      "hand  ==  paw\n"
     ]
    }
   ],
   "source": [
    "for word in words:\n",
    "    try:\n",
    "        syns = wn.synsets(word)[0].lemmas()\n",
    "        for syn in syns:\n",
    "            if syn.name() in ALLS:\n",
    "                if syn.name() != word:\n",
    "                    print(word, \" == \", syn.name())\n",
    "    except:\n",
    "        continue"
   ]
  },
  {
   "cell_type": "code",
   "execution_count": 55,
   "metadata": {},
   "outputs": [
    {
     "data": {
      "text/plain": [
       "[Lemma('fun.n.01.fun'),\n",
       " Lemma('fun.n.01.merriment'),\n",
       " Lemma('fun.n.01.playfulness')]"
      ]
     },
     "execution_count": 55,
     "metadata": {},
     "output_type": "execute_result"
    }
   ],
   "source": [
    "x = wn.synsets(words[1])[0].lemmas()\n",
    "x"
   ]
  },
  {
   "cell_type": "code",
   "execution_count": 40,
   "metadata": {},
   "outputs": [
    {
     "data": {
      "text/plain": [
       "nltk.corpus.reader.wordnet.Lemma"
      ]
     },
     "execution_count": 40,
     "metadata": {},
     "output_type": "execute_result"
    }
   ],
   "source": [
    "type(x[0])"
   ]
  },
  {
   "cell_type": "code",
   "execution_count": 45,
   "metadata": {},
   "outputs": [
    {
     "data": {
      "text/plain": [
       "'fun'"
      ]
     },
     "execution_count": 45,
     "metadata": {},
     "output_type": "execute_result"
    }
   ],
   "source": [
    "x[0].name()"
   ]
  },
  {
   "cell_type": "code",
   "execution_count": null,
   "metadata": {},
   "outputs": [],
   "source": []
  }
 ],
 "metadata": {
  "kernelspec": {
   "display_name": "Python 3",
   "language": "python",
   "name": "python3"
  },
  "language_info": {
   "codemirror_mode": {
    "name": "ipython",
    "version": 3
   },
   "file_extension": ".py",
   "mimetype": "text/x-python",
   "name": "python",
   "nbconvert_exporter": "python",
   "pygments_lexer": "ipython3",
   "version": "3.8.3"
  }
 },
 "nbformat": 4,
 "nbformat_minor": 4
}
