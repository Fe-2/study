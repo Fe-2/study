{
  "nbformat": 4,
  "nbformat_minor": 0,
  "metadata": {
    "colab": {
      "name": "(code)Ngram.ipynb",
      "provenance": [],
      "collapsed_sections": []
    },
    "kernelspec": {
      "name": "python3",
      "display_name": "Python 3"
    },
    "language_info": {
      "name": "python"
    }
  },
  "cells": [
    {
      "cell_type": "markdown",
      "source": [
        "# Library & Data Loading"
      ],
      "metadata": {
        "id": "XOLoCeZXRmYn"
      }
    },
    {
      "cell_type": "code",
      "source": [
        "from google.colab import drive\n",
        "drive.mount('/content/drive')"
      ],
      "metadata": {
        "colab": {
          "base_uri": "https://localhost:8080/"
        },
        "id": "7SxloiK_QvFV",
        "outputId": "b3966ad1-787e-4be1-8118-fe748cbf4106"
      },
      "execution_count": 1,
      "outputs": [
        {
          "output_type": "stream",
          "name": "stdout",
          "text": [
            "Mounted at /content/drive\n"
          ]
        }
      ]
    },
    {
      "cell_type": "code",
      "source": [
        "!pip install konlpy &> /dev/null\n",
        "!git clone https://github.com/SOMJANG/Mecab-ko-for-Google-Colab.git &> /dev/null\n",
        "!bash Mecab-ko-for-Google-Colab/install_mecab-ko_on_colab190912.sh &> /dev/null"
      ],
      "metadata": {
        "id": "NjHBJx2nQz-H"
      },
      "execution_count": 2,
      "outputs": []
    },
    {
      "cell_type": "code",
      "execution_count": 3,
      "metadata": {
        "id": "o1CRGj38Qb8w"
      },
      "outputs": [],
      "source": [
        "from collections import defaultdict\n",
        "from tqdm import tqdm\n",
        "from konlpy.tag import Mecab\n",
        "from konlpy.corpus import kolaw\n",
        "import pandas as pd\n",
        "import numpy as np\n",
        "import pickle"
      ]
    },
    {
      "cell_type": "code",
      "source": [
        "df = pd.read_csv(\"/content/drive/MyDrive/dissertation/baemin_mecab_v02.csv\")\n",
        "# df = pd.read_csv(\"/content/drive/MyDrive/dissertation/yogiyo_mecab_v02.csv\")\n",
        "# df = pd.read_csv(\"/content/drive/MyDrive/dissertation/coupang_mecab_v02.csv\")\n",
        "df.head()"
      ],
      "metadata": {
        "colab": {
          "base_uri": "https://localhost:8080/",
          "height": 206
        },
        "id": "QtZ-jtu4RMv5",
        "outputId": "37df6c30-e9fd-487c-e510-4c35b052902b"
      },
      "execution_count": 6,
      "outputs": [
        {
          "output_type": "execute_result",
          "data": {
            "text/plain": [
              "  userName                                            content  score  \\\n",
              "0     크레아틴                    월간쿠폰 최소주문금액 왜 늘렸습니까 솔직히 답변 바랍니다      1   \n",
              "1      쌀떡찹  야금야금 쿠폰 사용 최소 금액 올리는거  역겨움의 극치임 제발 업보 쌓은대로 돌려받...      1   \n",
              "2       홍짱                        이름만 바꾼 똑같은 식당좀 안보이게해주면 안되나요      1   \n",
              "3     bz z                                      돈에 미친 대기업의 표본      1   \n",
              "4    yujoo  비마트는 문앞 놓고가는 선택지도 필요한듯해요 그리고 왜 배민과 달리 비마트는 평소 ...      1   \n",
              "\n",
              "  reviewCreatedVersion                at  \\\n",
              "0              11.24.0  2022-06-13 13:32   \n",
              "1              11.24.0  2022-06-13 12:01   \n",
              "2              11.24.0   2022-06-13 8:18   \n",
              "3              11.18.1   2022-06-13 8:10   \n",
              "4              11.24.0   2022-06-13 2:57   \n",
              "\n",
              "                                            morpheme  \n",
              "0                        ['할인쿠폰', '주문', '음식값', '대응']  \n",
              "1  ['할인쿠폰', '사용', '음식값', '극치', '업보', '대응', '매크로',...  \n",
              "2                                 ['이름', '같다', '매장']  \n",
              "3                                  ['돈', '기업', '표본']  \n",
              "4  ['비마트', '현관문', '선택지', '필요하다', '비마트', '요청', '사항...  "
            ],
            "text/html": [
              "\n",
              "  <div id=\"df-ee274704-f3fb-400f-b004-6ea8a2fbe383\">\n",
              "    <div class=\"colab-df-container\">\n",
              "      <div>\n",
              "<style scoped>\n",
              "    .dataframe tbody tr th:only-of-type {\n",
              "        vertical-align: middle;\n",
              "    }\n",
              "\n",
              "    .dataframe tbody tr th {\n",
              "        vertical-align: top;\n",
              "    }\n",
              "\n",
              "    .dataframe thead th {\n",
              "        text-align: right;\n",
              "    }\n",
              "</style>\n",
              "<table border=\"1\" class=\"dataframe\">\n",
              "  <thead>\n",
              "    <tr style=\"text-align: right;\">\n",
              "      <th></th>\n",
              "      <th>userName</th>\n",
              "      <th>content</th>\n",
              "      <th>score</th>\n",
              "      <th>reviewCreatedVersion</th>\n",
              "      <th>at</th>\n",
              "      <th>morpheme</th>\n",
              "    </tr>\n",
              "  </thead>\n",
              "  <tbody>\n",
              "    <tr>\n",
              "      <th>0</th>\n",
              "      <td>크레아틴</td>\n",
              "      <td>월간쿠폰 최소주문금액 왜 늘렸습니까 솔직히 답변 바랍니다</td>\n",
              "      <td>1</td>\n",
              "      <td>11.24.0</td>\n",
              "      <td>2022-06-13 13:32</td>\n",
              "      <td>['할인쿠폰', '주문', '음식값', '대응']</td>\n",
              "    </tr>\n",
              "    <tr>\n",
              "      <th>1</th>\n",
              "      <td>쌀떡찹</td>\n",
              "      <td>야금야금 쿠폰 사용 최소 금액 올리는거  역겨움의 극치임 제발 업보 쌓은대로 돌려받...</td>\n",
              "      <td>1</td>\n",
              "      <td>11.24.0</td>\n",
              "      <td>2022-06-13 12:01</td>\n",
              "      <td>['할인쿠폰', '사용', '음식값', '극치', '업보', '대응', '매크로',...</td>\n",
              "    </tr>\n",
              "    <tr>\n",
              "      <th>2</th>\n",
              "      <td>홍짱</td>\n",
              "      <td>이름만 바꾼 똑같은 식당좀 안보이게해주면 안되나요</td>\n",
              "      <td>1</td>\n",
              "      <td>11.24.0</td>\n",
              "      <td>2022-06-13 8:18</td>\n",
              "      <td>['이름', '같다', '매장']</td>\n",
              "    </tr>\n",
              "    <tr>\n",
              "      <th>3</th>\n",
              "      <td>bz z</td>\n",
              "      <td>돈에 미친 대기업의 표본</td>\n",
              "      <td>1</td>\n",
              "      <td>11.18.1</td>\n",
              "      <td>2022-06-13 8:10</td>\n",
              "      <td>['돈', '기업', '표본']</td>\n",
              "    </tr>\n",
              "    <tr>\n",
              "      <th>4</th>\n",
              "      <td>yujoo</td>\n",
              "      <td>비마트는 문앞 놓고가는 선택지도 필요한듯해요 그리고 왜 배민과 달리 비마트는 평소 ...</td>\n",
              "      <td>1</td>\n",
              "      <td>11.24.0</td>\n",
              "      <td>2022-06-13 2:57</td>\n",
              "      <td>['비마트', '현관문', '선택지', '필요하다', '비마트', '요청', '사항...</td>\n",
              "    </tr>\n",
              "  </tbody>\n",
              "</table>\n",
              "</div>\n",
              "      <button class=\"colab-df-convert\" onclick=\"convertToInteractive('df-ee274704-f3fb-400f-b004-6ea8a2fbe383')\"\n",
              "              title=\"Convert this dataframe to an interactive table.\"\n",
              "              style=\"display:none;\">\n",
              "        \n",
              "  <svg xmlns=\"http://www.w3.org/2000/svg\" height=\"24px\"viewBox=\"0 0 24 24\"\n",
              "       width=\"24px\">\n",
              "    <path d=\"M0 0h24v24H0V0z\" fill=\"none\"/>\n",
              "    <path d=\"M18.56 5.44l.94 2.06.94-2.06 2.06-.94-2.06-.94-.94-2.06-.94 2.06-2.06.94zm-11 1L8.5 8.5l.94-2.06 2.06-.94-2.06-.94L8.5 2.5l-.94 2.06-2.06.94zm10 10l.94 2.06.94-2.06 2.06-.94-2.06-.94-.94-2.06-.94 2.06-2.06.94z\"/><path d=\"M17.41 7.96l-1.37-1.37c-.4-.4-.92-.59-1.43-.59-.52 0-1.04.2-1.43.59L10.3 9.45l-7.72 7.72c-.78.78-.78 2.05 0 2.83L4 21.41c.39.39.9.59 1.41.59.51 0 1.02-.2 1.41-.59l7.78-7.78 2.81-2.81c.8-.78.8-2.07 0-2.86zM5.41 20L4 18.59l7.72-7.72 1.47 1.35L5.41 20z\"/>\n",
              "  </svg>\n",
              "      </button>\n",
              "      \n",
              "  <style>\n",
              "    .colab-df-container {\n",
              "      display:flex;\n",
              "      flex-wrap:wrap;\n",
              "      gap: 12px;\n",
              "    }\n",
              "\n",
              "    .colab-df-convert {\n",
              "      background-color: #E8F0FE;\n",
              "      border: none;\n",
              "      border-radius: 50%;\n",
              "      cursor: pointer;\n",
              "      display: none;\n",
              "      fill: #1967D2;\n",
              "      height: 32px;\n",
              "      padding: 0 0 0 0;\n",
              "      width: 32px;\n",
              "    }\n",
              "\n",
              "    .colab-df-convert:hover {\n",
              "      background-color: #E2EBFA;\n",
              "      box-shadow: 0px 1px 2px rgba(60, 64, 67, 0.3), 0px 1px 3px 1px rgba(60, 64, 67, 0.15);\n",
              "      fill: #174EA6;\n",
              "    }\n",
              "\n",
              "    [theme=dark] .colab-df-convert {\n",
              "      background-color: #3B4455;\n",
              "      fill: #D2E3FC;\n",
              "    }\n",
              "\n",
              "    [theme=dark] .colab-df-convert:hover {\n",
              "      background-color: #434B5C;\n",
              "      box-shadow: 0px 1px 3px 1px rgba(0, 0, 0, 0.15);\n",
              "      filter: drop-shadow(0px 1px 2px rgba(0, 0, 0, 0.3));\n",
              "      fill: #FFFFFF;\n",
              "    }\n",
              "  </style>\n",
              "\n",
              "      <script>\n",
              "        const buttonEl =\n",
              "          document.querySelector('#df-ee274704-f3fb-400f-b004-6ea8a2fbe383 button.colab-df-convert');\n",
              "        buttonEl.style.display =\n",
              "          google.colab.kernel.accessAllowed ? 'block' : 'none';\n",
              "\n",
              "        async function convertToInteractive(key) {\n",
              "          const element = document.querySelector('#df-ee274704-f3fb-400f-b004-6ea8a2fbe383');\n",
              "          const dataTable =\n",
              "            await google.colab.kernel.invokeFunction('convertToInteractive',\n",
              "                                                     [key], {});\n",
              "          if (!dataTable) return;\n",
              "\n",
              "          const docLinkHtml = 'Like what you see? Visit the ' +\n",
              "            '<a target=\"_blank\" href=https://colab.research.google.com/notebooks/data_table.ipynb>data table notebook</a>'\n",
              "            + ' to learn more about interactive tables.';\n",
              "          element.innerHTML = '';\n",
              "          dataTable['output_type'] = 'display_data';\n",
              "          await google.colab.output.renderOutput(dataTable, element);\n",
              "          const docLink = document.createElement('div');\n",
              "          docLink.innerHTML = docLinkHtml;\n",
              "          element.appendChild(docLink);\n",
              "        }\n",
              "      </script>\n",
              "    </div>\n",
              "  </div>\n",
              "  "
            ]
          },
          "metadata": {},
          "execution_count": 6
        }
      ]
    },
    {
      "cell_type": "markdown",
      "source": [
        "# N-Gram"
      ],
      "metadata": {
        "id": "_s0FTWooSAAj"
      }
    },
    {
      "cell_type": "code",
      "source": [
        "mecab = Mecab()     # mecab 말고 okt, komoran 취사 선택 가능\n",
        "\n",
        "def get_ngram_counter(docs, min_count=10, n_range=(2,4)):       # min_count: 최소 빈도수 / n_range: n-gram의 n 설정하기(1부터 3)\n",
        "\n",
        "    def to_ngrams(words, n):\n",
        "        ngrams = []\n",
        "        for b in range(0, len(words) - n + 1):\n",
        "            ngrams.append(tuple(words[b:b+n]))\n",
        "        return ngrams\n",
        "\n",
        "    n_begin, n_end = n_range\n",
        "    ngram_counter = defaultdict(int)\n",
        "    for doc in tqdm(docs):\n",
        "        words = mecab.pos(doc, join=True)       # mecab 말고 okt, komoran 취사 선택 가능\n",
        "        for n in range(n_begin, n_end + 1):\n",
        "            for ngram in to_ngrams(words, n):\n",
        "                ngram_counter[ngram] += 1\n",
        "\n",
        "    ngram_counter = {\n",
        "        ngram:count for ngram, count in ngram_counter.items()\n",
        "        if count >= min_count\n",
        "    }\n",
        "\n",
        "    return ngram_counter"
      ],
      "metadata": {
        "id": "s1p0otpvSQ5T"
      },
      "execution_count": 8,
      "outputs": []
    },
    {
      "cell_type": "code",
      "source": [
        "## ngram 계산하기\n",
        "\n",
        "# df['content'] 부분에 data 본문부분 삽입, 전처리 잘 안돼있으면 오류\n",
        "# 2gram, 3gram 보려면 n_range=(2,3) / 2gram, 3gram, 4gram 보려면 n_range=(2,4)\n",
        "\n",
        "ngram_counter = get_ngram_counter(df['content'], min_count=10, n_range=(2,4))"
      ],
      "metadata": {
        "colab": {
          "base_uri": "https://localhost:8080/"
        },
        "id": "hHkQPUzOSR4K",
        "outputId": "7a26abb6-a887-45c3-9f61-31b892f1c8a4"
      },
      "execution_count": 10,
      "outputs": [
        {
          "output_type": "stream",
          "name": "stderr",
          "text": [
            "100%|██████████| 68402/68402 [00:31<00:00, 2173.71it/s]\n"
          ]
        }
      ]
    },
    {
      "cell_type": "code",
      "source": [
        "## ngram 결과 보기\n",
        "\n",
        "# keyword에 보고자 하는 단어/품사 삽입\n",
        "# mecab 기준 NNG(혹은 NNP): 명사, VA: 형용사 / okt나 komoran은 다름\n",
        "\n",
        "for ngram, count in sorted(ngram_counter.items(), key=lambda x:-x[1]):\n",
        "    keyword = '지역/NNG'\n",
        "    if ngram[0] == keyword:\n",
        "        print(ngram, count)\n",
        "    elif ngram[-1] == keyword: \n",
        "        print(ngram, count) \n",
        "\n",
        "# 검색기록\n",
        "# '많/VA','같/VA','가능/NNG','필요/NNG','기능/NNG','덕분/NNG','사항/NNG','배달/NNG','주문/NNG','금액/NNG','시간/NNG',\n",
        "# '서비스/NNG','삭제/NNG','검색/NNG','선택/NNG','접수/NNG','방법/NNG','지역/NNG','확인/NNG','혜택/NNG',"
      ],
      "metadata": {
        "colab": {
          "base_uri": "https://localhost:8080/"
        },
        "id": "VHwjOoEpSxoZ",
        "outputId": "0fb33729-e3c4-49c4-e180-f6750c7bfd95"
      },
      "execution_count": 25,
      "outputs": [
        {
          "output_type": "stream",
          "name": "stdout",
          "text": [
            "('지역/NNG', '에/JKB') 177\n",
            "('는/ETM', '지역/NNG') 170\n",
            "('지역/NNG', '이/VCP') 140\n",
            "('배달/NNG', '지역/NNG') 137\n",
            "('가능/NNG', '지역/NNG') 113\n",
            "('다른/MM', '지역/NNG') 113\n",
            "('지역/NNG', '에서/JKB') 100\n",
            "('배달/NNG', '가능/NNG', '지역/NNG') 91\n",
            "('어느/MM', '지역/NNG') 88\n",
            "('지역/NNG', '이/JKS') 86\n",
            "('지역/NNG', '을/JKO') 84\n",
            "('불가/NNG', '지역/NNG') 84\n",
            "('타/MM', '지역/NNG') 78\n",
            "('배달/NNG', '불가/NNG', '지역/NNG') 76\n",
            "('지역/NNG', '별/XSN') 70\n",
            "('지역/NNG', '은/JX') 63\n",
            "('지역/NNG', '이/JKC') 58\n",
            "('지역/NNG', '이/VCP', '라고/EC') 56\n",
            "('지역/NNG', '도/JX') 54\n",
            "('지역/NNG', '으로/JKB') 48\n",
            "('그/MM', '지역/NNG') 47\n",
            "('지역/NNG', '별/XSN', '로/JKB') 46\n",
            "('지역/NNG', '이/JKC', '아니/VCN') 44\n",
            "('지역/NNG', '을/JKO', '가/VV') 44\n",
            "('되/VV', '는/ETM', '지역/NNG') 43\n",
            "('안/MAG', '되/VV', '는/ETM', '지역/NNG') 40\n",
            "('지역/NNG', '설정/NNG') 35\n",
            "('우리/NP', '지역/NNG') 34\n",
            "('지역/NNG', '에/JKB', '가/VV') 34\n",
            "('지역/NNG', '에서/JKB', '도/JX') 34\n",
            "('지역/NNG', '마다/JX') 33\n",
            "('지역/NNG', '의/JKG') 32\n",
            "('지역/NNG', '배달/NNG') 30\n",
            "('고/EC', '지역/NNG') 30\n",
            "('한/XSA+ETM', '지역/NNG') 30\n",
            "('모르/VV', '는/ETM', '지역/NNG') 29\n",
            "('지역/NNG', '만/JX') 27\n",
            "('지역/NNG', '인데/VCP+EC') 26\n",
            "('저희/NP', '지역/NNG') 24\n",
            "('지역/NNG', '에/JKB', '있/VV') 23\n",
            "('지역/NNG', '이/VCP', '라/EC') 23\n",
            "('지역/NNG', '맛집/NNG') 23\n",
            "('사/VV', '는/ETM', '지역/NNG') 22\n",
            "('지역/NNG', '이/JKC', '아니/VCN', '라고/EC') 21\n",
            "('가능/NNG', '한/XSA+ETM', '지역/NNG') 17\n",
            "('지역/NNG', '아니/VCN') 17\n",
            "('지역/NNG', '가/VV') 17\n",
            "('지역/NNG', '이/VCP', '면/EC') 15\n",
            "('주변/NNG', '지역/NNG') 15\n",
            "('되/XSV', '는/ETM', '지역/NNG') 14\n",
            "('가/JKS', '사/VV', '는/ETM', '지역/NNG') 14\n",
            "('지역/NNG', '에/JKB', '가/VV', '서/EC') 14\n",
            "('이/MM', '지역/NNG') 13\n",
            "('지역/NNG', '에서/JKB', '배달/NNG') 13\n",
            "('지역/NNG', '검색/NNG') 13\n",
            "('고/EC', '배달/NNG', '지역/NNG') 12\n",
            "('불/XPN', '가능/NNG', '지역/NNG') 12\n",
            "('지역/NNG', '까지/JX') 12\n",
            "('지역/NNG', '을/JKO', '가/VV', '도/EC') 12\n",
            "('배달/NNG', '불/XPN', '가능/NNG', '지역/NNG') 11\n",
            "('전/MM', '지역/NNG') 11\n",
            "('지역/NNG', '음식점/NNG') 11\n",
            "('지역/NNG', '에/JKB', '있/VV', '는/ETM') 11\n",
            "('고/EC', '다른/MM', '지역/NNG') 11\n",
            "('지역/NNG', '을/JKO', '가/VV', '든/EC') 11\n",
            "('지역/NNG', '엔/JKB+JX') 10\n",
            "('지역/NNG', '화폐/NNG') 10\n",
            "('은/ETM', '지역/NNG') 10\n",
            "('는데/EC', '지역/NNG') 10\n",
            "('지역/NNG', '아니/VCN', '라고/EC') 10\n",
            "('가까운/VA+ETM', '지역/NNG') 10\n",
            "('해당/NNG', '지역/NNG') 10\n",
            "('있/VA', '는/ETM', '지역/NNG') 10\n",
            "('지역/NNG', '놀/VV') 10\n",
            "('지역/NNG', '놀/VV', '러/EC') 10\n",
            "('지역/NNG', '놀/VV', '러/EC', '가/VX') 10\n",
            "('지역/NNG', '으로/JKB', '이사/NNG') 10\n",
            "('가/VV', '는/ETM', '지역/NNG') 10\n",
            "('낯선/VA+ETM', '지역/NNG') 10\n"
          ]
        }
      ]
    },
    {
      "cell_type": "code",
      "source": [
        ""
      ],
      "metadata": {
        "id": "NT-RdBmxTPwi"
      },
      "execution_count": null,
      "outputs": []
    }
  ]
}