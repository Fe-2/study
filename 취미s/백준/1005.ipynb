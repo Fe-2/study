{
 "cells": [
  {
   "cell_type": "code",
   "execution_count": 116,
   "metadata": {},
   "outputs": [
    {
     "name": "stdin",
     "output_type": "stream",
     "text": [
      " 1\n",
      " 5 10\n",
      " 100000 99999 99997 99994 99990\n",
      " 4 5\n",
      " 3 5\n",
      " 3 4\n",
      " 2 5\n",
      " 2 4\n",
      " 2 3\n",
      " 1 5\n",
      " 1 4\n",
      " 1 3\n",
      " 1 2\n"
     ]
    },
    {
     "name": "stdout",
     "output_type": "stream",
     "text": [
      "[(4, 5), (3, 5), (3, 4), (2, 5), (2, 4), (2, 3), (1, 5), (1, 4), (1, 3), (1, 2)]\n"
     ]
    }
   ],
   "source": [
    "case = int(input())\n",
    "\n",
    "for i in range(case):\n",
    "    St_N, Ru_N = map(int, input().split())\n",
    "    times = input().split()\n",
    "    \n",
    "    Rule = []\n",
    "    for j in range(Ru_N):\n",
    "        X, Y = map(int, input().split())\n",
    "        Rule.append((X, Y))\n",
    "    print(Rule)"
   ]
  },
  {
   "cell_type": "code",
   "execution_count": 128,
   "metadata": {},
   "outputs": [],
   "source": [
    "Rule = [(4, 5), (3, 5), (3, 4), (2, 5), (2, 4), (2, 3), (1, 5), (1, 4), (1, 3), (1, 2)]\n",
    "first = []\n",
    "all = []\n",
    "for X, Y in Rule:\n",
    "    all.append(Y)\n",
    "all = list(set(all))\n",
    "for X, Y in Rule:\n",
    "    if not X in all:\n",
    "        first.append(X)\n",
    "first = list(set(first))"
   ]
  },
  {
   "cell_type": "code",
   "execution_count": 121,
   "metadata": {},
   "outputs": [],
   "source": [
    "times = [100000, 99999, 99997, 99994, 99990]\n",
    "before = [0] * len(times)"
   ]
  },
  {
   "cell_type": "code",
   "execution_count": 122,
   "metadata": {},
   "outputs": [
    {
     "data": {
      "text/plain": [
       "[0, 0, 0, 0, 0]"
      ]
     },
     "execution_count": 122,
     "metadata": {},
     "output_type": "execute_result"
    }
   ],
   "source": [
    "for i in range(len(before)):\n",
    "    "
   ]
  },
  {
   "cell_type": "code",
   "execution_count": null,
   "metadata": {},
   "outputs": [],
   "source": []
  }
 ],
 "metadata": {
  "kernelspec": {
   "display_name": "Python 3",
   "language": "python",
   "name": "python3"
  },
  "language_info": {
   "codemirror_mode": {
    "name": "ipython",
    "version": 3
   },
   "file_extension": ".py",
   "mimetype": "text/x-python",
   "name": "python",
   "nbconvert_exporter": "python",
   "pygments_lexer": "ipython3",
   "version": "3.8.3"
  }
 },
 "nbformat": 4,
 "nbformat_minor": 4
}
