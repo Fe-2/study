{
 "cells": [
  {
   "cell_type": "code",
   "execution_count": 42,
   "metadata": {},
   "outputs": [
    {
     "name": "stdin",
     "output_type": "stream",
     "text": [
      " 4\n",
      " 0 0 13 40 0 37\n"
     ]
    },
    {
     "name": "stdout",
     "output_type": "stream",
     "text": [
      "2\n"
     ]
    },
    {
     "name": "stdin",
     "output_type": "stream",
     "text": [
      " 0 0 3 0 7 4\n"
     ]
    },
    {
     "name": "stdout",
     "output_type": "stream",
     "text": [
      "1\n"
     ]
    },
    {
     "name": "stdin",
     "output_type": "stream",
     "text": [
      " 1 1 1 1 1 1\n"
     ]
    },
    {
     "name": "stdout",
     "output_type": "stream",
     "text": [
      "-1\n"
     ]
    },
    {
     "name": "stdin",
     "output_type": "stream",
     "text": [
      " 1 1 1 1 1 5\n"
     ]
    },
    {
     "name": "stdout",
     "output_type": "stream",
     "text": [
      "0\n"
     ]
    }
   ],
   "source": [
    "case = int(input())\n",
    "\n",
    "for i in range(case):\n",
    "    Flag = True\n",
    "    x1, y1, r1, x2, y2, r2= map(int, input().split())\n",
    "    \n",
    "    if x1 == x2:\n",
    "        if y1 == y2:\n",
    "            if r1 == r2:\n",
    "                if r1 == 0:\n",
    "                    print(1)\n",
    "                    Flag = False\n",
    "                else:\n",
    "                    print(-1)\n",
    "                    Flag = False\n",
    "            else:\n",
    "                print(0)\n",
    "                Flag = False\n",
    "    \n",
    "    distance = ((x1-x2)**2 + (y1-y2)**2 )**(1/2)\n",
    "\n",
    "    if Flag == True:\n",
    "        if distance == r1+r2:\n",
    "            print(1)\n",
    "        elif distance == abs(r2-r1):\n",
    "            print(1)\n",
    "    \n",
    "        elif distance > r1+r2:\n",
    "            print(0)\n",
    "            \n",
    "        elif distance < abs(r2-r1):\n",
    "            print(0)\n",
    "\n",
    "        elif distance < r1+r2:\n",
    "            print(2)"
   ]
  },
  {
   "cell_type": "code",
   "execution_count": 15,
   "metadata": {},
   "outputs": [
    {
     "data": {
      "text/plain": [
       "0"
      ]
     },
     "execution_count": 15,
     "metadata": {},
     "output_type": "execute_result"
    }
   ],
   "source": [
    "3\n",
    "0 0 13 40 0 37\n",
    "0 0 3 0 7 4\n",
    "1 1 1 1 1 1"
   ]
  },
  {
   "cell_type": "code",
   "execution_count": null,
   "metadata": {},
   "outputs": [],
   "source": []
  }
 ],
 "metadata": {
  "kernelspec": {
   "display_name": "Python 3",
   "language": "python",
   "name": "python3"
  },
  "language_info": {
   "codemirror_mode": {
    "name": "ipython",
    "version": 3
   },
   "file_extension": ".py",
   "mimetype": "text/x-python",
   "name": "python",
   "nbconvert_exporter": "python",
   "pygments_lexer": "ipython3",
   "version": "3.8.3"
  }
 },
 "nbformat": 4,
 "nbformat_minor": 4
}
