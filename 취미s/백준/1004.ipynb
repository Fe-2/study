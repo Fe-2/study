{
 "cells": [
  {
   "cell_type": "code",
   "execution_count": null,
   "metadata": {},
   "outputs": [],
   "source": [
    "case = int(input())\n",
    "\n",
    "for i in range(case):\n",
    "    cnt = 0\n",
    "    x1,y1,x2,y2 = map(int, input().split(\" \"))\n",
    "    \n",
    "    planet = int(input())\n",
    "    \n",
    "    for j in range(planet):\n",
    "        px, py, r = map(int, input().split(\" \"))\n",
    "        \n",
    "        dis1 = ((x1-px)**2 + (y1-py)**2)**(0.5)\n",
    "        dis2 = ((x2-px)**2 + (y2-py)**2)**(0.5)\n",
    "        if dis1 < r:\n",
    "            if dis2 > r:\n",
    "                cnt += 1\n",
    "                \n",
    "        if dis1 > r:\n",
    "            if dis2 < r:\n",
    "                cnt += 1\n",
    "    print(cnt)"
   ]
  },
  {
   "cell_type": "code",
   "execution_count": 3,
   "metadata": {},
   "outputs": [],
   "source": []
  },
  {
   "cell_type": "code",
   "execution_count": 4,
   "metadata": {},
   "outputs": [
    {
     "data": {
      "text/plain": [
       "-4"
      ]
     },
     "execution_count": 4,
     "metadata": {},
     "output_type": "execute_result"
    }
   ],
   "source": []
  },
  {
   "cell_type": "code",
   "execution_count": null,
   "metadata": {},
   "outputs": [],
   "source": []
  }
 ],
 "metadata": {
  "kernelspec": {
   "display_name": "Python 3",
   "language": "python",
   "name": "python3"
  },
  "language_info": {
   "codemirror_mode": {
    "name": "ipython",
    "version": 3
   },
   "file_extension": ".py",
   "mimetype": "text/x-python",
   "name": "python",
   "nbconvert_exporter": "python",
   "pygments_lexer": "ipython3",
   "version": "3.8.3"
  }
 },
 "nbformat": 4,
 "nbformat_minor": 4
}
