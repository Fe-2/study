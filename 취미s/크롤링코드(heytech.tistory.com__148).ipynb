{
 "cells": [
  {
   "cell_type": "code",
   "execution_count": null,
   "id": "dfe54f9c",
   "metadata": {},
   "outputs": [],
   "source": [
    "#설치 필요\n",
    "#!pip install beautifulsoup4 \n",
    "#!pip install selenium \n",
    "#!pip install tqdm \n",
    "#!pip install pandas\n",
    "\n",
    "#출처: https://heytech.tistory.com/148 [Hey Tech]"
   ]
  },
  {
   "cell_type": "code",
   "execution_count": 1,
   "id": "0a6b833c",
   "metadata": {},
   "outputs": [],
   "source": [
    "import requests\n",
    "from selenium import webdriver\n",
    "from selenium.webdriver.common.keys import Keys\n",
    "\n",
    "from selenium.webdriver.support.ui import WebDriverWait \n",
    "from selenium.webdriver.support import expected_conditions as EC \n",
    "from selenium.webdriver.common.by import By \n",
    "from selenium.webdriver.common.keys import Keys \n",
    "from selenium.common.exceptions import NoSuchElementException\n",
    "from bs4 import BeautifulSoup \n",
    "import time \n",
    "from time import sleep \n",
    "import random \n",
    "from tqdm.auto import tqdm, trange \n",
    "import pandas as pd\n",
    "\n"
   ]
  },
  {
   "cell_type": "code",
   "execution_count": 16,
   "id": "3fce59ac",
   "metadata": {},
   "outputs": [],
   "source": [
    "chrome_driver = 'chromedriver.exe' # 파일 확장자 이름 미표기\n",
    "\n"
   ]
  },
  {
   "cell_type": "code",
   "execution_count": 21,
   "id": "f0d0dd61",
   "metadata": {},
   "outputs": [],
   "source": [
    "url = 'https://play.google.com/store/apps/details?id=me.zepeto.main&hl=ko&gl=US'"
   ]
  },
  {
   "cell_type": "code",
   "execution_count": 25,
   "id": "00a8fed5",
   "metadata": {},
   "outputs": [],
   "source": [
    "def scrolling(): \n",
    "    try: # 스크롤 높이 받아오기 \n",
    "        last_height = driver.execute_script(\"return document.body.scrollHeight\") \n",
    "        while True: \n",
    "            pause_time = random.uniform(0.5, 0.8) # 최하단까지 스크롤 \n",
    "            driver.execute_script(\"window.scrollTo(0, document.body.scrollHeight);\") # 페이지 로딩 대기 \n",
    "            time.sleep(pause_time) # 무한 스크롤 동작을 위해 살짝 위로 스크롤 \n",
    "            driver.execute_script(\"window.scrollTo(0, document.body.scrollHeight-60);\") \n",
    "            time.sleep(pause_time) # 스크롤 높이 새롭게 받아오기 \n",
    "            new_height = driver.execute_script(\"return document.body.scrollHeight\") \n",
    "            try: # '더보기' 버튼 있을 경우 클릭 \n",
    "                more_btn = driver.find_element_by_xpath('/html/body/div[1]/div[4]/c-wiz/div/div[2]/div/div/main/div/div[1]/div[2]/div[2]/div/span/span').click()\n",
    "                #driver.execute_script(\"arguments[0].click();\", elements)\n",
    "            except: # 스크롤 완료 경우 \n",
    "                if new_height == last_height: \n",
    "                    print(\"Scrolling is completed!!!\") \n",
    "                    break \n",
    "                last_height = new_height \n",
    "                    \n",
    "    except Exception as e: \n",
    "        print(\"error occurred: \", e)\n",
    "\n",
    "#출처: https://heytech.tistory.com/148 [Hey Tech]"
   ]
  },
  {
   "cell_type": "markdown",
   "id": "caebffee",
   "metadata": {},
   "source": [
    "HTML 데이터 가져오기"
   ]
  },
  {
   "cell_type": "code",
   "execution_count": 26,
   "id": "24f3ff79",
   "metadata": {},
   "outputs": [],
   "source": [
    "driver = webdriver.Chrome(chrome_driver) # 페이지 열기(모든 리뷰 보기)\n",
    "driver.get(url + \"&showAllReviews=true\") # 페이지 로딩 대기(5초 간)\n",
    "wait = WebDriverWait(driver, 5) \n",
    "xpath_code = '/html/body/div[1]/div[4]/c-wiz/div/div[2]/div/div/main/div/div[1]/div[2]/div/div[1]/div/div[2]/div[1]/div[2]/div/div[2]/span/span/span' \n",
    "chk_loading = wait.until(EC.element_to_be_clickable((By.XPATH, xpath_code)))\n"
   ]
  },
  {
   "cell_type": "code",
   "execution_count": 30,
   "id": "167a3965",
   "metadata": {},
   "outputs": [
    {
     "name": "stdout",
     "output_type": "stream",
     "text": [
      "Scrolling is completed!!!\n"
     ]
    }
   ],
   "source": [
    "# 페이지 무한 스크롤 다운\n",
    "scrolling()\n",
    "# html parsing하기 \n",
    "html_src = driver.page_source \n",
    "soup_src = BeautifulSoup(html_src, 'html.parser')\n",
    "\n"
   ]
  },
  {
   "cell_type": "code",
   "execution_count": 31,
   "id": "f74db221",
   "metadata": {},
   "outputs": [],
   "source": [
    "# html 데이터 저장 \n",
    "with open(\"./html_data.html\", \"w\", encoding = 'utf-8') as file: \n",
    "    file.write(str(soup_src))\n",
    "\n"
   ]
  },
  {
   "cell_type": "code",
   "execution_count": 32,
   "id": "ee1c34ca",
   "metadata": {},
   "outputs": [],
   "source": [
    "# 리뷰 데이터 클래스 접근 \n",
    "review_all= soup_src.find_all(class_ = 'd15Mdf bAhLNe')\n"
   ]
  },
  {
   "cell_type": "code",
   "execution_count": 33,
   "id": "5775d56e",
   "metadata": {},
   "outputs": [
    {
     "data": {
      "application/vnd.jupyter.widget-view+json": {
       "model_id": "6433ade99037441ab63e5aedd1556b9b",
       "version_major": 2,
       "version_minor": 0
      },
      "text/plain": [
       "  0%|          | 0/40 [00:00<?, ?it/s]"
      ]
     },
     "metadata": {},
     "output_type": "display_data"
    },
    {
     "name": "stdout",
     "output_type": "stream",
     "text": [
      "0.1585230827331543\n"
     ]
    }
   ],
   "source": [
    "start = time.time() # 코드 실행 시간 측정을 위한 변수\n",
    "date_ymd = [] # 리뷰등록일을 yyyymmdd 형태로 저장할 리스트 생성\n",
    "date_y = [] # 리뷰등록일 중 연도 정보를 yyyy 형태로 저장할 리스트 생성\n",
    "date_m = [] # 리뷰등록일 중 월 정보를 mm 형태 저장할 리스트 생성\n",
    "date_d = [] # 리뷰등록일 중 일 정보를 dd 형태로 저장할 리스트 생성\n",
    "username_list = [] # 사용자 닉네임 저장용 리스트\n",
    "rating_list = [] # 평점 데이터 저장용 리스트\n",
    "content_list = [] # 텍스트 리뷰 저장용 리스트\n",
    "\n",
    "# 리뷰 1개씩 접근해 정보 추출 \n",
    "for rv in tqdm(review_all):\n",
    "    date_ymd_v = rv.find_all(class_ = 'p2TkOb')[0].text\n",
    "    date_y_v = date_ymd_v[0:4] # 연도 정보만 추출\n",
    "    #해당 단어가 등장한 인덱스 추출\n",
    "    idx_y = date_ymd_v.find('년')\n",
    "    idx_m = date_ymd_v.find('월')\n",
    "    idx_d = date_ymd_v.find('일')\n",
    "    date_m_v = str(int(date_ymd_v[idx_y+1:idx_m])) # 월 정보만 추출\n",
    "    date_d_v = str(int(date_ymd_v[idx_m+1:idx_d])) # 일 정보만 추출\n",
    "\n",
    "    # 월 정보가 1자리의 경우 앞에 0 붙여줌(e.g., 1월 -> 01월)\n",
    "    if len(date_m_v) == 1:\n",
    "        date_m_v = '0' + date_m_v\n",
    "    # 일 정보가 1자리의 경우 앞에 0 붙여줌(e.g., 7일 -> 07일)\n",
    "    if len(date_d_v) == 1:\n",
    "        date_d_v = '0' + date_d_v\n",
    "    # 리뷰등록일 full version은 최종적으로 yyyymmdd 형태로 저장\n",
    "    date_full = date_y_v + date_m_v + date_d_v \n",
    "    date_ymd.append(date_full) \n",
    "    date_y.append(date_y_v) \n",
    "    date_m.append(date_m_v) \n",
    "    date_d.append(date_d_v)\n",
    "    username_list.append(rv.find_all(class_ = 'X43Kjb')[0].text) # 닉네임 정보 추출 및 저장 \n",
    "    rating_list.append(rv.select('span.nt2C1d > .pf5lIe > div')[0]['aria-label'][10]) # 평점 정보 추출 및 저장 \n",
    "    content = rv.find_all('span', attrs={'jsname':\"fbQN7e\"})[0].text # 장문 리뷰 내용 추출 및 저장\n",
    "    # 장문 리뷰 존재하는 경우 그대로 리스트에 저장\n",
    "    if content: \n",
    "        content_list.append(content)\n",
    "    # 단문 리뷰만 존재하는 경우, 단문 리뷰 추출 및 저장 \n",
    "    else: \n",
    "        content_list.append(rv.find_all('span', attrs={'jsname':\"bN97Pc\"})[0].text)\n",
    "# 코드 실행 소요시간 출력 \n",
    "print(time.time() - start)\n"
   ]
  },
  {
   "cell_type": "markdown",
   "id": "50766e3a",
   "metadata": {},
   "source": [
    "데이터프레임 저장"
   ]
  },
  {
   "cell_type": "code",
   "execution_count": 34,
   "id": "5be17252",
   "metadata": {},
   "outputs": [],
   "source": [
    "start = time.time() # 코드 실행 시간 측정을 위한 변수 \n",
    "rv_df = pd.DataFrame({'id': range(len(date_ymd)), # userID 임의부여 \n",
    "                      'date': date_ymd, # 리뷰등록일 전체(yyyymmdd) \n",
    "                      'date_y': date_y, # 리뷰등록일 중 연도(yyyy) \n",
    "                      'date_m': date_m, # 리뷰등록일 중 월(mm) \n",
    "                      'date_d': date_d, # 리뷰등록일 중 일(dd) \n",
    "                      'username': username_list, # 사용자 닉네임 \n",
    "                      'rating': rating_list, # 평점 \n",
    "                      'content': content_list}) # 리뷰 내용\n",
    "rv_df.to_csv('./review_dataset.csv', encoding = 'utf-8-sig') # csv 파일로 저장 print(time.time() - start) # 코드 실행 소요시간 출력\n",
    "\n"
   ]
  },
  {
   "cell_type": "markdown",
   "id": "9360a2dd",
   "metadata": {},
   "source": [
    "데이터 불러오기"
   ]
  },
  {
   "cell_type": "code",
   "execution_count": 35,
   "id": "d6a4b049",
   "metadata": {},
   "outputs": [
    {
     "data": {
      "text/html": [
       "<div>\n",
       "<style scoped>\n",
       "    .dataframe tbody tr th:only-of-type {\n",
       "        vertical-align: middle;\n",
       "    }\n",
       "\n",
       "    .dataframe tbody tr th {\n",
       "        vertical-align: top;\n",
       "    }\n",
       "\n",
       "    .dataframe thead th {\n",
       "        text-align: right;\n",
       "    }\n",
       "</style>\n",
       "<table border=\"1\" class=\"dataframe\">\n",
       "  <thead>\n",
       "    <tr style=\"text-align: right;\">\n",
       "      <th></th>\n",
       "      <th>id</th>\n",
       "      <th>date</th>\n",
       "      <th>date_y</th>\n",
       "      <th>date_m</th>\n",
       "      <th>date_d</th>\n",
       "      <th>username</th>\n",
       "      <th>rating</th>\n",
       "      <th>content</th>\n",
       "    </tr>\n",
       "  </thead>\n",
       "  <tbody>\n",
       "    <tr>\n",
       "      <th>0</th>\n",
       "      <td>0</td>\n",
       "      <td>20211220</td>\n",
       "      <td>2021</td>\n",
       "      <td>12</td>\n",
       "      <td>20</td>\n",
       "      <td>조재은</td>\n",
       "      <td>5</td>\n",
       "      <td>제페토는 자기맘대로 꾸밀있고 인테리어 플레이등 다양한 게임을 할수있어서 편리하구요 ...</td>\n",
       "    </tr>\n",
       "    <tr>\n",
       "      <th>1</th>\n",
       "      <td>1</td>\n",
       "      <td>20210822</td>\n",
       "      <td>2021</td>\n",
       "      <td>8</td>\n",
       "      <td>22</td>\n",
       "      <td>장마널씌!!!</td>\n",
       "      <td>3</td>\n",
       "      <td>재밌게 하고 있었는데.. 고칠 점 참고 부탁드려요. 1.저는 무과금 유저라서 젬을 ...</td>\n",
       "    </tr>\n",
       "    <tr>\n",
       "      <th>2</th>\n",
       "      <td>2</td>\n",
       "      <td>20210802</td>\n",
       "      <td>2021</td>\n",
       "      <td>8</td>\n",
       "      <td>2</td>\n",
       "      <td>인프피</td>\n",
       "      <td>2</td>\n",
       "      <td>예전부터 제페토를 해오던 유저입니다. 본론부터 얘기하자면,, 현질유도가 너무 심해진...</td>\n",
       "    </tr>\n",
       "    <tr>\n",
       "      <th>3</th>\n",
       "      <td>3</td>\n",
       "      <td>20211222</td>\n",
       "      <td>2021</td>\n",
       "      <td>12</td>\n",
       "      <td>22</td>\n",
       "      <td>집순이</td>\n",
       "      <td>4</td>\n",
       "      <td>원래 계정이 있었는데 로그인이 안돼서 지우고 다시 깔았더니 계정이 사라졌어요..ㅠㅠ...</td>\n",
       "    </tr>\n",
       "    <tr>\n",
       "      <th>4</th>\n",
       "      <td>4</td>\n",
       "      <td>20211221</td>\n",
       "      <td>2021</td>\n",
       "      <td>12</td>\n",
       "      <td>21</td>\n",
       "      <td>서가온</td>\n",
       "      <td>5</td>\n",
       "      <td>저는 이게임을 약 2년반을 했습니다. 그래서 더욱더 현실적인데요. 이게임은 매우 재...</td>\n",
       "    </tr>\n",
       "  </tbody>\n",
       "</table>\n",
       "</div>"
      ],
      "text/plain": [
       "   id      date  date_y  date_m  date_d username  rating  \\\n",
       "0   0  20211220    2021      12      20      조재은       5   \n",
       "1   1  20210822    2021       8      22  장마널씌!!!       3   \n",
       "2   2  20210802    2021       8       2      인프피       2   \n",
       "3   3  20211222    2021      12      22      집순이       4   \n",
       "4   4  20211221    2021      12      21      서가온       5   \n",
       "\n",
       "                                             content  \n",
       "0  제페토는 자기맘대로 꾸밀있고 인테리어 플레이등 다양한 게임을 할수있어서 편리하구요 ...  \n",
       "1  재밌게 하고 있었는데.. 고칠 점 참고 부탁드려요. 1.저는 무과금 유저라서 젬을 ...  \n",
       "2  예전부터 제페토를 해오던 유저입니다. 본론부터 얘기하자면,, 현질유도가 너무 심해진...  \n",
       "3  원래 계정이 있었는데 로그인이 안돼서 지우고 다시 깔았더니 계정이 사라졌어요..ㅠㅠ...  \n",
       "4  저는 이게임을 약 2년반을 했습니다. 그래서 더욱더 현실적인데요. 이게임은 매우 재...  "
      ]
     },
     "execution_count": 35,
     "metadata": {},
     "output_type": "execute_result"
    }
   ],
   "source": [
    "# 저장한 리뷰 정보 불러오기 \n",
    "rv_df = pd.read_csv('./review_dataset.csv', encoding = 'utf-8-sig') \n",
    "rv_df = rv_df.drop(['Unnamed: 0'], axis = 1) # 불필요한 칼럼 삭제 \n",
    "rv_df.head()\n",
    "\n"
   ]
  },
  {
   "cell_type": "code",
   "execution_count": null,
   "id": "c60aedb2",
   "metadata": {},
   "outputs": [],
   "source": []
  },
  {
   "cell_type": "code",
   "execution_count": null,
   "id": "a254c208",
   "metadata": {},
   "outputs": [],
   "source": []
  }
 ],
 "metadata": {
  "kernelspec": {
   "display_name": "Python 3",
   "language": "python",
   "name": "python3"
  },
  "language_info": {
   "codemirror_mode": {
    "name": "ipython",
    "version": 3
   },
   "file_extension": ".py",
   "mimetype": "text/x-python",
   "name": "python",
   "nbconvert_exporter": "python",
   "pygments_lexer": "ipython3",
   "version": "3.8.11"
  }
 },
 "nbformat": 4,
 "nbformat_minor": 5
}
