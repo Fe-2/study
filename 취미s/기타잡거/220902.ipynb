{
 "cells": [
  {
   "cell_type": "code",
   "execution_count": null,
   "metadata": {},
   "outputs": [],
   "source": [
    "# https://school.programmers.co.kr/learn/courses/30/lessons/60057"
   ]
  },
  {
   "cell_type": "markdown",
   "metadata": {},
   "source": [
    "### s / result\n",
    "* \"aabbaccc\" / 7\n",
    "* \"ababcdcdababcdcd\" / 9\n",
    "* \"abcabcdede\" / 8\n",
    "* \"abcabcabcabcdededededede\" / 14\n",
    "* \"xababcdcdababcdcd\" / 17"
   ]
  },
  {
   "cell_type": "code",
   "execution_count": null,
   "metadata": {},
   "outputs": [],
   "source": [
    "a1 = \"aabbaccc\"\n",
    "a2 = \"ababcdcdababcdcd\"\n",
    "a3 = \"abcabcdede\"\n",
    "a4 = \"abcabcabcabcdededededede\"\n",
    "a5 = \"xababcdcdababcdcd\""
   ]
  },
  {
   "cell_type": "code",
   "execution_count": 132,
   "metadata": {},
   "outputs": [],
   "source": [
    "def solution(s):\n",
    "    if len(s) == 1:\n",
    "        return 1\n",
    "    \n",
    "    answers = []\n",
    "    num = len(s)\n",
    "    dirtn = []\n",
    "    for i in range(1, len(s)+1):\n",
    "        if len(s) % i == 0:\n",
    "            if not i == 1:\n",
    "                dirtn.append(i)\n",
    "\n",
    "    wordsplit = []        \n",
    "    for i in range(1,len(s)):\n",
    "        n = int(len(s) / i)\n",
    "        words = []\n",
    "        for n2 in range(n+1):\n",
    "            try:\n",
    "                words.append(s[i*n2:i*(n2+1)])\n",
    "            except:\n",
    "                words.append(s[i*n2:])\n",
    "\n",
    "        if words[-1] == []:\n",
    "            wordsplit.append(words[:-1])\n",
    "        else:\n",
    "            wordsplit.append(words)\n",
    "\n",
    "    for lines in wordsplit:\n",
    "        lines.append('#')\n",
    "        for i in range(len(lines)-1):\n",
    "            if lines[i] == lines[i+1]:\n",
    "                lines[i] = 1\n",
    "\n",
    "        flag = False\n",
    "        last = []\n",
    "        for l in range(len(lines)-1):\n",
    "            i = lines[l]\n",
    "            if flag == False:\n",
    "                cnt = 1 \n",
    "\n",
    "            if type(i) == int:\n",
    "                flag = True\n",
    "                cnt +=1\n",
    "\n",
    "            else:\n",
    "                flag = False\n",
    "                if not cnt == 1:\n",
    "                    last.append(cnt)\n",
    "                last.append(i)\n",
    "\n",
    "        answer = ''\n",
    "        for i in last:\n",
    "            if not type(i) == list:\n",
    "                answer+= str(i)\n",
    "            else:\n",
    "                for j in i:\n",
    "                    answer += j\n",
    "        answers.append(len(answer))\n",
    "\n",
    "    return min(answers)"
   ]
  },
  {
   "cell_type": "code",
   "execution_count": 133,
   "metadata": {},
   "outputs": [
    {
     "data": {
      "text/plain": [
       "7"
      ]
     },
     "execution_count": 133,
     "metadata": {},
     "output_type": "execute_result"
    }
   ],
   "source": [
    "solution(a1)"
   ]
  },
  {
   "cell_type": "code",
   "execution_count": 134,
   "metadata": {},
   "outputs": [
    {
     "data": {
      "text/plain": [
       "9"
      ]
     },
     "execution_count": 134,
     "metadata": {},
     "output_type": "execute_result"
    }
   ],
   "source": [
    "solution(a2)"
   ]
  },
  {
   "cell_type": "code",
   "execution_count": 135,
   "metadata": {},
   "outputs": [
    {
     "data": {
      "text/plain": [
       "8"
      ]
     },
     "execution_count": 135,
     "metadata": {},
     "output_type": "execute_result"
    }
   ],
   "source": [
    "solution(a3)"
   ]
  },
  {
   "cell_type": "code",
   "execution_count": 136,
   "metadata": {},
   "outputs": [
    {
     "data": {
      "text/plain": [
       "14"
      ]
     },
     "execution_count": 136,
     "metadata": {},
     "output_type": "execute_result"
    }
   ],
   "source": [
    "solution(a4)"
   ]
  },
  {
   "cell_type": "code",
   "execution_count": 137,
   "metadata": {},
   "outputs": [
    {
     "data": {
      "text/plain": [
       "17"
      ]
     },
     "execution_count": 137,
     "metadata": {},
     "output_type": "execute_result"
    }
   ],
   "source": [
    "solution(a5)"
   ]
  },
  {
   "cell_type": "code",
   "execution_count": null,
   "metadata": {},
   "outputs": [],
   "source": []
  }
 ],
 "metadata": {
  "kernelspec": {
   "display_name": "Python 3",
   "language": "python",
   "name": "python3"
  },
  "language_info": {
   "codemirror_mode": {
    "name": "ipython",
    "version": 3
   },
   "file_extension": ".py",
   "mimetype": "text/x-python",
   "name": "python",
   "nbconvert_exporter": "python",
   "pygments_lexer": "ipython3",
   "version": "3.8.3"
  }
 },
 "nbformat": 4,
 "nbformat_minor": 4
}
