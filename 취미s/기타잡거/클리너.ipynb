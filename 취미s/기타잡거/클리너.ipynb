{
 "cells": [
  {
   "cell_type": "code",
   "execution_count": 1,
   "metadata": {},
   "outputs": [],
   "source": [
    "from selenium import webdriver\n",
    "options = webdriver.ChromeOptions() \n",
    "options.add_argument('--headless') \n",
    "options.add_argument('--no-sandbox') \n",
    "options.add_argument('--disable-dev-shm-usage') \n",
    "from bs4 import BeautifulSoup\n",
    "import pandas as pd\n",
    "pd.set_option('display.max_colwidth', None)\n",
    "import urllib.request\n",
    "import urllib.parse\n",
    "from urllib.parse import quote\n",
    "import time\n",
    "import datetime"
   ]
  },
  {
   "cell_type": "code",
   "execution_count": 19,
   "metadata": {},
   "outputs": [],
   "source": [
    "origin_URL = (f'ttps://www.dogdrip.net/index.php?act=dispMemberOwnDocument&mid=intro&page=')\n",
    "docURL1 = 'https://www.dogdrip.net/index.php?document_srl='\n",
    "docURL2 = '&amp%3Bmid=free&mid=free&act=dispBoardDelete'\n",
    "hURL = origin_URL"
   ]
  },
  {
   "cell_type": "code",
   "execution_count": 81,
   "metadata": {},
   "outputs": [],
   "source": [
    "firstURL = \"h\" + hURL\n",
    "driver = webdriver.Chrome(executable_path=r'C:/Users/LEE/python/chromedriver.exe')\n",
    "driver.implicitly_wait(3)\n",
    "driver.get(firstURL)"
   ]
  },
  {
   "cell_type": "code",
   "execution_count": 98,
   "metadata": {},
   "outputs": [
    {
     "name": "stdout",
     "output_type": "stream",
     "text": [
      "3\n"
     ]
    }
   ],
   "source": [
    "firstsoup = BeautifulSoup(driver.page_source, 'html.parser')\n",
    "page = int(str(firstsoup.find_all('table')[0])[str(firstsoup.find_all('table')[0]).find('Total:')+7:str(firstsoup.find_all('table')[0]).find('Page')-2].replace(',',''))\n",
    "print(page)"
   ]
  },
  {
   "cell_type": "code",
   "execution_count": 100,
   "metadata": {},
   "outputs": [
    {
     "ename": "KeyboardInterrupt",
     "evalue": "",
     "output_type": "error",
     "traceback": [
      "\u001b[1;31m---------------------------------------------------------------------------\u001b[0m",
      "\u001b[1;31mKeyboardInterrupt\u001b[0m                         Traceback (most recent call last)",
      "\u001b[1;32m<ipython-input-100-55c60d235f21>\u001b[0m in \u001b[0;36m<module>\u001b[1;34m\u001b[0m\n\u001b[0;32m     13\u001b[0m \u001b[1;33m\u001b[0m\u001b[0m\n\u001b[0;32m     14\u001b[0m     \u001b[1;32mfor\u001b[0m \u001b[0mi\u001b[0m \u001b[1;32min\u001b[0m \u001b[0mrange\u001b[0m\u001b[1;33m(\u001b[0m\u001b[0mlen\u001b[0m\u001b[1;33m(\u001b[0m\u001b[0ml\u001b[0m\u001b[1;33m)\u001b[0m\u001b[1;33m)\u001b[0m\u001b[1;33m:\u001b[0m\u001b[1;33m\u001b[0m\u001b[1;33m\u001b[0m\u001b[0m\n\u001b[1;32m---> 15\u001b[1;33m         \u001b[0mtime\u001b[0m\u001b[1;33m.\u001b[0m\u001b[0msleep\u001b[0m\u001b[1;33m(\u001b[0m\u001b[1;36m2\u001b[0m\u001b[1;33m)\u001b[0m\u001b[1;33m\u001b[0m\u001b[1;33m\u001b[0m\u001b[0m\n\u001b[0m\u001b[0;32m     16\u001b[0m         \u001b[0mdriver\u001b[0m\u001b[1;33m.\u001b[0m\u001b[0mget\u001b[0m\u001b[1;33m(\u001b[0m\u001b[0mdocURL1\u001b[0m\u001b[1;33m+\u001b[0m\u001b[0ml\u001b[0m\u001b[1;33m[\u001b[0m\u001b[0mi\u001b[0m\u001b[1;33m]\u001b[0m\u001b[1;33m+\u001b[0m\u001b[0mdocURL2\u001b[0m\u001b[1;33m)\u001b[0m\u001b[1;33m\u001b[0m\u001b[1;33m\u001b[0m\u001b[0m\n\u001b[0;32m     17\u001b[0m         \u001b[0mx\u001b[0m \u001b[1;33m=\u001b[0m \u001b[0mdriver\u001b[0m\u001b[1;33m.\u001b[0m\u001b[0mfind_element_by_xpath\u001b[0m\u001b[1;33m(\u001b[0m\u001b[1;34m'//*[@id=\"main\"]/div/div[2]/div/form/div/input'\u001b[0m\u001b[1;33m)\u001b[0m\u001b[1;33m.\u001b[0m\u001b[0mclick\u001b[0m\u001b[1;33m(\u001b[0m\u001b[1;33m)\u001b[0m\u001b[1;33m\u001b[0m\u001b[1;33m\u001b[0m\u001b[0m\n",
      "\u001b[1;31mKeyboardInterrupt\u001b[0m: "
     ]
    }
   ],
   "source": [
    "cnt = 1\n",
    "while True:\n",
    "    driver.get(firstURL)\n",
    "    firstsoup = BeautifulSoup(driver.page_source, 'html.parser')\n",
    "    l = []\n",
    "    doc = firstsoup.find_all('td')\n",
    "    for i in doc:\n",
    "        x = str(i).find('<a href=\"')\n",
    "\n",
    "        if not x == -1:\n",
    "            l.append(str(i)[x+10:x+19])\n",
    "    \n",
    "    \n",
    "    for i in range(len(l)):\n",
    "        time.sleep(2)\n",
    "        driver.get(docURL1+l[i]+docURL2)\n",
    "        x = driver.find_element_by_xpath('//*[@id=\"main\"]/div/div[2]/div/form/div/input').click()\n",
    "        if cnt % 10 == 0:\n",
    "            print(f'{cnt}개 완료... {cnt}/{page}')\n",
    "            \n",
    "        cnt += 1\n",
    "    \n",
    "    time.sleep(5)\n",
    "    \n",
    "    if cnt == page:\n",
    "        break"
   ]
  },
  {
   "cell_type": "code",
   "execution_count": null,
   "metadata": {},
   "outputs": [],
   "source": []
  }
 ],
 "metadata": {
  "kernelspec": {
   "display_name": "Python 3",
   "language": "python",
   "name": "python3"
  },
  "language_info": {
   "codemirror_mode": {
    "name": "ipython",
    "version": 3
   },
   "file_extension": ".py",
   "mimetype": "text/x-python",
   "name": "python",
   "nbconvert_exporter": "python",
   "pygments_lexer": "ipython3",
   "version": "3.8.3"
  }
 },
 "nbformat": 4,
 "nbformat_minor": 4
}
