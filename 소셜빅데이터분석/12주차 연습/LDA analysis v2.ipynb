{
 "cells": [
  {
   "cell_type": "markdown",
   "metadata": {
    "id": "SM0wT2llqj2w"
   },
   "source": [
    "# **Date Loading**"
   ]
  },
  {
   "cell_type": "code",
   "execution_count": 1,
   "metadata": {
    "executionInfo": {
     "elapsed": 11015,
     "status": "ok",
     "timestamp": 1620542887060,
     "user": {
      "displayName": "Jeong Woo Koo",
      "photoUrl": "https://lh3.googleusercontent.com/a-/AOh14GjIUIR8DqfLsQ6Gji2nLKZLadx3u3dcXkUNKKqM3w=s64",
      "userId": "15693827895442607306"
     },
     "user_tz": -540
    },
    "id": "AgGjwIZ04ZUH"
   },
   "outputs": [],
   "source": [
    "!pip install tomotopy &> /dev/null # \"& > /dev/null\" install 결과 표시 숨김\n",
    "!pip install konlpy &> /dev/null"
   ]
  },
  {
   "cell_type": "code",
   "execution_count": 2,
   "metadata": {
    "executionInfo": {
     "elapsed": 376733,
     "status": "ok",
     "timestamp": 1620543264141,
     "user": {
      "displayName": "Jeong Woo Koo",
      "photoUrl": "https://lh3.googleusercontent.com/a-/AOh14GjIUIR8DqfLsQ6Gji2nLKZLadx3u3dcXkUNKKqM3w=s64",
      "userId": "15693827895442607306"
     },
     "user_tz": -540
    },
    "id": "Ep8AWPZnM8rV"
   },
   "outputs": [],
   "source": [
    "!git clone https://github.com/SOMJANG/Mecab-ko-for-Google-Colab.git &> /dev/null\n",
    "!bash Mecab-ko-for-Google-Colab/install_mecab-ko_on_colab190912.sh &> /dev/null"
   ]
  },
  {
   "cell_type": "code",
   "execution_count": 3,
   "metadata": {
    "executionInfo": {
     "elapsed": 377237,
     "status": "ok",
     "timestamp": 1620543265988,
     "user": {
      "displayName": "Jeong Woo Koo",
      "photoUrl": "https://lh3.googleusercontent.com/a-/AOh14GjIUIR8DqfLsQ6Gji2nLKZLadx3u3dcXkUNKKqM3w=s64",
      "userId": "15693827895442607306"
     },
     "user_tz": -540
    },
    "id": "D4d0OASE4phA"
   },
   "outputs": [],
   "source": [
    "import pandas as pd\n",
    "import numpy as np\n",
    "\n",
    "import tomotopy as tp\n",
    "import pprint\n",
    "\n",
    "import collections\n",
    "import gensim\n",
    "from konlpy.tag import Mecab\n",
    "from konlpy.corpus import kolaw\n",
    "\n",
    "import matplotlib.pyplot as plt\n",
    "import matplotlib.colors as clr\n",
    "%matplotlib inline "
   ]
  },
  {
   "cell_type": "code",
   "execution_count": 4,
   "metadata": {
    "colab": {
     "base_uri": "https://localhost:8080/"
    },
    "executionInfo": {
     "elapsed": 385412,
     "status": "ok",
     "timestamp": 1620543287604,
     "user": {
      "displayName": "Jeong Woo Koo",
      "photoUrl": "https://lh3.googleusercontent.com/a-/AOh14GjIUIR8DqfLsQ6Gji2nLKZLadx3u3dcXkUNKKqM3w=s64",
      "userId": "15693827895442607306"
     },
     "user_tz": -540
    },
    "id": "Z3wL0FBuVGP8",
    "outputId": "5cc7ebda-a596-45eb-aa24-d52358bf0ed2"
   },
   "outputs": [
    {
     "name": "stdout",
     "output_type": "stream",
     "text": [
      "Mounted at /content/drive\n"
     ]
    }
   ],
   "source": [
    "from google.colab import drive\n",
    "drive.mount('/content/drive')"
   ]
  },
  {
   "cell_type": "code",
   "execution_count": 5,
   "metadata": {
    "colab": {
     "base_uri": "https://localhost:8080/",
     "height": 202
    },
    "executionInfo": {
     "elapsed": 1473,
     "status": "ok",
     "timestamp": 1620543343408,
     "user": {
      "displayName": "Jeong Woo Koo",
      "photoUrl": "https://lh3.googleusercontent.com/a-/AOh14GjIUIR8DqfLsQ6Gji2nLKZLadx3u3dcXkUNKKqM3w=s64",
      "userId": "15693827895442607306"
     },
     "user_tz": -540
    },
    "id": "jj0OG5pbTItr",
    "outputId": "d8983ae1-0377-4523-caa8-4eb5cb9c95f4"
   },
   "outputs": [
    {
     "data": {
      "text/html": [
       "<div>\n",
       "<style scoped>\n",
       "    .dataframe tbody tr th:only-of-type {\n",
       "        vertical-align: middle;\n",
       "    }\n",
       "\n",
       "    .dataframe tbody tr th {\n",
       "        vertical-align: top;\n",
       "    }\n",
       "\n",
       "    .dataframe thead th {\n",
       "        text-align: right;\n",
       "    }\n",
       "</style>\n",
       "<table border=\"1\" class=\"dataframe\">\n",
       "  <thead>\n",
       "    <tr style=\"text-align: right;\">\n",
       "      <th></th>\n",
       "      <th>year</th>\n",
       "      <th>month</th>\n",
       "      <th>day</th>\n",
       "      <th>content</th>\n",
       "      <th>group</th>\n",
       "    </tr>\n",
       "  </thead>\n",
       "  <tbody>\n",
       "    <tr>\n",
       "      <th>0</th>\n",
       "      <td>2013</td>\n",
       "      <td>9</td>\n",
       "      <td>2</td>\n",
       "      <td>한·일 두 정부의 외면으로 묻혀질 뻔했던 간토(關東)대지진 조선인 대학살이 오늘날 ...</td>\n",
       "      <td>Kyunghyang</td>\n",
       "    </tr>\n",
       "    <tr>\n",
       "      <th>1</th>\n",
       "      <td>2012</td>\n",
       "      <td>6</td>\n",
       "      <td>10</td>\n",
       "      <td>2009년 77일간의 공장 점거농성과 강경진압, 소속 노동자의 37인 2646명 대...</td>\n",
       "      <td>Hankyoreh</td>\n",
       "    </tr>\n",
       "    <tr>\n",
       "      <th>2</th>\n",
       "      <td>2009</td>\n",
       "      <td>8</td>\n",
       "      <td>13</td>\n",
       "      <td>자유는 만물의 생명이요 평화인생의 행복이다 자유와 평화정신을 설파하고 실천한 만해 ...</td>\n",
       "      <td>Chosun</td>\n",
       "    </tr>\n",
       "    <tr>\n",
       "      <th>3</th>\n",
       "      <td>2018</td>\n",
       "      <td>8</td>\n",
       "      <td>30</td>\n",
       "      <td>지난해 스위스 제네바에서 열린 유엔 인권이사회 총회 뉴스 유엔기구가 지난 1년간 북...</td>\n",
       "      <td>Joongang</td>\n",
       "    </tr>\n",
       "    <tr>\n",
       "      <th>4</th>\n",
       "      <td>2002</td>\n",
       "      <td>10</td>\n",
       "      <td>12</td>\n",
       "      <td>노벨 평화상 수상자로 결정된 지미 카터는 퇴임 후의 행적이 더욱 아름다운 대통령으로...</td>\n",
       "      <td>Joongang</td>\n",
       "    </tr>\n",
       "  </tbody>\n",
       "</table>\n",
       "</div>"
      ],
      "text/plain": [
       "   year  month  ...                                            content       group\n",
       "0  2013      9  ...  한·일 두 정부의 외면으로 묻혀질 뻔했던 간토(關東)대지진 조선인 대학살이 오늘날 ...  Kyunghyang\n",
       "1  2012      6  ...  2009년 77일간의 공장 점거농성과 강경진압, 소속 노동자의 37인 2646명 대...   Hankyoreh\n",
       "2  2009      8  ...  자유는 만물의 생명이요 평화인생의 행복이다 자유와 평화정신을 설파하고 실천한 만해 ...      Chosun\n",
       "3  2018      8  ...  지난해 스위스 제네바에서 열린 유엔 인권이사회 총회 뉴스 유엔기구가 지난 1년간 북...    Joongang\n",
       "4  2002     10  ...  노벨 평화상 수상자로 결정된 지미 카터는 퇴임 후의 행적이 더욱 아름다운 대통령으로...    Joongang\n",
       "\n",
       "[5 rows x 5 columns]"
      ]
     },
     "execution_count": 5,
     "metadata": {
      "tags": []
     },
     "output_type": "execute_result"
    }
   ],
   "source": [
    "df = pd.read_csv(\"/content/drive/MyDrive/소셜빅데이터분석_2021/W12_coherence perplexity/df_sample.csv\", encoding='UTF-8')\n",
    "df.head()"
   ]
  },
  {
   "cell_type": "markdown",
   "metadata": {
    "id": "k8WsIpF7Niws"
   },
   "source": [
    "# Tokenizer\n",
    "Mecab 품사 태그 : https://docs.google.com/spreadsheets/d/1-9blXKjtjeKZqsf4NzHeYJCrr49-nXeRF6D80udfcwY/edit#gid=589544265"
   ]
  },
  {
   "cell_type": "code",
   "execution_count": 6,
   "metadata": {
    "executionInfo": {
     "elapsed": 758,
     "status": "ok",
     "timestamp": 1620543350009,
     "user": {
      "displayName": "Jeong Woo Koo",
      "photoUrl": "https://lh3.googleusercontent.com/a-/AOh14GjIUIR8DqfLsQ6Gji2nLKZLadx3u3dcXkUNKKqM3w=s64",
      "userId": "15693827895442607306"
     },
     "user_tz": -540
    },
    "id": "zdT6t-g9Kg6v"
   },
   "outputs": [],
   "source": [
    "mecab = Mecab()\n",
    "tags = ['NNG', 'NNP']\n",
    "stopwords = []\n",
    "\n",
    "def Tokenizer(text):\n",
    "    morphs = mecab.pos(text)\n",
    "    pos = []\n",
    "\n",
    "    for word, tag in morphs:\n",
    "        if(len(word) < 2 and word not in stopwords): \n",
    "            continue\n",
    "        if tag in tags:\n",
    "            pos.append(word)\n",
    "\n",
    "    return pos"
   ]
  },
  {
   "cell_type": "markdown",
   "metadata": {
    "id": "W0O3NVDE3ZsT"
   },
   "source": [
    "# **Topic Coherence**\n",
    "\n",
    "토픽 모델링을 구현할 때 토픽 개수에 따른 일관성 확인을 위한 검증 단계   \n",
    "perplexity와 coherence 값을 비교하여 적절한 토픽값을 유추함   \n",
    "* perplexity는 낮을수록, coherence는 높을수록 일반적으로 우수하다고 평가함\n",
    "* 그러나 일반적으로 두 조건을 모두 충족하는 값을 찾는 경우는 거의 없음\n",
    "* 토픽모델링은 파라미터 설정에 따라 얼마든지 값이 바뀌기 때문에 토픽 개수에서 정답은 없음(참고용으로만 활용해야 함)\n",
    "* 이를 위해서는 토픽 모델링 이전의 전처리 단계를 꼼꼼하게 진행할 필요 있음\n",
    "\n",
    "현재 tomotopy에서는 topic coherence를 확인할 수 있는 방법이 없음.   \n",
    "따라서 tomotopy에서 실행한 lda 결과를 gensim의 자료구조 형태로 변환하여 topic coherence를 비교하는 절차를 거침\n",
    "\n",
    "https://radimrehurek.com/gensim/models/coherencemodel.html"
   ]
  },
  {
   "cell_type": "code",
   "execution_count": 7,
   "metadata": {
    "executionInfo": {
     "elapsed": 732,
     "status": "ok",
     "timestamp": 1620543353425,
     "user": {
      "displayName": "Jeong Woo Koo",
      "photoUrl": "https://lh3.googleusercontent.com/a-/AOh14GjIUIR8DqfLsQ6Gji2nLKZLadx3u3dcXkUNKKqM3w=s64",
      "userId": "15693827895442607306"
     },
     "user_tz": -540
    },
    "id": "G1nIH1FSq9sC"
   },
   "outputs": [],
   "source": [
    "# tomotopy의 lda 결과를 gensim에서 활용가능한 자료구조 형태로 변환하는 함수\n",
    "\n",
    "def get_coherence(model, coherence=None, topn=None, processes=None): # None으로 하면 자동으로 default...밑에서 값을 정해 줬으니, 정해진 값이 들어온다\n",
    "    \"\"\"\n",
    "    model: tomotopy lda\n",
    "    coherence: coherence 값을 구하는 알고리즘(u_mass 나 c_v 를 사용하는데 일반적으로 c_v 활용)\n",
    "    topn: coherence 계산할 때 고려할 토픽 키워드\n",
    "    processes: workers와 유사한 기능\n",
    "    \"\"\"\n",
    "\n",
    "    # tomotopy 에서 토픽-키워드간 데이터 추출\n",
    "    topics = []\n",
    "    for k in range(model.k): #model.k에서 뽑는게 숫자이기 때문에 레인지를 쓴다...k에 해당되는 내용이 없고\n",
    "        word_probs = model.get_topic_words(k, topn) #토픽에 해당되는 키워드에 대해 확률값을 넣어주는 것\n",
    "        topics.append([word for word, prob in word_probs])\n",
    "    \n",
    "    # tomotopy에서 토픽-문서간 데이터 추출하여 gensim에서 활용가능한 코퍼스 구현\n",
    "    texts = []\n",
    "    corpus = []\n",
    "    for doc in model.docs: #여긴 왜 range를 안넣나?...실제 문서의 내용을 가져와야 하기 때문에...리스트 형태로 있는 문서의 내용을 가져온다...doc는 내용이 있다...\n",
    "        words = [model.vocabs[token_id] for token_id in doc.words] #doc.words가 어디서 왔나? '토모토피에서 자동적으로 정해 놓은 변수이다' \n",
    "        texts.append(words) #젠심 단계에서 lda를 하기 위한 신문기사...토모토미에서 해놓은 것은 되돌리는 것....\n",
    "        freqs = list(collections.Counter(doc.words).items()) #왜 .items()가 붙은거지? collections.Counter는 반드시 젠심은 아니다...collectios 라이브러리에서...items() 함수는 튜플(x=y...검찰=100)...전체를 list형태로..\n",
    "                  #list를 통해서 각각 문서들에 대해서 진행함.....list는 전체를 하나의 집합으로 묶어 준다...\n",
    "        corpus.append(freqs)\n",
    "    \n",
    "    # gensim 형태의 자료구조 형태로 변환\n",
    "    id2word = dict(enumerate(model.vocabs)) #model.vocabs는 변수 아닌가? enumerate는 전체 문서에서 특정 단어가 언급된 숫자를 말한다...전체 오천개에서 검찰=1500번 이런 식으로....dict는 튜플형태로??\n",
    "    dictionary = gensim.corpora.dictionary.Dictionary.from_corpus(corpus, id2word) # tomotopy에 활용된 키워드들을 (단어, 빈도) 구조의 형태로 변환\n",
    "    \n",
    "    cm = gensim.models.coherencemodel.CoherenceModel(\n",
    "        topics=topics,\n",
    "        texts=texts,\n",
    "        corpus=corpus,\n",
    "        dictionary=dictionary,  \n",
    "        coherence=coherence, # (바로 아래에 있는 'c_v', 10, 5를 넣는 것임...)\n",
    "        topn=topn,\n",
    "        processes=processes,\n",
    "    )\n",
    "\n",
    "    return cm.get_coherence() #그냥 cm을 리턴하는게 아니고 여기에 또 .get_coherence()를 넣는것? 왜?; 이건 리턴했는데, 아래에서 전혀 사용되지 않네? return을 안하면 해당하는 값을 가져오지 않는다..cm은 속성값이 나온다..."
   ]
  },
  {
   "cell_type": "code",
   "execution_count": 8,
   "metadata": {
    "executionInfo": {
     "elapsed": 511,
     "status": "ok",
     "timestamp": 1620543354699,
     "user": {
      "displayName": "Jeong Woo Koo",
      "photoUrl": "https://lh3.googleusercontent.com/a-/AOh14GjIUIR8DqfLsQ6Gji2nLKZLadx3u3dcXkUNKKqM3w=s64",
      "userId": "15693827895442607306"
     },
     "user_tz": -540
    },
    "id": "LUbZgJ0Mz6Gu"
   },
   "outputs": [],
   "source": [
    "# perplexity, coherence 값을 확인하는 함수\n",
    "\n",
    "def compute_coherence_values(start, limit, step):\n",
    "    for i in range(start, limit, step):\n",
    "        mdl = tp.LDAModel(k=i)\n",
    "        for text in df['content']:  \n",
    "            mdl.add_doc(Tokenizer(text))  \n",
    "        mdl.train(iter=50, workers=0)\n",
    "        coherence_value = get_coherence(mdl, coherence='c_v', topn=10, processes=5)\n",
    "\n",
    "        print('Topic: {}\\tLog-likelihood: {}\\tPerplexity: {}\\tCoherence: {}'\\\n",
    "        .format(\n",
    "            i,\n",
    "            mdl.ll_per_word,\n",
    "            mdl.perplexity,\n",
    "            coherence_value\n",
    "            )\n",
    "        )\n",
    "        #coherence_values = []\n",
    "        #perplexities = []     \n",
    "        coherence_values.append(coherence_value) \n",
    "        perplexities.append(mdl.perplexity) "
   ]
  },
  {
   "cell_type": "code",
   "execution_count": 9,
   "metadata": {
    "colab": {
     "base_uri": "https://localhost:8080/"
    },
    "executionInfo": {
     "elapsed": 775745,
     "status": "ok",
     "timestamp": 1620544131443,
     "user": {
      "displayName": "Jeong Woo Koo",
      "photoUrl": "https://lh3.googleusercontent.com/a-/AOh14GjIUIR8DqfLsQ6Gji2nLKZLadx3u3dcXkUNKKqM3w=s64",
      "userId": "15693827895442607306"
     },
     "user_tz": -540
    },
    "id": "vptkWy6p0IvX",
    "outputId": "5f8caba7-2fc4-476e-e6ea-b4038584bb69"
   },
   "outputs": [
    {
     "name": "stdout",
     "output_type": "stream",
     "text": [
      "Topic: 10\tLog-likelihood: -8.770614839532989\tPerplexity: 6442.132124467673\tCoherence: 0.504321981085943\n",
      "Topic: 20\tLog-likelihood: -8.78317554727292\tPerplexity: 6523.560189788263\tCoherence: 0.5423375964465178\n",
      "Topic: 30\tLog-likelihood: -8.767695359679303\tPerplexity: 6423.351877131615\tCoherence: 0.5880696201740281\n",
      "Topic: 40\tLog-likelihood: -8.760872876806792\tPerplexity: 6379.677821120569\tCoherence: 0.581245197357801\n",
      "Topic: 50\tLog-likelihood: -8.750077673411315\tPerplexity: 6311.1782997993105\tCoherence: 0.5908900045790662\n",
      "Topic: 60\tLog-likelihood: -8.767925602124757\tPerplexity: 6424.830975644913\tCoherence: 0.5821682966532932\n",
      "Topic: 70\tLog-likelihood: -8.754513860486503\tPerplexity: 6339.2380605586695\tCoherence: 0.5797534162636255\n",
      "Topic: 80\tLog-likelihood: -8.738534915635451\tPerplexity: 6238.748720130753\tCoherence: 0.5842122430866036\n",
      "Topic: 90\tLog-likelihood: -8.751928634609742\tPerplexity: 6322.8708638514945\tCoherence: 0.5858076067471967\n"
     ]
    }
   ],
   "source": [
    "limit = 100 # maximum topic number\n",
    "start = 10; # minimum topic number\n",
    "step = 10; # step unit\n",
    "\n",
    "coherence_values = []\n",
    "perplexities = []\n",
    "\n",
    "# coherence 확인은 gensim의 프로세싱을 따르기 때문에 시간이 상당히 소요됨\n",
    "compute_coherence_values(start, limit, step)"
   ]
  },
  {
   "cell_type": "code",
   "execution_count": 10,
   "metadata": {
    "executionInfo": {
     "elapsed": 649,
     "status": "ok",
     "timestamp": 1620545452987,
     "user": {
      "displayName": "Jeong Woo Koo",
      "photoUrl": "https://lh3.googleusercontent.com/a-/AOh14GjIUIR8DqfLsQ6Gji2nLKZLadx3u3dcXkUNKKqM3w=s64",
      "userId": "15693827895442607306"
     },
     "user_tz": -540
    },
    "id": "7uAYnVYIEORA"
   },
   "outputs": [],
   "source": [
    "x = range(start, limit, step)\n",
    "\n",
    "mdl_check = pd.DataFrame(list(zip(x, perplexities, coherence_values)), columns=['Num Topics', 'Perplexity', 'Coherence']) # from np.array ro pd.dataframe"
   ]
  },
  {
   "cell_type": "code",
   "execution_count": 11,
   "metadata": {
    "colab": {
     "base_uri": "https://localhost:8080/",
     "height": 406
    },
    "executionInfo": {
     "elapsed": 1086,
     "status": "ok",
     "timestamp": 1620545454616,
     "user": {
      "displayName": "Jeong Woo Koo",
      "photoUrl": "https://lh3.googleusercontent.com/a-/AOh14GjIUIR8DqfLsQ6Gji2nLKZLadx3u3dcXkUNKKqM3w=s64",
      "userId": "15693827895442607306"
     },
     "user_tz": -540
    },
    "id": "hGbv3Or40n82",
    "outputId": "8954cb1c-f3c2-454c-f3d1-6f5335222c35"
   },
   "outputs": [
    {
     "data": {
      "text/plain": [
       "array([<matplotlib.axes._subplots.AxesSubplot object at 0x7fdf40176690>,\n",
       "       <matplotlib.axes._subplots.AxesSubplot object at 0x7fdf3c38fbd0>],\n",
       "      dtype=object)"
      ]
     },
     "execution_count": 11,
     "metadata": {
      "tags": []
     },
     "output_type": "execute_result"
    },
    {
     "data": {
      "image/png": "[encoded data removed]",
      "text/plain": [
       "<Figure size 1080x360 with 2 Axes>"
      ]
     },
     "metadata": {
      "needs_background": "light",
      "tags": []
     },
     "output_type": "display_data"
    }
   ],
   "source": [
    "fig, ax = plt.subplots(figsize=(15,5), nrows=1, ncols=2) # nrows=1 ? ncols=2?..2개 그림 배치를 어떻게?....행1개 열2개...subplots이 쪼개는 것....fig는 figsize에 관한 것....15.5가 아래 눈에 보이는 사이즈.....(가로..세로)\n",
    "\n",
    "plt.subplots_adjust(left=0.125, #여백 간의 관계를 adjust.... 그림이 여려개 있을때 공간과 여백 설정....left=.125...반으로 쪼갠 것 내에서 배치를 어떻게...wspace는 두 그림 사이의 거리...hspace는 필요가 없다...\n",
    "                    bottom=0.1, \n",
    "                    right=0.9, \n",
    "                    top=0.9, \n",
    "                    wspace=0.3, \n",
    "                    hspace=0.5)\n",
    "\n",
    "pd.pivot_table(mdl_check, values=[\"Perplexity\", \"Coherence\"],index=\"Num Topics\")\\\n",
    "    .plot(kind='line', rot=90, ax=ax, subplots=True)  # perplexity와 coherence의 위치? \\표시는 .plot 과 연결. .plot을 어떻게 그릴거냐? 선 그래프...rotation 가로축 로테이션..위의 ax.\n",
    "                                                      # subplots=True는 두개를 나눈다....\n",
    "                                                      # \\.plot??. 아래 상단에 나오는 array....는 뭐지? 없애도 되지 않나?"
   ]
  },
  {
   "cell_type": "code",
   "execution_count": 12,
   "metadata": {
    "executionInfo": {
     "elapsed": 27735,
     "status": "ok",
     "timestamp": 1620545483391,
     "user": {
      "displayName": "Jeong Woo Koo",
      "photoUrl": "https://lh3.googleusercontent.com/a-/AOh14GjIUIR8DqfLsQ6Gji2nLKZLadx3u3dcXkUNKKqM3w=s64",
      "userId": "15693827895442607306"
     },
     "user_tz": -540
    },
    "id": "dddM3Lp44i28"
   },
   "outputs": [],
   "source": [
    "# 위 그래프를 확인한 후 k에 적절한 토픽값 입력(여기서는 그냥 임의로 10을 넣음)\n",
    "\n",
    "mdl = tp.LDAModel(k=10)\n",
    "for text in df['content']:\n",
    "    mdl.add_doc(Tokenizer(text))\n",
    "mdl.train(iter=100, workers=0)"
   ]
  },
  {
   "cell_type": "markdown",
   "metadata": {
    "id": "Kk-mgX-q2yhF"
   },
   "source": [
    "# **Look inside deeply**"
   ]
  },
  {
   "cell_type": "code",
   "execution_count": 13,
   "metadata": {
    "colab": {
     "base_uri": "https://localhost:8080/"
    },
    "executionInfo": {
     "elapsed": 618,
     "status": "ok",
     "timestamp": 1620545487648,
     "user": {
      "displayName": "Jeong Woo Koo",
      "photoUrl": "https://lh3.googleusercontent.com/a-/AOh14GjIUIR8DqfLsQ6Gji2nLKZLadx3u3dcXkUNKKqM3w=s64",
      "userId": "15693827895442607306"
     },
     "user_tz": -540
    },
    "id": "FNt66gkS2ht3",
    "outputId": "152cc905-4ca4-4c33-88a6-68ae79e9a5bf"
   },
   "outputs": [
    {
     "name": "stdout",
     "output_type": "stream",
     "text": [
      "[('미국', 0.02941875532269478),\n",
      " ('중국', 0.01777663826942444),\n",
      " ('대통령', 0.008850382640957832),\n",
      " ('세계', 0.008774414658546448),\n",
      " ('인권', 0.007520940154790878),\n",
      " ('영국', 0.006856218911707401),\n",
      " ('시위', 0.006723274942487478),\n",
      " ('정부', 0.006476378533989191),\n",
      " ('테러', 0.0060965376906096935),\n",
      " ('국가', 0.005954097490757704)]\n"
     ]
    }
   ],
   "source": [
    "pprint.pprint(mdl.get_topic_words(8, top_n=10))"
   ]
  },
  {
   "cell_type": "code",
   "execution_count": 14,
   "metadata": {
    "executionInfo": {
     "elapsed": 488,
     "status": "ok",
     "timestamp": 1620545489121,
     "user": {
      "displayName": "Jeong Woo Koo",
      "photoUrl": "https://lh3.googleusercontent.com/a-/AOh14GjIUIR8DqfLsQ6Gji2nLKZLadx3u3dcXkUNKKqM3w=s64",
      "userId": "15693827895442607306"
     },
     "user_tz": -540
    },
    "id": "5amQ3eW2pM7Q"
   },
   "outputs": [],
   "source": [
    "#top_docs = [[] for _ in range(10)] # 관련이 높은 문서들을 아래의 리스트(꺽쇠) 안에 넣어준다.......루프 만드는 방식이 두개 있는데...1. for방식의 루프...2. 이러한 방식의 루프(nested list)....."
   ]
  },
  {
   "cell_type": "code",
   "execution_count": 15,
   "metadata": {
    "executionInfo": {
     "elapsed": 650,
     "status": "ok",
     "timestamp": 1620545497443,
     "user": {
      "displayName": "Jeong Woo Koo",
      "photoUrl": "https://lh3.googleusercontent.com/a-/AOh14GjIUIR8DqfLsQ6Gji2nLKZLadx3u3dcXkUNKKqM3w=s64",
      "userId": "15693827895442607306"
     },
     "user_tz": -540
    },
    "id": "uxOsfVnT20T9"
   },
   "outputs": [],
   "source": [
    "top_docs = [[] for _ in range(mdl.k)] # 문서와 토픽간의 연관성을 보여주는 변수가 필요하다..변수를 넣어줄 공간 만듦...첫번째 토픽과 연관성이 높은 문서를 넣어줄 공간...빈꺽쇠는 빈공간... - 아무것도 없는 빈공간을 넣어준다..\n",
    "                                        # -는 아무것도 안받은거구...이것을 꺽쇠에 넣어주니 결과적으로 꺽쇠에는 아무것도 안들어간다.....이건 nested list라 불리임! \n",
    "\n",
    "for doc in mdl.docs:\n",
    "    top_docs[doc.get_topics(top_n=1)[0][0]].append(doc) # 전체 document에 대해 최우선 토픽 번호를 매칭 (토픽값은 아니고 토픽값만 가져온다...)"
   ]
  },
  {
   "cell_type": "code",
   "execution_count": 16,
   "metadata": {
    "executionInfo": {
     "elapsed": 549,
     "status": "ok",
     "timestamp": 1620545500533,
     "user": {
      "displayName": "Jeong Woo Koo",
      "photoUrl": "https://lh3.googleusercontent.com/a-/AOh14GjIUIR8DqfLsQ6Gji2nLKZLadx3u3dcXkUNKKqM3w=s64",
      "userId": "15693827895442607306"
     },
     "user_tz": -540
    },
    "id": "GlQj4g14pwXv"
   },
   "outputs": [],
   "source": [
    "# print(mdl.docs[0].get_topics(top_n=1)[0]) # 0번째 document에서 가장 높은 비중을 차지하는 토픽과 토픽값 확인....top_n=1도 함수다! 제일 토픽값이 높은 것을 가져와라....토픽값이 제일 높은 토픽을 가져와서 퓨플형태로...\n",
    "                                            # top_n=3 [0] 이렇게 하면....높은 3개를 가져오는데 그 중에서 0번째를 가져오라....[0] [0] 토픽 변호만 나오고..[0] [1]을 하면 토픽값이 나온다.... \n",
    "# print(mdl.docs[0].get_topics(top_n=1)[0][0]) 토픽 번호만 추출"
   ]
  },
  {
   "cell_type": "code",
   "execution_count": 17,
   "metadata": {
    "colab": {
     "base_uri": "https://localhost:8080/"
    },
    "executionInfo": {
     "elapsed": 417,
     "status": "ok",
     "timestamp": 1620545502045,
     "user": {
      "displayName": "Jeong Woo Koo",
      "photoUrl": "https://lh3.googleusercontent.com/a-/AOh14GjIUIR8DqfLsQ6Gji2nLKZLadx3u3dcXkUNKKqM3w=s64",
      "userId": "15693827895442607306"
     },
     "user_tz": -540
    },
    "id": "Ge84s6pg3EN_",
    "outputId": "ec72a0e4-3e28-41c5-f3d5-7e3f36676692"
   },
   "outputs": [
    {
     "name": "stdout",
     "output_type": "stream",
     "text": [
      "Num docs belonging to topic #0: 255\n",
      "Num docs belonging to topic #1: 262\n",
      "Num docs belonging to topic #2: 559\n",
      "Num docs belonging to topic #3: 413\n",
      "Num docs belonging to topic #4: 1061\n",
      "Num docs belonging to topic #5: 807\n",
      "Num docs belonging to topic #6: 97\n",
      "Num docs belonging to topic #7: 598\n",
      "Num docs belonging to topic #8: 607\n",
      "Num docs belonging to topic #9: 341\n"
     ]
    }
   ],
   "source": [
    "for k in range(mdl.k):\n",
    "    print('Num docs belonging to topic #%d: %d' % (k, len(top_docs[k]))) # %d 정규식인데....%자리에 무엇을 넣어주겠다...% 뒤에 세팅을 해준다....top_docs로 나온 문서들의 숫자를 넣어준다....."
   ]
  },
  {
   "cell_type": "code",
   "execution_count": 18,
   "metadata": {
    "colab": {
     "base_uri": "https://localhost:8080/"
    },
    "executionInfo": {
     "elapsed": 648,
     "status": "ok",
     "timestamp": 1620545505076,
     "user": {
      "displayName": "Jeong Woo Koo",
      "photoUrl": "https://lh3.googleusercontent.com/a-/AOh14GjIUIR8DqfLsQ6Gji2nLKZLadx3u3dcXkUNKKqM3w=s64",
      "userId": "15693827895442607306"
     },
     "user_tz": -540
    },
    "id": "uirqQoBi4-Zl",
    "outputId": "f5cbda53-b61a-4825-a3f0-fde5e5beefbb"
   },
   "outputs": [
    {
     "data": {
      "text/plain": [
       "[<tomotopy.Document with words=\"방글라데시 가혹 군사 독재자 후세인 모하마드 에르 샤드 대통령 최근 감옥살이 마감 방글라데시 대법원 대통령 시절 직권 남용 부정부패 혐의 수감 에르 샤드 하급 법원 원심 파기 보석 판결 혐의 군수용 레이더 장비 구명보트 정부 입찰 관련 수뢰 군장 암살 연루 에르 샤드 셰이크 총리 칼레다 지아 총리 야당 연합 규모 반정부 시위 권좌 징역 감옥 형기 절반 보석 결정 소식 에르 샤드 진실 승리 결과 자신 결백 주장 방글라데시 국민 부정부패 독재자 대법원 판결 의아 야당 인권 단체 이번 판결 연립 정당 연합 에르 샤드 소속 당인 야당 모종 정치 거래 결과 비난 최대 야당 방글라데시 민족주의 지아 당수 에르 샤드 석방 총리 지난해 총선 이후 연립 정권 참가 티야 선물 인권 연합 단체 아드 히카르도 성명 보석 신청 처리 사법부 독립성 의심 야당 반응 나라 에르 샤드 총선 옥중 당선 저력 회기 의회 출입 허용 생활 참모총장 승진 쿠데타 당시 집권당 방글라데시 민족주의 축출 권력 장악 대통령 당선 재선 축출 동안 가혹 군사 독재 체제\">,\n",
       " <tomotopy.Document with words=\"아르헨티나 악명 전쟁 당시 아기 납치 개입 군사 독재자 호르헤 비델라 현지 시간 아르헨티나 법원 선고 방청석 희생자 유가족 실현 사법 정의 눈시울 법원 이날 선고 재판 군사 독재 시절 좌파 운동가 아기 조직 강탈 개입 비델라 대통령 중형 선고 군정 마지막 집권자 레이날도 비뇨 혐의 선고 아기 납치 좌파 학생 노동 운동가 지식인 살해 실종 아르헨티나 군부 전쟁 과정 재판 제출 증거 임신 체제 여성 수도 부에노스아이레스 악명 고문장 소인 해양 기술 학교 억류 팔목 수갑 머리 두건 아기 대부분 출산 직후 아기 얼굴 알몸 군용기 바닷물 추정 아기 좌파 뿌리 계획 일환 장교 강제 입양 인권 단체 마요 광장 할머니 추산 검사 가족 단체 회장 에스텔라 로토 군사 정권 아기 강탈 조직 자행 통신 비델라 대통령 지난주 법정 아기 모친 테러리즘 전투 요원 아기 인간 방패 자신 정치 재판 희생양 주장 재판 고문 살해 반인륜 범죄 혐의 무기 징역 선고 복역 유가족 인권 단체 이번 판결 환영 인권 운동가 타티 알메이다 역사 평가 군사 정권 강제 입양 친부 프란시스코 텔라 임신 상태 납치 어머니 흑백 사진 당시 어머니 나이 이상 아르헨티나 군정 청산 작업 네스토르 대통령 민정 기반 취약 제정 군정 인사 사면법 전격 취소 본격 독립 기관 아르헨티나 법률 사회 연구소 기소 가운데 평결 비율 지적 최민영 기자\">,\n",
       " <tomotopy.Document with words=\"최근 미국 소수 인종 사회 약자 대상 자행 증오 범죄 사회 문제 대두 클린턴 대통령 최근 증오 범죄 방지 법안 하원 통과 촉구 미국 이상 증오 범죄 사례 시간 증오 범죄 발생 개탄 증오 범죄 사례 텍사스주 발생 백인 우월주의 윌리엄 엽기 살인 사건 텍사스주 재스퍼 백인 청년 제임스 버드 흑인 납치 집단 폭행 픽업트럭 시체 교회 공동묘지 사건 이후 백인 우월주의 폭력 단체 단원 흑인 과격파 단체 흑표범 단원 재스퍼 흑백 갈등 고조 매튜 셰퍼드 사건 미국 사회 경악 대표 증오 범죄 가운데 러셀 헨더슨 와이오밍주 매튜 셰퍼드 대학생 동성애 이유 구타 살해 혐의 종신형 선고 시민 인권 단체 시민 위원회 지난해 미국 증오 단체 증가 범죄 건수 경우 하루 평균 발생 급증 추세 시민 위원회 분석 증오 범죄 흑인 유대인 범죄 차지 최근 동성애자 증오 범죄 흉포 전국 폭력 프로그램 협회 연례 보고서 동성애자 증오 범죄 발생 전체 건수 전년도 총기 차량 이용 잔학 범죄 증오 범죄 소수 인종 소수 민족 동성애자 이상 성적 취향 사람 장애 노인 사회 약자 이유 증오심 테러 범죄 행위 세기 미국 사회 만연 린칭 악습 분석 콜로라도주 교내 차별 학살 행위 소수 인종 종교 편견 일종 증오 범죄 증오 집단 가운데 규모 자금 고정 회원 현목 기자\">,\n",
       " <tomotopy.Document with words=\"후진타오 중국 국가 주석 왼쪽 미국 워싱턴 레드먼드 마이크 소프트 본사 방문 게이츠 회장 오른쪽 스티브 발머 가운데 인사 레드먼드 연합뉴스 후진타오 중국 국가 주석 현지 시간 미국 시애틀 도착 나흘 방미 일정 중국 항공 전세 기편 시애틀 인근 패인 필드 공항 크리스틴 그레그 워싱턴 주지사 마리아 칸트 상원 의원 영접 주석 도착 직후 시애틀 중국 중요 미국 관문 방문 대화 촉진 유대 게이츠 중국 친구 주석 게이츠 회장 마이크 소프트 방문 게이츠 회장 안내 첨단 디지털 전시관 미래 게이츠 회장 중국 친구 친구 인사 게이츠 회장 관계 환상 주석 시스템 윈도 지적 재산 보호 게이츠 회장 윈도 사용 조언 필요 화답 주석 시가 게이츠 저택 만찬 행사 참석 첨단 시설 저택 인상 감탄 주석 부인 여사 첨단 시설 부엌 한동안 로스 대변인 주석 부부 저택 곳곳 예정 시간 초과 각종 시설 설명 이날 행사 수교 협상 주도 헨리 키신저 국무 장관 제임스 맥너니 보잉 회장 하워드 슐츠 스타 벅스 회장 저명인사 부시 대통령 손자병법 선물 주석 워싱턴 도착 백악관 조지 부시 대통령 정상 회담 부시 대통령 이번 무역 균형 지적 재산 인권 문제 주요 현안 방침 주석 입장 회담 전망 상황 주석 부시 대통령 선물 손자병법 홍콩 사우스 차이나 모닝 포스트 보도 부전 굴복 각종 지혜 손자병법 선택 부시 대통령 공세 주석 대응 관측 주석 부시 대통령 전달 손자병법 중국 국무원 문판 공실 비단 장정 주석 방미 부시 대통령 고위 관리 선물 손자병법 준비 영어 중국어 버전 중국 어판 비단 보라색 명주 영어 정본 주석 부시 대통령 백악관 환영 행사 인기 배우 장쯔이 특별 워싱턴 중국 영화제 참석 장쯔이 부시 대통령 중국 영화 전반 소개 예정 워싱턴 이상일 특파원\">,\n",
       " <tomotopy.Document with words=\"미국 연방수사국 관리 테러 용의자 리스트 오류 미국 법무부 조사 결과 명단 이름 뉴욕 타임스 보도 자료 검토 기재 오류 처음 정보 토대 작성 분석 미국인 테러리스트 이름 이유 비행기 탑승 제지 불편 반면 기록 테러리스트 이름 경우 문제 지적 수사 검토 결과 누락 조사 아프가니스탄 탄약 폭발물 군수품 밀반입 특수 부대원 이름 리스트 보도 테러 사건 이후 테러리스트 지목 관리 인물 이름 가명 리스트 등록 명단 정확 정보 사항 문제 에드워드 케네디 상원 의원 르위스 하원 의원 테러 용의자 등록 정도 실수 이름 수개월 인권 운동가 반전 주의자 이슬람 운동가 정치 이유 부당 명단 포함 보도 뉴욕 남정호 특파원\">,\n",
       " <tomotopy.Document with words=\"올해 노벨 평화상 수상자 결정 미얀마 야당 지도자 아웅산 수지 여사 단식 투쟁 수도 양곤 중태 미얀마 야당 세력 버마 연방 민족 연립 정부 방콕 동안 가택 연금 상태 아웅산 수지 지난주 미얀마 방문 유엔 인권 관계자 면담 거부 단식 투쟁 시작 민족 연립 정부 방콕 발표 성명 국내 소식통 입수 정보 아웅산 수지 건강 중태 사망 보도 사실 여부 확인 노력 야당 세력 대변인 아웅산 수지 사망 미얀마 공식 보도 확인 미얀마 정부 부인 미얀마 버마 정부 관리 노벨 평화상 수상자 아웅산 수지 여사 단식 투쟁 상태 보도 부인 현지 외교관 외교관 전화 접촉 가택 연금 아웅산 수지 여사 단식 보도 사실\">,\n",
       " <tomotopy.Document with words=\"미국 이라크 미사일 관계 자료 이라크 농무 건물 사찰 무력 대결 직전 지난해 최근 사찰 이라크 내의 개소 사찰 다음 걸프 휴전 협정 관련 사항 이라크 이행 목록 무기 이라크 다량 화학 무기 탄도 무기 소량 물질 생물 무기 보유 인정 유엔 사찰 단의 조사 미국 강요 유엔 관리 이라크 무기 개발 계획 전체 구도 파악 이라크 유엔 금지 대량 살상 무기 파괴 허용 주요 연구 시설 탄도 무기 센터 파괴 승인 이라크 유엔 사찰 단의 헬기 사찰 반발 결국 수용 유엔 사찰 장기간 사찰 원칙 동의 최종 협정 석유 판매 이라크 유엔 상당 원유 판매 협상 유엔 판매 대금 부분 관할 이유 판매 반대 인권 이라크 유엔 요원 이라크 북부 쿠르드족 남부 시아파 회교도 인도 원조 이유 활동 허용 이제 이상 원조 필요 주권 모독 이유 반대 이라크 현재 북부 지방 봉쇄 보상 이라크 쿠웨이트 침공 결과 발생 손실 보상 책임 인정 지불 유예 기간 요구 이라크 걸프 전쟁 동안 이상 외국인 억류 인정 귀국 주장 국제 십자 위원회 행방불명 상태 이라크 쿠웨이트 강탈 재산 협상 진행 국경 이라크 쿠웨이트 국경 분할 협상 참여 유엔 결정 반대 유엔군 서버 이라크 쿠웨이트 휴전 지대 순찰 허용\">,\n",
       " <tomotopy.Document with words=\"트럼프 미국 대통령 내외 왼쪽 메이 영국 총리 내외 현지 시간 공식 만찬 행사 참석 뉴스 도널드 트럼프 미국 대통령 영국 방문 요란 진행 트럼프 대통령 방문 규모 반대 시위 리사 메이 영국 총리 브렉 시트 계획 트럼프 대통령 직격탄 트럼프 인터뷰 메이 정책 힐난 논란 일자 가짜 뉴스 반발 사퇴 존슨 장관 총리 칭찬 영국 탈퇴 미국 규모 무역 협정 합의 트럼프 대통령 현지 시간 공개 선과 인터뷰 영국 정부 유럽연합 거리 미국 무역 협정 차질 발생 단일 시장 접근 규제 메이 정부 경고장 트럼프 대통령 영국 정부 입장 미국 영국 무역 협정 영국 관계 유지 미국 수익 무역 영국 브렉 시트 거래 영국 대신 거래 영국 미국 무역 협정 합의 찬장 메이 총리 트럼프 대통령 손가락 계단 현지 언론 사람 관계 모습 보도 뉴스 트럼프 대통령 메이 총리 브렉 시트 협상 조언 동의 자신 최근 소프트 브렉 시트 계획안 반발 사퇴 보리스 존슨 영국 외무 장관 총리 메이 총리 존슨 장관 강경파 반발 수세 상황 트럼프 대통령 규칙 국가 무역 협정 체결 영국 정부 계획 복판 불도저 보도 영국 정부 브렉 시트 이후 관계 구축 입장 브렉 시트 백서 발간 영국 정부 농산물 수산물 식료품 상품 분야 자유 무역 지대 설치 자동차 산업 관세 방안 제시 동시 국과 독자 무역 협정 체결 기대 트럼프 대통령 헬리콥터 길목 반대 시위 뉴스 취임 처음 영국 실무 방문 트럼프 대통령 관련 영국 전역 반대 시위 영국 주재 미국 대사관 맞은편 국제 인권 단체 네스 영국 지부 도널드 트럼프 인권 악몽 현수막 트럼프 대통령 숙소 영국 총리 관저 다우닝가 시위 런던 글라스 맨체스터 영국 곳곳 규모 시위 진행 트럼프 대통령 기저귀 아기 묘사 대형 풍선 시위 단체 등장 트럼프 대통령 영국인 이민 문제 의견 반응 런던 현지 시간 규모 시위 뉴스 메이 총리 내외 블레넘 만찬 트럼프 대통령 메이 총리 지방 관저 오찬 회담 회담 기자 회견 트럼프 대통령 인터뷰 내용 신문 메이 총리 긍정 이상 인터뷰 기사 가짜 뉴스 주장 트럼프 대통령 회견 후반 자신 메이 총리 비판 강조 영국 브렉 시트 협상 자신 관여 사안 영국 결정 자신 오케이 트럼프 미국 대통령 메이 영국 총리 회담 공동 기자 회견 뉴스 이날 기자 회견 메이 총리 영국 유럽 연합 탈퇴 규모 자유 무역 협정 추진 합의 발표 트럼프 대통령 메이 총리 사람 통상 전문가 얘기 결과 영국 미국 무역 협정 가능 양국 기회 트럼프 대통령 오후 런던 인근 윈저 엘리자베스 여왕 스코틀랜드 자신 소유 베리 리조트 골프 예정 핀란드 헬싱 블라디미르 푸틴 러시아 대통령 공식 정상 회담 준비\">,\n",
       " <tomotopy.Document with words=\"북한 당국 미만 여성 바지 착용 자전거 이용 금지 이유 여성 암시장 보따리 장사 통신 유엔 인권 조사 인용 보도 통신 최근 식량 사정 악화 식료품 거래 암시장 확산 가운데 북한 당국 암시장 확산 주요 원인 여성 지목 집중 단속 태국 방콕 코른 법학 교수 유엔 북한 인권 특별 활동 타폰 현지 시간 미국 워싱턴 한미 경제 연구소 세미나 식량 배급 주민 통제력 암시장 확산 약화 우려 북한 당국자 올해 단속 강화 통신 타폰 지난주 유엔 총회 현재 북한 인권 상황 최악 나락 보고서 제출 북한 남자 광산 정부 직장 여성 근처 경작 식료품 암시장 식량 배급 부족분 보충 여성 당국 집중 감시 대상 설명 통신 디지털 뉴스\">]"
      ]
     },
     "execution_count": 18,
     "metadata": {
      "tags": []
     },
     "output_type": "execute_result"
    }
   ],
   "source": [
    "top_docs[8][0:9]"
   ]
  },
  {
   "cell_type": "markdown",
   "metadata": {
    "id": "Cr_MtxH9_5YG"
   },
   "source": [
    "# Visualize\n"
   ]
  },
  {
   "cell_type": "code",
   "execution_count": 19,
   "metadata": {
    "executionInfo": {
     "elapsed": 621,
     "status": "ok",
     "timestamp": 1620545507367,
     "user": {
      "displayName": "Jeong Woo Koo",
      "photoUrl": "https://lh3.googleusercontent.com/a-/AOh14GjIUIR8DqfLsQ6Gji2nLKZLadx3u3dcXkUNKKqM3w=s64",
      "userId": "15693827895442607306"
     },
     "user_tz": -540
    },
    "id": "xTcFMwRB_JNi"
   },
   "outputs": [],
   "source": [
    "topic_term_dists = np.stack([mdl.get_topic_word_dist(k) for k in range(mdl.k)])\n",
    "doc_topic_dists = np.stack([doc.get_topic_dist() for doc in mdl.docs])\n",
    "doc_lengths = np.array([len(doc.words) for doc in mdl.docs])\n",
    "vocab = list(mdl.used_vocabs) # lda하게 되면 실제 분석에 쓰인 단어들을 vocab 변수에 넣어줌....\n",
    "term_frequency = mdl.used_vocab_freq # 전체문서에서 각각의 사용된 단어의 빈도를 의미"
   ]
  },
  {
   "cell_type": "code",
   "execution_count": 20,
   "metadata": {
    "executionInfo": {
     "elapsed": 405,
     "status": "ok",
     "timestamp": 1620545508628,
     "user": {
      "displayName": "Jeong Woo Koo",
      "photoUrl": "https://lh3.googleusercontent.com/a-/AOh14GjIUIR8DqfLsQ6Gji2nLKZLadx3u3dcXkUNKKqM3w=s64",
      "userId": "15693827895442607306"
     },
     "user_tz": -540
    },
    "id": "jVl18N6hkHng"
   },
   "outputs": [],
   "source": [
    "df_lda = df.reset_index() # 전체 파일이 리스트 처리가 되어 있는데...sampling을 하게 되면 (10만개 중에 5천개)...5천개에 indexing이 원래 붙어 있는데 이걸 풀어준다.....샘플링이 안됐으니 필요 없음...."
   ]
  },
  {
   "cell_type": "code",
   "execution_count": 21,
   "metadata": {
    "colab": {
     "base_uri": "https://localhost:8080/",
     "height": 202
    },
    "executionInfo": {
     "elapsed": 766,
     "status": "ok",
     "timestamp": 1620545510200,
     "user": {
      "displayName": "Jeong Woo Koo",
      "photoUrl": "https://lh3.googleusercontent.com/a-/AOh14GjIUIR8DqfLsQ6Gji2nLKZLadx3u3dcXkUNKKqM3w=s64",
      "userId": "15693827895442607306"
     },
     "user_tz": -540
    },
    "id": "uwRD3TCEKMLk",
    "outputId": "14e5869e-2767-483d-d41c-586eea3b5d95"
   },
   "outputs": [
    {
     "data": {
      "text/html": [
       "<div>\n",
       "<style scoped>\n",
       "    .dataframe tbody tr th:only-of-type {\n",
       "        vertical-align: middle;\n",
       "    }\n",
       "\n",
       "    .dataframe tbody tr th {\n",
       "        vertical-align: top;\n",
       "    }\n",
       "\n",
       "    .dataframe thead th {\n",
       "        text-align: right;\n",
       "    }\n",
       "</style>\n",
       "<table border=\"1\" class=\"dataframe\">\n",
       "  <thead>\n",
       "    <tr style=\"text-align: right;\">\n",
       "      <th></th>\n",
       "      <th>Topic 01</th>\n",
       "      <th>Topic 02</th>\n",
       "      <th>Topic 03</th>\n",
       "      <th>Topic 04</th>\n",
       "      <th>Topic 05</th>\n",
       "      <th>Topic 06</th>\n",
       "      <th>Topic 07</th>\n",
       "      <th>Topic 08</th>\n",
       "      <th>Topic 09</th>\n",
       "      <th>Topic 10</th>\n",
       "    </tr>\n",
       "  </thead>\n",
       "  <tbody>\n",
       "    <tr>\n",
       "      <th>0</th>\n",
       "      <td>0.080560</td>\n",
       "      <td>0.038355</td>\n",
       "      <td>0.001428</td>\n",
       "      <td>0.001148</td>\n",
       "      <td>0.135978</td>\n",
       "      <td>0.022315</td>\n",
       "      <td>0.000451</td>\n",
       "      <td>0.102298</td>\n",
       "      <td>0.000878</td>\n",
       "      <td>0.616589</td>\n",
       "    </tr>\n",
       "    <tr>\n",
       "      <th>1</th>\n",
       "      <td>0.477354</td>\n",
       "      <td>0.016316</td>\n",
       "      <td>0.191687</td>\n",
       "      <td>0.069458</td>\n",
       "      <td>0.126148</td>\n",
       "      <td>0.007293</td>\n",
       "      <td>0.016257</td>\n",
       "      <td>0.077700</td>\n",
       "      <td>0.000241</td>\n",
       "      <td>0.017546</td>\n",
       "    </tr>\n",
       "    <tr>\n",
       "      <th>2</th>\n",
       "      <td>0.392880</td>\n",
       "      <td>0.066449</td>\n",
       "      <td>0.002777</td>\n",
       "      <td>0.108117</td>\n",
       "      <td>0.020103</td>\n",
       "      <td>0.010819</td>\n",
       "      <td>0.000878</td>\n",
       "      <td>0.223387</td>\n",
       "      <td>0.107592</td>\n",
       "      <td>0.066998</td>\n",
       "    </tr>\n",
       "    <tr>\n",
       "      <th>3</th>\n",
       "      <td>0.079485</td>\n",
       "      <td>0.001229</td>\n",
       "      <td>0.010413</td>\n",
       "      <td>0.002128</td>\n",
       "      <td>0.353083</td>\n",
       "      <td>0.445183</td>\n",
       "      <td>0.000837</td>\n",
       "      <td>0.003310</td>\n",
       "      <td>0.102579</td>\n",
       "      <td>0.001752</td>\n",
       "    </tr>\n",
       "    <tr>\n",
       "      <th>4</th>\n",
       "      <td>0.141761</td>\n",
       "      <td>0.040315</td>\n",
       "      <td>0.001232</td>\n",
       "      <td>0.087703</td>\n",
       "      <td>0.005304</td>\n",
       "      <td>0.348039</td>\n",
       "      <td>0.000389</td>\n",
       "      <td>0.109931</td>\n",
       "      <td>0.239218</td>\n",
       "      <td>0.026107</td>\n",
       "    </tr>\n",
       "  </tbody>\n",
       "</table>\n",
       "</div>"
      ],
      "text/plain": [
       "   Topic 01  Topic 02  Topic 03  ...  Topic 08  Topic 09  Topic 10\n",
       "0  0.080560  0.038355  0.001428  ...  0.102298  0.000878  0.616589\n",
       "1  0.477354  0.016316  0.191687  ...  0.077700  0.000241  0.017546\n",
       "2  0.392880  0.066449  0.002777  ...  0.223387  0.107592  0.066998\n",
       "3  0.079485  0.001229  0.010413  ...  0.003310  0.102579  0.001752\n",
       "4  0.141761  0.040315  0.001232  ...  0.109931  0.239218  0.026107\n",
       "\n",
       "[5 rows x 10 columns]"
      ]
     },
     "execution_count": 21,
     "metadata": {
      "tags": []
     },
     "output_type": "execute_result"
    }
   ],
   "source": [
    "df_topic = pd.DataFrame.from_records(doc_topic_dists) # from np.array ro pd.dataframe\n",
    "df_topic.columns = ['Topic 01', 'Topic 02', 'Topic 03', 'Topic 04', 'Topic 05', 'Topic 06', 'Topic 07', 'Topic 08', 'Topic 09', 'Topic 10']\n",
    "df_topic.head()"
   ]
  },
  {
   "cell_type": "code",
   "execution_count": 22,
   "metadata": {
    "colab": {
     "base_uri": "https://localhost:8080/",
     "height": 202
    },
    "executionInfo": {
     "elapsed": 548,
     "status": "ok",
     "timestamp": 1620545511534,
     "user": {
      "displayName": "Jeong Woo Koo",
      "photoUrl": "https://lh3.googleusercontent.com/a-/AOh14GjIUIR8DqfLsQ6Gji2nLKZLadx3u3dcXkUNKKqM3w=s64",
      "userId": "15693827895442607306"
     },
     "user_tz": -540
    },
    "id": "p1Ai3olUh6HY",
    "outputId": "9eb9ac7f-0f8b-4ab9-8821-4fa4f17ce864"
   },
   "outputs": [
    {
     "data": {
      "text/html": [
       "<div>\n",
       "<style scoped>\n",
       "    .dataframe tbody tr th:only-of-type {\n",
       "        vertical-align: middle;\n",
       "    }\n",
       "\n",
       "    .dataframe tbody tr th {\n",
       "        vertical-align: top;\n",
       "    }\n",
       "\n",
       "    .dataframe thead th {\n",
       "        text-align: right;\n",
       "    }\n",
       "</style>\n",
       "<table border=\"1\" class=\"dataframe\">\n",
       "  <thead>\n",
       "    <tr style=\"text-align: right;\">\n",
       "      <th></th>\n",
       "      <th>year</th>\n",
       "      <th>group</th>\n",
       "      <th>Topic 01</th>\n",
       "      <th>Topic 02</th>\n",
       "      <th>Topic 03</th>\n",
       "      <th>Topic 04</th>\n",
       "      <th>Topic 05</th>\n",
       "      <th>Topic 06</th>\n",
       "      <th>Topic 07</th>\n",
       "      <th>Topic 08</th>\n",
       "      <th>Topic 09</th>\n",
       "      <th>Topic 10</th>\n",
       "    </tr>\n",
       "  </thead>\n",
       "  <tbody>\n",
       "    <tr>\n",
       "      <th>0</th>\n",
       "      <td>2013</td>\n",
       "      <td>Kyunghyang</td>\n",
       "      <td>0.080560</td>\n",
       "      <td>0.038355</td>\n",
       "      <td>0.001428</td>\n",
       "      <td>0.001148</td>\n",
       "      <td>0.135978</td>\n",
       "      <td>0.022315</td>\n",
       "      <td>0.000451</td>\n",
       "      <td>0.102298</td>\n",
       "      <td>0.000878</td>\n",
       "      <td>0.616589</td>\n",
       "    </tr>\n",
       "    <tr>\n",
       "      <th>1</th>\n",
       "      <td>2012</td>\n",
       "      <td>Hankyoreh</td>\n",
       "      <td>0.477354</td>\n",
       "      <td>0.016316</td>\n",
       "      <td>0.191687</td>\n",
       "      <td>0.069458</td>\n",
       "      <td>0.126148</td>\n",
       "      <td>0.007293</td>\n",
       "      <td>0.016257</td>\n",
       "      <td>0.077700</td>\n",
       "      <td>0.000241</td>\n",
       "      <td>0.017546</td>\n",
       "    </tr>\n",
       "    <tr>\n",
       "      <th>2</th>\n",
       "      <td>2009</td>\n",
       "      <td>Chosun</td>\n",
       "      <td>0.392880</td>\n",
       "      <td>0.066449</td>\n",
       "      <td>0.002777</td>\n",
       "      <td>0.108117</td>\n",
       "      <td>0.020103</td>\n",
       "      <td>0.010819</td>\n",
       "      <td>0.000878</td>\n",
       "      <td>0.223387</td>\n",
       "      <td>0.107592</td>\n",
       "      <td>0.066998</td>\n",
       "    </tr>\n",
       "    <tr>\n",
       "      <th>3</th>\n",
       "      <td>2018</td>\n",
       "      <td>Joongang</td>\n",
       "      <td>0.079485</td>\n",
       "      <td>0.001229</td>\n",
       "      <td>0.010413</td>\n",
       "      <td>0.002128</td>\n",
       "      <td>0.353083</td>\n",
       "      <td>0.445183</td>\n",
       "      <td>0.000837</td>\n",
       "      <td>0.003310</td>\n",
       "      <td>0.102579</td>\n",
       "      <td>0.001752</td>\n",
       "    </tr>\n",
       "    <tr>\n",
       "      <th>4</th>\n",
       "      <td>2002</td>\n",
       "      <td>Joongang</td>\n",
       "      <td>0.141761</td>\n",
       "      <td>0.040315</td>\n",
       "      <td>0.001232</td>\n",
       "      <td>0.087703</td>\n",
       "      <td>0.005304</td>\n",
       "      <td>0.348039</td>\n",
       "      <td>0.000389</td>\n",
       "      <td>0.109931</td>\n",
       "      <td>0.239218</td>\n",
       "      <td>0.026107</td>\n",
       "    </tr>\n",
       "  </tbody>\n",
       "</table>\n",
       "</div>"
      ],
      "text/plain": [
       "   year       group  Topic 01  Topic 02  ...  Topic 07  Topic 08  Topic 09  Topic 10\n",
       "0  2013  Kyunghyang  0.080560  0.038355  ...  0.000451  0.102298  0.000878  0.616589\n",
       "1  2012   Hankyoreh  0.477354  0.016316  ...  0.016257  0.077700  0.000241  0.017546\n",
       "2  2009      Chosun  0.392880  0.066449  ...  0.000878  0.223387  0.107592  0.066998\n",
       "3  2018    Joongang  0.079485  0.001229  ...  0.000837  0.003310  0.102579  0.001752\n",
       "4  2002    Joongang  0.141761  0.040315  ...  0.000389  0.109931  0.239218  0.026107\n",
       "\n",
       "[5 rows x 12 columns]"
      ]
     },
     "execution_count": 22,
     "metadata": {
      "tags": []
     },
     "output_type": "execute_result"
    }
   ],
   "source": [
    "df_lda = pd.concat([df_lda, df_topic], axis=1) # 두 df을 열 단위로 합치기....pd.comcat 여러개 데이터 프레임을 합쳐주는 함수...df_lda는 원래 lda한 파일이고 이것을 인덱싱만 풀어준거구...이것과 위에서 만든 df_topic합친거다..\n",
    "                                               # axis = 1 캄럼을 합치는 방식으로, 일종의 merge하는 방식으로 합치는 거다...... \n",
    "test = df_lda.drop(['month', 'day', 'content', 'index'], axis = 1) # 필요없는 칼럼....axis = 1 는 열을 의미하므로 열에 해당되는 것을 없애라는 의미\n",
    "test.head()"
   ]
  },
  {
   "cell_type": "code",
   "execution_count": 23,
   "metadata": {
    "colab": {
     "base_uri": "https://localhost:8080/",
     "height": 1000
    },
    "executionInfo": {
     "elapsed": 3848,
     "status": "ok",
     "timestamp": 1620545516078,
     "user": {
      "displayName": "Jeong Woo Koo",
      "photoUrl": "https://lh3.googleusercontent.com/a-/AOh14GjIUIR8DqfLsQ6Gji2nLKZLadx3u3dcXkUNKKqM3w=s64",
      "userId": "15693827895442607306"
     },
     "user_tz": -540
    },
    "id": "DL8JOBnwx1cg",
    "outputId": "b57f3bd4-e265-4fc0-f97b-ddea7aad8a1f"
   },
   "outputs": [
    {
     "data": {
      "text/plain": [
       "array([<matplotlib.axes._subplots.AxesSubplot object at 0x7fdf43683cd0>,\n",
       "       <matplotlib.axes._subplots.AxesSubplot object at 0x7fdf512b3310>,\n",
       "       <matplotlib.axes._subplots.AxesSubplot object at 0x7fdf455004d0>,\n",
       "       <matplotlib.axes._subplots.AxesSubplot object at 0x7fdf454fc850>,\n",
       "       <matplotlib.axes._subplots.AxesSubplot object at 0x7fdf45333bd0>,\n",
       "       <matplotlib.axes._subplots.AxesSubplot object at 0x7fdf3e0ecf90>,\n",
       "       <matplotlib.axes._subplots.AxesSubplot object at 0x7fdf40c5e350>,\n",
       "       <matplotlib.axes._subplots.AxesSubplot object at 0x7fdf40c91790>,\n",
       "       <matplotlib.axes._subplots.AxesSubplot object at 0x7fdf3ce61a90>,\n",
       "       <matplotlib.axes._subplots.AxesSubplot object at 0x7fdf44e4be50>],\n",
       "      dtype=object)"
      ]
     },
     "execution_count": 23,
     "metadata": {
      "tags": []
     },
     "output_type": "execute_result"
    },
    {
     "data": {
      "image/png": "[encoded data removed]",
      "text/plain": [
       "<Figure size 1080x1440 with 10 Axes>"
      ]
     },
     "metadata": {
      "needs_background": "light",
      "tags": []
     },
     "output_type": "display_data"
    }
   ],
   "source": [
    "fig, ax = plt.subplots(figsize=(15,20), nrows=5, ncols=2, sharey='col') #sharey='col'은 그래프의 축을 결정해 주는 것....값이 입력이 들어가면 indexing을 연도...토픽값....y축을 share하고...col은 세로로 나온 값들을 지칭...\n",
    "\n",
    "plt.subplots_adjust(left=0.125,\n",
    "                    bottom=0.1, \n",
    "                    right=0.9, \n",
    "                    top=0.9, \n",
    "                    wspace=0.3, \n",
    "                    hspace=0.5)\n",
    "\n",
    "pd.pivot_table(test, values=[\"Topic 01\", \"Topic 02\", \"Topic 03\", \"Topic 04\", \"Topic 05\", \"Topic 06\", \"Topic 07\", \"Topic 08\", \"Topic 09\", \"Topic 10\"],\n",
    "               index=\"year\", aggfunc=\"mean\")\\\n",
    "               .plot(kind='bar', rot=90, ax=ax, subplots=True, legend=None) #년도별로 각토픽값을 평균내는 것...legend는 꺼두고...."
   ]
  },
  {
   "cell_type": "code",
   "execution_count": 24,
   "metadata": {
    "colab": {
     "base_uri": "https://localhost:8080/",
     "height": 232
    },
    "executionInfo": {
     "elapsed": 610,
     "status": "ok",
     "timestamp": 1620545517654,
     "user": {
      "displayName": "Jeong Woo Koo",
      "photoUrl": "https://lh3.googleusercontent.com/a-/AOh14GjIUIR8DqfLsQ6Gji2nLKZLadx3u3dcXkUNKKqM3w=s64",
      "userId": "15693827895442607306"
     },
     "user_tz": -540
    },
    "id": "x3QR80wuzssA",
    "outputId": "aeaaf2e7-e6db-49c1-dcef-6c94345d4696"
   },
   "outputs": [
    {
     "data": {
      "text/html": [
       "<div>\n",
       "<style scoped>\n",
       "    .dataframe tbody tr th:only-of-type {\n",
       "        vertical-align: middle;\n",
       "    }\n",
       "\n",
       "    .dataframe tbody tr th {\n",
       "        vertical-align: top;\n",
       "    }\n",
       "\n",
       "    .dataframe thead th {\n",
       "        text-align: right;\n",
       "    }\n",
       "</style>\n",
       "<table border=\"1\" class=\"dataframe\">\n",
       "  <thead>\n",
       "    <tr style=\"text-align: right;\">\n",
       "      <th></th>\n",
       "      <th></th>\n",
       "      <th>Topic 01</th>\n",
       "      <th>Topic 02</th>\n",
       "      <th>Topic 03</th>\n",
       "      <th>Topic 04</th>\n",
       "      <th>Topic 05</th>\n",
       "      <th>Topic 06</th>\n",
       "      <th>Topic 07</th>\n",
       "      <th>Topic 08</th>\n",
       "      <th>Topic 09</th>\n",
       "      <th>Topic 10</th>\n",
       "      <th>Mean</th>\n",
       "    </tr>\n",
       "    <tr>\n",
       "      <th>year</th>\n",
       "      <th>group</th>\n",
       "      <th></th>\n",
       "      <th></th>\n",
       "      <th></th>\n",
       "      <th></th>\n",
       "      <th></th>\n",
       "      <th></th>\n",
       "      <th></th>\n",
       "      <th></th>\n",
       "      <th></th>\n",
       "      <th></th>\n",
       "      <th></th>\n",
       "    </tr>\n",
       "  </thead>\n",
       "  <tbody>\n",
       "    <tr>\n",
       "      <th rowspan=\"4\" valign=\"top\">1990</th>\n",
       "      <th>Chosun</th>\n",
       "      <td>0.327749</td>\n",
       "      <td>0.029587</td>\n",
       "      <td>0.806488</td>\n",
       "      <td>0.487613</td>\n",
       "      <td>2.041608</td>\n",
       "      <td>3.453988</td>\n",
       "      <td>0.351638</td>\n",
       "      <td>1.397915</td>\n",
       "      <td>0.760236</td>\n",
       "      <td>0.343179</td>\n",
       "      <td>1.0</td>\n",
       "    </tr>\n",
       "    <tr>\n",
       "      <th>Hankyoreh</th>\n",
       "      <td>0.760185</td>\n",
       "      <td>0.086117</td>\n",
       "      <td>1.175574</td>\n",
       "      <td>0.489515</td>\n",
       "      <td>5.648915</td>\n",
       "      <td>2.025783</td>\n",
       "      <td>0.804869</td>\n",
       "      <td>2.920410</td>\n",
       "      <td>0.550792</td>\n",
       "      <td>0.537841</td>\n",
       "      <td>1.5</td>\n",
       "    </tr>\n",
       "    <tr>\n",
       "      <th>Joongang</th>\n",
       "      <td>1.060058</td>\n",
       "      <td>0.382072</td>\n",
       "      <td>0.689634</td>\n",
       "      <td>1.356759</td>\n",
       "      <td>2.880662</td>\n",
       "      <td>2.011604</td>\n",
       "      <td>0.888127</td>\n",
       "      <td>2.014626</td>\n",
       "      <td>1.350755</td>\n",
       "      <td>0.365703</td>\n",
       "      <td>1.3</td>\n",
       "    </tr>\n",
       "    <tr>\n",
       "      <th>Kyunghyang</th>\n",
       "      <td>0.334030</td>\n",
       "      <td>0.130345</td>\n",
       "      <td>0.598712</td>\n",
       "      <td>1.020880</td>\n",
       "      <td>3.854350</td>\n",
       "      <td>1.367110</td>\n",
       "      <td>0.800108</td>\n",
       "      <td>1.448111</td>\n",
       "      <td>0.737722</td>\n",
       "      <td>0.708633</td>\n",
       "      <td>1.1</td>\n",
       "    </tr>\n",
       "    <tr>\n",
       "      <th>1991</th>\n",
       "      <th>Chosun</th>\n",
       "      <td>0.349809</td>\n",
       "      <td>0.170465</td>\n",
       "      <td>0.457686</td>\n",
       "      <td>0.341913</td>\n",
       "      <td>2.130434</td>\n",
       "      <td>2.946225</td>\n",
       "      <td>0.429198</td>\n",
       "      <td>2.170624</td>\n",
       "      <td>1.833707</td>\n",
       "      <td>0.169939</td>\n",
       "      <td>1.1</td>\n",
       "    </tr>\n",
       "  </tbody>\n",
       "</table>\n",
       "</div>"
      ],
      "text/plain": [
       "                 Topic 01  Topic 02  Topic 03  ...  Topic 09  Topic 10  Mean\n",
       "year group                                     ...                          \n",
       "1990 Chosun      0.327749  0.029587  0.806488  ...  0.760236  0.343179   1.0\n",
       "     Hankyoreh   0.760185  0.086117  1.175574  ...  0.550792  0.537841   1.5\n",
       "     Joongang    1.060058  0.382072  0.689634  ...  1.350755  0.365703   1.3\n",
       "     Kyunghyang  0.334030  0.130345  0.598712  ...  0.737722  0.708633   1.1\n",
       "1991 Chosun      0.349809  0.170465  0.457686  ...  1.833707  0.169939   1.1\n",
       "\n",
       "[5 rows x 11 columns]"
      ]
     },
     "execution_count": 24,
     "metadata": {
      "tags": []
     },
     "output_type": "execute_result"
    }
   ],
   "source": [
    "test_mean = test.groupby(['year','group']).sum() #test로 만들어 놓은 것을 신문사와 연도별로 나눠서....\n",
    "test_mean['Mean'] = test_mean.mean(axis=1)\n",
    "test_mean.head()"
   ]
  },
  {
   "cell_type": "code",
   "execution_count": 25,
   "metadata": {
    "colab": {
     "base_uri": "https://localhost:8080/",
     "height": 295
    },
    "executionInfo": {
     "elapsed": 1217,
     "status": "ok",
     "timestamp": 1620545519816,
     "user": {
      "displayName": "Jeong Woo Koo",
      "photoUrl": "https://lh3.googleusercontent.com/a-/AOh14GjIUIR8DqfLsQ6Gji2nLKZLadx3u3dcXkUNKKqM3w=s64",
      "userId": "15693827895442607306"
     },
     "user_tz": -540
    },
    "id": "VjmZJyDFFwQ3",
    "outputId": "148f00dc-16f0-4fb4-a883-c5dade8f6d10"
   },
   "outputs": [
    {
     "data": {
      "image/png": "[encoded data removed]",
      "text/plain": [
       "<Figure size 432x288 with 1 Axes>"
      ]
     },
     "metadata": {
      "needs_background": "light",
      "tags": []
     },
     "output_type": "display_data"
    }
   ],
   "source": [
    "# 연도별+신문사별 토픽값의 평균\n",
    "\n",
    "topic_group = test_mean.groupby(['year','group']).mean()['Mean']\\\n",
    "    .unstack('group')\\\n",
    "    .plot.bar(rot = 90, stacked=True)  # 스택을 풀어줄 인덱싱 부분이 group(신문사 부분)\n",
    "                                       # stack=True를 안해 주면 연도별로 신문사가 따로 배치되므로, 해줘야 함"
   ]
  },
  {
   "cell_type": "code",
   "execution_count": 26,
   "metadata": {
    "colab": {
     "base_uri": "https://localhost:8080/",
     "height": 1000
    },
    "executionInfo": {
     "elapsed": 6782,
     "status": "ok",
     "timestamp": 1620545527555,
     "user": {
      "displayName": "Jeong Woo Koo",
      "photoUrl": "https://lh3.googleusercontent.com/a-/AOh14GjIUIR8DqfLsQ6Gji2nLKZLadx3u3dcXkUNKKqM3w=s64",
      "userId": "15693827895442607306"
     },
     "user_tz": -540
    },
    "id": "rwWA85qXL2Ts",
    "outputId": "b5d919a3-eb14-447e-afad-0a6e8b3e48d1"
   },
   "outputs": [
    {
     "data": {
      "image/png": "[encoded data removed]",
      "text/plain": [
       "<Figure size 432x288 with 1 Axes>"
      ]
     },
     "metadata": {
      "needs_background": "light",
      "tags": []
     },
     "output_type": "display_data"
    },
    {
     "data": {
      "image/png": "[encoded data removed]",
      "text/plain": [
       "<Figure size 432x288 with 1 Axes>"
      ]
     },
     "metadata": {
      "needs_background": "light",
      "tags": []
     },
     "output_type": "display_data"
    },
    {
     "data": {
      "image/png": "[encoded data removed]",
      "text/plain": [
       "<Figure size 432x288 with 1 Axes>"
      ]
     },
     "metadata": {
      "needs_background": "light",
      "tags": []
     },
     "output_type": "display_data"
    },
    {
     "data": {
      "image/png": "[encoded data removed]",
      "text/plain": [
       "<Figure size 432x288 with 1 Axes>"
      ]
     },
     "metadata": {
      "needs_background": "light",
      "tags": []
     },
     "output_type": "display_data"
    },
    {
     "data": {
      "image/png": "[encoded data removed]",
      "text/plain": [
       "<Figure size 432x288 with 1 Axes>"
      ]
     },
     "metadata": {
      "needs_background": "light",
      "tags": []
     },
     "output_type": "display_data"
    },
    {
     "data": {
      "image/png": "[encoded data removed]",
      "text/plain": [
       "<Figure size 432x288 with 1 Axes>"
      ]
     },
     "metadata": {
      "needs_background": "light",
      "tags": []
     },
     "output_type": "display_data"
    },
    {
     "data": {
      "image/png": "[encoded data removed]",
      "text/plain": [
       "<Figure size 432x288 with 1 Axes>"
      ]
     },
     "metadata": {
      "needs_background": "light",
      "tags": []
     },
     "output_type": "display_data"
    },
    {
     "data": {
      "image/png": "[encoded data removed]",
      "text/plain": [
       "<Figure size 432x288 with 1 Axes>"
      ]
     },
     "metadata": {
      "needs_background": "light",
      "tags": []
     },
     "output_type": "display_data"
    },
    {
     "data": {
      "image/png": "[encoded data removed]",
      "text/plain": [
       "<Figure size 432x288 with 1 Axes>"
      ]
     },
     "metadata": {
      "needs_background": "light",
      "tags": []
     },
     "output_type": "display_data"
    },
    {
     "data": {
      "image/png": "[encoded data removed]",
      "text/plain": [
       "<Figure size 432x288 with 1 Axes>"
      ]
     },
     "metadata": {
      "needs_background": "light",
      "tags": []
     },
     "output_type": "display_data"
    }
   ],
   "source": [
    "topic = list([\"Topic 0\" + str(i) if i < 10 else \"Topic \" + str(i) for i in range(1, 11)]) # list 안에는 명칭을 넣어준다....Topic 0으로 넣어야 Topic 01이 1로 나옴....str(i) i를 문자로 인식한다...\n",
    "                                                                                          # 숫자, 문자 같이 넣어줄때, 숫자를 리스트로 바꿔줘야 함....\n",
    "\n",
    "for i in topic:\n",
    "    test_mean.groupby(['year', 'group']).sum()[i].unstack(level='group').plot.bar(rot = 90, stacked=True, title=(i)) # 각 토픽별로 연도별 신문사 토픽값의 총계를 stacked bar 형태로 제시함"
   ]
  },
  {
   "cell_type": "code",
   "execution_count": null,
   "metadata": {
    "id": "hccuaJP5Nvrr"
   },
   "outputs": [],
   "source": []
  }
 ],
 "metadata": {
  "colab": {
   "collapsed_sections": [],
   "name": "LDA analysis v2.ipynb",
   "provenance": []
  },
  "kernelspec": {
   "display_name": "Python 3",
   "language": "python",
   "name": "python3"
  },
  "language_info": {
   "codemirror_mode": {
    "name": "ipython",
    "version": 3
   },
   "file_extension": ".py",
   "mimetype": "text/x-python",
   "name": "python",
   "nbconvert_exporter": "python",
   "pygments_lexer": "ipython3",
   "version": "3.8.3"
  }
 },
 "nbformat": 4,
 "nbformat_minor": 4
}
