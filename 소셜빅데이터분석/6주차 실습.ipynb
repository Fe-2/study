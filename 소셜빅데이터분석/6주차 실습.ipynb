{
 "cells": [
  {
   "cell_type": "code",
   "execution_count": 2,
   "metadata": {},
   "outputs": [
    {
     "name": "stderr",
     "output_type": "stream",
     "text": [
      "<ipython-input-2-560ffd9804b2>:7: FutureWarning: Passing a negative integer is deprecated in version 1.0 and will not be supported in future version. Instead, use None to not limit the column width.\n",
      "  pd.set_option('display.max_colwidth', -1)\n"
     ]
    }
   ],
   "source": [
    "from searchtweets import load_credentials, collect_results, gen_request_parameters\n",
    "import yaml\n",
    "import pandas as pd\n",
    "import pickle\n",
    "import os\n",
    "import sys\n",
    "pd.set_option('display.max_colwidth', -1)"
   ]
  },
  {
   "cell_type": "code",
   "execution_count": 5,
   "metadata": {},
   "outputs": [],
   "source": [
    "API_KEY = 'adCrfdHEX7bw6xYJdqeWrdMJJ'\n",
    "API_SECRET_KEY = 'La2QnkdEVSySW4lWHyy66KfAqIHAiRdUTkPEabUBHujKRFGf2I'\n",
    "BEARER_TOKEN = 'AAAAAAAAAAAAAAAAAAAAACmIOAEAAAAAO9z8EgwBJp95TWjWwdrAItcL6GM%3DnZCxxZk1qA3gUKXaKJI2ITTNNNbcIWyY2NcnHbkwplUIvFe3Q0'\n",
    "RESULTS_PER_CALL = 100 #1번에 10000개의 트윗"
   ]
  },
  {
   "cell_type": "code",
   "execution_count": 6,
   "metadata": {},
   "outputs": [],
   "source": [
    "## Search keywords\n",
    "# 단순 키워드로 트윗을 수집할 경우 별도의 설정 없이 키워드를 직접 입력\n",
    "# @ = matching tweet with the given username / # = matching tweet with the given hashtag\n",
    "# from: X = specific username x / -is:reply (or retweet) = exclude reply (retweet) / 유저네임은 반드시 트위터 프로필에서 @ 다음에 있는 명칭으로 사용할 것\n",
    "# query 관련해서는 https://developer.twitter.com/en/docs/twitter-api/tweets/search/integrate/build-a-query 참고\n",
    "\n",
    "# SEARCH_QUERY = 'from:United_Purpose' # from: X = specific username x / -is:reply (or retweet) = exclude reply (retweet)\n",
    "SEARCH_QUERY = 'human rights -is:retweet' # 현재 twitter api v2에서는 리트윗의 경우 트윗 전문을 가져오지 못하는 이슈가 있어서 본 내용에서는 제외하고 수집\n",
    "# START_TIME = '2021-03-26'  # format YYYY-MM-DD / 현재 시점에서 일주일 내의 자료만 확보할 수 있기 때문에 일주일 내의 특정 시점에서만 자료를 수집하고 싶을 경우\n",
    "# END_TIME = '2021-03-23' # format YYYY-MM-DD\n",
    "MAX_TWEETS = 1000 # 특정 유저가 아니라 특정 키워드로 추출하여 모으는 트윗 개수를 제한할 필요가 있을 경우"
   ]
  },
  {
   "cell_type": "code",
   "execution_count": 11,
   "metadata": {},
   "outputs": [],
   "source": [
    "config = dict(\n",
    "    search_tweets_v2=dict(\n",
    "        endpoint=\"https://api.twitter.com/2/tweets/search/recent\", #정해진거임\n",
    "        consumer_key=API_KEY,\n",
    "        consumer_secret=API_SECRET_KEY,\n",
    "        bearer_token=BEARER_TOKEN\n",
    "    )\n",
    ")\n",
    "\n",
    "with open('twitter_keys.yaml', 'w') as config_file: # Save twitter API code into local computer as yaml format\n",
    "    yaml.dump(config, config_file, default_flow_style=False) # yaml 형태로 저장할 때 yaml 자체의 자료저장 형태가 아닌 config에서 지정한 dictionary 형태로 저장하도록 default_flow_style=False 로 해줌"
   ]
  },
  {
   "cell_type": "code",
   "execution_count": 12,
   "metadata": {},
   "outputs": [],
   "source": [
    "## Load twitter API code from previous setting\n",
    "\n",
    "search_args = load_credentials(\"twitter_keys.yaml\", # load_credentials: yaml 파일에서 config에서 search_tweets_v2 로 지정해놓은 변수를 찾으려고 시도\n",
    "                               yaml_key = \"search_tweets_v2\"\n",
    "                               )"
   ]
  },
  {
   "cell_type": "code",
   "execution_count": 14,
   "metadata": {},
   "outputs": [],
   "source": [
    "## Set parameters (https://developer.twitter.com/en/docs/twitter-api/data-dictionary/object-model/tweet 참고)\n",
    "# tweet_fields에서 가져오고 싶은 메타데이터를 획득가능, 단 tweet_fields=\"\" 에 들어가는 항목들은 반드시 띄어쓰기 없이 comma 단위로 나열할 것\n",
    "\n",
    "rule = gen_request_parameters(query = SEARCH_QUERY,\n",
    "                              results_per_call = RESULTS_PER_CALL,\n",
    "                              tweet_fields = \"public_metrics,created_at,entities\" # public_metrics: retweet+quote+favorite number / created_at: time tweet created / entities: url etc.\n",
    "                              )"
   ]
  },
  {
   "cell_type": "code",
   "execution_count": 15,
   "metadata": {},
   "outputs": [
    {
     "data": {
      "text/plain": [
       "1010"
      ]
     },
     "execution_count": 15,
     "metadata": {},
     "output_type": "execute_result"
    }
   ],
   "source": [
    "## Collect data\n",
    "# request time limit 를 넘어버릴 경우 HTTP Error code: 429: Rate limit exceeded 가 뜰 수 있음 450 request/15 min (실제 자료 수집엔 영향 없음)\n",
    "\n",
    "TWEETS = collect_results(rule,\n",
    "                         max_tweets=MAX_TWEETS,\n",
    "                         result_stream_args=search_args)\n",
    "\n",
    "len(TWEETS) # 위에선 MAX_TWEETS = 1000 으로 했는데 왜 1010개가 수집되었는지 아래에서 설명"
   ]
  },
  {
   "cell_type": "code",
   "execution_count": 17,
   "metadata": {},
   "outputs": [
    {
     "name": "stdout",
     "output_type": "stream",
     "text": [
      "https://twitter.com/twitter/status/1376831743764832258\n",
      "2021-03-30\n",
      "As Bangladesh celebrated independence, human rights groups criticised the government for what they described as growing authoritarianism, including forced disappearances and extrajudicial killings. #MythsVsRealityBangladesh https://t.co/tYcRzdePIO\n"
     ]
    }
   ],
   "source": [
    "num = TWEETS[0]['id']\n",
    "print(f'https://twitter.com/twitter/status/{num}') # tweet url\n",
    "\n",
    "print(TWEETS[0]['created_at'][0:10]) # the date tweet written\n",
    "print(TWEETS[0]['text'].replace('\\n', ' ')) # tweet text"
   ]
  },
  {
   "cell_type": "code",
   "execution_count": 18,
   "metadata": {},
   "outputs": [],
   "source": [
    "with open('TWEETS_API.pickle', 'wb') as f:\n",
    "    pickle.dump(TWEETS, f)"
   ]
  },
  {
   "cell_type": "code",
   "execution_count": 19,
   "metadata": {
    "collapsed": true,
    "jupyter": {
     "outputs_hidden": true
    }
   },
   "outputs": [
    {
     "name": "stdout",
     "output_type": "stream",
     "text": [
      "{'created_at': '2021-03-30T09:40:42.000Z',\n",
      " 'entities': {'annotations': [{'end': 12,\n",
      "                               'normalized_text': 'Bangladesh',\n",
      "                               'probability': 0.9766,\n",
      "                               'start': 3,\n",
      "                               'type': 'Place'}],\n",
      "              'hashtags': [{'end': 223,\n",
      "                            'start': 198,\n",
      "                            'tag': 'MythsVsRealityBangladesh'}],\n",
      "              'urls': [{'display_url': 'pic.twitter.com/tYcRzdePIO',\n",
      "                        'end': 247,\n",
      "                        'expanded_url': 'https://twitter.com/T21303/status/1376831743764832258/photo/1',\n",
      "                        'start': 224,\n",
      "                        'url': 'https://t.co/tYcRzdePIO'},\n",
      "                       {'display_url': 'pic.twitter.com/tYcRzdePIO',\n",
      "                        'end': 247,\n",
      "                        'expanded_url': 'https://twitter.com/T21303/status/1376831743764832258/photo/1',\n",
      "                        'start': 224,\n",
      "                        'url': 'https://t.co/tYcRzdePIO'},\n",
      "                       {'display_url': 'pic.twitter.com/tYcRzdePIO',\n",
      "                        'end': 247,\n",
      "                        'expanded_url': 'https://twitter.com/T21303/status/1376831743764832258/photo/1',\n",
      "                        'start': 224,\n",
      "                        'url': 'https://t.co/tYcRzdePIO'},\n",
      "                       {'display_url': 'pic.twitter.com/tYcRzdePIO',\n",
      "                        'end': 247,\n",
      "                        'expanded_url': 'https://twitter.com/T21303/status/1376831743764832258/photo/1',\n",
      "                        'start': 224,\n",
      "                        'url': 'https://t.co/tYcRzdePIO'}]},\n",
      " 'id': '1376831743764832258',\n",
      " 'public_metrics': {'like_count': 0,\n",
      "                    'quote_count': 0,\n",
      "                    'reply_count': 0,\n",
      "                    'retweet_count': 0},\n",
      " 'text': 'As Bangladesh celebrated independence, human rights groups '\n",
      "         'criticised the government for what they described as growing '\n",
      "         'authoritarianism, including forced disappearances and extrajudicial '\n",
      "         'killings.\\n'\n",
      "         '#MythsVsRealityBangladesh https://t.co/tYcRzdePIO'}\n"
     ]
    }
   ],
   "source": [
    "import pprint\n",
    "\n",
    "pprint.pprint(TWEETS[0])"
   ]
  },
  {
   "cell_type": "code",
   "execution_count": 20,
   "metadata": {
    "collapsed": true,
    "jupyter": {
     "outputs_hidden": true
    }
   },
   "outputs": [
    {
     "data": {
      "text/html": [
       "<div>\n",
       "<style scoped>\n",
       "    .dataframe tbody tr th:only-of-type {\n",
       "        vertical-align: middle;\n",
       "    }\n",
       "\n",
       "    .dataframe tbody tr th {\n",
       "        vertical-align: top;\n",
       "    }\n",
       "\n",
       "    .dataframe thead th {\n",
       "        text-align: right;\n",
       "    }\n",
       "</style>\n",
       "<table border=\"1\" class=\"dataframe\">\n",
       "  <thead>\n",
       "    <tr style=\"text-align: right;\">\n",
       "      <th></th>\n",
       "      <th>Date</th>\n",
       "      <th>Likes</th>\n",
       "      <th>Retweet</th>\n",
       "      <th>Url</th>\n",
       "      <th>Text</th>\n",
       "    </tr>\n",
       "  </thead>\n",
       "  <tbody>\n",
       "    <tr>\n",
       "      <th>0</th>\n",
       "      <td>2021-03-30</td>\n",
       "      <td>0</td>\n",
       "      <td>0</td>\n",
       "      <td>https://twitter.com/twitter/status/1376831743764832258</td>\n",
       "      <td>As Bangladesh celebrated independence, human rights groups criticised the government for what they described as growing authoritarianism, including forced disappearances and extrajudicial killings. #MythsVsRealityBangladesh https://t.co/tYcRzdePIO</td>\n",
       "    </tr>\n",
       "    <tr>\n",
       "      <th>1</th>\n",
       "      <td>2021-03-30</td>\n",
       "      <td>0</td>\n",
       "      <td>0</td>\n",
       "      <td>https://twitter.com/twitter/status/1376831720180355076</td>\n",
       "      <td>Lots of to be optimistic about @DubravkaSRVAW    ✔️More human rights instruments in place ✔️Greater reporting on VAWG ✔️Women speaking out and claiming their rights  BUT   ❌COVID-19 exacerbating violence/limiting rights ❌Human rights mechanisms not ratified by all</td>\n",
       "    </tr>\n",
       "    <tr>\n",
       "      <th>2</th>\n",
       "      <td>2021-03-30</td>\n",
       "      <td>0</td>\n",
       "      <td>0</td>\n",
       "      <td>https://twitter.com/twitter/status/1376831708872515586</td>\n",
       "      <td>@originals_1878 @LeeEdwardLamon1 you've got a point but supporting the dictatorship in a country which is opposed to human rights isn't the logical way to go about it.</td>\n",
       "    </tr>\n",
       "    <tr>\n",
       "      <th>3</th>\n",
       "      <td>2021-03-30</td>\n",
       "      <td>0</td>\n",
       "      <td>0</td>\n",
       "      <td>https://twitter.com/twitter/status/1376831702404714498</td>\n",
       "      <td>Kadiri si Roque amputa. Sure kayong human rights lawyer yan before? Myghad pisting yawa</td>\n",
       "    </tr>\n",
       "    <tr>\n",
       "      <th>4</th>\n",
       "      <td>2021-03-30</td>\n",
       "      <td>0</td>\n",
       "      <td>0</td>\n",
       "      <td>https://twitter.com/twitter/status/1376831688135876608</td>\n",
       "      <td>This is a human rights crime! https://t.co/H10Dqv0uZt</td>\n",
       "    </tr>\n",
       "  </tbody>\n",
       "</table>\n",
       "</div>"
      ],
      "text/plain": [
       "         Date Likes Retweet  \\\n",
       "0  2021-03-30  0     0        \n",
       "1  2021-03-30  0     0        \n",
       "2  2021-03-30  0     0        \n",
       "3  2021-03-30  0     0        \n",
       "4  2021-03-30  0     0        \n",
       "\n",
       "                                                      Url  \\\n",
       "0  https://twitter.com/twitter/status/1376831743764832258   \n",
       "1  https://twitter.com/twitter/status/1376831720180355076   \n",
       "2  https://twitter.com/twitter/status/1376831708872515586   \n",
       "3  https://twitter.com/twitter/status/1376831702404714498   \n",
       "4  https://twitter.com/twitter/status/1376831688135876608   \n",
       "\n",
       "                                                                                                                                                                                                                                                                       Text  \n",
       "0  As Bangladesh celebrated independence, human rights groups criticised the government for what they described as growing authoritarianism, including forced disappearances and extrajudicial killings. #MythsVsRealityBangladesh https://t.co/tYcRzdePIO                   \n",
       "1  Lots of to be optimistic about @DubravkaSRVAW    ✔️More human rights instruments in place ✔️Greater reporting on VAWG ✔️Women speaking out and claiming their rights  BUT   ❌COVID-19 exacerbating violence/limiting rights ❌Human rights mechanisms not ratified by all  \n",
       "2  @originals_1878 @LeeEdwardLamon1 you've got a point but supporting the dictatorship in a country which is opposed to human rights isn't the logical way to go about it.                                                                                                   \n",
       "3  Kadiri si Roque amputa. Sure kayong human rights lawyer yan before? Myghad pisting yawa                                                                                                                                                                                   \n",
       "4  This is a human rights crime! https://t.co/H10Dqv0uZt                                                                                                                                                                                                                     "
      ]
     },
     "execution_count": 20,
     "metadata": {},
     "output_type": "execute_result"
    }
   ],
   "source": [
    "DATE = []\n",
    "RETWEET = []\n",
    "QUOTE = []\n",
    "LIKE = []\n",
    "URL = []\n",
    "TEXT = []\n",
    "\n",
    "## Text with metadata from pre-collected tweets\n",
    "\n",
    "for tweet in TWEETS:\n",
    "\n",
    "    try:\n",
    "        DATE.append(tweet['created_at'][0:10])\n",
    "        \n",
    "        RETWEET.append(tweet['public_metrics']['retweet_count'])\n",
    "        \n",
    "        QUOTE.append(tweet['public_metrics']['quote_count'])\n",
    "                \n",
    "        LIKE.append(tweet['public_metrics']['like_count'])\n",
    "        \n",
    "        num = tweet['id']\n",
    "        URL.append(f'https://twitter.com/twitter/status/{num}')\n",
    "        \n",
    "        TEXT.append(tweet['text'].replace('\\n', ' '))\n",
    "        \n",
    "    except KeyError: # 트위터 본문이 없거나 api를 통해서 수집되지 않는 메타데이터가 발생했을 경우 'None' 텍스트를 대신 넣고 passing\n",
    "        DATE.append('NONE')\n",
    "        RETWEET.append('NONE')\n",
    "        QUOTE.append('NONE')\n",
    "        LIKE.append('NONE')\n",
    "        URL.append('NONE')\n",
    "        TEXT.append('NONE')\n",
    "\n",
    "RT = RETWEET + QUOTE\n",
    "\n",
    "## Save as dataframe format\n",
    "DF = pd.DataFrame(list(zip(DATE, LIKE, RT, URL, TEXT)), columns =['Date', 'Likes', 'Retweet', 'Url', 'Text'])\n",
    "DF.head()"
   ]
  },
  {
   "cell_type": "code",
   "execution_count": 21,
   "metadata": {},
   "outputs": [
    {
     "name": "stdout",
     "output_type": "stream",
     "text": [
      "1000\n"
     ]
    }
   ],
   "source": [
    "idx = DF[(DF['Date'] == 'NONE') & (DF['Url'] == 'NONE') & (DF['Text'] == 'NONE')].index\n",
    "DF1 = DF.drop(idx)\n",
    "print(DF1.shape[0])"
   ]
  },
  {
   "cell_type": "code",
   "execution_count": 22,
   "metadata": {},
   "outputs": [],
   "source": [
    "## Save as dataframe format\n",
    "DF1.to_csv('TWEETS.csv', encoding = 'utf-8-sig', index_label = False, index = False)"
   ]
  },
  {
   "cell_type": "code",
   "execution_count": null,
   "metadata": {},
   "outputs": [],
   "source": []
  }
 ],
 "metadata": {
  "kernelspec": {
   "display_name": "Python 3",
   "language": "python",
   "name": "python3"
  },
  "language_info": {
   "codemirror_mode": {
    "name": "ipython",
    "version": 3
   },
   "file_extension": ".py",
   "mimetype": "text/x-python",
   "name": "python",
   "nbconvert_exporter": "python",
   "pygments_lexer": "ipython3",
   "version": "3.8.3"
  }
 },
 "nbformat": 4,
 "nbformat_minor": 4
}
