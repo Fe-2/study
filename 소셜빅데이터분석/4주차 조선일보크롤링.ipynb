{
 "cells": [
  {
   "cell_type": "markdown",
   "metadata": {
    "id": "ohnLSZ6ImY9S"
   },
   "source": [
    "# Install Selenium\n",
    "Selenium은 웹사이트 테스트를 위한 도구로 브라우저 동작을 자동화할 수 있습니다. 셀레니움을 이용하는 웹크롤링 방식은 바로 이점을 적극적으로 활용하는 것입니다. 프로그래밍으로 브라우저 동작을 제어해서 마치 사람이 이용하는 것 같이 웹페이지를 요청하고 응답을 받아올 수 있습니다."
   ]
  },
  {
   "cell_type": "code",
   "execution_count": null,
   "metadata": {
    "colab": {
     "base_uri": "https://localhost:8080/"
    },
    "executionInfo": {
     "elapsed": 39682,
     "status": "ok",
     "timestamp": 1615474281167,
     "user": {
      "displayName": "Jeong Woo Koo",
      "photoUrl": "https://lh3.googleusercontent.com/a-/AOh14GjIUIR8DqfLsQ6Gji2nLKZLadx3u3dcXkUNKKqM3w=s64",
      "userId": "15693827895442607306"
     },
     "user_tz": -540
    },
    "id": "ZqMcWCCeM0LZ",
    "outputId": "a526c6d6-1fcb-4835-b97b-58e6cd5587ce"
   },
   "outputs": [
    {
     "name": "stdout",
     "output_type": "stream",
     "text": [
      "Get:1 https://cloud.r-project.org/bin/linux/ubuntu bionic-cran40/ InRelease [3,626 B]\n",
      "Ign:2 https://developer.download.nvidia.com/compute/cuda/repos/ubuntu1804/x86_64  InRelease\n",
      "Ign:3 https://developer.download.nvidia.com/compute/machine-learning/repos/ubuntu1804/x86_64  InRelease\n",
      "Get:4 https://developer.download.nvidia.com/compute/cuda/repos/ubuntu1804/x86_64  Release [697 B]\n",
      "Hit:5 https://developer.download.nvidia.com/compute/machine-learning/repos/ubuntu1804/x86_64  Release\n",
      "Hit:6 http://archive.ubuntu.com/ubuntu bionic InRelease\n",
      "Get:7 http://security.ubuntu.com/ubuntu bionic-security InRelease [88.7 kB]\n",
      "Get:8 http://ppa.launchpad.net/c2d4u.team/c2d4u4.0+/ubuntu bionic InRelease [15.9 kB]\n",
      "Get:9 https://developer.download.nvidia.com/compute/cuda/repos/ubuntu1804/x86_64  Release.gpg [836 B]\n",
      "Get:11 http://archive.ubuntu.com/ubuntu bionic-updates InRelease [88.7 kB]\n",
      "Hit:12 http://ppa.launchpad.net/cran/libgit2/ubuntu bionic InRelease\n",
      "Ign:13 https://developer.download.nvidia.com/compute/cuda/repos/ubuntu1804/x86_64  Packages\n",
      "Get:13 https://developer.download.nvidia.com/compute/cuda/repos/ubuntu1804/x86_64  Packages [602 kB]\n",
      "Get:14 http://archive.ubuntu.com/ubuntu bionic-backports InRelease [74.6 kB]\n",
      "Hit:15 http://ppa.launchpad.net/deadsnakes/ppa/ubuntu bionic InRelease\n",
      "Get:16 http://security.ubuntu.com/ubuntu bionic-security/universe amd64 Packages [1,396 kB]\n",
      "Hit:17 http://ppa.launchpad.net/graphics-drivers/ppa/ubuntu bionic InRelease\n",
      "Get:18 http://archive.ubuntu.com/ubuntu bionic-updates/main amd64 Packages [2,394 kB]\n",
      "Get:19 http://ppa.launchpad.net/c2d4u.team/c2d4u4.0+/ubuntu bionic/main Sources [1,745 kB]\n",
      "Get:20 http://security.ubuntu.com/ubuntu bionic-security/main amd64 Packages [1,964 kB]\n",
      "Get:21 http://archive.ubuntu.com/ubuntu bionic-updates/universe amd64 Packages [2,163 kB]\n",
      "Get:22 http://ppa.launchpad.net/c2d4u.team/c2d4u4.0+/ubuntu bionic/main amd64 Packages [893 kB]\n",
      "Fetched 11.4 MB in 6s (1,892 kB/s)\n",
      "Reading package lists... Done\n",
      "Reading package lists... Done\n",
      "Building dependency tree       \n",
      "Reading state information... Done\n",
      "The following additional packages will be installed:\n",
      "  chromium-browser chromium-browser-l10n chromium-codecs-ffmpeg-extra\n",
      "Suggested packages:\n",
      "  webaccounts-chromium-extension unity-chromium-extension adobe-flashplugin\n",
      "The following NEW packages will be installed:\n",
      "  chromium-browser chromium-browser-l10n chromium-chromedriver\n",
      "  chromium-codecs-ffmpeg-extra\n",
      "0 upgraded, 4 newly installed, 0 to remove and 46 not upgraded.\n",
      "Need to get 81.0 MB of archives.\n",
      "After this operation, 273 MB of additional disk space will be used.\n",
      "Get:1 http://archive.ubuntu.com/ubuntu bionic-updates/universe amd64 chromium-codecs-ffmpeg-extra amd64 87.0.4280.66-0ubuntu0.18.04.1 [1,122 kB]\n",
      "Get:2 http://archive.ubuntu.com/ubuntu bionic-updates/universe amd64 chromium-browser amd64 87.0.4280.66-0ubuntu0.18.04.1 [71.7 MB]\n",
      "Get:3 http://archive.ubuntu.com/ubuntu bionic-updates/universe amd64 chromium-browser-l10n all 87.0.4280.66-0ubuntu0.18.04.1 [3,716 kB]\n",
      "Get:4 http://archive.ubuntu.com/ubuntu bionic-updates/universe amd64 chromium-chromedriver amd64 87.0.4280.66-0ubuntu0.18.04.1 [4,488 kB]\n",
      "Fetched 81.0 MB in 9s (8,954 kB/s)\n",
      "Selecting previously unselected package chromium-codecs-ffmpeg-extra.\n",
      "(Reading database ... 160975 files and directories currently installed.)\n",
      "Preparing to unpack .../chromium-codecs-ffmpeg-extra_87.0.4280.66-0ubuntu0.18.04.1_amd64.deb ...\n",
      "Unpacking chromium-codecs-ffmpeg-extra (87.0.4280.66-0ubuntu0.18.04.1) ...\n",
      "Selecting previously unselected package chromium-browser.\n",
      "Preparing to unpack .../chromium-browser_87.0.4280.66-0ubuntu0.18.04.1_amd64.deb ...\n",
      "Unpacking chromium-browser (87.0.4280.66-0ubuntu0.18.04.1) ...\n",
      "Selecting previously unselected package chromium-browser-l10n.\n",
      "Preparing to unpack .../chromium-browser-l10n_87.0.4280.66-0ubuntu0.18.04.1_all.deb ...\n",
      "Unpacking chromium-browser-l10n (87.0.4280.66-0ubuntu0.18.04.1) ...\n",
      "Selecting previously unselected package chromium-chromedriver.\n",
      "Preparing to unpack .../chromium-chromedriver_87.0.4280.66-0ubuntu0.18.04.1_amd64.deb ...\n",
      "Unpacking chromium-chromedriver (87.0.4280.66-0ubuntu0.18.04.1) ...\n",
      "Setting up chromium-codecs-ffmpeg-extra (87.0.4280.66-0ubuntu0.18.04.1) ...\n",
      "Setting up chromium-browser (87.0.4280.66-0ubuntu0.18.04.1) ...\n",
      "update-alternatives: using /usr/bin/chromium-browser to provide /usr/bin/x-www-browser (x-www-browser) in auto mode\n",
      "update-alternatives: using /usr/bin/chromium-browser to provide /usr/bin/gnome-www-browser (gnome-www-browser) in auto mode\n",
      "Setting up chromium-chromedriver (87.0.4280.66-0ubuntu0.18.04.1) ...\n",
      "Setting up chromium-browser-l10n (87.0.4280.66-0ubuntu0.18.04.1) ...\n",
      "Processing triggers for hicolor-icon-theme (0.17-2) ...\n",
      "Processing triggers for mime-support (3.60ubuntu1) ...\n",
      "Processing triggers for man-db (2.8.3-2ubuntu0.1) ...\n",
      "cp: '/usr/lib/chromium-browser/chromedriver' and '/usr/bin/chromedriver' are the same file\n",
      "Collecting selenium\n",
      "\u001b[?25l  Downloading https://files.pythonhosted.org/packages/80/d6/4294f0b4bce4de0abf13e17190289f9d0613b0a44e5dd6a7f5ca98459853/selenium-3.141.0-py2.py3-none-any.whl (904kB)\n",
      "\u001b[K     |████████████████████████████████| 911kB 4.2MB/s \n",
      "\u001b[?25hRequirement already satisfied: urllib3 in /usr/local/lib/python3.7/dist-packages (from selenium) (1.24.3)\n",
      "Installing collected packages: selenium\n",
      "Successfully installed selenium-3.141.0\n"
     ]
    }
   ],
   "source": [
    "!apt-get update\n",
    "!apt install chromium-chromedriver\n",
    "!cp /usr/lib/chromium-browser/chromedriver /usr/bin\n",
    "!pip install selenium\n",
    "\n",
    "from selenium import webdriver\n",
    "options = webdriver.ChromeOptions()\n",
    "options.add_argument('--headless')\n",
    "options.add_argument('--no-sandbox')\n",
    "options.add_argument('--disable-dev-shm-usage')"
   ]
  },
  {
   "cell_type": "markdown",
   "metadata": {
    "id": "HcwrU8namhUJ"
   },
   "source": [
    "# Import Library"
   ]
  },
  {
   "cell_type": "code",
   "execution_count": null,
   "metadata": {
    "id": "osWuC3c6L-Hx"
   },
   "outputs": [],
   "source": [
    "from bs4 import BeautifulSoup\n",
    "import urllib.request\n",
    "from urllib.parse import quote\n",
    "import time\n",
    "import pandas as pd\n",
    "import re\n",
    "pd.set_option('display.max_colwidth', None)"
   ]
  },
  {
   "cell_type": "markdown",
   "metadata": {
    "id": "2uqJr8FvRmks"
   },
   "source": [
    "# 전역변수\n",
    "**sort:**\n",
    "* 1 - 최신순\n",
    "* 2 - 관련도순\n",
    "\n",
    "**date_period:**\n",
    "* all - 전체\n",
    "* 1w - 최근 1주\n",
    "* 1m - 최근 1달\n",
    "* 1y - 최근 1년\n",
    "\n",
    "**siteid:**\n",
    "* www - 뉴스\n",
    "* chosunbiz - 조선비즈\n",
    "* 등등\n",
    "\n",
    "**field:** paper - 지면뉴스만\n",
    "\n",
    "**emd_word:** 포함할 단어  \n",
    "**expt_word:** 제외할 단어\n",
    "\n",
    "TITLE_OF_ARTICLE = [] : 기사 제목을 저장할 리스트  \n",
    "DATE_OF_ARTICLE = [] : 기사 날짜를 저장할 리스트  \n",
    "CONTENT_OF_ARTICLE = [] : 기사 내용을 저장할 리스트  \n",
    "URL_OF_ARTICLE = [] : 기사의 URL을 저장할 리스트  \n"
   ]
  },
  {
   "cell_type": "code",
   "execution_count": null,
   "metadata": {
    "id": "3vNV6JGnNSAv"
   },
   "outputs": [],
   "source": [
    "TARGET_URL = 'https://www.chosun.com/search/query=%EC%9D%B8%EA%B6%8C&siteid=www&sort=1&date_period=1w&writer=&field=&emd_word=&expt_word=&opt_chk=false/'\n",
    "# https://www.chosun.com/search/query=%EC%9D%B8%EA%B6%8C&siteid=www&sort=1&date_period=1w&writer=&field=&emd_word=&expt_word=&opt_chk=false/\n",
    "\n",
    "TITLE_OF_ARTICLE = []\n",
    "DATE_OF_ARTICLE = []\n",
    "CONTENT_OF_ARTICLE = []\n",
    "URL_OF_ARTICLE = []"
   ]
  },
  {
   "cell_type": "markdown",
   "metadata": {
    "id": "RFMiX_A0nHPt"
   },
   "source": [
    "**정적 웹 페이지(Static Web Page):**  \n",
    "서버에 미리 저장된 파일이 그대로 전달되는 웹 페이지  \n",
    "**동적 웹 페이지(Dynamic Web Page):**  \n",
    "서버에 있는 데이터들을 스크립트에 의해 가공처리한 후 생성되어 전달되는 웹 페이지\n",
    "\n",
    "조선일보의 경우 동적 웹 페이지 방식을 사용하고 있어서 bs4로 웹 페이지를 html을 받아올 경우 검색화면에서 보이는 타이틀이나 기사가 있는 링크를 가져오지 못하게 됩니다.  \n",
    "그래서 셀레니움으로 더보기 버튼을 클릭하고 html을 bs4로 넘겨서 링크를 가져옵니다.  \n",
    "셀레니움은 bs4보다 느리므로 셀레니움 + bs4를 사용하였습니다."
   ]
  },
  {
   "cell_type": "code",
   "execution_count": null,
   "metadata": {
    "id": "wOqHRh9qmKi6"
   },
   "outputs": [],
   "source": [
    "def get_link_from_news_title(URL): \n",
    "    driver = webdriver.Chrome('chromedriver', options=options)\n",
    "    driver.implicitly_wait(5) # implicity_wait은 뜻 그대로 브라우저에서 사용되는 엔진 자체에서 파싱되는 시간을 기다려 주는 메소드다.\n",
    "    driver.get(URL)\n",
    "\n",
    "    while True: # 반복문 break를 만나기 전까지 무한히 반복한다.\n",
    "        try: # 더보기 버튼을 더 이상 누를수 없을 때 까지 반복한다.\n",
    "            more_button = driver.find_element_by_xpath('//*[@id=\"load-more-stories\"]') # 더보기 버튼 위치\n",
    "            more_button.click() # 더보기 버튼 클릭\n",
    "            time.sleep(1) # 페이지가 로딩되는데 시간이 필요하므로 1초의 텀을 준다.\n",
    "        except: # 더보기 버튼을 더 이상 누를수 없을 때 실행된다.\n",
    "            break # 반복문 종료\n",
    "\n",
    "    soup = BeautifulSoup(driver.page_source, 'html.parser') # soup로 html 소스를 가져온다.\n",
    "    \n",
    "    for title in soup.select('div.story-card__headline-container.\\|.box--margin-bottom-xs > h5'): # 기사들의 URL이 있는 링크에 접근해서 하나씩 title로 넘겨주는 반복문...h3이 나올수도 있음\n",
    "        title_link = title.select('span')\n",
    "        TITLE_OF_ARTICLE.append(title_link[0].get_text())\n",
    "        #TITLE_OF_ARTICLE.append(title.span.text) \n",
    "\n",
    "        article_link = title.select('a') # URL이 위치하는 태그를 가리킨다.\n",
    "        article_URL = 'https://www.chosun.com' + article_link[0]['href'] # URL 리스트에 저장한다.\n",
    "        \n",
    "        get_text(article_URL) # URL을 get_text 함수에 넘겨준다."
   ]
  },
  {
   "cell_type": "markdown",
   "metadata": {
    "id": "0a8EEAPg1Xbp"
   },
   "source": [
    "# get_text\n",
    "- source_code_from_URL: 크룰링을 하기 위해 지정된 URL에 연결을 요청한다.\n",
    "- soup: 데이터를 가져오기 위한 BeautifulSoup Library   \n",
    "- title_of_article: 기사의 제목이 있는 태그를 가리킨다.\n",
    "- date_of_article: 기사의 작성된 날짜가 있는 태그를 가리킨다.\n",
    "- content_of_article: 기사의 내용이 있는 태그를 가리킨다.\n",
    "- TITLE_OF_ARTICLE.append: 리스트에 기사의 제목를 저장한다.\n",
    "- DATE_OF_ARTICLE.append: 리스트에 기사의 날짜를 저장한다.\n",
    "- string_item: 태그를 제외한 string 형식으로 된 기사들을 가져온다.\n",
    "- CONTENT_OF_ARTICLE.append: 기사의 내용을 리스트에 저장한다."
   ]
  },
  {
   "cell_type": "code",
   "execution_count": null,
   "metadata": {
    "id": "mC-2GY8Iglj5"
   },
   "outputs": [],
   "source": [
    "def get_text(URL):\n",
    "    driver = webdriver.Chrome('chromedriver', options=options)\n",
    "    driver.implicitly_wait(5)\n",
    "    driver.get(URL)\n",
    "    soup = BeautifulSoup(driver.page_source, 'html.parser')\n",
    "\n",
    "    date_of_article = soup.select('div.article-dateline.\\|.flex.flex--justify-space-between.flex--align-items-center.box--border.box--border-grey-40.box--border-horizontal.box--border-horizontal-bottom.box--pad-bottom-sm > span')\n",
    "    DATE_OF_ARTICLE.append(date_of_article[0].string)\n",
    "\n",
    "    content_of_article = soup.select('section.article-body')\n",
    "    string_item = str(content_of_article[0].find_all(text=True))\n",
    "    CONTENT_OF_ARTICLE.append(string_item) "
   ]
  },
  {
   "cell_type": "markdown",
   "metadata": {
    "id": "o1Un-Wso69Xr"
   },
   "source": []
  },
  {
   "cell_type": "code",
   "execution_count": null,
   "metadata": {
    "id": "vKOYFeouVcs2"
   },
   "outputs": [],
   "source": [
    "get_link_from_news_title(TARGET_URL)"
   ]
  },
  {
   "cell_type": "code",
   "execution_count": null,
   "metadata": {
    "id": "zU2f1gIWtmEs"
   },
   "outputs": [],
   "source": [
    "df = pd.DataFrame(list(zip(TITLE_OF_ARTICLE, CONTENT_OF_ARTICLE, DATE_OF_ARTICLE)), columns =['Title', 'Content', 'Date']) "
   ]
  },
  {
   "cell_type": "code",
   "execution_count": null,
   "metadata": {
    "colab": {
     "base_uri": "https://localhost:8080/",
     "height": 1000
    },
    "executionInfo": {
     "elapsed": 369751,
     "status": "ok",
     "timestamp": 1615474611254,
     "user": {
      "displayName": "Jeong Woo Koo",
      "photoUrl": "https://lh3.googleusercontent.com/a-/AOh14GjIUIR8DqfLsQ6Gji2nLKZLadx3u3dcXkUNKKqM3w=s64",
      "userId": "15693827895442607306"
     },
     "user_tz": -540
    },
    "id": "S0TVJTnDuEny",
    "outputId": "36c7730f-0741-471d-8795-1ab1529e3f9e"
   },
   "outputs": [
    {
     "data": {
      "text/html": [
       "<div>\n",
       "<style scoped>\n",
       "    .dataframe tbody tr th:only-of-type {\n",
       "        vertical-align: middle;\n",
       "    }\n",
       "\n",
       "    .dataframe tbody tr th {\n",
       "        vertical-align: top;\n",
       "    }\n",
       "\n",
       "    .dataframe thead th {\n",
       "        text-align: right;\n",
       "    }\n",
       "</style>\n",
       "<table border=\"1\" class=\"dataframe\">\n",
       "  <thead>\n",
       "    <tr style=\"text-align: right;\">\n",
       "      <th></th>\n",
       "      <th>Title</th>\n",
       "      <th>Content</th>\n",
       "      <th>Date</th>\n",
       "    </tr>\n",
       "  </thead>\n",
       "  <tbody>\n",
       "    <tr>\n",
       "      <th>0</th>\n",
       "      <td>찬성 2895 반대 0표...홍콩 장악 끝낸 중국의 전인대 투표</td>\n",
       "      <td>['중국이 홍콩의 행정장관과 입법회(의회) 의원을 친중(親中) 인사로 뽑도록 바꾼 홍콩 선거제도 개편안을 11일 폐막한 전국인민대표대회(전인대·국회 격)에서 확정했다. 중국에 충성하는 ‘애국자’만 홍콩의 선출직 공무원이 될 수 있다는 핵심 원칙이 담겼다. 이에 따라 홍콩에 대한 중국의 지배력이 극대화될 전망이다.', '중국 전인대는 이날 찬성 2895명, 반대 0명, 기권 1명으로 홍콩 행정장관과 입법회 의원 선거제도 개편안을 통과시켰다. 중국 관영 신화통신에 따르면 개편안에는 홍콩 선거위원회(행정장관 선거인단) 위원 수를 현재 1200명에서 1500명으로 확대하는 내용이 담겼다. 행정장관 입후보 자격을 강화하는 동시에 내년 캐리 람 현 행정장관의 후임 선출을 앞두고 선거인단에 친중 인사들을 추가로 확보하려는 조치로 해석된다.', '홍콩 정부가 후보자격심사위원회를 만들어 홍콩 행정장관 후보와 입법회 의원 후보의 자격을 심사하는 내용도 신설됐다. 위원회는 후보가 홍콩기본법, 홍콩 국가보안법, 전인대 요구 사항 등에 적합한지 심사해 출마 여부를 결정한다. 이럴 경우, 중국 정부가 원하지 않는 인물이 행정장관이나 입법회 선거에 출마하는 게 사실상 불가능해질 전망이다.', '시진핑 중국 국가주석(가운데)이 11일 베이징 인민대회당에서 열린 전국인민대표대회 전체회의에서 홍콩 선거제 개편안이 통과되지 박수를 치고 있다./AFP 연합뉴스', '이번 전인대는 또 홍콩 입법회 의원 수를 70명에서 90명으로 늘리기로 했다. 현재는 입법회 의원 중 절반인 35명은 홍콩 시민이 직접 선거로 뽑고 나머지는 직능 단체 간접 선거로 선출한다. 하지만 앞으로는 친중 성향 인사들이 다수를 차지하고 있는 선거위원회도 입법회 의원 일부를 선출하도록 했다. 구체적 비율은 공개되지 않았지만 직접 선거로 뽑는 의원 비율은 줄어들 것으로 보인다. 앞으로는 반중 성향인 홍콩 야권이 입법회 선거에서 대승을 거두더라도 홍콩 의회를 좌지우지할 수 없다는 의미다.', '전인대는 이날 통과된 개편 방안에 대해 “국가와 홍콩을 사랑하는 사람이 홍콩을 다스리는 원칙을 확고히 하고 국가 주권과 안전, 발전 이익을 지키는 데 유리하다”고 했다. 시진핑 주석을 비롯해 3000명 가까운 전인대 대표들은 이날 전인대 폐막식 겸 전체회의에서 예산안 등 10개 안건을 처리했는데 홍콩 선거제 개편안이 통과됐을 때 박수가 가장 오랫동안 이어졌다고 한다. 전인대에서는 안건 대부분이 압도적 찬성으로 통과되지만 지난해 홍콩보안법 투표 때는 기권 6표, 반대 1표가 있었다. 반면 이번 선거제 개편안은 반대 없이 기권 1표만 나왔다.', '홍콩 야권은 이번 선거제 개편에 대해 “범민주파에 대한 정치적 사망 선고” “일국양제의 끝”이라고 반발했다. 홍콩 사우스차이나모닝포스트는 “후보자격심사위원회가 입법회 의원 등 선출직 공무원 후보를 심사하게 되면서 당국이 충분히 애국적이라고 생각하지 않는 야당 후보는 사실상 출마가 금지될 것”이라고 했다. 반면 전인대 홍콩 대표인 훙웨이민(洪爲民) 홍콩인터넷협회 명예회장은 본지 통화에서 “홍콩 정부를 비판하지 말라는 뜻이 아니다”라며 “애국적인 야당도 충분히 가능하고 이미 일부 그런 움직임도 나타나고 있다”고 말했다.', '홍콩 언론들은 이번 선거제 개편에 대해 1997년 홍콩 반환 이후 가장 큰 폭의 정치적 개편(shake up)이라고 평가했다. 중국은 2019년 홍콩에서 6개월간 대규모 반중 시위가 이어지자 지난해 홍콩 내 반중 세력을 감시·처벌하는 내용의 홍콩보안법을 제정했다. 특히, 시진핑 중국 국가주석이 ‘애국자치항(愛國者治港·애국자가 홍콩을 다스린다)’ 원칙을 강조하면서 홍콩 정치권에 대한 개편 작업이 더욱 탄력을 받았다.', '중국이 홍콩 선거제 개편을 결정하면서 미국과의 갈등 관계가 더욱 악화될 것이란 전망이 나온다. 지난해 중국이 홍콩보안법을 제정하자 도널드 트럼프 당시 미 대통령은 무역 등에서 홍콩에 대한 특별 대우를 철회하고 중국과 홍콩 주요 인사들을 제재 명단에 올렸다. 지난 1월 취임한 조 바이든 행정부는 외교 정책 측면에서 트럼프 행정부보다 민주주의와 인권을 더 강조하고 있다. 미국은 홍콩 선거제 개편 결정 전날인 10일 미사일 구축함인 존핀함을 대만해협에 보내고 11일 소셜미디어를 통해 사진을 공개했다. 이에 대해 중국군 동부전구 장춘후이(張春暉) 대변인은 “미 군함의 행위는 잘못된 신호를 보내 의도적으로 지역 정세를 해치고 대만해협의 평화와 안정을 훼손한다”며 비판 성명을 냈다.', '한편 리커창 총리는 전인대 폐막 후 열린 내외신 기자회견에서 “중국이 올해 성장 목표를 작년 대비 6% 이상으로 잡았지만 해외 기관들은 8%까지 보고 있다”는 질문에 대해 “6% 이상이라는 경제성장 목표는 낮은 게 아니다”라며 “안정적으로 가야 유리하게 갈 수 있다”고 했다. 리 총리는 미·중 관계에 대해 “양국 사이에는 공통 이익이 있고 이 공통점에 더 많은 힘을 쏟아야 한다”며 “공통 이익을 확대하고 중·미 관계가 어려움을 넘어 전체적으로 안정적인 방향으로 가도록 노력해야 한다”고 했다.']</td>\n",
       "      <td>입력 2021.03.11 21:49 | 수정 2021.03.11 21:49</td>\n",
       "    </tr>\n",
       "    <tr>\n",
       "      <th>1</th>\n",
       "      <td>형제복지원 수사 검사 “원장 무죄는 대법원 집단무결주의 때문”</td>\n",
       "      <td>['대법원 2부(주심 안철상 대법관)이 특수감금 등 혐의로 기소된 형제복지원장 고 박모씨에 대한 비상상고를 기각한 11일 오전 서울 서초구 대법원 법정 앞에서 형제복지원 피해자 및 가족들이 오열하고 있다. /뉴시스', '부산 형제복지원 원장에 대한 무죄 판결을 파기해달라는 검찰 비상상고를 대법원이 11일 받아들이지 않은 것과 관련, 이 사건을 처음 폭로했던 수사 검사가 “대법원의 집단 무결주의 때문”이라며 강하게 비판했다.', '김용원 변호사는 이날 페이스북에 ‘형제복지원 사건 비상상고심에 대한 수사검사의 소회’라는 글을 통해 대법원 결정을 비판했다. 그는 1987년 부산지검 울산지청 평검사 시절 이 문제를 처음으로 제기한 수사검사로, 1970~80년대 부랑자들을 상대로 끔찍한 인권유린 행위를 한 형제복지원 원장 고(故) 박인근씨를 특수감금 등 혐의로 구속기소했었다. 그는 “당시 전두환 정권의 법률적 들러리였던 대법관들이 무죄를 선고하였던 것인데, 이번에도 대법원은 그 무죄 판결을 유지했다”며 “나는 그것이 대법관들의 집단 무결주의 때문이라고 판단한다”고 했다. 대법원 스스로 대법원 판결의 오류를 인정하려들지 않았기 때문이라는 뜻이다. 김 변호사는 “대법관들은 군사정권 시절 이래 지금까지 숱한 과오를 저질러 왔지만 한번도 자신들의 과오를 시인하거나 반성한 적이 없다”고 지적했다.', '그러면서 “잘못된 대법원 판결이 있었다고 해도 그것은 수사기관의 잘못된 수사 때문이라고 언제나 책임을 전가했는데, 형제복지원 사건은 그런 방식이 불가능한 사건”이라며 “그래서 사건을 얼버무려 특수감금 부분의 무죄를 유지한 것”이라고 지적했다. 김 변호사는 “이 나라는 검찰개혁보다는 사법부 개혁이 훨씬 절실하다는 나의 오래된 소신을 다시 한 번 씁쓸하게 확인한다”고 했다.', '이날 대법원 2부(주심 안철상 대법관)는 형제복지원 원장의 특수감금 혐의를 무죄로 판단한 1989년 대법원 무죄 판결을 다시 판단해 달라는 검찰의 비상상고를 기각했다. 비상상고 요건에 맞지 않다는 것이다. 비상상고는 사실관계를 제외하고, 법원이 적용한 법령이 잘못된 경우 인정되는데 당시 대법원이 형법 20조(정당 행위)를 적용한 것에 문제가 없다는 것이다. 앞서 검찰은 비상상고를 신청하며 ‘내무부 훈령(부랑자들에 대한 관리 지침)이 위법했다’고 했지만 이 법령은 형법 20조 정당행위로 판단하기 위한 자료였을 뿐이라는 것이다. 재판부는 “(대법원 비상상고가 아니라) 정부의 적절한 조치를 통해 피해자들의 아픔이 치유되어 사회통합이 실현되기를 기대한다”고 했다. 작년 국회에서 통과된 과거사정리 기본법을 통해 사건을 재조사하고, 이를 통해 피해자와 유가족들의 명예회복이 이뤄지길 바란다는 것이다.', '부랑인을 선도한다는 명분으로 1975년 설립된 형제복지원은 약 12년간 일종의 수용시설처럼 운영됐다. 어린 아이를 비롯해 3500여명을 불법 감금해 강제노역을 시킨 것으로 알려져있다. 시설 안에서 끔찍한 구타와 성폭행이 자행됐다는 의혹도 제기됐다. 복지원 기록상 확인된 사망자만 513명에 달한다. 암매장된 시신들까지 포함하면 그 숫자는 더 늘어날 수 있다.', '그러나 원장 박인근씨는 1989년 대법원에서 불법 감금 등 혐의에 대해 무죄를 확정받았다. 대법원은 박씨의 행위가 당시 정부 훈령에 따른 부랑자 수용이어서 문제가 없다고 판단했다. 당시 내무부 훈령 제410호는 부랑인을 임의로 단속할 수 있으며 수용인들의 동의나 수용기한 없이 수용시설에 유치할 수 있도록 하는 내용을 담고 있다. 이에 박 원장은 국고보조금 등 공금 횡령 혐의로만 2년 6개월의 징역형을 살았다. 그리고 2016년 87세 나이로 사망했다.']</td>\n",
       "      <td>입력 2021.03.11 14:30 | 수정 2021.03.11 14:30</td>\n",
       "    </tr>\n",
       "    <tr>\n",
       "      <th>2</th>\n",
       "      <td>대법, 형제복지원 사건 책임자 무죄 판결 유지</td>\n",
       "      <td>['대법원 2부(주심 안철상 대법관)이 특수감금 등 혐의로 기소된 형제복지원장 고 박모씨에 대한 비상상고를 기각한 11일 오전 서울 서초구 대법원 법정 앞에서 형제복지원 피해자 및 가족들이 오열하고 있다./뉴시스', '1970~80년대 끔찍한 인권 유린을 저지른 부산 형제복지원 원장에 대한 무죄 판결이 파기돼야 한다는 검찰의 비상상고를 대법원이 받아들이지 않았다.', '대법원 2부(주심 안철상 대법관)는 형제복지원 원장 고(故) 박인근씨의 특수감금 혐의에 대한 비상상고 사건을 11일 기각했다. 재판부는 “단순히 법령을 적용하는 과정에서 전제가 되는 사실을 오인함에 따라 법령 위반의 결과를 초래한 것과 같은 경우는 ‘그 사건의 심판이 법령에 위반한 때’라는 비상상고 이유에 해당하지 않는다”라고 밝혔다. 박 원장에 대한 무죄 판단은 검찰 비상상고의 근거가 된 내무부 훈령(‘부랑자들에 대한 관리 지침’)이 아니라 법령에 의한 행위를 처벌하지 않도록 한 형법 20조에 따른 것인데 이 부분에 위법 사항이 없다는 것이다.', '재판부는 “이 사건이 갖는 문제의 핵심은 단순히 ‘신체의 자유’가 침해되었다는 점보다 헌법 최고 가치인 ‘인간의 존엄성’이 침해됐다는 점”이라며 “진실화해를위한과거사정리위원회가 이 사건의 진실규명을 위한 활동을 재개할 수 있고 정부의 적절한 조치를 통해 피해자들의 아픔이 치유되어 사회통합이 실현되기를 기대한다”고 했다. 선고 결과를 들은 피해자와 유가족들은 대법원 법정 앞에 주저앉아 오열했다.', '부랑인을 선도한다는 명분으로 1975년 설립된 형제복지원은 약 12년간 일종의 수용시설처럼 운영됐다. 어린 아이를 비롯해 3500여명을 불법 감금해 강제노역을 시킨 것으로 알려져있다. 시설 안에서 끔찍한 구타와 성폭행이 자행됐다는 의혹도 제기됐다. 복지원 기록상 확인된 사망자만 513명에 달한다. 암매장된 시신들까지 포함하면 그 숫자는 더 늘어날 수 있다.', '그러나 원장 박인근씨는 1989년 대법원에서 불법 감금 등 혐의에 대해 무죄를 확정받았다. 대법원은 박씨의 행위가 당시 정부 훈령에 따른 부랑자 수용이어서 문제가 없다고 판단했다. 당시 내무부 훈령 제410호는 부랑인을 임의로 단속할 수 있으며 수용인들의 동의나 수용기한 없이 수용시설에 유치할 수 있도록 하는 내용을 담고 있다. 대법원은 박 원장의 행위가 훈령에 따른 정당한 행위였다고 보고, 형법 20조(‘법령에 의한 행위나 업무로 인한 행위, 기타 사회상규에 위배되지 아니하는 행위는 처벌하지 않는다’)를 적용해 무죄 판결했다.', '이에 박 원장은 국고보조금 등 공금 횡령 혐의로만 2년 6개월의 징역형을 살았다. 출소 후엔 복지원 땅을 매각해 자산을 축적했고, 재단 이름을 바꿔가며 이사장직을 유지하다 2011년 아들에게 자리를 물려줬다. 그리고 2016년 87세 나이로 사망했다.', '앞서 이 사건의 피해자들은 국회와 언론 등을 통해 관련자 처벌을 요구해왔다. 이에 2018년 문무일 검찰총장은 대검찰청 산하 검찰개혁위원회의 권고에 따라 이 사건을 대법원에 비상상고했다. 검찰은 “무죄의 근거가 된 내무부 훈령 자체가 위법한 것인데다 가혹행위를 수반한 감금은 훈령에 의한 것이라 볼 수 없다”고 했다. 이어 “부랑인 등의 개념이 극히 모호하며 수용자들의 거주이전의 자유를 명백하게 침해하고 법에 근거없이 신체의 자유를 침해해 적법절차 원칙에도 반하기 때문에 대법원이 다시 심리해달라”고 비상상고 이유를 밝혔었다.', '비상상고는 확정된 형사 판결에 위법한 사항이 발견됐을 때 대법원이 다시 심리하는 비상구제절차다. 새로 확정된 형을 집행할 수는 없지만, 이 판결을 토대로 피해자들이 명예를 회복하고, 추후 민사 소송을 통해 손해배상을 받을 수 있다는 점에서 의미가 있다. 이 때문에 피해자들의 기대가 컸지만, 대법원은 비상상고 사안이 아니라고 봤다. 결국 피해자들은 국가 차원의 진상조사를 기대할 수 밖에 없게 됐다.']</td>\n",
       "      <td>입력 2021.03.11 11:50 | 수정 2021.03.11 11:50</td>\n",
       "    </tr>\n",
       "    <tr>\n",
       "      <th>3</th>\n",
       "      <td>UN 안보리, 미얀마 군부 규탄 성명… “아웅산 수지 석방하라”</td>\n",
       "      <td>['/AFP 연합뉴스', 'UN 안전보장이사회(안보리)가 평화 시위대에 폭력을 행사하는 군부를 규탄하는 의장성명을 만장일치로 채택했다고 AP통신이 10일(현지 시각) 보도했다.', '통신에 따르면, 이날 채택된 성명은 영국이 발의한 것으로 미얀마 군부를 지지하는 것으로 알려진 중국을 포함한 15개 이사국 모두가 찬성했다. 가장 높은 수준인 결의안보다는 한 단계 낮은 의장성명이지만, UN의 공식 기록으로 남는다.', '성명서에서 안보리는 “미얀마의 민주적인 정권 이양을 지지한다”면서 “(미얀마가) 민주적 기관과 절차를 유지하고, 폭력을 삼가며, 인권과 근본적인 자유를 존중하고, 법치를 옹호할 것을 강조한다”고 밝혔다.', '또 이날 안보리는 미얀마 군부에 현재 구금 중인 아웅산 수지 국가고문과 윈 민 대통령을 석방하라고 촉구했다.', '또한 이번 의장성명은 당초 영국이 작성해 회람했던 초안에 비해서는 이른바 ‘톤 다운’된 내용이기도 하다. 당초 초안에서는 미얀마 군부의 쿠데타를 비판하는 한편, 제재를 뜻하는 ‘UN 헌장에 따라 가능한 조치’라는 문구가 담겼지만 막판에 빠졌다고 AP통신은 전했다.', '통신은 초안에 비해 채택된 성명이 약화된 이유로 미얀마의 우방인 중국, 러시아, 인도가 반대했기 때문이라고 분석했다.']</td>\n",
       "      <td>입력 2021.03.11 07:04 | 수정 2021.03.11 07:04</td>\n",
       "    </tr>\n",
       "    <tr>\n",
       "      <th>4</th>\n",
       "      <td>CNN “‘위안부 자발적 매춘부’ 주장 램지어, 국제적 반발 직면”</td>\n",
       "      <td>['‘전시 일본군 위안부는 강제 동원된 성노예가 아닌 자발적 매춘부였다’는 주장을 펴 논란이 된 미국 하버드대 존 마크 램지어(67) 로스쿨 교수가 국제적인 반발(backlash)에 직면했다고 미국 CNN 방송이 10일(현지 시각) 보도했다.', '서울 성북구 분수마당에 설치된 한·중 평화의소녀상. /연합뉴스', 'CNN은 램지어 교수가 위안부 피해자들이 자신들의 의지와 상관없이 전장에 보내진 위안부가 실제로는 매춘을 강요당한 것이 아니라 자신이 선택한 것이라고 주장하는 논문을 발표한 뒤 이 같은 반발이 불거졌다고 보도했다.', '국제 학술지 ‘국제 법·경제 리뷰’는 3월호에 램지어 교수가 쓴 ‘태평양 전쟁에서의 매춘 계약’이란 논문을 게재하기 앞서 최근 초록을 온라인에 올렸다. 핵심 내용은 ‘일본 정부가 조선 여성에게 매춘을 강요한 게 아니라, 매춘 모집업자와 예비 매춘부들이 적은 노동으로 돈을 벌려는 서로의 이해관계에 따라 자유로운 계약을 맺고 일본 고객을 상대로 장사했다’는 것이다.', 'CNN은 이런 램지어 교수의 논문을 규탄하는 목소리가 높아지고 있다고 전했다. 미 국무부가 “2차 세계대전 당시 일본군에 의한 성적인 목적의 여성 인신매매는 지독한 인권 침해”라며 “민감한 역사 문제를 대처하면서 지역과 국제적 공동 우선순위에 관한 협력은 진행돼야 한다”고 밝힌 입장도 소개했다.', 'CNN은 위안부 문제가 한·일 간 긴장을 불러일으키는 주제(tense topic)라며 일본이 1993년 고노(河野)담화에서 위안부 동원 강제성을 확인했지만 최근 일본은 위안부를 둘러싼 역사를 숨기려고 했다고 전했다.', '램지어는 일본법과 기업법을 강의하는 교수다. 18세까지 일본에서 자라 일본어에 능통하며, 미국 대학에서 일본사를 전공했다. 하버드대에서 공식 직함이 ‘미쓰비시 교수(일본 기업인 미쓰비시의 지원을 받았다는 의미)’이며, 일본 정부와 기업의 지원을 오래 받은 것으로 알려져 있다.', \"그는 지난 1월 일본 매체 기고에서도 “위안부가 성노예였다는 것은 순전한 허구”라고 주장했다. 2019년엔 ’1923년 간토(關東) 대지진 당시 조선인이 광범위한 범죄를 저지른 건 사실이며, 일본 자경단이 죽인 조선인 숫자는 그리 많지 않았다'는 논문을 내기도 했다.\"]</td>\n",
       "      <td>입력 2021.03.11 06:54 | 수정 2021.03.11 06:54</td>\n",
       "    </tr>\n",
       "  </tbody>\n",
       "</table>\n",
       "</div>"
      ],
      "text/plain": [
       "                                   Title  ...                                       Date\n",
       "0    찬성 2895 반대 0표...홍콩 장악 끝낸 중국의 전인대 투표  ...  입력 2021.03.11 21:49 | 수정 2021.03.11 21:49\n",
       "1     형제복지원 수사 검사 “원장 무죄는 대법원 집단무결주의 때문”  ...  입력 2021.03.11 14:30 | 수정 2021.03.11 14:30\n",
       "2              대법, 형제복지원 사건 책임자 무죄 판결 유지  ...  입력 2021.03.11 11:50 | 수정 2021.03.11 11:50\n",
       "3    UN 안보리, 미얀마 군부 규탄 성명… “아웅산 수지 석방하라”  ...  입력 2021.03.11 07:04 | 수정 2021.03.11 07:04\n",
       "4  CNN “‘위안부 자발적 매춘부’ 주장 램지어, 국제적 반발 직면”  ...  입력 2021.03.11 06:54 | 수정 2021.03.11 06:54\n",
       "\n",
       "[5 rows x 3 columns]"
      ]
     },
     "execution_count": 8,
     "metadata": {
      "tags": []
     },
     "output_type": "execute_result"
    }
   ],
   "source": [
    "df.head()"
   ]
  },
  {
   "cell_type": "code",
   "execution_count": null,
   "metadata": {
    "id": "s_8LNT9uIM1-"
   },
   "outputs": [],
   "source": [
    "df.to_csv(\"df.csv\",index=True, encoding='utf-8-sig')"
   ]
  },
  {
   "cell_type": "code",
   "execution_count": null,
   "metadata": {
    "id": "o-vw9sujP6Pj"
   },
   "outputs": [],
   "source": []
  }
 ],
 "metadata": {
  "colab": {
   "collapsed_sections": [],
   "name": "new_chosun_crawling.ipynb의 사본",
   "provenance": []
  },
  "kernelspec": {
   "display_name": "Python 3",
   "language": "python",
   "name": "python3"
  },
  "language_info": {
   "codemirror_mode": {
    "name": "ipython",
    "version": 3
   },
   "file_extension": ".py",
   "mimetype": "text/x-python",
   "name": "python",
   "nbconvert_exporter": "python",
   "pygments_lexer": "ipython3",
   "version": "3.8.3"
  }
 },
 "nbformat": 4,
 "nbformat_minor": 4
}
