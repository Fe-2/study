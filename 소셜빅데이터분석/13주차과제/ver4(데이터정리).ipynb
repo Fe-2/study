{
 "cells": [
  {
   "cell_type": "code",
   "execution_count": 1,
   "metadata": {},
   "outputs": [],
   "source": [
    "import time\n",
    "\n",
    "import pandas as pd\n",
    "import numpy as np\n",
    "\n",
    "import tomotopy as tp\n",
    "import pprint\n",
    "\n",
    "import collections\n",
    "import gensim\n",
    "from konlpy.tag import Komoran\n",
    "from konlpy.corpus import kolaw\n",
    "\n",
    "import matplotlib.pyplot as plt\n",
    "import matplotlib.colors as clr\n",
    "\n",
    "\n",
    "%matplotlib inline \n",
    "\n",
    "\n",
    "import matplotlib.font_manager as fm\n",
    "\n",
    "fm.get_fontconfig_fonts()\n",
    "fontpath = 'C:/Windows/Fonts/malgun.ttf' # For Windows\n",
    "font_name = fm.FontProperties(fname=fontpath).get_name()\n",
    "plt.rc('font', family=font_name)\n",
    "\n",
    "%matplotlib inline\n",
    "\n",
    "%config InlineBackend.figure_format = 'retina'\n",
    "\n"
   ]
  },
  {
   "cell_type": "code",
   "execution_count": 2,
   "metadata": {},
   "outputs": [],
   "source": [
    "전체mdl = tp.LDAModel.load('goodmodel_(k=52)_mdlresult(d,k).bin')\n",
    "동아mdl = tp.LDAModel.load('goodmodel_(k=36)_mdlresult(d).bin')\n",
    "경향mdl = tp.LDAModel.load('goodmodel_(k=40)_mdlresult(k).bin')"
   ]
  },
  {
   "cell_type": "code",
   "execution_count": 3,
   "metadata": {},
   "outputs": [],
   "source": [
    "mdl = 전체mdl\n",
    "\n",
    "topic_word = []\n",
    "topicw = []\n",
    "topics = []\n",
    "\n",
    "for k in range(mdl.k):\n",
    "    i = mdl.get_topic_words(k, top_n=10)\n",
    "    topicw = []\n",
    "    for j in i:\n",
    "        topicw.append(j[0])\n",
    "    topic_word.append(topicw)\n",
    "\n",
    "for i in topic_word:\n",
    "    x = ''\n",
    "    for j in range(10):\n",
    "        x += str(i[j])\n",
    "        if not j == 9:\n",
    "            x+= ', '\n",
    "        \n",
    "    topics.append(x)\n",
    "while True:\n",
    "    if len(topics) == 52:\n",
    "        break\n",
    "    topics.append('NAN')\n",
    "전체topics = topics\n"
   ]
  },
  {
   "cell_type": "code",
   "execution_count": 4,
   "metadata": {},
   "outputs": [],
   "source": [
    "mdl = 동아mdl\n",
    "\n",
    "topic_word = []\n",
    "topicw = []\n",
    "topics = []\n",
    "\n",
    "for k in range(mdl.k):\n",
    "    i = mdl.get_topic_words(k, top_n=10)\n",
    "    topicw = []\n",
    "    for j in i:\n",
    "        topicw.append(j[0])\n",
    "    topic_word.append(topicw)\n",
    "\n",
    "for i in topic_word:\n",
    "    x = ''\n",
    "    for j in range(10):\n",
    "        x += str(i[j])\n",
    "        if not j == 9:\n",
    "            x+= ', '\n",
    "        \n",
    "    topics.append(x)\n",
    "while True:\n",
    "    if len(topics) == 52:\n",
    "        break\n",
    "    topics.append('NAN')\n",
    "동아topics = topics\n"
   ]
  },
  {
   "cell_type": "code",
   "execution_count": 5,
   "metadata": {},
   "outputs": [],
   "source": [
    "mdl = 경향mdl\n",
    "\n",
    "topic_word = []\n",
    "topicw = []\n",
    "topics = []\n",
    "\n",
    "for k in range(mdl.k):\n",
    "    i = mdl.get_topic_words(k, top_n=10)\n",
    "    topicw = []\n",
    "    for j in i:\n",
    "        topicw.append(j[0])\n",
    "    topic_word.append(topicw)\n",
    "\n",
    "for i in topic_word:\n",
    "    x = ''\n",
    "    for j in range(10):\n",
    "        x += str(i[j])\n",
    "        if not j == 9:\n",
    "            x+= ', '\n",
    "        \n",
    "    topics.append(x)\n",
    "while True:\n",
    "    if len(topics) == 52:\n",
    "        break\n",
    "    topics.append('NAN')\n",
    "경향topics = topics\n"
   ]
  },
  {
   "cell_type": "code",
   "execution_count": 6,
   "metadata": {},
   "outputs": [],
   "source": [
    "df = pd.DataFrame(list(zip(전체topics, 동아topics, 경향topics)), columns =['전체', '동아', '경향'])"
   ]
  },
  {
   "cell_type": "code",
   "execution_count": 7,
   "metadata": {},
   "outputs": [],
   "source": [
    "df.to_csv('C:/Users/LEE/python/소셜빅데이터분석/기말과제/데이터/topics.csv')"
   ]
  },
  {
   "cell_type": "code",
   "execution_count": null,
   "metadata": {},
   "outputs": [],
   "source": []
  }
 ],
 "metadata": {
  "kernelspec": {
   "display_name": "Python 3",
   "language": "python",
   "name": "python3"
  },
  "language_info": {
   "codemirror_mode": {
    "name": "ipython",
    "version": 3
   },
   "file_extension": ".py",
   "mimetype": "text/x-python",
   "name": "python",
   "nbconvert_exporter": "python",
   "pygments_lexer": "ipython3",
   "version": "3.8.3"
  }
 },
 "nbformat": 4,
 "nbformat_minor": 4
}
