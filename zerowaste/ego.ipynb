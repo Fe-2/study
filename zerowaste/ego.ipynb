{
 "cells": [
  {
   "cell_type": "code",
   "execution_count": 1,
   "metadata": {},
   "outputs": [],
   "source": [
    "import pandas as pd"
   ]
  },
  {
   "cell_type": "code",
   "execution_count": 2,
   "metadata": {},
   "outputs": [],
   "source": [
    "df = pd.read_csv('df_ego_N=전체.csv')"
   ]
  },
  {
   "cell_type": "code",
   "execution_count": 184,
   "metadata": {},
   "outputs": [],
   "source": [
    "이전  = df['이전'].dropna().to_list()\n",
    "전체  = df['전체'].dropna().to_list()\n",
    "이후  = df['이후'].dropna().to_list()"
   ]
  },
  {
   "cell_type": "code",
   "execution_count": 278,
   "metadata": {},
   "outputs": [
    {
     "name": "stdout",
     "output_type": "stream",
     "text": [
      "금지    \t대여    \t마을\n",
      "면보    \t비닐줄이기    \t쓸모\n",
      "\n",
      "\n",
      "가격    \t가방    \t가정간편식\n",
      "가족    \t가치    \t개인    \t거절\n",
      "걱정    \t건강    \t건강식품    \t검색    \t견곡콩\n",
      "계획    \t고민    \t공간    \t공병    \t공부    \t공유\n",
      "과대포장    \t과정    \t관심    \t구경    \t구매    \t그릇    \t기대\n",
      "기록    \t기부    \t기사    \t기업    \t껍질    \t나무    \t낭비    \t냉장고\n",
      "노력    \t다이어트    \t다짐    \t다회용빨대    \t다회용품    \t대체    \t도시락    \t도움    \t도전\n",
      "동네    \t동물    \t디저트    \t뚜껑    \t라벨스티커    \t랩    \t레스웨이스트    \t리필제품    \t마트    \t맛집\n",
      "매장    \t모습    \t모임    \t목표    \t문제    \t물티슈    \t미세플라스틱    \t발견    \t발생    \t밥    \t방법\n",
      "배달음식    \t배송    \t벌크    \t베이커리    \t변화    \t보관    \t보호    \t복지    \t부담    \t부족    \t분리    \t분리수거\n",
      "분해    \t비건    \t비닐    \t비료    \t빨대    \t사이즈    \t사장    \t사회    \t살림    \t삶    \t생산    \t생수    \t서비스\n",
      "선물    \t선택    \t설거지    \t설명    \t성공    \t세제    \t세척    \t세트    \t소개    \t소독    \t소분    \t소비    \t소비자    \t소재\n",
      "소풍    \t수세미    \t수확    \t스테인리스    \t스티로폼    \t습관    \t시골    \t시작    \t시장    \t식기    \t식단    \t식사    \t식재료    \t신경    \t실리콘\n",
      "실천    \t실천가    \t실천기업    \t실천용기    \t실패    \t쓰레기    \t아이    \t아이스    \t아이스팩    \t알맹이    \t애용    \t에스엔에스    \t여행    \t영향    \t온라인장보기\n",
      "외식    \t외출    \t요리    \t운동    \t움직임    \t위생    \t유기농    \t유기농마트    \t유리    \t유행    \t육류    \t음료    \t음식    \t음식물쓰레기\n",
      "응원    \t의미    \t인증    \t일상    \t일회용커트러리    \t일회용컵    \t일회용품    \t장바구니    \t장보기    \t재사용랩    \t재활용    \t절약    \t절제\n",
      "접시    \t정리    \t정부기관    \t정수기    \t제거    \t제공    \t제로웨이스트샵    \t제작    \t제품    \t종류    \t종이    \t죄책감\n",
      "주류    \t주머니    \t주방    \t주부    \t중고거래    \t지속가능    \t지퍼백    \t직원    \t진행    \t집    \t집밥\n",
      "차    \t챌린지캠페인    \t처리    \t청과류    \t체험    \t초보    \t추구    \t추천    \t친구    \t친절\n",
      "친환경    \t친환경세제    \t친환경수세미    \t친환경포장    \t친환경행주소재    \t칭찬    \t카페    \t캡슐    \t커트러리\n",
      "커피    \t컵    \t케이스    \t콘텐츠    \t택배    \t텀블러    \t텃밭가꾸기    \t테이크아웃\n",
      "테트라팩    \t투어    \t티슈    \t팁    \t판매    \t패스트푸드    \t페트\n",
      "포장    \t포장재    \t프로젝트    \t플라스틱    \t플라스틱프리    \t필요\n",
      "필터    \t학교    \t할인    \t해산물    \t핸드메이드\n",
      "행주    \t홀더    \t환경단체    \t환경보호\n",
      "환경오염    \t활용    \t회사\n",
      "후기    \t휴대\n",
      "\n",
      "감동    \t거품    \t결과\n",
      "경험    \t공감    \t공생    \t교체\n",
      "기준    \t기회    \t내용물    \t냉동    \t냉장고파먹기\n",
      "단점    \t댓글    \t디자인    \t떡볶이가게    \t레시피    \t로컬\n",
      "먼지    \t명절    \t무료    \t반납    \t변명    \t사람    \t성분\n",
      "세탁    \t수거    \t스트레스    \t식생활    \t식탁    \t신념    \t실천셀럽    \t아이디어\n",
      "안심    \t약속    \t어려움    \t에너지    \t여유    \t영수증    \t영향력    \t예약    \t온라인\n",
      "용기내    \t용도    \t위생장갑    \t유통기한    \t유해물질    \t육식    \t음식점    \t의식    \t이터블푸드\n",
      "이해    \t인식    \t인터넷    \t자극    \t자랑    \t자원    \t자취    \t장점\n",
      "정보    \t제도    \t제로헝거    \t제비족    \t증가    \t지구온난화    \t집콕\n",
      "충격    \t취미    \t취향    \t캠핑    \t코로나    \t코코넛\n",
      "코팅    \t키트    \t탄소    \t탄소발자국    \t패브릭\n",
      "패스트푸드점    \t프로그램    \t해결    \t환경호르몬\n",
      "환영    \t효과    \t힐링\n",
      "\n",
      "\n"
     ]
    }
   ],
   "source": [
    "global line_save\n",
    "global last_save\n",
    "\n",
    "for X in [이전,전체,이후]:\n",
    "    first = 0\n",
    "    last = 0\n",
    "    cnt = 0\n",
    "\n",
    "    for line in range(3,len(X)):\n",
    "        last += line\n",
    "        cnt += len(''.join(X[first:last]))\n",
    "\n",
    "        if cnt < len(''.join(X))/2:\n",
    "            print('    \\t'.join(X[first:last]))\n",
    "\n",
    "        elif cnt >= len(''.join(X))/2:\n",
    "            last -= 1\n",
    "            print('    \\t'.join(X[first:last]))\n",
    "            line_save = line\n",
    "            last_save = last\n",
    "            break\n",
    "\n",
    "        first = last    \n",
    "\n",
    "    first = last_save\n",
    "    for line in range(line_save-2,0,-1):\n",
    "        last = first + line\n",
    "        print('    \\t'.join(X[first:last]))\n",
    "        first = last"
   ]
  },
  {
   "cell_type": "code",
   "execution_count": 271,
   "metadata": {},
   "outputs": [
    {
     "name": "stdout",
     "output_type": "stream",
     "text": [
      "가격   가방   가정간편식\n",
      "가족   가치   개인   거절\n",
      "걱정   건강   건강식품   검색   견곡콩\n",
      "계획   고민   공간   공병   공부   공유\n",
      "과대포장   과정   관심   구경   구매   그릇   기대\n",
      "기록   기부   기사   기업   껍질   나무   낭비   냉장고\n",
      "노력   다이어트   다짐   다회용빨대   다회용품   대체   도시락   도움   도전\n",
      "동네   동물   디저트   뚜껑   라벨스티커   랩   레스웨이스트   리필제품   마트   맛집\n",
      "매장   모습   모임   목표   문제   물티슈   미세플라스틱   발견   발생   밥   방법\n",
      "배달음식   배송   벌크   베이커리   변화   보관   보호   복지   부담   부족   분리   분리수거\n",
      "분해   비건   비닐   비료   빨대   사이즈   사장   사회   살림   삶   생산   생수   서비스\n",
      "선물   선택   설거지   설명   성공   세제   세척   세트   소개   소독   소분   소비   소비자   소재\n",
      "소풍   수세미   수확   스테인리스   스티로폼   습관   시골   시작   시장   식기   식단   식사   식재료   신경   실리콘\n",
      "실천   실천가   실천기업   실천용기   실패   쓰레기   아이   아이스   아이스팩   알맹이   애용   에스엔에스   여행   영향   온라인장보기\n",
      "외식   외출   요리   운동   움직임   위생   유기농   유기농마트   유리   유행   육류   음료   음식   음식물쓰레기\n",
      "응원   의미   인증   일상   일회용커트러리   일회용컵   일회용품   장바구니   장보기   재사용랩   재활용   절약   절제\n",
      "접시   정리   정부기관   정수기   제거   제공   제로웨이스트샵   제작   제품   종류   종이   죄책감\n",
      "주류   주머니   주방   주부   중고거래   지속가능   지퍼백   직원   진행   집   집밥\n",
      "차   챌린지캠페인   처리   청과류   체험   초보   추구   추천   친구   친절\n",
      "친환경   친환경세제   친환경수세미   친환경포장   친환경행주소재   칭찬   카페   캡슐   커트러리\n",
      "커피   컵   케이스   콘텐츠   택배   텀블러   텃밭가꾸기   테이크아웃\n",
      "테트라팩   투어   티슈   팁   판매   패스트푸드   페트\n",
      "포장   포장재   프로젝트   플라스틱   플라스틱프리   필요\n",
      "필터   학교   할인   해산물   핸드메이드\n",
      "행주   홀더   환경단체   환경보호\n",
      "환경오염   활용   회사\n",
      "후기   휴대\n",
      "\n"
     ]
    }
   ],
   "source": [
    "global line_save\n",
    "global last_save\n",
    "\n",
    "first = 0\n",
    "last = 0\n",
    "cnt = 0\n",
    "\n",
    "for line in range(3,len(전체)):\n",
    "    last += line\n",
    "    cnt += len(''.join(전체[first:last]))\n",
    "    \n",
    "    if cnt < len(''.join(전체))/2:\n",
    "        print('   '.join(전체[first:last]))\n",
    "    \n",
    "    elif cnt >= len(''.join(전체))/2:\n",
    "        last -= 1\n",
    "        print('   '.join(전체[first:last]))\n",
    "        line_save = line\n",
    "        last_save = last\n",
    "        break\n",
    "        \n",
    "    first = last    \n",
    "    \n",
    "first = last_save\n",
    "for line in range(line_save-2,0,-1):\n",
    "    last = first + line\n",
    "    print('   '.join(전체[first:last]))\n",
    "    first = last"
   ]
  },
  {
   "cell_type": "code",
   "execution_count": 259,
   "metadata": {},
   "outputs": [
    {
     "name": "stdout",
     "output_type": "stream",
     "text": [
      "감동   거품\n",
      "결과   경험   공감\n",
      "공생   교체   기준   기회\n",
      "내용물   냉동   냉장고파먹기   단점   댓글\n",
      "디자인   떡볶이가게   레시피   로컬   먼지   명절\n",
      "무료   반납   변명   사람   성분   세탁   수거\n",
      "스트레스   식생활   식탁   신념   실천셀럽   아이디어   안심   약속\n",
      "어려움   에너지   여유   영수증   영향력   예약   온라인   용기내   용도\n",
      "위생장갑   유통기한   유해물질   육식   음식점   의식   이터블푸드   이해   인식   인터넷\n",
      "자극   자랑   자원   자취   장점   정보   제도   제로헝거\n",
      "제비족   증가   지구온난화   집콕   충격   취미   취향\n",
      "캠핑   코로나   코코넛   코팅   키트   탄소\n",
      "탄소발자국   패브릭   패스트푸드점   프로그램   해결\n",
      "환경호르몬   환영   효과   힐링\n",
      "\n",
      "\n",
      "\n"
     ]
    }
   ],
   "source": [
    "global line_save\n",
    "global last_save\n",
    "\n",
    "first = 0\n",
    "last = 0\n",
    "cnt = 0\n",
    "\n",
    "for line in range(2,len(이후)):\n",
    "    last += line\n",
    "    print('   '.join(이후[first:last]))\n",
    "    cnt += len(''.join(이후[first:last]))\n",
    "    first = last\n",
    "    if cnt >= len(''.join(이후))/2:\n",
    "        line_save = line\n",
    "        last_save = last\n",
    "        break\n",
    "        \n",
    "first = last_save\n",
    "for line in range(line_save-2,0,-1):\n",
    "    last = first + line\n",
    "    print('   '.join(이후[first:last]))\n",
    "    first = last"
   ]
  },
  {
   "cell_type": "code",
   "execution_count": null,
   "metadata": {},
   "outputs": [],
   "source": []
  }
 ],
 "metadata": {
  "kernelspec": {
   "display_name": "Python 3",
   "language": "python",
   "name": "python3"
  },
  "language_info": {
   "codemirror_mode": {
    "name": "ipython",
    "version": 3
   },
   "file_extension": ".py",
   "mimetype": "text/x-python",
   "name": "python",
   "nbconvert_exporter": "python",
   "pygments_lexer": "ipython3",
   "version": "3.8.3"
  }
 },
 "nbformat": 4,
 "nbformat_minor": 4
}
