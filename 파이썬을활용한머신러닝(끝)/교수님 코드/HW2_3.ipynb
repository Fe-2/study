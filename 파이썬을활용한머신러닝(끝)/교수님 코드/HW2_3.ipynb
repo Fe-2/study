{
 "cells": [
  {
   "cell_type": "code",
   "execution_count": 10,
   "metadata": {},
   "outputs": [
    {
     "name": "stdin",
     "output_type": "stream",
     "text": [
      "Input the name of 1th student : a\n",
      "Input the math score of 1th student : 32\n",
      "Input the english score of 1th student : 123\n",
      "Input the science score of 1th student : 321\n",
      "\n",
      "Keep Moving? (y/n) : y\n"
     ]
    },
    {
     "name": "stdout",
     "output_type": "stream",
     "text": [
      "\n",
      "\n"
     ]
    },
    {
     "name": "stdin",
     "output_type": "stream",
     "text": [
      "Input the name of 2th student : b\n",
      "Input the math score of 2th student : 12\n",
      "Input the english score of 2th student : 34\n",
      "Input the science score of 2th student : 42\n",
      "\n",
      "Keep Moving? (y/n) : y\n"
     ]
    },
    {
     "name": "stdout",
     "output_type": "stream",
     "text": [
      "\n",
      "\n"
     ]
    },
    {
     "name": "stdin",
     "output_type": "stream",
     "text": [
      "Input the name of 3th student : c\n",
      "Input the math score of 3th student : 213\n",
      "Input the english score of 3th student : 341\n",
      "Input the science score of 3th student : 23\n",
      "\n",
      "Keep Moving? (y/n) : n\n"
     ]
    }
   ],
   "source": [
    "f = open(\"class.txt\", 'w')\n",
    "f.write(\"Name\\tEnglish\\tMath\\tScience\\n\")\n",
    "\n",
    "cnt = 0\n",
    "while True:\n",
    "    cnt +=1\n",
    "    name = input(f'Input the name of {cnt}th student :')\n",
    "    math = input(f'Input the math score of {cnt}th student :')\n",
    "    english = input(f'Input the english score of {cnt}th student :')\n",
    "    science = input(f'Input the science score of {cnt}th student :')\n",
    "    f.write(f'{name}\\t{english}\\t{math}\\t{science}\\n')\n",
    "    \n",
    "    YN = input('\\nKeep Moving? (y/n) :') \n",
    "    if YN == 'n':\n",
    "        break\n",
    "    else:\n",
    "        print('\\n')\n",
    "    \n",
    "f.close()"
   ]
  }
 ],
 "metadata": {
  "kernelspec": {
   "display_name": "Python 3",
   "language": "python",
   "name": "python3"
  },
  "language_info": {
   "codemirror_mode": {
    "name": "ipython",
    "version": 3
   },
   "file_extension": ".py",
   "mimetype": "text/x-python",
   "name": "python",
   "nbconvert_exporter": "python",
   "pygments_lexer": "ipython3",
   "version": "3.8.3"
  }
 },
 "nbformat": 4,
 "nbformat_minor": 4
}
