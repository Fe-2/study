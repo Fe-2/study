{
 "cells": [
  {
   "cell_type": "code",
   "execution_count": null,
   "id": "d8fa6a27",
   "metadata": {},
   "outputs": [],
   "source": [
    "from sklearn.cluster import KMeans\n",
    "import matplotlib.pyplot as plt\n",
    "from sklearn import preprocessing\n",
    "import pandas as pd"
   ]
  },
  {
   "cell_type": "code",
   "execution_count": null,
   "id": "285e8d8a",
   "metadata": {},
   "outputs": [],
   "source": [
    "data = pd.read_excel('CustomerDataSet.xls')  # !pip install xlrd\n",
    "data.head()"
   ]
  },
  {
   "cell_type": "code",
   "execution_count": null,
   "id": "673a821c",
   "metadata": {},
   "outputs": [],
   "source": [
    "processed_data = data.copy()\n",
    "scaler = preprocessing.MinMaxScaler()\n",
    "processed_data[['ItemsBought', 'ItemsReturned']] = scaler.fit_transform(processed_data[['ItemsBought', 'ItemsReturned']])"
   ]
  },
  {
   "cell_type": "code",
   "execution_count": null,
   "id": "f99ef496",
   "metadata": {},
   "outputs": [],
   "source": [
    "processed_data[['ItemsBought', 'ItemsReturned']]"
   ]
  },
  {
   "cell_type": "code",
   "execution_count": null,
   "id": "22cc6943",
   "metadata": {},
   "outputs": [],
   "source": [
    "plt.figure(figsize = (10, 6))\n",
    "\n",
    "for i in range(1, 7):\n",
    "    \n",
    "    estimator = KMeans(n_clusters = i)\n",
    "    ids = estimator.fit_predict(processed_data[['ItemsBought', 'ItemsReturned']])\n",
    "    \n",
    "    plt.subplot(3, 2, i)\n",
    "    plt.tight_layout()\n",
    "    plt.title(\"K value = {}\".format(i))\n",
    "    plt.xlabel('ItemsBought')\n",
    "    plt.ylabel('ItemsReturned')\n",
    "    \n",
    "    plt.scatter(processed_data['ItemsBought'], processed_data['ItemsReturned'], c=ids)\n",
    "    \n",
    "plt.show()"
   ]
  },
  {
   "cell_type": "code",
   "execution_count": null,
   "id": "840cd90d",
   "metadata": {},
   "outputs": [],
   "source": [
    "estimator = KMeans(n_clusters = 3)\n",
    "cluster_ids = estimator.fit_predict(processed_data[['ItemsBought', 'ItemsReturned']])\n",
    "\n",
    "plt.scatter(processed_data['ItemsBought'], processed_data['ItemsReturned'], c=cluster_ids)\n",
    "\n",
    "for index, c_id, bought, returned, zip_code, product in processed_data.itertuples():\n",
    "    plt.annotate(\"Clu{}: {}\".format(cluster_ids[index], product),(bought, returned))\n",
    "    \n",
    "plt.xlabel('ItemsBought')\n",
    "plt.ylabel('ItemsReturned')"
   ]
  },
  {
   "cell_type": "code",
   "execution_count": null,
   "id": "1eacc717",
   "metadata": {},
   "outputs": [],
   "source": [
    "data[cluster_ids == 0]"
   ]
  },
  {
   "cell_type": "code",
   "execution_count": null,
   "id": "871219cb",
   "metadata": {},
   "outputs": [],
   "source": [
    "data[cluster_ids == 1]"
   ]
  },
  {
   "cell_type": "code",
   "execution_count": null,
   "id": "ed6c192c",
   "metadata": {},
   "outputs": [],
   "source": [
    "data[cluster_ids == 2]"
   ]
  },
  {
   "cell_type": "code",
   "execution_count": null,
   "id": "86c273fe",
   "metadata": {},
   "outputs": [],
   "source": [
    "plt.scatter(data['ItemsBought'], data['ItemsReturned'], c=cluster_ids)\n",
    "\n",
    "for (index, c_id, bought, returned, zip_code, product) in data.itertuples():\n",
    "    plt.annotate(zip_code,(bought+0.6, returned+0.6))\n",
    "    \n",
    "plt.xlabel('ItemsBought')\n",
    "plt.ylabel('ItemsReturned')\n",
    "plt.show()"
   ]
  },
  {
   "cell_type": "code",
   "execution_count": null,
   "id": "faed8385",
   "metadata": {},
   "outputs": [],
   "source": []
  }
 ],
 "metadata": {
  "kernelspec": {
   "display_name": "Python 3 (ipykernel)",
   "language": "python",
   "name": "python3"
  },
  "language_info": {
   "codemirror_mode": {
    "name": "ipython",
    "version": 3
   },
   "file_extension": ".py",
   "mimetype": "text/x-python",
   "name": "python",
   "nbconvert_exporter": "python",
   "pygments_lexer": "ipython3",
   "version": "3.9.7"
  }
 },
 "nbformat": 4,
 "nbformat_minor": 5
}
