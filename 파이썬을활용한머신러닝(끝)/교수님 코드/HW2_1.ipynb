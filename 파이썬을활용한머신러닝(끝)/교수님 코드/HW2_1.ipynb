{
 "cells": [
  {
   "cell_type": "code",
   "execution_count": 2,
   "metadata": {},
   "outputs": [
    {
     "name": "stdin",
     "output_type": "stream",
     "text": [
      "Input First Number :  3\n"
     ]
    },
    {
     "name": "stdout",
     "output_type": "stream",
     "text": [
      "[3]\n"
     ]
    },
    {
     "name": "stdin",
     "output_type": "stream",
     "text": [
      "Input Second Number :  25\n"
     ]
    },
    {
     "name": "stdout",
     "output_type": "stream",
     "text": [
      "[25, 3]\n"
     ]
    },
    {
     "name": "stdin",
     "output_type": "stream",
     "text": [
      "Input Third Number :  5\n"
     ]
    },
    {
     "name": "stdout",
     "output_type": "stream",
     "text": [
      "[25, 3, 5]\n",
      "[3, 5, 25]\n",
      "[25, 5, 3]\n"
     ]
    }
   ],
   "source": [
    "ls = []\n",
    "a = int(input('Input First Number : '))\n",
    "ls.append(a)\n",
    "print(ls)\n",
    "b = int(input('Input Second Number : '))\n",
    "ls.append(b)\n",
    "ls.reverse()\n",
    "print(ls)\n",
    "c = int(input('Input Third Number : '))\n",
    "ls.append(c)\n",
    "print(ls)\n",
    "print(sorted(ls))\n",
    "print(sorted(ls,reverse = True))"
   ]
  }
 ],
 "metadata": {
  "kernelspec": {
   "display_name": "Python 3",
   "language": "python",
   "name": "python3"
  },
  "language_info": {
   "codemirror_mode": {
    "name": "ipython",
    "version": 3
   },
   "file_extension": ".py",
   "mimetype": "text/x-python",
   "name": "python",
   "nbconvert_exporter": "python",
   "pygments_lexer": "ipython3",
   "version": "3.8.3"
  }
 },
 "nbformat": 4,
 "nbformat_minor": 4
}
