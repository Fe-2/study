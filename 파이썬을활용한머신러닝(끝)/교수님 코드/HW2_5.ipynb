{
 "cells": [
  {
   "cell_type": "code",
   "execution_count": 1,
   "metadata": {},
   "outputs": [
    {
     "name": "stdout",
     "output_type": "stream",
     "text": [
      "alice's grade : B\n"
     ]
    }
   ],
   "source": [
    "alice = {\n",
    "        'name' : 'Alice',\n",
    "        'homework' : 80,\n",
    "        'tests' : [75, 90]\n",
    "        }\n",
    "\n",
    "def Grade(dic):\n",
    "    \n",
    "    total = dic['homework']*0.2\n",
    "    total += dic['tests'][0]*0.3\n",
    "    total += dic['tests'][1]*0.5\n",
    "    if total >= 90:\n",
    "        G = 'A'\n",
    "    elif total >= 80:\n",
    "        G = 'B'\n",
    "    elif total >= 70:\n",
    "        G = 'C'\n",
    "    elif total >= 60:\n",
    "        G = 'D'\n",
    "    else:\n",
    "        G = 'F'\n",
    "    name = dic['name']\n",
    "    \n",
    "    return G\n",
    "\n",
    "\n",
    "    \n",
    "print(f'alice\\'s grade : {Grade(alice)}')"
   ]
  }
 ],
 "metadata": {
  "kernelspec": {
   "display_name": "Python 3",
   "language": "python",
   "name": "python3"
  },
  "language_info": {
   "codemirror_mode": {
    "name": "ipython",
    "version": 3
   },
   "file_extension": ".py",
   "mimetype": "text/x-python",
   "name": "python",
   "nbconvert_exporter": "python",
   "pygments_lexer": "ipython3",
   "version": "3.8.3"
  }
 },
 "nbformat": 4,
 "nbformat_minor": 4
}
