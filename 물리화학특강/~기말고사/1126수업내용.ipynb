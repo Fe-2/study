{
 "cells": [
  {
   "cell_type": "code",
   "execution_count": 4,
   "metadata": {},
   "outputs": [],
   "source": [
    "import rdkit\n",
    "import rdkit.Chem as Chem\n",
    "import rdkit.Chem.rdMolDescriptors\n",
    "\n",
    "from rdkit.Chem.rdMolDescriptors import CalcExactMolWt, CalcCrippenDescriptors, CalcNumLipinskiHBA, CalcNumLipinskiHBD, CalcFractionCSP3, CalcNumRotatableBonds, CalcNumRings, CalcTPSA, CalcNumAromaticRings\n",
    "\n",
    "\n",
    "import pandas as pd\n",
    "import matplotlib as mpl\n",
    "import matplotlib.pyplot as plt\n",
    "\n",
    "\n",
    "import numpy as np\n",
    "\n",
    "import sklearn\n",
    "import sklearn.model_selection\n",
    "\n",
    "\n",
    "from sklearn.ensemble import RandomForestClassifier\n",
    "from sklearn.ensemble import RandomForestRegressor\n",
    "from sklearn.metrics import precision_score, recall_score, f1_score\n",
    "from sklearn.metrics import mean_squared_error\n"
   ]
  },
  {
   "cell_type": "code",
   "execution_count": 5,
   "metadata": {},
   "outputs": [
    {
     "data": {
      "text/html": [
       "<div>\n",
       "<style scoped>\n",
       "    .dataframe tbody tr th:only-of-type {\n",
       "        vertical-align: middle;\n",
       "    }\n",
       "\n",
       "    .dataframe tbody tr th {\n",
       "        vertical-align: top;\n",
       "    }\n",
       "\n",
       "    .dataframe thead th {\n",
       "        text-align: right;\n",
       "    }\n",
       "</style>\n",
       "<table border=\"1\" class=\"dataframe\">\n",
       "  <thead>\n",
       "    <tr style=\"text-align: right;\">\n",
       "      <th></th>\n",
       "      <th>SMILES</th>\n",
       "      <th>pIC50</th>\n",
       "    </tr>\n",
       "  </thead>\n",
       "  <tbody>\n",
       "    <tr>\n",
       "      <th>0</th>\n",
       "      <td>O=S(=O)(Nc1cccc(-c2cnc3ccccc3n2)c1)c1cccs1</td>\n",
       "      <td>4.26</td>\n",
       "    </tr>\n",
       "    <tr>\n",
       "      <th>1</th>\n",
       "      <td>O=c1cc(-c2nc(-c3ccc(-c4cn(CCP(=O)(O)O)nn4)cc3)...</td>\n",
       "      <td>4.34</td>\n",
       "    </tr>\n",
       "    <tr>\n",
       "      <th>2</th>\n",
       "      <td>NC(=O)c1ccc2c(c1)nc(C1CCC(O)CC1)n2CCCO</td>\n",
       "      <td>4.53</td>\n",
       "    </tr>\n",
       "    <tr>\n",
       "      <th>3</th>\n",
       "      <td>NCCCn1c(C2CCNCC2)nc2cc(C(N)=O)ccc21</td>\n",
       "      <td>4.56</td>\n",
       "    </tr>\n",
       "    <tr>\n",
       "      <th>4</th>\n",
       "      <td>CNC(=S)Nc1cccc(-c2cnc3ccccc3n2)c1</td>\n",
       "      <td>4.59</td>\n",
       "    </tr>\n",
       "    <tr>\n",
       "      <th>...</th>\n",
       "      <td>...</td>\n",
       "      <td>...</td>\n",
       "    </tr>\n",
       "    <tr>\n",
       "      <th>1906</th>\n",
       "      <td>CC(=O)N1CCCCC(Nc2ncccc2-c2cnc3[nH]ccc3n2)C1</td>\n",
       "      <td>10.72</td>\n",
       "    </tr>\n",
       "    <tr>\n",
       "      <th>1907</th>\n",
       "      <td>CN1CCN(c2ncc(-c3cnc4[nH]ccc4n3)c(NC3CCCN(S(=O)...</td>\n",
       "      <td>10.76</td>\n",
       "    </tr>\n",
       "    <tr>\n",
       "      <th>1908</th>\n",
       "      <td>CC1CN(S(=O)(=O)CC2CCC(N(C)c3[nH]cnc4nccc3-4)CC...</td>\n",
       "      <td>10.78</td>\n",
       "    </tr>\n",
       "    <tr>\n",
       "      <th>1909</th>\n",
       "      <td>CS(=O)(=O)N1CCC(Nc2ncccc2-c2cnc3[nH]ccc3n2)C1</td>\n",
       "      <td>10.97</td>\n",
       "    </tr>\n",
       "    <tr>\n",
       "      <th>1910</th>\n",
       "      <td>COC(=O)N1CCCCC(Nc2ncccc2-c2cnc3[nH]ccc3n2)C1</td>\n",
       "      <td>10.97</td>\n",
       "    </tr>\n",
       "  </tbody>\n",
       "</table>\n",
       "<p>1911 rows × 2 columns</p>\n",
       "</div>"
      ],
      "text/plain": [
       "                                                 SMILES  pIC50\n",
       "0            O=S(=O)(Nc1cccc(-c2cnc3ccccc3n2)c1)c1cccs1   4.26\n",
       "1     O=c1cc(-c2nc(-c3ccc(-c4cn(CCP(=O)(O)O)nn4)cc3)...   4.34\n",
       "2                NC(=O)c1ccc2c(c1)nc(C1CCC(O)CC1)n2CCCO   4.53\n",
       "3                   NCCCn1c(C2CCNCC2)nc2cc(C(N)=O)ccc21   4.56\n",
       "4                     CNC(=S)Nc1cccc(-c2cnc3ccccc3n2)c1   4.59\n",
       "...                                                 ...    ...\n",
       "1906        CC(=O)N1CCCCC(Nc2ncccc2-c2cnc3[nH]ccc3n2)C1  10.72\n",
       "1907  CN1CCN(c2ncc(-c3cnc4[nH]ccc4n3)c(NC3CCCN(S(=O)...  10.76\n",
       "1908  CC1CN(S(=O)(=O)CC2CCC(N(C)c3[nH]cnc4nccc3-4)CC...  10.78\n",
       "1909      CS(=O)(=O)N1CCC(Nc2ncccc2-c2cnc3[nH]ccc3n2)C1  10.97\n",
       "1910       COC(=O)N1CCCCC(Nc2ncccc2-c2cnc3[nH]ccc3n2)C1  10.97\n",
       "\n",
       "[1911 rows x 2 columns]"
      ]
     },
     "execution_count": 5,
     "metadata": {},
     "output_type": "execute_result"
    }
   ],
   "source": [
    "data  = pd.read_csv(\"jak2_data.csv\")\n",
    "data"
   ]
  },
  {
   "cell_type": "code",
   "execution_count": 6,
   "metadata": {},
   "outputs": [],
   "source": [
    "# Molecular descriptors\n",
    "\n",
    "# 1. Molecular Weight\n",
    "# 2. Number of hydrogen bond acceptors. \n",
    "# 3. Number of hydrogen bond donors. \n",
    "# 4. logP\n",
    "# 5. fraction of SP3 hybridized carbon (sp3 혼성을 가지는 탄소의 개수)\n",
    "# 6. Number of rotatable bond. \n",
    "# 7. Number of rings. \n",
    "# 8. TPSA: polar surface area. (분자의 표면적 넓이, 단위: A^2)\n",
    "# 9. Number of Aramatic Rings (방향성 고리의 개수)\n",
    "\n"
   ]
  },
  {
   "cell_type": "code",
   "execution_count": 7,
   "metadata": {},
   "outputs": [],
   "source": [
    "# temp  = [ \"A\", \"B\",\"C\",\"D\",\"E\"]\n",
    "# for i, item in enumerate(temp):\n",
    "#     print(i, item)\n",
    "\n",
    "# i를 바로 나타낼수있음"
   ]
  },
  {
   "cell_type": "code",
   "execution_count": 8,
   "metadata": {},
   "outputs": [],
   "source": [
    "properties = {\"MW\":[], \"LogP\":[], \"HBA\":[], \"HBD\": [], \n",
    "              \"CSP3\": [], \"NumRotBond\": [], \"NumRings\": [], \"TPSA\": [], \n",
    "              \"NumAromaticRings\": [], \"pIC50\": []}\n",
    "\n",
    "for idx, smiles in enumerate(data[\"SMILES\"]): # Smiles 열에서 반복.\n",
    "    mol = Chem.MolFromSmiles(smiles)\n",
    "    if mol == None: \n",
    "        continue\n",
    "        \n",
    "    properties[\"MW\"].append(CalcExactMolWt(mol))\n",
    "    properties[\"LogP\"].append(CalcCrippenDescriptors(mol)[0])\n",
    "    properties[\"HBA\"].append(CalcNumLipinskiHBA(mol))\n",
    "    properties[\"HBD\"].append(CalcNumLipinskiHBD(mol))\n",
    "    properties[\"CSP3\"].append(CalcFractionCSP3(mol))\n",
    "    properties[\"NumRotBond\"].append(CalcNumRotatableBonds(mol))\n",
    "    properties[\"NumRings\"].append(CalcNumRings(mol))\n",
    "    properties[\"TPSA\"].append(CalcTPSA(mol))\n",
    "    properties[\"NumAromaticRings\"].append(CalcNumAromaticRings(mol))\n",
    "    properties[\"pIC50\"].append(data[\"pIC50\"].iloc[idx]) #idx번째의 것을 가지고온다"
   ]
  },
  {
   "cell_type": "code",
   "execution_count": 9,
   "metadata": {},
   "outputs": [],
   "source": [
    "new_data = pd.DataFrame(properties)"
   ]
  },
  {
   "cell_type": "code",
   "execution_count": 10,
   "metadata": {},
   "outputs": [],
   "source": [
    "X = new_data.iloc[:, :-1] # 전체행, 마지막열 직전까지.\n",
    "y = new_data.iloc[:, -1] # 전체행, 마지막열의 데이터를 추출."
   ]
  },
  {
   "cell_type": "code",
   "execution_count": 11,
   "metadata": {},
   "outputs": [],
   "source": [
    "X_train, X_test, y_train, y_test = sklearn.model_selection.train_test_split(X, y, test_size=0.2, random_state=42)"
   ]
  },
  {
   "cell_type": "code",
   "execution_count": 12,
   "metadata": {},
   "outputs": [],
   "source": [
    "my_model = RandomForestRegressor()"
   ]
  },
  {
   "cell_type": "code",
   "execution_count": 13,
   "metadata": {},
   "outputs": [
    {
     "data": {
      "text/plain": [
       "RandomForestRegressor()"
      ]
     },
     "execution_count": 13,
     "metadata": {},
     "output_type": "execute_result"
    }
   ],
   "source": [
    "my_model.fit(X_train, y_train)"
   ]
  },
  {
   "cell_type": "code",
   "execution_count": 14,
   "metadata": {},
   "outputs": [],
   "source": [
    "y_pred= my_model.predict(X_test)"
   ]
  },
  {
   "cell_type": "code",
   "execution_count": 15,
   "metadata": {},
   "outputs": [
    {
     "data": {
      "image/png": "[encoded data removed]",
      "text/plain": [
       "<Figure size 432x288 with 1 Axes>"
      ]
     },
     "metadata": {
      "needs_background": "light"
     },
     "output_type": "display_data"
    }
   ],
   "source": [
    "plt.scatter(y_test,y_pred)\n",
    "plt.xlabel(\"exp pIC50\")\n",
    "plt.ylabel(\"pred pIC50\")\n",
    "plt.grid()"
   ]
  },
  {
   "cell_type": "code",
   "execution_count": 16,
   "metadata": {},
   "outputs": [
    {
     "data": {
      "text/plain": [
       "<matplotlib.legend.Legend at 0x1a200604070>"
      ]
     },
     "execution_count": 16,
     "metadata": {},
     "output_type": "execute_result"
    },
    {
     "data": {
      "image/png": "[encoded data removed]",
      "text/plain": [
       "<Figure size 432x288 with 1 Axes>"
      ]
     },
     "metadata": {
      "needs_background": "light"
     },
     "output_type": "display_data"
    }
   ],
   "source": [
    "plt.scatter(y_test,y_pred)\n",
    "plt.xlabel(\"exp pIC50\")\n",
    "plt.ylabel(\"pred pIC50\")\n",
    "plt.grid()\n",
    "plt.plot(range(4,12),range(4,12),\"r--\",label = \"y=x\") #기준선\n",
    "plt.legend() # 범례"
   ]
  },
  {
   "cell_type": "code",
   "execution_count": 17,
   "metadata": {},
   "outputs": [],
   "source": [
    "# regresion에서 가장많이 사용하는 측정치는 mean squared error이다.\n",
    "# 평균제곱 오차"
   ]
  },
  {
   "cell_type": "code",
   "execution_count": 18,
   "metadata": {},
   "outputs": [
    {
     "data": {
      "text/plain": [
       "0.7092950214481752"
      ]
     },
     "execution_count": 18,
     "metadata": {},
     "output_type": "execute_result"
    }
   ],
   "source": [
    "#오차계산\n",
    "mse1 = mean_squared_error(y_test, y_pred)\n",
    "mse1"
   ]
  },
  {
   "cell_type": "code",
   "execution_count": 19,
   "metadata": {},
   "outputs": [
    {
     "data": {
      "text/plain": [
       "0.8421965456163871"
      ]
     },
     "execution_count": 19,
     "metadata": {},
     "output_type": "execute_result"
    }
   ],
   "source": [
    "import math\n",
    "math.sqrt(mse1)"
   ]
  },
  {
   "cell_type": "code",
   "execution_count": 20,
   "metadata": {},
   "outputs": [],
   "source": [
    "#모델개선"
   ]
  },
  {
   "cell_type": "code",
   "execution_count": 21,
   "metadata": {},
   "outputs": [],
   "source": [
    "my_model_v2 = RandomForestRegressor(n_estimators=200)"
   ]
  },
  {
   "cell_type": "code",
   "execution_count": 22,
   "metadata": {},
   "outputs": [
    {
     "data": {
      "text/plain": [
       "RandomForestRegressor(n_estimators=200)"
      ]
     },
     "execution_count": 22,
     "metadata": {},
     "output_type": "execute_result"
    }
   ],
   "source": [
    "my_model_v2.fit(X_train,y_train)"
   ]
  },
  {
   "cell_type": "code",
   "execution_count": 23,
   "metadata": {},
   "outputs": [],
   "source": [
    "y_pred_2 = my_model_v2.predict(X_test)"
   ]
  },
  {
   "cell_type": "code",
   "execution_count": 24,
   "metadata": {},
   "outputs": [],
   "source": [
    "mse2 = mean_squared_error(y_test, y_pred_2)"
   ]
  },
  {
   "cell_type": "code",
   "execution_count": 25,
   "metadata": {},
   "outputs": [
    {
     "data": {
      "text/plain": [
       "0.6987032790598708"
      ]
     },
     "execution_count": 25,
     "metadata": {},
     "output_type": "execute_result"
    }
   ],
   "source": [
    "mse2"
   ]
  },
  {
   "cell_type": "code",
   "execution_count": 26,
   "metadata": {},
   "outputs": [
    {
     "data": {
      "text/plain": [
       "<matplotlib.legend.Legend at 0x1a201a81220>"
      ]
     },
     "execution_count": 26,
     "metadata": {},
     "output_type": "execute_result"
    },
    {
     "data": {
      "image/png": "[encoded data removed]",
      "text/plain": [
       "<Figure size 432x288 with 1 Axes>"
      ]
     },
     "metadata": {
      "needs_background": "light"
     },
     "output_type": "display_data"
    }
   ],
   "source": [
    "plt.scatter(y_test,y_pred_2)\n",
    "plt.xlabel(\"exp pIC50\")\n",
    "plt.ylabel(\"pred pIC50\")\n",
    "plt.grid()\n",
    "plt.plot(range(4,12),range(4,12),\"r--\",label = \"y=x\") #기준선\n",
    "plt.legend() # 범례"
   ]
  },
  {
   "cell_type": "code",
   "execution_count": 24,
   "metadata": {},
   "outputs": [],
   "source": [
    "my_model_v3 = RandomForestRegressor(n_estimators=300)\n",
    "my_model_v3.fit(X_train,y_train)\n",
    "y_pred_3 = my_model_v3.predict(X_test)\n",
    "mse3 = mean_squared_error(y_test, y_pred_3)"
   ]
  },
  {
   "cell_type": "code",
   "execution_count": 25,
   "metadata": {},
   "outputs": [
    {
     "data": {
      "text/plain": [
       "0.6930182798696857"
      ]
     },
     "execution_count": 25,
     "metadata": {},
     "output_type": "execute_result"
    }
   ],
   "source": [
    "mse3"
   ]
  },
  {
   "cell_type": "code",
   "execution_count": 26,
   "metadata": {},
   "outputs": [],
   "source": [
    "# Feature importance 확인"
   ]
  },
  {
   "cell_type": "code",
   "execution_count": 27,
   "metadata": {},
   "outputs": [
    {
     "data": {
      "text/plain": [
       "array([0.16380123, 0.18376347, 0.09083988, 0.04942448, 0.17374453,\n",
       "       0.06439217, 0.02661808, 0.19175773, 0.05565843])"
      ]
     },
     "execution_count": 27,
     "metadata": {},
     "output_type": "execute_result"
    }
   ],
   "source": [
    "my_model_v3.feature_importances_"
   ]
  },
  {
   "cell_type": "code",
   "execution_count": 28,
   "metadata": {},
   "outputs": [
    {
     "data": {
      "text/html": [
       "<div>\n",
       "<style scoped>\n",
       "    .dataframe tbody tr th:only-of-type {\n",
       "        vertical-align: middle;\n",
       "    }\n",
       "\n",
       "    .dataframe tbody tr th {\n",
       "        vertical-align: top;\n",
       "    }\n",
       "\n",
       "    .dataframe thead th {\n",
       "        text-align: right;\n",
       "    }\n",
       "</style>\n",
       "<table border=\"1\" class=\"dataframe\">\n",
       "  <thead>\n",
       "    <tr style=\"text-align: right;\">\n",
       "      <th></th>\n",
       "      <th>MW</th>\n",
       "      <th>LogP</th>\n",
       "      <th>HBA</th>\n",
       "      <th>HBD</th>\n",
       "      <th>CSP3</th>\n",
       "      <th>NumRotBond</th>\n",
       "      <th>NumRings</th>\n",
       "      <th>TPSA</th>\n",
       "      <th>NumAromaticRings</th>\n",
       "      <th>pIC50</th>\n",
       "    </tr>\n",
       "  </thead>\n",
       "  <tbody>\n",
       "    <tr>\n",
       "      <th>0</th>\n",
       "      <td>367.044919</td>\n",
       "      <td>4.1591</td>\n",
       "      <td>5</td>\n",
       "      <td>1</td>\n",
       "      <td>0.000000</td>\n",
       "      <td>4</td>\n",
       "      <td>4</td>\n",
       "      <td>71.95</td>\n",
       "      <td>4</td>\n",
       "      <td>4.26</td>\n",
       "    </tr>\n",
       "    <tr>\n",
       "      <th>1</th>\n",
       "      <td>506.126768</td>\n",
       "      <td>3.6743</td>\n",
       "      <td>10</td>\n",
       "      <td>4</td>\n",
       "      <td>0.083333</td>\n",
       "      <td>7</td>\n",
       "      <td>5</td>\n",
       "      <td>149.78</td>\n",
       "      <td>5</td>\n",
       "      <td>4.34</td>\n",
       "    </tr>\n",
       "    <tr>\n",
       "      <th>2</th>\n",
       "      <td>317.173942</td>\n",
       "      <td>1.5361</td>\n",
       "      <td>6</td>\n",
       "      <td>4</td>\n",
       "      <td>0.529412</td>\n",
       "      <td>5</td>\n",
       "      <td>3</td>\n",
       "      <td>101.37</td>\n",
       "      <td>2</td>\n",
       "      <td>4.53</td>\n",
       "    </tr>\n",
       "    <tr>\n",
       "      <th>3</th>\n",
       "      <td>301.190260</td>\n",
       "      <td>0.9510</td>\n",
       "      <td>6</td>\n",
       "      <td>5</td>\n",
       "      <td>0.500000</td>\n",
       "      <td>5</td>\n",
       "      <td>3</td>\n",
       "      <td>98.96</td>\n",
       "      <td>2</td>\n",
       "      <td>4.56</td>\n",
       "    </tr>\n",
       "    <tr>\n",
       "      <th>4</th>\n",
       "      <td>294.093917</td>\n",
       "      <td>3.2130</td>\n",
       "      <td>4</td>\n",
       "      <td>2</td>\n",
       "      <td>0.062500</td>\n",
       "      <td>2</td>\n",
       "      <td>3</td>\n",
       "      <td>49.84</td>\n",
       "      <td>3</td>\n",
       "      <td>4.59</td>\n",
       "    </tr>\n",
       "    <tr>\n",
       "      <th>...</th>\n",
       "      <td>...</td>\n",
       "      <td>...</td>\n",
       "      <td>...</td>\n",
       "      <td>...</td>\n",
       "      <td>...</td>\n",
       "      <td>...</td>\n",
       "      <td>...</td>\n",
       "      <td>...</td>\n",
       "      <td>...</td>\n",
       "      <td>...</td>\n",
       "    </tr>\n",
       "    <tr>\n",
       "      <th>1906</th>\n",
       "      <td>350.185509</td>\n",
       "      <td>2.8328</td>\n",
       "      <td>7</td>\n",
       "      <td>2</td>\n",
       "      <td>0.368421</td>\n",
       "      <td>3</td>\n",
       "      <td>4</td>\n",
       "      <td>86.80</td>\n",
       "      <td>3</td>\n",
       "      <td>10.72</td>\n",
       "    </tr>\n",
       "    <tr>\n",
       "      <th>1907</th>\n",
       "      <td>541.294742</td>\n",
       "      <td>2.8090</td>\n",
       "      <td>11</td>\n",
       "      <td>2</td>\n",
       "      <td>0.615385</td>\n",
       "      <td>7</td>\n",
       "      <td>5</td>\n",
       "      <td>123.24</td>\n",
       "      <td>3</td>\n",
       "      <td>10.76</td>\n",
       "    </tr>\n",
       "    <tr>\n",
       "      <th>1908</th>\n",
       "      <td>421.214761</td>\n",
       "      <td>1.7945</td>\n",
       "      <td>8</td>\n",
       "      <td>2</td>\n",
       "      <td>0.700000</td>\n",
       "      <td>6</td>\n",
       "      <td>4</td>\n",
       "      <td>102.42</td>\n",
       "      <td>0</td>\n",
       "      <td>10.78</td>\n",
       "    </tr>\n",
       "    <tr>\n",
       "      <th>1909</th>\n",
       "      <td>358.121195</td>\n",
       "      <td>1.4657</td>\n",
       "      <td>8</td>\n",
       "      <td>2</td>\n",
       "      <td>0.312500</td>\n",
       "      <td>4</td>\n",
       "      <td>4</td>\n",
       "      <td>103.87</td>\n",
       "      <td>3</td>\n",
       "      <td>10.97</td>\n",
       "    </tr>\n",
       "    <tr>\n",
       "      <th>1910</th>\n",
       "      <td>366.180424</td>\n",
       "      <td>3.0527</td>\n",
       "      <td>8</td>\n",
       "      <td>2</td>\n",
       "      <td>0.368421</td>\n",
       "      <td>3</td>\n",
       "      <td>4</td>\n",
       "      <td>96.03</td>\n",
       "      <td>3</td>\n",
       "      <td>10.97</td>\n",
       "    </tr>\n",
       "  </tbody>\n",
       "</table>\n",
       "<p>1911 rows × 10 columns</p>\n",
       "</div>"
      ],
      "text/plain": [
       "              MW    LogP  HBA  HBD      CSP3  NumRotBond  NumRings    TPSA  \\\n",
       "0     367.044919  4.1591    5    1  0.000000           4         4   71.95   \n",
       "1     506.126768  3.6743   10    4  0.083333           7         5  149.78   \n",
       "2     317.173942  1.5361    6    4  0.529412           5         3  101.37   \n",
       "3     301.190260  0.9510    6    5  0.500000           5         3   98.96   \n",
       "4     294.093917  3.2130    4    2  0.062500           2         3   49.84   \n",
       "...          ...     ...  ...  ...       ...         ...       ...     ...   \n",
       "1906  350.185509  2.8328    7    2  0.368421           3         4   86.80   \n",
       "1907  541.294742  2.8090   11    2  0.615385           7         5  123.24   \n",
       "1908  421.214761  1.7945    8    2  0.700000           6         4  102.42   \n",
       "1909  358.121195  1.4657    8    2  0.312500           4         4  103.87   \n",
       "1910  366.180424  3.0527    8    2  0.368421           3         4   96.03   \n",
       "\n",
       "      NumAromaticRings  pIC50  \n",
       "0                    4   4.26  \n",
       "1                    5   4.34  \n",
       "2                    2   4.53  \n",
       "3                    2   4.56  \n",
       "4                    3   4.59  \n",
       "...                ...    ...  \n",
       "1906                 3  10.72  \n",
       "1907                 3  10.76  \n",
       "1908                 0  10.78  \n",
       "1909                 3  10.97  \n",
       "1910                 3  10.97  \n",
       "\n",
       "[1911 rows x 10 columns]"
      ]
     },
     "execution_count": 28,
     "metadata": {},
     "output_type": "execute_result"
    }
   ],
   "source": [
    "new_data\n",
    "# 위에서 보면 0.19가 제일 크다. (TPSA)\n",
    "# 두번째로는 logP\n",
    "# 세번째로는 ~~~"
   ]
  },
  {
   "cell_type": "code",
   "execution_count": null,
   "metadata": {},
   "outputs": [],
   "source": []
  }
 ],
 "metadata": {
  "kernelspec": {
   "display_name": "Python 3",
   "language": "python",
   "name": "python3"
  },
  "language_info": {
   "codemirror_mode": {
    "name": "ipython",
    "version": 3
   },
   "file_extension": ".py",
   "mimetype": "text/x-python",
   "name": "python",
   "nbconvert_exporter": "python",
   "pygments_lexer": "ipython3",
   "version": "3.8.3"
  }
 },
 "nbformat": 4,
 "nbformat_minor": 4
}
