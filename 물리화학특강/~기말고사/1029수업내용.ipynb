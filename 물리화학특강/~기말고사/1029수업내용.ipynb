{
 "cells": [
  {
   "cell_type": "markdown",
   "metadata": {},
   "source": [
    "\n",
    "https://www.rdkit.org/docs/GettingStartedInPython.html#morgan-fingerprints-circular-fingerprints\n"
   ]
  },
  {
   "cell_type": "code",
   "execution_count": 9,
   "metadata": {
    "collapsed": true,
    "jupyter": {
     "outputs_hidden": true
    }
   },
   "outputs": [
    {
     "data": {
      "text/plain": [
       "['GetLength',\n",
       " 'GetNonzeroElements',\n",
       " 'GetTotalVal',\n",
       " 'ToBinary',\n",
       " 'UpdateFromSequence',\n",
       " '__add__',\n",
       " '__and__',\n",
       " '__class__',\n",
       " '__delattr__',\n",
       " '__dict__',\n",
       " '__dir__',\n",
       " '__doc__',\n",
       " '__eq__',\n",
       " '__format__',\n",
       " '__ge__',\n",
       " '__getattribute__',\n",
       " '__getinitargs__',\n",
       " '__getitem__',\n",
       " '__gt__',\n",
       " '__hash__',\n",
       " '__iadd__',\n",
       " '__idiv__',\n",
       " '__imul__',\n",
       " '__init__',\n",
       " '__init_subclass__',\n",
       " '__instance_size__',\n",
       " '__isub__',\n",
       " '__le__',\n",
       " '__lt__',\n",
       " '__module__',\n",
       " '__ne__',\n",
       " '__new__',\n",
       " '__or__',\n",
       " '__reduce__',\n",
       " '__reduce_ex__',\n",
       " '__repr__',\n",
       " '__safe_for_unpickling__',\n",
       " '__setattr__',\n",
       " '__setitem__',\n",
       " '__sizeof__',\n",
       " '__str__',\n",
       " '__sub__',\n",
       " '__subclasshook__',\n",
       " '__weakref__']"
      ]
     },
     "execution_count": 9,
     "metadata": {},
     "output_type": "execute_result"
    }
   ],
   "source": [
    "import rdkit\n",
    "from rdkit import Chem \n",
    "from rdkit.Chem import AllChem\n",
    "\n",
    "sup = Chem.SDMolSupplier(\"drugs.sdf\")\n",
    "mols = []\n",
    "\n",
    "for i in sup:\n",
    "    mols.append(i)\n",
    "\n",
    "    \n",
    "m1 = mols[0]\n",
    "m2 = mols[1]\n",
    "    \n",
    "fp1 = AllChem.GetMorganFingerprint(m1,2) # 2는 ECFP interaction 몇번 하느냐\n",
    "fp2 = AllChem.GetMorganFingerprint(m2,2)\n",
    "\n",
    "dir(fp1)"
   ]
  },
  {
   "cell_type": "code",
   "execution_count": 10,
   "metadata": {
    "collapsed": true,
    "jupyter": {
     "outputs_hidden": true
    }
   },
   "outputs": [
    {
     "data": {
      "text/plain": [
       "{98513984: 3,\n",
       " 171200514: 1,\n",
       " 256204769: 2,\n",
       " 555182196: 2,\n",
       " 569172881: 1,\n",
       " 586114558: 1,\n",
       " 708322256: 2,\n",
       " 847698334: 1,\n",
       " 864662311: 1,\n",
       " 864674487: 1,\n",
       " 864942730: 1,\n",
       " 951226070: 2,\n",
       " 1107800863: 2,\n",
       " 1254592940: 1,\n",
       " 1491231198: 1,\n",
       " 1510328189: 1,\n",
       " 1542631284: 1,\n",
       " 1866871746: 1,\n",
       " 2117068077: 2,\n",
       " 2142032900: 3,\n",
       " 2222715027: 1,\n",
       " 2245277810: 1,\n",
       " 2245384272: 4,\n",
       " 2246699815: 1,\n",
       " 2246728737: 3,\n",
       " 2317493814: 1,\n",
       " 2567005256: 1,\n",
       " 2623268129: 1,\n",
       " 2763854213: 1,\n",
       " 2832976762: 2,\n",
       " 2968968094: 5,\n",
       " 2976033787: 1,\n",
       " 3217380708: 1,\n",
       " 3218693969: 5,\n",
       " 3465924759: 1,\n",
       " 3542456614: 2,\n",
       " 3824347764: 1,\n",
       " 3879959393: 1,\n",
       " 3933537673: 1,\n",
       " 3962647772: 1,\n",
       " 3999906991: 2,\n",
       " 4008337421: 1,\n",
       " 4038637638: 1,\n",
       " 4075772858: 1}"
      ]
     },
     "execution_count": 10,
     "metadata": {},
     "output_type": "execute_result"
    }
   ],
   "source": [
    "fp1.GetNonzeroElements() # 0 이아닌 정수리스트 확인"
   ]
  },
  {
   "cell_type": "code",
   "execution_count": 11,
   "metadata": {},
   "outputs": [],
   "source": [
    "fp1_bit = AllChem.GetMorganFingerprintAsBitVect(m1,2,nBits = 1024)"
   ]
  },
  {
   "cell_type": "code",
   "execution_count": 12,
   "metadata": {},
   "outputs": [],
   "source": [
    "fp2_bit = AllChem.GetMorganFingerprintAsBitVect(m2,2,nBits = 1024)"
   ]
  },
  {
   "cell_type": "code",
   "execution_count": 13,
   "metadata": {
    "collapsed": true,
    "jupyter": {
     "outputs_hidden": true
    }
   },
   "outputs": [
    {
     "data": {
      "text/plain": [
       "['FromBase64',\n",
       " 'GetBit',\n",
       " 'GetNumBits',\n",
       " 'GetNumOffBits',\n",
       " 'GetNumOnBits',\n",
       " 'GetOnBits',\n",
       " 'SetBit',\n",
       " 'SetBitsFromList',\n",
       " 'ToBase64',\n",
       " 'ToBinary',\n",
       " 'ToBitString',\n",
       " 'UnSetBit',\n",
       " 'UnSetBitsFromList',\n",
       " '__add__',\n",
       " '__and__',\n",
       " '__class__',\n",
       " '__delattr__',\n",
       " '__dict__',\n",
       " '__dir__',\n",
       " '__doc__',\n",
       " '__eq__',\n",
       " '__format__',\n",
       " '__ge__',\n",
       " '__getattribute__',\n",
       " '__getinitargs__',\n",
       " '__getitem__',\n",
       " '__gt__',\n",
       " '__hash__',\n",
       " '__iadd__',\n",
       " '__init__',\n",
       " '__init_subclass__',\n",
       " '__instance_size__',\n",
       " '__invert__',\n",
       " '__le__',\n",
       " '__len__',\n",
       " '__lt__',\n",
       " '__module__',\n",
       " '__ne__',\n",
       " '__new__',\n",
       " '__or__',\n",
       " '__reduce__',\n",
       " '__reduce_ex__',\n",
       " '__repr__',\n",
       " '__safe_for_unpickling__',\n",
       " '__setattr__',\n",
       " '__setitem__',\n",
       " '__sizeof__',\n",
       " '__str__',\n",
       " '__subclasshook__',\n",
       " '__weakref__',\n",
       " '__xor__']"
      ]
     },
     "execution_count": 13,
     "metadata": {},
     "output_type": "execute_result"
    }
   ],
   "source": [
    "dir(fp1_bit)"
   ]
  },
  {
   "cell_type": "code",
   "execution_count": 15,
   "metadata": {},
   "outputs": [],
   "source": [
    "fp1_str = fp1_bit.ToBitString() # 0과 1로 이루어진 문자열로 출력"
   ]
  },
  {
   "cell_type": "code",
   "execution_count": 16,
   "metadata": {},
   "outputs": [
    {
     "data": {
      "text/plain": [
       "1024"
      ]
     },
     "execution_count": 16,
     "metadata": {},
     "output_type": "execute_result"
    }
   ],
   "source": [
    "len(fp1_str)"
   ]
  },
  {
   "cell_type": "code",
   "execution_count": 17,
   "metadata": {},
   "outputs": [],
   "source": [
    "fp2_str = fp2_bit.ToBitString()"
   ]
  },
  {
   "cell_type": "code",
   "execution_count": 19,
   "metadata": {},
   "outputs": [
    {
     "name": "stdout",
     "output_type": "stream",
     "text": [
      "0010100000000100000000000000000001000000000000000000000000000000100000101000000010000000000000000000000000000000001010000000000000000000000000000001000100000000000000000000000100000000000000000000000000000000000000000000100000000000000000000000000000000000000000000000000000000000000000000100001000000100000000000000000000000000000000000000000000000000000010000000000000000000000000000000010001000000000000000000001000000000000010000000000000000000000000000000000000000000000000100000000000000000000000000000001000000000000000000000000000000000000000000000000000000010000000000000000000000000000000000000000000000000000000000000100000000000000000000010000000000000000000000000000000000000000000010000000000000000000000000000001000000000000000000000000000000000000000000000000000000000000000000000000100000001000000000000000000000000000000000000000001000000000000000100000000000000000010000010010000000000000000000100000000000010000000000000000000000000001000000010000000000000100000000000000001000000000000000000000000010000\n"
     ]
    }
   ],
   "source": [
    "print(fp1_str)"
   ]
  },
  {
   "cell_type": "code",
   "execution_count": 20,
   "metadata": {},
   "outputs": [
    {
     "name": "stdout",
     "output_type": "stream",
     "text": [
      "0100000000000000000000000000000001000000000000000000000000000000100000000000000000000000000000000000000000000000000000000000000000000000000000000001000000000000000000000000000100000000000000000000000000000000000000000000100000010000000000000000000000000000000000000000000000000000000100000000000000000000000000000000000000000000000000000000010000000000000010000000000000000000000000000000010000000000000000000000000000000000000000000000000000000000000000000000000000000000010000000000000000000000000000000000000000000000000000000000000000000000000000000000010000000000000000000000000000000000000000000000000000000000000000000000000000000000000000000000000000000000000000000010000000000000000000000000000000000000000000000000001000000000000000000000000000000000000000000000000000000000001000000000000000000001000000000000000000000000000000000000000001000000000000000000000000000000000000100000000000000000000000000000000000000000000000000000000000000000000000000000001000000000000000000000000000000000000000000000000000000000\n"
     ]
    }
   ],
   "source": [
    "print(fp2_str)"
   ]
  },
  {
   "cell_type": "code",
   "execution_count": 21,
   "metadata": {},
   "outputs": [
    {
     "data": {
      "image/png": "[encoded data removed]",
      "text/plain": [
       "<rdkit.Chem.rdchem.Mol at 0x28533427080>"
      ]
     },
     "execution_count": 21,
     "metadata": {},
     "output_type": "execute_result"
    }
   ],
   "source": [
    "m1"
   ]
  },
  {
   "cell_type": "code",
   "execution_count": 22,
   "metadata": {},
   "outputs": [
    {
     "data": {
      "image/png": "[encoded data removed]",
      "text/plain": [
       "<rdkit.Chem.rdchem.Mol at 0x285334270d0>"
      ]
     },
     "execution_count": 22,
     "metadata": {},
     "output_type": "execute_result"
    }
   ],
   "source": [
    "m2"
   ]
  },
  {
   "cell_type": "code",
   "execution_count": 23,
   "metadata": {},
   "outputs": [],
   "source": [
    "#Similarity 계산\n",
    "from rdkit import DataStructs"
   ]
  },
  {
   "cell_type": "code",
   "execution_count": 26,
   "metadata": {},
   "outputs": [
    {
     "data": {
      "text/plain": [
       "0.32"
      ]
     },
     "execution_count": 26,
     "metadata": {},
     "output_type": "execute_result"
    }
   ],
   "source": [
    "DataStructs.DiceSimilarity(fp1,fp2) #fp1과 fp2 사이의 Dice similarity계산\n",
    "# 자세힌 기억안나고 대충 교/합 = Dice similarity"
   ]
  },
  {
   "cell_type": "code",
   "execution_count": 31,
   "metadata": {},
   "outputs": [
    {
     "data": {
      "text/plain": [
       "0.18867924528301888"
      ]
     },
     "execution_count": 31,
     "metadata": {},
     "output_type": "execute_result"
    }
   ],
   "source": [
    "# Tanimoto Coefficient\n",
    "DataStructs.FingerprintSimilarity(fp1_bit,fp2_bit) #여기에는 0,1로만 되어있는거만 가능 따라서 bit로 넣어야함"
   ]
  },
  {
   "cell_type": "code",
   "execution_count": 32,
   "metadata": {},
   "outputs": [],
   "source": [
    "# 합집합 = 둘중 하나라도 1이면 1로 표현\n",
    "# 교집합 = 둘다 1이어야 1로 표현"
   ]
  },
  {
   "cell_type": "code",
   "execution_count": null,
   "metadata": {},
   "outputs": [],
   "source": []
  }
 ],
 "metadata": {
  "kernelspec": {
   "display_name": "Python 3",
   "language": "python",
   "name": "python3"
  },
  "language_info": {
   "codemirror_mode": {
    "name": "ipython",
    "version": 3
   },
   "file_extension": ".py",
   "mimetype": "text/x-python",
   "name": "python",
   "nbconvert_exporter": "python",
   "pygments_lexer": "ipython3",
   "version": "3.8.3"
  }
 },
 "nbformat": 4,
 "nbformat_minor": 4
}
