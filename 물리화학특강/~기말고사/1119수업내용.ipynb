{
 "cells": [
  {
   "cell_type": "code",
   "execution_count": 1,
   "metadata": {},
   "outputs": [],
   "source": [
    "#약분자와 약이아닌 분자를 구별하는 AI머신을 만들어보자"
   ]
  },
  {
   "cell_type": "code",
   "execution_count": 2,
   "metadata": {},
   "outputs": [],
   "source": [
    "import rdkit\n",
    "import rdkit.Chem as Chem\n",
    "import pandas as pd\n",
    "import matplotlib as mpl\n",
    "import matplotlib.pyplot as plt\n",
    "import numpy as np\n",
    "import sklearn"
   ]
  },
  {
   "cell_type": "code",
   "execution_count": 3,
   "metadata": {},
   "outputs": [],
   "source": [
    "# drugs.smi 에는 실제 시판되고있는 약분자 600개 의 SMILES가 있다.\n",
    "\n",
    "# non-drugs.smi 에는 랜덤하게 DB에서 고른 분자 1000개의 SMILES가 있다."
   ]
  },
  {
   "cell_type": "code",
   "execution_count": 4,
   "metadata": {},
   "outputs": [],
   "source": [
    "drugs = []\n",
    "\n",
    "with open(\"drugs.smi\") as fp:\n",
    "    for l in fp:\n",
    "        smiles = l.strip()\n",
    "        mol = Chem.MolFromSmiles(smiles)\n",
    "        if mol:\n",
    "            drugs.append(mol)"
   ]
  },
  {
   "cell_type": "code",
   "execution_count": 5,
   "metadata": {},
   "outputs": [],
   "source": [
    "#분자로부터 특성(feature)를 뽑아내자"
   ]
  },
  {
   "cell_type": "code",
   "execution_count": 6,
   "metadata": {},
   "outputs": [],
   "source": [
    "#분자의 특성을 나타내는 여러가지 변수 : molecular descriptor\n",
    "# 예시로는 분자량, 탄소의 갯수, 질소의 갯수, 수소결합 받개의 갯수\n",
    "# 단일결합 갯수, 고리 갯수 등등"
   ]
  },
  {
   "cell_type": "code",
   "execution_count": 7,
   "metadata": {},
   "outputs": [],
   "source": [
    "import rdkit.Chem.rdMolDescriptors"
   ]
  },
  {
   "cell_type": "code",
   "execution_count": 8,
   "metadata": {},
   "outputs": [],
   "source": [
    "# Ro5\n",
    "# 1. 수소결합 받개 갯수 < 10\n",
    "# 2. 수소결합 주개 갯수 < 5\n",
    "# 3. 분자량 500 이하\n",
    "# 4. log P < 5"
   ]
  },
  {
   "cell_type": "code",
   "execution_count": 9,
   "metadata": {},
   "outputs": [],
   "source": [
    "from rdkit.Chem.rdMolDescriptors import CalcExactMolWt, CalcNumLipinskiHBA, CalcNumLipinskiHBD, CalcCrippenDescriptors"
   ]
  },
  {
   "cell_type": "code",
   "execution_count": 10,
   "metadata": {},
   "outputs": [],
   "source": [
    "#딕셔너리 만들기\n",
    "property = {\"MW\": [],\"HBA\":[], \"HBD\":[], \"logP\":[],\"is_drug\":[]}\n",
    "\n",
    "for mol in drugs:\n",
    "    mw = CalcExactMolWt(mol)\n",
    "    property[\"MW\"].append(mw)\n",
    "    \n",
    "    hba = CalcNumLipinskiHBA(mol)\n",
    "    property[\"HBA\"].append(hba)\n",
    "    \n",
    "    hbd = CalcNumLipinskiHBD(mol)\n",
    "    property[\"HBD\"].append(hbd)\n",
    "    \n",
    "    logp, mr = CalcCrippenDescriptors(mol)\n",
    "    property[\"logP\"].append(logp)\n",
    "    \n",
    "    property[\"is_drug\"].append(1)\n",
    "    "
   ]
  },
  {
   "cell_type": "code",
   "execution_count": 11,
   "metadata": {},
   "outputs": [],
   "source": [
    "drug_df = pd.DataFrame(property)"
   ]
  },
  {
   "cell_type": "code",
   "execution_count": 12,
   "metadata": {},
   "outputs": [
    {
     "data": {
      "text/html": [
       "<div>\n",
       "<style scoped>\n",
       "    .dataframe tbody tr th:only-of-type {\n",
       "        vertical-align: middle;\n",
       "    }\n",
       "\n",
       "    .dataframe tbody tr th {\n",
       "        vertical-align: top;\n",
       "    }\n",
       "\n",
       "    .dataframe thead th {\n",
       "        text-align: right;\n",
       "    }\n",
       "</style>\n",
       "<table border=\"1\" class=\"dataframe\">\n",
       "  <thead>\n",
       "    <tr style=\"text-align: right;\">\n",
       "      <th></th>\n",
       "      <th>MW</th>\n",
       "      <th>HBA</th>\n",
       "      <th>HBD</th>\n",
       "      <th>logP</th>\n",
       "      <th>is_drug</th>\n",
       "    </tr>\n",
       "  </thead>\n",
       "  <tbody>\n",
       "    <tr>\n",
       "      <th>0</th>\n",
       "      <td>315.000724</td>\n",
       "      <td>4</td>\n",
       "      <td>1</td>\n",
       "      <td>2.63360</td>\n",
       "      <td>1</td>\n",
       "    </tr>\n",
       "    <tr>\n",
       "      <th>1</th>\n",
       "      <td>171.104799</td>\n",
       "      <td>1</td>\n",
       "      <td>1</td>\n",
       "      <td>1.89670</td>\n",
       "      <td>1</td>\n",
       "    </tr>\n",
       "    <tr>\n",
       "      <th>2</th>\n",
       "      <td>1343.587801</td>\n",
       "      <td>27</td>\n",
       "      <td>15</td>\n",
       "      <td>0.92454</td>\n",
       "      <td>1</td>\n",
       "    </tr>\n",
       "    <tr>\n",
       "      <th>3</th>\n",
       "      <td>211.110947</td>\n",
       "      <td>3</td>\n",
       "      <td>1</td>\n",
       "      <td>1.80390</td>\n",
       "      <td>1</td>\n",
       "    </tr>\n",
       "    <tr>\n",
       "      <th>4</th>\n",
       "      <td>204.072119</td>\n",
       "      <td>2</td>\n",
       "      <td>0</td>\n",
       "      <td>2.14610</td>\n",
       "      <td>1</td>\n",
       "    </tr>\n",
       "    <tr>\n",
       "      <th>...</th>\n",
       "      <td>...</td>\n",
       "      <td>...</td>\n",
       "      <td>...</td>\n",
       "      <td>...</td>\n",
       "      <td>...</td>\n",
       "    </tr>\n",
       "    <tr>\n",
       "      <th>595</th>\n",
       "      <td>842.514005</td>\n",
       "      <td>16</td>\n",
       "      <td>4</td>\n",
       "      <td>2.32510</td>\n",
       "      <td>1</td>\n",
       "    </tr>\n",
       "    <tr>\n",
       "      <th>596</th>\n",
       "      <td>785.352359</td>\n",
       "      <td>14</td>\n",
       "      <td>5</td>\n",
       "      <td>6.15784</td>\n",
       "      <td>1</td>\n",
       "    </tr>\n",
       "    <tr>\n",
       "      <th>597</th>\n",
       "      <td>697.309826</td>\n",
       "      <td>13</td>\n",
       "      <td>6</td>\n",
       "      <td>4.75412</td>\n",
       "      <td>1</td>\n",
       "    </tr>\n",
       "    <tr>\n",
       "      <th>598</th>\n",
       "      <td>846.441509</td>\n",
       "      <td>15</td>\n",
       "      <td>5</td>\n",
       "      <td>4.61572</td>\n",
       "      <td>1</td>\n",
       "    </tr>\n",
       "    <tr>\n",
       "      <th>599</th>\n",
       "      <td>876.452073</td>\n",
       "      <td>16</td>\n",
       "      <td>6</td>\n",
       "      <td>5.64822</td>\n",
       "      <td>1</td>\n",
       "    </tr>\n",
       "  </tbody>\n",
       "</table>\n",
       "<p>600 rows × 5 columns</p>\n",
       "</div>"
      ],
      "text/plain": [
       "              MW  HBA  HBD     logP  is_drug\n",
       "0     315.000724    4    1  2.63360        1\n",
       "1     171.104799    1    1  1.89670        1\n",
       "2    1343.587801   27   15  0.92454        1\n",
       "3     211.110947    3    1  1.80390        1\n",
       "4     204.072119    2    0  2.14610        1\n",
       "..           ...  ...  ...      ...      ...\n",
       "595   842.514005   16    4  2.32510        1\n",
       "596   785.352359   14    5  6.15784        1\n",
       "597   697.309826   13    6  4.75412        1\n",
       "598   846.441509   15    5  4.61572        1\n",
       "599   876.452073   16    6  5.64822        1\n",
       "\n",
       "[600 rows x 5 columns]"
      ]
     },
     "execution_count": 12,
     "metadata": {},
     "output_type": "execute_result"
    }
   ],
   "source": [
    "drug_df"
   ]
  },
  {
   "cell_type": "code",
   "execution_count": 13,
   "metadata": {},
   "outputs": [
    {
     "data": {
      "text/plain": [
       "array([[<matplotlib.axes._subplots.AxesSubplot object at 0x00000223F55A8190>,\n",
       "        <matplotlib.axes._subplots.AxesSubplot object at 0x00000223F5C87640>],\n",
       "       [<matplotlib.axes._subplots.AxesSubplot object at 0x00000223F5CB2A90>,\n",
       "        <matplotlib.axes._subplots.AxesSubplot object at 0x00000223F5CE0F10>],\n",
       "       [<matplotlib.axes._subplots.AxesSubplot object at 0x00000223F5D193A0>,\n",
       "        <matplotlib.axes._subplots.AxesSubplot object at 0x00000223F5D45850>]],\n",
       "      dtype=object)"
      ]
     },
     "execution_count": 13,
     "metadata": {},
     "output_type": "execute_result"
    },
    {
     "data": {
      "image/png": "[encoded data removed]",
      "text/plain": [
       "<Figure size 432x288 with 6 Axes>"
      ]
     },
     "metadata": {
      "needs_background": "light"
     },
     "output_type": "display_data"
    }
   ],
   "source": [
    "drug_df.hist()"
   ]
  },
  {
   "cell_type": "code",
   "execution_count": 14,
   "metadata": {},
   "outputs": [],
   "source": [
    "#drug_df.plot.hist()"
   ]
  },
  {
   "cell_type": "code",
   "execution_count": 15,
   "metadata": {},
   "outputs": [
    {
     "data": {
      "text/plain": [
       "array([[<matplotlib.axes._subplots.AxesSubplot object at 0x00000223F5ECA850>,\n",
       "        <matplotlib.axes._subplots.AxesSubplot object at 0x00000223F6EBAC40>],\n",
       "       [<matplotlib.axes._subplots.AxesSubplot object at 0x00000223F6EE8F70>,\n",
       "        <matplotlib.axes._subplots.AxesSubplot object at 0x00000223F6F1E400>],\n",
       "       [<matplotlib.axes._subplots.AxesSubplot object at 0x00000223F6F4A850>,\n",
       "        <matplotlib.axes._subplots.AxesSubplot object at 0x00000223F6F76D00>]],\n",
       "      dtype=object)"
      ]
     },
     "execution_count": 15,
     "metadata": {},
     "output_type": "execute_result"
    },
    {
     "data": {
      "image/png": "[encoded data removed]",
      "text/plain": [
       "<Figure size 720x720 with 6 Axes>"
      ]
     },
     "metadata": {
      "needs_background": "light"
     },
     "output_type": "display_data"
    }
   ],
   "source": [
    "drug_df.hist(figsize =(10,10), bins = 50)"
   ]
  },
  {
   "cell_type": "code",
   "execution_count": 16,
   "metadata": {},
   "outputs": [
    {
     "data": {
      "text/plain": [
       "<matplotlib.axes._subplots.AxesSubplot at 0x223f5eb26a0>"
      ]
     },
     "execution_count": 16,
     "metadata": {},
     "output_type": "execute_result"
    },
    {
     "data": {
      "image/png": "[encoded data removed]",
      "text/plain": [
       "<Figure size 432x288 with 1 Axes>"
      ]
     },
     "metadata": {
      "needs_background": "light"
     },
     "output_type": "display_data"
    }
   ],
   "source": [
    "# xlim 사용(x축 자르기)\n",
    "#grid = False, True\n",
    "\n",
    "drug_df[\"MW\"].plot.hist(bins=50, xlim=(0,2000))"
   ]
  },
  {
   "cell_type": "code",
   "execution_count": 17,
   "metadata": {},
   "outputs": [
    {
     "data": {
      "text/plain": [
       "<matplotlib.axes._subplots.AxesSubplot at 0x223f752c700>"
      ]
     },
     "execution_count": 17,
     "metadata": {},
     "output_type": "execute_result"
    },
    {
     "data": {
      "image/png": "[encoded data removed]",
      "text/plain": [
       "<Figure size 432x288 with 1 Axes>"
      ]
     },
     "metadata": {
      "needs_background": "light"
     },
     "output_type": "display_data"
    }
   ],
   "source": [
    "drug_df[\"HBA\"].plot.hist(bins=100, xlim=(0,20))"
   ]
  },
  {
   "cell_type": "code",
   "execution_count": 18,
   "metadata": {},
   "outputs": [
    {
     "data": {
      "text/plain": [
       "<matplotlib.axes._subplots.AxesSubplot at 0x223f6fbc880>"
      ]
     },
     "execution_count": 18,
     "metadata": {},
     "output_type": "execute_result"
    },
    {
     "data": {
      "image/png": "[encoded data removed]",
      "text/plain": [
       "<Figure size 432x288 with 1 Axes>"
      ]
     },
     "metadata": {
      "needs_background": "light"
     },
     "output_type": "display_data"
    }
   ],
   "source": [
    "drug_df[\"HBD\"].plot.hist(bins=50, xlim=(0,10))"
   ]
  },
  {
   "cell_type": "code",
   "execution_count": 19,
   "metadata": {},
   "outputs": [
    {
     "data": {
      "text/plain": [
       "<matplotlib.axes._subplots.AxesSubplot at 0x223f7365d60>"
      ]
     },
     "execution_count": 19,
     "metadata": {},
     "output_type": "execute_result"
    },
    {
     "data": {
      "image/png": "[encoded data removed]",
      "text/plain": [
       "<Figure size 432x288 with 1 Axes>"
      ]
     },
     "metadata": {
      "needs_background": "light"
     },
     "output_type": "display_data"
    }
   ],
   "source": [
    "drug_df[\"logP\"].plot.hist(bins=50, xlim=(-5,10))"
   ]
  },
  {
   "cell_type": "code",
   "execution_count": 20,
   "metadata": {},
   "outputs": [
    {
     "data": {
      "text/html": [
       "<div>\n",
       "<style scoped>\n",
       "    .dataframe tbody tr th:only-of-type {\n",
       "        vertical-align: middle;\n",
       "    }\n",
       "\n",
       "    .dataframe tbody tr th {\n",
       "        vertical-align: top;\n",
       "    }\n",
       "\n",
       "    .dataframe thead th {\n",
       "        text-align: right;\n",
       "    }\n",
       "</style>\n",
       "<table border=\"1\" class=\"dataframe\">\n",
       "  <thead>\n",
       "    <tr style=\"text-align: right;\">\n",
       "      <th></th>\n",
       "      <th>MW</th>\n",
       "      <th>HBA</th>\n",
       "      <th>HBD</th>\n",
       "      <th>logP</th>\n",
       "      <th>is_drug</th>\n",
       "    </tr>\n",
       "  </thead>\n",
       "  <tbody>\n",
       "    <tr>\n",
       "      <th>count</th>\n",
       "      <td>600.000000</td>\n",
       "      <td>600.000000</td>\n",
       "      <td>600.000000</td>\n",
       "      <td>600.000000</td>\n",
       "      <td>600.0</td>\n",
       "    </tr>\n",
       "    <tr>\n",
       "      <th>mean</th>\n",
       "      <td>373.048343</td>\n",
       "      <td>5.848333</td>\n",
       "      <td>1.871667</td>\n",
       "      <td>3.061503</td>\n",
       "      <td>1.0</td>\n",
       "    </tr>\n",
       "    <tr>\n",
       "      <th>std</th>\n",
       "      <td>225.018410</td>\n",
       "      <td>5.333799</td>\n",
       "      <td>2.967582</td>\n",
       "      <td>2.139073</td>\n",
       "      <td>0.0</td>\n",
       "    </tr>\n",
       "    <tr>\n",
       "      <th>min</th>\n",
       "      <td>46.041865</td>\n",
       "      <td>1.000000</td>\n",
       "      <td>0.000000</td>\n",
       "      <td>-11.627860</td>\n",
       "      <td>1.0</td>\n",
       "    </tr>\n",
       "    <tr>\n",
       "      <th>25%</th>\n",
       "      <td>263.188529</td>\n",
       "      <td>3.000000</td>\n",
       "      <td>1.000000</td>\n",
       "      <td>1.785350</td>\n",
       "      <td>1.0</td>\n",
       "    </tr>\n",
       "    <tr>\n",
       "      <th>50%</th>\n",
       "      <td>339.194677</td>\n",
       "      <td>5.000000</td>\n",
       "      <td>1.500000</td>\n",
       "      <td>3.073600</td>\n",
       "      <td>1.0</td>\n",
       "    </tr>\n",
       "    <tr>\n",
       "      <th>75%</th>\n",
       "      <td>443.416526</td>\n",
       "      <td>7.000000</td>\n",
       "      <td>3.000000</td>\n",
       "      <td>4.219398</td>\n",
       "      <td>1.0</td>\n",
       "    </tr>\n",
       "    <tr>\n",
       "      <th>max</th>\n",
       "      <td>4111.115377</td>\n",
       "      <td>104.000000</td>\n",
       "      <td>61.000000</td>\n",
       "      <td>17.853900</td>\n",
       "      <td>1.0</td>\n",
       "    </tr>\n",
       "  </tbody>\n",
       "</table>\n",
       "</div>"
      ],
      "text/plain": [
       "                MW         HBA         HBD        logP  is_drug\n",
       "count   600.000000  600.000000  600.000000  600.000000    600.0\n",
       "mean    373.048343    5.848333    1.871667    3.061503      1.0\n",
       "std     225.018410    5.333799    2.967582    2.139073      0.0\n",
       "min      46.041865    1.000000    0.000000  -11.627860      1.0\n",
       "25%     263.188529    3.000000    1.000000    1.785350      1.0\n",
       "50%     339.194677    5.000000    1.500000    3.073600      1.0\n",
       "75%     443.416526    7.000000    3.000000    4.219398      1.0\n",
       "max    4111.115377  104.000000   61.000000   17.853900      1.0"
      ]
     },
     "execution_count": 20,
     "metadata": {},
     "output_type": "execute_result"
    }
   ],
   "source": [
    "drug_df.describe()"
   ]
  },
  {
   "cell_type": "code",
   "execution_count": 21,
   "metadata": {},
   "outputs": [],
   "source": [
    "non_drugs = []\n",
    "\n",
    "with open(\"non_drugs.smi\") as fp:\n",
    "    for l in fp:\n",
    "        smiles = l.strip()\n",
    "        mol = Chem.MolFromSmiles(smiles)\n",
    "        if mol:\n",
    "            non_drugs.append(mol)"
   ]
  },
  {
   "cell_type": "code",
   "execution_count": 22,
   "metadata": {},
   "outputs": [
    {
     "data": {
      "text/plain": [
       "999"
      ]
     },
     "execution_count": 22,
     "metadata": {},
     "output_type": "execute_result"
    }
   ],
   "source": [
    "len(non_drugs)"
   ]
  },
  {
   "cell_type": "code",
   "execution_count": 23,
   "metadata": {},
   "outputs": [],
   "source": [
    "#딕셔너리 만들기\n",
    "property = {\"MW\": [],\"HBA\":[], \"HBD\":[], \"logP\":[],\"is_drug\":[]}\n",
    "\n",
    "for mol in non_drugs:\n",
    "    mw = CalcExactMolWt(mol)\n",
    "    property[\"MW\"].append(mw)\n",
    "    \n",
    "    hba = CalcNumLipinskiHBA(mol)\n",
    "    property[\"HBA\"].append(hba)\n",
    "    \n",
    "    hbd = CalcNumLipinskiHBD(mol)\n",
    "    property[\"HBD\"].append(hbd)\n",
    "    \n",
    "    logp, mr = CalcCrippenDescriptors(mol)\n",
    "    property[\"logP\"].append(logp)\n",
    "    \n",
    "    property[\"is_drug\"].append(0)\n",
    "    "
   ]
  },
  {
   "cell_type": "code",
   "execution_count": 24,
   "metadata": {},
   "outputs": [],
   "source": [
    "non_drug_df = pd.DataFrame(property)"
   ]
  },
  {
   "cell_type": "code",
   "execution_count": 25,
   "metadata": {},
   "outputs": [
    {
     "data": {
      "text/html": [
       "<div>\n",
       "<style scoped>\n",
       "    .dataframe tbody tr th:only-of-type {\n",
       "        vertical-align: middle;\n",
       "    }\n",
       "\n",
       "    .dataframe tbody tr th {\n",
       "        vertical-align: top;\n",
       "    }\n",
       "\n",
       "    .dataframe thead th {\n",
       "        text-align: right;\n",
       "    }\n",
       "</style>\n",
       "<table border=\"1\" class=\"dataframe\">\n",
       "  <thead>\n",
       "    <tr style=\"text-align: right;\">\n",
       "      <th></th>\n",
       "      <th>MW</th>\n",
       "      <th>HBA</th>\n",
       "      <th>HBD</th>\n",
       "      <th>logP</th>\n",
       "      <th>is_drug</th>\n",
       "    </tr>\n",
       "  </thead>\n",
       "  <tbody>\n",
       "    <tr>\n",
       "      <th>0</th>\n",
       "      <td>240.220164</td>\n",
       "      <td>3</td>\n",
       "      <td>1</td>\n",
       "      <td>1.87700</td>\n",
       "      <td>0</td>\n",
       "    </tr>\n",
       "    <tr>\n",
       "      <th>1</th>\n",
       "      <td>281.156183</td>\n",
       "      <td>4</td>\n",
       "      <td>2</td>\n",
       "      <td>2.59610</td>\n",
       "      <td>0</td>\n",
       "    </tr>\n",
       "    <tr>\n",
       "      <th>2</th>\n",
       "      <td>302.073452</td>\n",
       "      <td>4</td>\n",
       "      <td>2</td>\n",
       "      <td>3.52380</td>\n",
       "      <td>0</td>\n",
       "    </tr>\n",
       "    <tr>\n",
       "      <th>3</th>\n",
       "      <td>282.255880</td>\n",
       "      <td>2</td>\n",
       "      <td>0</td>\n",
       "      <td>5.66270</td>\n",
       "      <td>0</td>\n",
       "    </tr>\n",
       "    <tr>\n",
       "      <th>4</th>\n",
       "      <td>291.231063</td>\n",
       "      <td>4</td>\n",
       "      <td>1</td>\n",
       "      <td>2.20530</td>\n",
       "      <td>0</td>\n",
       "    </tr>\n",
       "    <tr>\n",
       "      <th>...</th>\n",
       "      <td>...</td>\n",
       "      <td>...</td>\n",
       "      <td>...</td>\n",
       "      <td>...</td>\n",
       "      <td>...</td>\n",
       "    </tr>\n",
       "    <tr>\n",
       "      <th>994</th>\n",
       "      <td>674.298346</td>\n",
       "      <td>11</td>\n",
       "      <td>6</td>\n",
       "      <td>5.12654</td>\n",
       "      <td>0</td>\n",
       "    </tr>\n",
       "    <tr>\n",
       "      <th>995</th>\n",
       "      <td>437.004489</td>\n",
       "      <td>7</td>\n",
       "      <td>2</td>\n",
       "      <td>4.10954</td>\n",
       "      <td>0</td>\n",
       "    </tr>\n",
       "    <tr>\n",
       "      <th>996</th>\n",
       "      <td>375.100414</td>\n",
       "      <td>5</td>\n",
       "      <td>1</td>\n",
       "      <td>3.70520</td>\n",
       "      <td>0</td>\n",
       "    </tr>\n",
       "    <tr>\n",
       "      <th>997</th>\n",
       "      <td>1250.664991</td>\n",
       "      <td>14</td>\n",
       "      <td>0</td>\n",
       "      <td>19.16620</td>\n",
       "      <td>0</td>\n",
       "    </tr>\n",
       "    <tr>\n",
       "      <th>998</th>\n",
       "      <td>518.221700</td>\n",
       "      <td>7</td>\n",
       "      <td>1</td>\n",
       "      <td>5.44250</td>\n",
       "      <td>0</td>\n",
       "    </tr>\n",
       "  </tbody>\n",
       "</table>\n",
       "<p>999 rows × 5 columns</p>\n",
       "</div>"
      ],
      "text/plain": [
       "              MW  HBA  HBD      logP  is_drug\n",
       "0     240.220164    3    1   1.87700        0\n",
       "1     281.156183    4    2   2.59610        0\n",
       "2     302.073452    4    2   3.52380        0\n",
       "3     282.255880    2    0   5.66270        0\n",
       "4     291.231063    4    1   2.20530        0\n",
       "..           ...  ...  ...       ...      ...\n",
       "994   674.298346   11    6   5.12654        0\n",
       "995   437.004489    7    2   4.10954        0\n",
       "996   375.100414    5    1   3.70520        0\n",
       "997  1250.664991   14    0  19.16620        0\n",
       "998   518.221700    7    1   5.44250        0\n",
       "\n",
       "[999 rows x 5 columns]"
      ]
     },
     "execution_count": 25,
     "metadata": {},
     "output_type": "execute_result"
    }
   ],
   "source": [
    "non_drug_df"
   ]
  },
  {
   "cell_type": "code",
   "execution_count": 27,
   "metadata": {},
   "outputs": [],
   "source": [
    "new_df = pd.concat([drug_df, non_drug_df])"
   ]
  },
  {
   "cell_type": "code",
   "execution_count": 28,
   "metadata": {},
   "outputs": [
    {
     "data": {
      "text/html": [
       "<div>\n",
       "<style scoped>\n",
       "    .dataframe tbody tr th:only-of-type {\n",
       "        vertical-align: middle;\n",
       "    }\n",
       "\n",
       "    .dataframe tbody tr th {\n",
       "        vertical-align: top;\n",
       "    }\n",
       "\n",
       "    .dataframe thead th {\n",
       "        text-align: right;\n",
       "    }\n",
       "</style>\n",
       "<table border=\"1\" class=\"dataframe\">\n",
       "  <thead>\n",
       "    <tr style=\"text-align: right;\">\n",
       "      <th></th>\n",
       "      <th>MW</th>\n",
       "      <th>HBA</th>\n",
       "      <th>HBD</th>\n",
       "      <th>logP</th>\n",
       "      <th>is_drug</th>\n",
       "    </tr>\n",
       "  </thead>\n",
       "  <tbody>\n",
       "    <tr>\n",
       "      <th>0</th>\n",
       "      <td>315.000724</td>\n",
       "      <td>4</td>\n",
       "      <td>1</td>\n",
       "      <td>2.63360</td>\n",
       "      <td>1</td>\n",
       "    </tr>\n",
       "    <tr>\n",
       "      <th>1</th>\n",
       "      <td>171.104799</td>\n",
       "      <td>1</td>\n",
       "      <td>1</td>\n",
       "      <td>1.89670</td>\n",
       "      <td>1</td>\n",
       "    </tr>\n",
       "    <tr>\n",
       "      <th>2</th>\n",
       "      <td>1343.587801</td>\n",
       "      <td>27</td>\n",
       "      <td>15</td>\n",
       "      <td>0.92454</td>\n",
       "      <td>1</td>\n",
       "    </tr>\n",
       "    <tr>\n",
       "      <th>3</th>\n",
       "      <td>211.110947</td>\n",
       "      <td>3</td>\n",
       "      <td>1</td>\n",
       "      <td>1.80390</td>\n",
       "      <td>1</td>\n",
       "    </tr>\n",
       "    <tr>\n",
       "      <th>4</th>\n",
       "      <td>204.072119</td>\n",
       "      <td>2</td>\n",
       "      <td>0</td>\n",
       "      <td>2.14610</td>\n",
       "      <td>1</td>\n",
       "    </tr>\n",
       "    <tr>\n",
       "      <th>...</th>\n",
       "      <td>...</td>\n",
       "      <td>...</td>\n",
       "      <td>...</td>\n",
       "      <td>...</td>\n",
       "      <td>...</td>\n",
       "    </tr>\n",
       "    <tr>\n",
       "      <th>994</th>\n",
       "      <td>674.298346</td>\n",
       "      <td>11</td>\n",
       "      <td>6</td>\n",
       "      <td>5.12654</td>\n",
       "      <td>0</td>\n",
       "    </tr>\n",
       "    <tr>\n",
       "      <th>995</th>\n",
       "      <td>437.004489</td>\n",
       "      <td>7</td>\n",
       "      <td>2</td>\n",
       "      <td>4.10954</td>\n",
       "      <td>0</td>\n",
       "    </tr>\n",
       "    <tr>\n",
       "      <th>996</th>\n",
       "      <td>375.100414</td>\n",
       "      <td>5</td>\n",
       "      <td>1</td>\n",
       "      <td>3.70520</td>\n",
       "      <td>0</td>\n",
       "    </tr>\n",
       "    <tr>\n",
       "      <th>997</th>\n",
       "      <td>1250.664991</td>\n",
       "      <td>14</td>\n",
       "      <td>0</td>\n",
       "      <td>19.16620</td>\n",
       "      <td>0</td>\n",
       "    </tr>\n",
       "    <tr>\n",
       "      <th>998</th>\n",
       "      <td>518.221700</td>\n",
       "      <td>7</td>\n",
       "      <td>1</td>\n",
       "      <td>5.44250</td>\n",
       "      <td>0</td>\n",
       "    </tr>\n",
       "  </tbody>\n",
       "</table>\n",
       "<p>1599 rows × 5 columns</p>\n",
       "</div>"
      ],
      "text/plain": [
       "              MW  HBA  HBD      logP  is_drug\n",
       "0     315.000724    4    1   2.63360        1\n",
       "1     171.104799    1    1   1.89670        1\n",
       "2    1343.587801   27   15   0.92454        1\n",
       "3     211.110947    3    1   1.80390        1\n",
       "4     204.072119    2    0   2.14610        1\n",
       "..           ...  ...  ...       ...      ...\n",
       "994   674.298346   11    6   5.12654        0\n",
       "995   437.004489    7    2   4.10954        0\n",
       "996   375.100414    5    1   3.70520        0\n",
       "997  1250.664991   14    0  19.16620        0\n",
       "998   518.221700    7    1   5.44250        0\n",
       "\n",
       "[1599 rows x 5 columns]"
      ]
     },
     "execution_count": 28,
     "metadata": {},
     "output_type": "execute_result"
    }
   ],
   "source": [
    "new_df"
   ]
  },
  {
   "cell_type": "code",
   "execution_count": 29,
   "metadata": {},
   "outputs": [],
   "source": [
    "# 데이터 준비가 끝났다."
   ]
  },
  {
   "cell_type": "code",
   "execution_count": 30,
   "metadata": {},
   "outputs": [],
   "source": [
    "X = new_df.iloc[:,:-1]"
   ]
  },
  {
   "cell_type": "code",
   "execution_count": 31,
   "metadata": {},
   "outputs": [
    {
     "data": {
      "text/html": [
       "<div>\n",
       "<style scoped>\n",
       "    .dataframe tbody tr th:only-of-type {\n",
       "        vertical-align: middle;\n",
       "    }\n",
       "\n",
       "    .dataframe tbody tr th {\n",
       "        vertical-align: top;\n",
       "    }\n",
       "\n",
       "    .dataframe thead th {\n",
       "        text-align: right;\n",
       "    }\n",
       "</style>\n",
       "<table border=\"1\" class=\"dataframe\">\n",
       "  <thead>\n",
       "    <tr style=\"text-align: right;\">\n",
       "      <th></th>\n",
       "      <th>MW</th>\n",
       "      <th>HBA</th>\n",
       "      <th>HBD</th>\n",
       "      <th>logP</th>\n",
       "    </tr>\n",
       "  </thead>\n",
       "  <tbody>\n",
       "    <tr>\n",
       "      <th>0</th>\n",
       "      <td>315.000724</td>\n",
       "      <td>4</td>\n",
       "      <td>1</td>\n",
       "      <td>2.63360</td>\n",
       "    </tr>\n",
       "    <tr>\n",
       "      <th>1</th>\n",
       "      <td>171.104799</td>\n",
       "      <td>1</td>\n",
       "      <td>1</td>\n",
       "      <td>1.89670</td>\n",
       "    </tr>\n",
       "    <tr>\n",
       "      <th>2</th>\n",
       "      <td>1343.587801</td>\n",
       "      <td>27</td>\n",
       "      <td>15</td>\n",
       "      <td>0.92454</td>\n",
       "    </tr>\n",
       "    <tr>\n",
       "      <th>3</th>\n",
       "      <td>211.110947</td>\n",
       "      <td>3</td>\n",
       "      <td>1</td>\n",
       "      <td>1.80390</td>\n",
       "    </tr>\n",
       "    <tr>\n",
       "      <th>4</th>\n",
       "      <td>204.072119</td>\n",
       "      <td>2</td>\n",
       "      <td>0</td>\n",
       "      <td>2.14610</td>\n",
       "    </tr>\n",
       "    <tr>\n",
       "      <th>...</th>\n",
       "      <td>...</td>\n",
       "      <td>...</td>\n",
       "      <td>...</td>\n",
       "      <td>...</td>\n",
       "    </tr>\n",
       "    <tr>\n",
       "      <th>994</th>\n",
       "      <td>674.298346</td>\n",
       "      <td>11</td>\n",
       "      <td>6</td>\n",
       "      <td>5.12654</td>\n",
       "    </tr>\n",
       "    <tr>\n",
       "      <th>995</th>\n",
       "      <td>437.004489</td>\n",
       "      <td>7</td>\n",
       "      <td>2</td>\n",
       "      <td>4.10954</td>\n",
       "    </tr>\n",
       "    <tr>\n",
       "      <th>996</th>\n",
       "      <td>375.100414</td>\n",
       "      <td>5</td>\n",
       "      <td>1</td>\n",
       "      <td>3.70520</td>\n",
       "    </tr>\n",
       "    <tr>\n",
       "      <th>997</th>\n",
       "      <td>1250.664991</td>\n",
       "      <td>14</td>\n",
       "      <td>0</td>\n",
       "      <td>19.16620</td>\n",
       "    </tr>\n",
       "    <tr>\n",
       "      <th>998</th>\n",
       "      <td>518.221700</td>\n",
       "      <td>7</td>\n",
       "      <td>1</td>\n",
       "      <td>5.44250</td>\n",
       "    </tr>\n",
       "  </tbody>\n",
       "</table>\n",
       "<p>1599 rows × 4 columns</p>\n",
       "</div>"
      ],
      "text/plain": [
       "              MW  HBA  HBD      logP\n",
       "0     315.000724    4    1   2.63360\n",
       "1     171.104799    1    1   1.89670\n",
       "2    1343.587801   27   15   0.92454\n",
       "3     211.110947    3    1   1.80390\n",
       "4     204.072119    2    0   2.14610\n",
       "..           ...  ...  ...       ...\n",
       "994   674.298346   11    6   5.12654\n",
       "995   437.004489    7    2   4.10954\n",
       "996   375.100414    5    1   3.70520\n",
       "997  1250.664991   14    0  19.16620\n",
       "998   518.221700    7    1   5.44250\n",
       "\n",
       "[1599 rows x 4 columns]"
      ]
     },
     "execution_count": 31,
     "metadata": {},
     "output_type": "execute_result"
    }
   ],
   "source": [
    "X"
   ]
  },
  {
   "cell_type": "code",
   "execution_count": 32,
   "metadata": {},
   "outputs": [],
   "source": [
    "y = new_df.iloc[:, -1]"
   ]
  },
  {
   "cell_type": "code",
   "execution_count": 33,
   "metadata": {},
   "outputs": [
    {
     "data": {
      "text/plain": [
       "0      1\n",
       "1      1\n",
       "2      1\n",
       "3      1\n",
       "4      1\n",
       "      ..\n",
       "994    0\n",
       "995    0\n",
       "996    0\n",
       "997    0\n",
       "998    0\n",
       "Name: is_drug, Length: 1599, dtype: int64"
      ]
     },
     "execution_count": 33,
     "metadata": {},
     "output_type": "execute_result"
    }
   ],
   "source": [
    "y"
   ]
  },
  {
   "cell_type": "code",
   "execution_count": 34,
   "metadata": {},
   "outputs": [],
   "source": [
    "# training set 과  test set 분리"
   ]
  },
  {
   "cell_type": "code",
   "execution_count": 35,
   "metadata": {},
   "outputs": [],
   "source": [
    "import sklearn.model_selection"
   ]
  },
  {
   "cell_type": "code",
   "execution_count": 38,
   "metadata": {},
   "outputs": [],
   "source": [
    "X_train,X_test, y_train, y_test = sklearn.model_selection.train_test_split(X, y, test_size=0.20, random_state=42)"
   ]
  },
  {
   "cell_type": "code",
   "execution_count": 41,
   "metadata": {},
   "outputs": [
    {
     "data": {
      "text/html": [
       "<div>\n",
       "<style scoped>\n",
       "    .dataframe tbody tr th:only-of-type {\n",
       "        vertical-align: middle;\n",
       "    }\n",
       "\n",
       "    .dataframe tbody tr th {\n",
       "        vertical-align: top;\n",
       "    }\n",
       "\n",
       "    .dataframe thead th {\n",
       "        text-align: right;\n",
       "    }\n",
       "</style>\n",
       "<table border=\"1\" class=\"dataframe\">\n",
       "  <thead>\n",
       "    <tr style=\"text-align: right;\">\n",
       "      <th></th>\n",
       "      <th>MW</th>\n",
       "      <th>HBA</th>\n",
       "      <th>HBD</th>\n",
       "      <th>logP</th>\n",
       "    </tr>\n",
       "  </thead>\n",
       "  <tbody>\n",
       "    <tr>\n",
       "      <th>493</th>\n",
       "      <td>305.073805</td>\n",
       "      <td>1</td>\n",
       "      <td>1</td>\n",
       "      <td>5.17960</td>\n",
       "    </tr>\n",
       "    <tr>\n",
       "      <th>354</th>\n",
       "      <td>208.121178</td>\n",
       "      <td>4</td>\n",
       "      <td>0</td>\n",
       "      <td>1.16180</td>\n",
       "    </tr>\n",
       "    <tr>\n",
       "      <th>342</th>\n",
       "      <td>247.062677</td>\n",
       "      <td>7</td>\n",
       "      <td>0</td>\n",
       "      <td>0.53442</td>\n",
       "    </tr>\n",
       "    <tr>\n",
       "      <th>234</th>\n",
       "      <td>182.087769</td>\n",
       "      <td>2</td>\n",
       "      <td>1</td>\n",
       "      <td>2.13759</td>\n",
       "    </tr>\n",
       "    <tr>\n",
       "      <th>105</th>\n",
       "      <td>243.121906</td>\n",
       "      <td>7</td>\n",
       "      <td>3</td>\n",
       "      <td>-1.60240</td>\n",
       "    </tr>\n",
       "    <tr>\n",
       "      <th>...</th>\n",
       "      <td>...</td>\n",
       "      <td>...</td>\n",
       "      <td>...</td>\n",
       "      <td>...</td>\n",
       "    </tr>\n",
       "    <tr>\n",
       "      <th>530</th>\n",
       "      <td>227.040485</td>\n",
       "      <td>2</td>\n",
       "      <td>0</td>\n",
       "      <td>4.07010</td>\n",
       "    </tr>\n",
       "    <tr>\n",
       "      <th>694</th>\n",
       "      <td>449.117411</td>\n",
       "      <td>6</td>\n",
       "      <td>2</td>\n",
       "      <td>4.06930</td>\n",
       "    </tr>\n",
       "    <tr>\n",
       "      <th>260</th>\n",
       "      <td>351.158292</td>\n",
       "      <td>6</td>\n",
       "      <td>0</td>\n",
       "      <td>3.07648</td>\n",
       "    </tr>\n",
       "    <tr>\n",
       "      <th>859</th>\n",
       "      <td>422.151158</td>\n",
       "      <td>8</td>\n",
       "      <td>2</td>\n",
       "      <td>3.04150</td>\n",
       "    </tr>\n",
       "    <tr>\n",
       "      <th>526</th>\n",
       "      <td>216.099774</td>\n",
       "      <td>5</td>\n",
       "      <td>1</td>\n",
       "      <td>0.57720</td>\n",
       "    </tr>\n",
       "  </tbody>\n",
       "</table>\n",
       "<p>1279 rows × 4 columns</p>\n",
       "</div>"
      ],
      "text/plain": [
       "             MW  HBA  HBD     logP\n",
       "493  305.073805    1    1  5.17960\n",
       "354  208.121178    4    0  1.16180\n",
       "342  247.062677    7    0  0.53442\n",
       "234  182.087769    2    1  2.13759\n",
       "105  243.121906    7    3 -1.60240\n",
       "..          ...  ...  ...      ...\n",
       "530  227.040485    2    0  4.07010\n",
       "694  449.117411    6    2  4.06930\n",
       "260  351.158292    6    0  3.07648\n",
       "859  422.151158    8    2  3.04150\n",
       "526  216.099774    5    1  0.57720\n",
       "\n",
       "[1279 rows x 4 columns]"
      ]
     },
     "execution_count": 41,
     "metadata": {},
     "output_type": "execute_result"
    }
   ],
   "source": [
    "X_train"
   ]
  },
  {
   "cell_type": "code",
   "execution_count": 42,
   "metadata": {},
   "outputs": [
    {
     "data": {
      "text/html": [
       "<div>\n",
       "<style scoped>\n",
       "    .dataframe tbody tr th:only-of-type {\n",
       "        vertical-align: middle;\n",
       "    }\n",
       "\n",
       "    .dataframe tbody tr th {\n",
       "        vertical-align: top;\n",
       "    }\n",
       "\n",
       "    .dataframe thead th {\n",
       "        text-align: right;\n",
       "    }\n",
       "</style>\n",
       "<table border=\"1\" class=\"dataframe\">\n",
       "  <thead>\n",
       "    <tr style=\"text-align: right;\">\n",
       "      <th></th>\n",
       "      <th>MW</th>\n",
       "      <th>HBA</th>\n",
       "      <th>HBD</th>\n",
       "      <th>logP</th>\n",
       "    </tr>\n",
       "  </thead>\n",
       "  <tbody>\n",
       "    <tr>\n",
       "      <th>203</th>\n",
       "      <td>338.016057</td>\n",
       "      <td>8</td>\n",
       "      <td>5</td>\n",
       "      <td>-0.12410</td>\n",
       "    </tr>\n",
       "    <tr>\n",
       "      <th>124</th>\n",
       "      <td>430.061041</td>\n",
       "      <td>6</td>\n",
       "      <td>2</td>\n",
       "      <td>2.87958</td>\n",
       "    </tr>\n",
       "    <tr>\n",
       "      <th>350</th>\n",
       "      <td>170.105528</td>\n",
       "      <td>4</td>\n",
       "      <td>2</td>\n",
       "      <td>-0.12730</td>\n",
       "    </tr>\n",
       "    <tr>\n",
       "      <th>82</th>\n",
       "      <td>236.928676</td>\n",
       "      <td>3</td>\n",
       "      <td>0</td>\n",
       "      <td>1.44860</td>\n",
       "    </tr>\n",
       "    <tr>\n",
       "      <th>726</th>\n",
       "      <td>453.196459</td>\n",
       "      <td>6</td>\n",
       "      <td>2</td>\n",
       "      <td>1.36610</td>\n",
       "    </tr>\n",
       "    <tr>\n",
       "      <th>...</th>\n",
       "      <td>...</td>\n",
       "      <td>...</td>\n",
       "      <td>...</td>\n",
       "      <td>...</td>\n",
       "    </tr>\n",
       "    <tr>\n",
       "      <th>659</th>\n",
       "      <td>207.071785</td>\n",
       "      <td>2</td>\n",
       "      <td>1</td>\n",
       "      <td>2.77300</td>\n",
       "    </tr>\n",
       "    <tr>\n",
       "      <th>695</th>\n",
       "      <td>224.096106</td>\n",
       "      <td>4</td>\n",
       "      <td>2</td>\n",
       "      <td>1.23960</td>\n",
       "    </tr>\n",
       "    <tr>\n",
       "      <th>555</th>\n",
       "      <td>315.183444</td>\n",
       "      <td>4</td>\n",
       "      <td>2</td>\n",
       "      <td>3.33830</td>\n",
       "    </tr>\n",
       "    <tr>\n",
       "      <th>363</th>\n",
       "      <td>435.005545</td>\n",
       "      <td>4</td>\n",
       "      <td>1</td>\n",
       "      <td>4.02260</td>\n",
       "    </tr>\n",
       "    <tr>\n",
       "      <th>104</th>\n",
       "      <td>255.129300</td>\n",
       "      <td>3</td>\n",
       "      <td>1</td>\n",
       "      <td>2.68630</td>\n",
       "    </tr>\n",
       "  </tbody>\n",
       "</table>\n",
       "<p>320 rows × 4 columns</p>\n",
       "</div>"
      ],
      "text/plain": [
       "             MW  HBA  HBD     logP\n",
       "203  338.016057    8    5 -0.12410\n",
       "124  430.061041    6    2  2.87958\n",
       "350  170.105528    4    2 -0.12730\n",
       "82   236.928676    3    0  1.44860\n",
       "726  453.196459    6    2  1.36610\n",
       "..          ...  ...  ...      ...\n",
       "659  207.071785    2    1  2.77300\n",
       "695  224.096106    4    2  1.23960\n",
       "555  315.183444    4    2  3.33830\n",
       "363  435.005545    4    1  4.02260\n",
       "104  255.129300    3    1  2.68630\n",
       "\n",
       "[320 rows x 4 columns]"
      ]
     },
     "execution_count": 42,
     "metadata": {},
     "output_type": "execute_result"
    }
   ],
   "source": [
    "X_test"
   ]
  },
  {
   "cell_type": "code",
   "execution_count": 43,
   "metadata": {},
   "outputs": [
    {
     "data": {
      "text/plain": [
       "203    0\n",
       "124    1\n",
       "350    1\n",
       "82     0\n",
       "726    0\n",
       "      ..\n",
       "659    0\n",
       "695    0\n",
       "555    0\n",
       "363    0\n",
       "104    0\n",
       "Name: is_drug, Length: 320, dtype: int64"
      ]
     },
     "execution_count": 43,
     "metadata": {},
     "output_type": "execute_result"
    }
   ],
   "source": [
    "y_test"
   ]
  },
  {
   "cell_type": "code",
   "execution_count": 44,
   "metadata": {},
   "outputs": [],
   "source": [
    "## RandomForest 모델 사용"
   ]
  },
  {
   "cell_type": "code",
   "execution_count": 45,
   "metadata": {},
   "outputs": [],
   "source": [
    "from sklearn.ensemble import RandomForestClassifier"
   ]
  },
  {
   "cell_type": "code",
   "execution_count": 46,
   "metadata": {},
   "outputs": [],
   "source": [
    "my_model = RandomForestClassifier()"
   ]
  },
  {
   "cell_type": "code",
   "execution_count": 48,
   "metadata": {},
   "outputs": [],
   "source": [
    "# my_model 학습"
   ]
  },
  {
   "cell_type": "code",
   "execution_count": 49,
   "metadata": {},
   "outputs": [
    {
     "data": {
      "text/plain": [
       "RandomForestClassifier()"
      ]
     },
     "execution_count": 49,
     "metadata": {},
     "output_type": "execute_result"
    }
   ],
   "source": [
    "my_model.fit(X_train, y_train)"
   ]
  },
  {
   "cell_type": "code",
   "execution_count": 50,
   "metadata": {},
   "outputs": [],
   "source": [
    "# 예측 시켜보기"
   ]
  },
  {
   "cell_type": "code",
   "execution_count": 54,
   "metadata": {},
   "outputs": [],
   "source": [
    "y_pred = my_model.predict(X_test)"
   ]
  },
  {
   "cell_type": "code",
   "execution_count": 59,
   "metadata": {},
   "outputs": [],
   "source": [
    "# 채점"
   ]
  },
  {
   "cell_type": "code",
   "execution_count": 63,
   "metadata": {},
   "outputs": [],
   "source": [
    "from sklearn.metrics import precision_score, recall_score, f1_score\n",
    "\n",
    "# precision_score 정확도\n",
    "# recall_score \n",
    "# f1_score"
   ]
  },
  {
   "cell_type": "code",
   "execution_count": 64,
   "metadata": {},
   "outputs": [
    {
     "data": {
      "text/plain": [
       "0.5862068965517241"
      ]
     },
     "execution_count": 64,
     "metadata": {},
     "output_type": "execute_result"
    }
   ],
   "source": [
    "precision_score(y_test, y_pred)"
   ]
  },
  {
   "cell_type": "code",
   "execution_count": 65,
   "metadata": {},
   "outputs": [
    {
     "data": {
      "text/plain": [
       "0.3953488372093023"
      ]
     },
     "execution_count": 65,
     "metadata": {},
     "output_type": "execute_result"
    }
   ],
   "source": [
    "recall_score(y_test, y_pred)"
   ]
  },
  {
   "cell_type": "code",
   "execution_count": 66,
   "metadata": {},
   "outputs": [
    {
     "data": {
      "text/plain": [
       "0.4722222222222222"
      ]
     },
     "execution_count": 66,
     "metadata": {},
     "output_type": "execute_result"
    }
   ],
   "source": [
    "f1_score(y_test, y_pred)"
   ]
  },
  {
   "cell_type": "code",
   "execution_count": null,
   "metadata": {},
   "outputs": [],
   "source": []
  }
 ],
 "metadata": {
  "kernelspec": {
   "display_name": "Python 3",
   "language": "python",
   "name": "python3"
  },
  "language_info": {
   "codemirror_mode": {
    "name": "ipython",
    "version": 3
   },
   "file_extension": ".py",
   "mimetype": "text/x-python",
   "name": "python",
   "nbconvert_exporter": "python",
   "pygments_lexer": "ipython3",
   "version": "3.8.3"
  }
 },
 "nbformat": 4,
 "nbformat_minor": 4
}
