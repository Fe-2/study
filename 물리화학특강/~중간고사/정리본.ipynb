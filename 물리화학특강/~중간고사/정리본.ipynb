{
 "cells": [
  {
   "cell_type": "markdown",
   "metadata": {},
   "source": [
    "* 불러오기"
   ]
  },
  {
   "cell_type": "code",
   "execution_count": 1,
   "metadata": {},
   "outputs": [],
   "source": [
    "import rdkit\n",
    "from rdkit import Chem\n",
    "from rdkit.Chem import AllChem #세부 복잡한 화합물 불러오기 "
   ]
  },
  {
   "cell_type": "code",
   "execution_count": 17,
   "metadata": {},
   "outputs": [],
   "source": [
    "from rdkit.Chem import Draw #그림 불러오기"
   ]
  },
  {
   "cell_type": "code",
   "execution_count": 18,
   "metadata": {},
   "outputs": [],
   "source": [
    "from rdkit.Chem import rdMolDescriptors #수소결합같은거 불러올때"
   ]
  },
  {
   "cell_type": "markdown",
   "metadata": {},
   "source": [
    "* 분자 읽어오기"
   ]
  },
  {
   "cell_type": "code",
   "execution_count": 10,
   "metadata": {},
   "outputs": [],
   "source": [
    "with open(\"drugs.smi\") as fp:\n",
    "    for l in fp:\n",
    "        mol = Chem.MolFromSmiles(l.strip())"
   ]
  },
  {
   "cell_type": "code",
   "execution_count": 11,
   "metadata": {},
   "outputs": [],
   "source": [
    "suppl = Chem.SDMolSupplier(\"drugs.sdf\")"
   ]
  },
  {
   "cell_type": "markdown",
   "metadata": {},
   "source": [
    "* 분자 그리기"
   ]
  },
  {
   "cell_type": "code",
   "execution_count": 6,
   "metadata": {},
   "outputs": [],
   "source": [
    "from rdkit.Chem import AllChem\n",
    "large_molecules =[]\n",
    "for m in large_molecules:\n",
    "    AllChem.Compute2DCoords(m) # 최소한으로 겹치게 나타내는것(2d)\n",
    "img=Draw.MolsToGridImage(large_molecules, molsPerRow=3, subImgSize=(300,300)) # (내가구하려는거, 한줄에 몇개씩,크기)   "
   ]
  },
  {
   "cell_type": "code",
   "execution_count": 13,
   "metadata": {},
   "outputs": [],
   "source": [
    "# 그림저장 \n",
    "img.save(\"large_molecules.png\")\n",
    "Draw.MolToFile(m4_with_H, \"m4_with_H.png\")"
   ]
  },
  {
   "cell_type": "markdown",
   "metadata": {},
   "source": [
    "* 탄소원자 개수대로 나타내기(히스토그램)"
   ]
  },
  {
   "cell_type": "code",
   "execution_count": 15,
   "metadata": {},
   "outputs": [
    {
     "name": "stdout",
     "output_type": "stream",
     "text": [
      "0~4// 20\n",
      "5~8// 60\n",
      "9~13// 123\n",
      "13~15// 81\n",
      "16~// 441\n"
     ]
    }
   ],
   "source": [
    "import rdkit\n",
    "from rdkit import Chem\n",
    "from rdkit.Chem import AllChem\n",
    "\n",
    "suppl = Chem.SDMolSupplier(\"drugs.sdf\")\n",
    "mols =[]\n",
    "zero = 0\n",
    "five = 0\n",
    "nine = 0\n",
    "thirteen = 0\n",
    "num_carbon = 0\n",
    "another = 0\n",
    "for mol in suppl:\n",
    "    mols.append(mol)\n",
    "\n",
    "    \n",
    "AllC = []\n",
    "for m in mols:\n",
    "    for atom in m.GetAtoms():\n",
    "        Atom = atom.GetSymbol()\n",
    "        if Atom == \"C\":\n",
    "            num_carbon += 1\n",
    "    C = num_carbon\n",
    "    num_carbon = 0\n",
    "    AllC.append(C)\n",
    "    \n",
    "for num in AllC:\n",
    "    if 4>= num >=0:\n",
    "        zero += 1\n",
    "    elif 8>= num >=5:\n",
    "        five += 1\n",
    "    elif 12>= num >=9:\n",
    "        nine += 1\n",
    "    elif 15>= num >=13:\n",
    "        thirteen += 1\n",
    "    else:\n",
    "        another += 1 \n",
    "        \n",
    "print(\"0~4//\", zero)\n",
    "print(\"5~8//\", five)\n",
    "print(\"9~13//\", nine)\n",
    "print(\"13~15//\", thirteen)\n",
    "print(\"16~//\", another)"
   ]
  },
  {
   "cell_type": "code",
   "execution_count": 25,
   "metadata": {},
   "outputs": [
    {
     "name": "stdout",
     "output_type": "stream",
     "text": [
      "원자의 개수가 20개 인 것은 28 개이다.\n"
     ]
    }
   ],
   "source": [
    "# 원자의 개수 세기 \n",
    "import rdkit\n",
    "from rdkit import Chem\n",
    "suppl = Chem.SDMolSupplier(\"drugs.sdf\")\n",
    "count = 0\n",
    "for m in suppl:\n",
    "    num_a = m.GetNumAtoms()\n",
    "    if num_a == 20:\n",
    "        count += 1\n",
    "print(\"원자의 개수가 20개 인 것은\",count,\"개이다.\")"
   ]
  },
  {
   "cell_type": "code",
   "execution_count": 26,
   "metadata": {},
   "outputs": [
    {
     "name": "stdout",
     "output_type": "stream",
     "text": [
      "566\n"
     ]
    }
   ],
   "source": [
    "# 원자의 갯수가 30개가 안되는 작은 분자들의 수\n",
    "small_molecules = []\n",
    "for m in suppl:\n",
    "    num_small_atom = m.GetNumAtoms()\n",
    "    if num_small_atom <= 30:\n",
    "        small_molecules.append(m)\n",
    "print(len(small_molecules))"
   ]
  },
  {
   "cell_type": "markdown",
   "metadata": {},
   "source": [
    "* 분자 모양 읽기"
   ]
  },
  {
   "cell_type": "code",
   "execution_count": 16,
   "metadata": {},
   "outputs": [],
   "source": [
    "m = Chem.MolFromSmiles(\"C1OC1\")"
   ]
  },
  {
   "cell_type": "code",
   "execution_count": null,
   "metadata": {},
   "outputs": [],
   "source": [
    "for atom in m.GetAtoms(): # m(분자) 안에 있는 원자 (atom)을 하나씩 돌려준다.\n",
    "    print(atom.GetAtomicNum()) # 원자번호를 리턴하는 메소드"
   ]
  },
  {
   "cell_type": "code",
   "execution_count": null,
   "metadata": {},
   "outputs": [],
   "source": [
    "for bond in m.GetBonds():# 원자의 결합을 가져옴\n",
    "    print(bond.GetBondType()) # bond -type 출력"
   ]
  },
  {
   "cell_type": "code",
   "execution_count": null,
   "metadata": {},
   "outputs": [],
   "source": [
    "for m in molecules:\n",
    "    print(rdMolDescriptors.CalcNumHBA(m)) #수소결합 주개 갯수 \n",
    "for m in molecules:\n",
    "    print(rdMolDescriptors.CalcNumHBD(m)) # 수소결합 받개 갯수"
   ]
  },
  {
   "cell_type": "markdown",
   "metadata": {},
   "source": [
    "* 존재유무 확인"
   ]
  },
  {
   "cell_type": "code",
   "execution_count": null,
   "metadata": {},
   "outputs": [],
   "source": [
    "# 존재유무 확인 (aromatic 대신에 원자도 확인 가능) \n",
    "def has_aromatic(m):\n",
    "    double=0\n",
    "    for bond2 in m.GetBonds():\n",
    "        if bond2.GetBondType() == rdkit.Chem.BondType.AROMATIC:\n",
    "            double += 1\n",
    "        else:\n",
    "            continue\n",
    "    return double"
   ]
  },
  {
   "cell_type": "code",
   "execution_count": null,
   "metadata": {},
   "outputs": [],
   "source": [
    "# 예시: 특정 분자 m 안에 Br 이 존재하는가 하지 않는지를 판별하는 함수를 짜보자!\n",
    "def has_br(m):\n",
    "    flag = False\n",
    "    for atom in m.GetAtoms():\n",
    "        Atom = atom.GetSymbol()\n",
    "        if Atom == \"Br\":\n",
    "            flag = True\n",
    "        else:\n",
    "            continue\n",
    "                \n",
    "    return flag"
   ]
  },
  {
   "cell_type": "code",
   "execution_count": null,
   "metadata": {},
   "outputs": [],
   "source": [
    "# 특정 분자안에 이중결합이 있는지?\n",
    "def has_double_bond(m3):\n",
    "    flag = False\n",
    "    for bond in m3.GetBonds():\n",
    "        if bond.GetBondType() == rdkit.Chem.BondType.DOUBLE:\n",
    "            flag = True\n",
    "        else:\n",
    "            continue\n",
    "    return flag\n",
    "has_double_bond(m3)"
   ]
  },
  {
   "cell_type": "code",
   "execution_count": null,
   "metadata": {},
   "outputs": [],
   "source": [
    "# 특정 분자안에 이중결합이 몇개 있는지?\n",
    "def has_doublebondnum(m4):\n",
    "    count = 0\n",
    "    for bond in m4.GetBonds():\n",
    "        if bond.GetBondType() == rdkit.Chem.BondType.DOUBLE:\n",
    "            count += 1\n",
    "        else:\n",
    "            continue\n",
    "    return count\n",
    "has_doublebondnum(m4)"
   ]
  },
  {
   "cell_type": "markdown",
   "metadata": {},
   "source": [
    "* atom 원자에 관한 것"
   ]
  },
  {
   "cell_type": "code",
   "execution_count": 3,
   "metadata": {},
   "outputs": [
    {
     "ename": "NameError",
     "evalue": "name 'm' is not defined",
     "output_type": "error",
     "traceback": [
      "\u001b[1;31m---------------------------------------------------------------------------\u001b[0m",
      "\u001b[1;31mNameError\u001b[0m                                 Traceback (most recent call last)",
      "\u001b[1;32m<ipython-input-3-b6d5b10b2710>\u001b[0m in \u001b[0;36m<module>\u001b[1;34m\u001b[0m\n\u001b[1;32m----> 1\u001b[1;33m \u001b[0matom\u001b[0m \u001b[1;33m=\u001b[0m \u001b[0mm\u001b[0m\u001b[1;33m.\u001b[0m\u001b[0mGetAtomWithIdx\u001b[0m\u001b[1;33m(\u001b[0m\u001b[1;36m0\u001b[0m\u001b[1;33m)\u001b[0m \u001b[1;31m# m이라는 mol-type 에서 첫번째 atom을 리턴한다.\u001b[0m\u001b[1;33m\u001b[0m\u001b[1;33m\u001b[0m\u001b[0m\n\u001b[0m",
      "\u001b[1;31mNameError\u001b[0m: name 'm' is not defined"
     ]
    }
   ],
   "source": [
    "atom = m.GetAtomWithIdx(0) # m이라는 mol-type 에서 첫번째 atom을 리턴한다."
   ]
  },
  {
   "cell_type": "code",
   "execution_count": null,
   "metadata": {},
   "outputs": [],
   "source": [
    "atom.GetSymbol() # 어떤 원자인지 확인\n",
    "m.GetAtomWithIdx(n).GetSymbol() # n번째원자가 어떤 원자인지"
   ]
  },
  {
   "cell_type": "code",
   "execution_count": null,
   "metadata": {},
   "outputs": [],
   "source": [
    "m.GetAtomWithIdx(0).IsInRing() # 원자들 중 첫번째 위치(idx(0))에 있는 원자가 링안에 존재하는지"
   ]
  },
  {
   "cell_type": "code",
   "execution_count": null,
   "metadata": {},
   "outputs": [],
   "source": [
    "print(Chem.MolToMolBlock(m)) # 분자 정보를 알고자 할 때"
   ]
  },
  {
   "cell_type": "code",
   "execution_count": null,
   "metadata": {},
   "outputs": [],
   "source": [
    "Chem.AddHs(m) #수소 붙이기\n",
    "m4_with_H = Chem.AddHs(m4) # 사라지기 때문에 수소 붙이고 지정해줘야함\n",
    "M_noH = Chem.RemoveHs(M_with_H) #수소없애기"
   ]
  },
  {
   "cell_type": "code",
   "execution_count": null,
   "metadata": {},
   "outputs": [],
   "source": [
    "m3.SetProp(\"_Name\",\"pyrrolo\") #분자이름 바꾸기"
   ]
  },
  {
   "cell_type": "code",
   "execution_count": null,
   "metadata": {},
   "outputs": [],
   "source": [
    "AllChem.Compute2DCoords(m3) # 원자끼리 겹치지 않게 바꿔주는거 올캠을 진즉 불러왔어야함\n",
    "AllChem.EmbedMolecule(m4_noH) #3d로 바꾸기"
   ]
  },
  {
   "cell_type": "code",
   "execution_count": null,
   "metadata": {},
   "outputs": [],
   "source": [
    "m.GetAtomWithIdx(0).GetExplicitValence() # 수소를 안 달은 상태라서 비공유 전자쌍이 첫번째 원소에 몇개 붙어있는지"
   ]
  },
  {
   "cell_type": "code",
   "execution_count": null,
   "metadata": {},
   "outputs": [],
   "source": [
    "m.GetBondWithIdx(0).GetBeginAtomIdx() #첫번째본드에서 시작하는 원자의 위치가 0이라서 처음이다\n",
    "m.GetBondWithIdx(0).GetEndAtomIdx() # 첫번째본드에서 시작해서 끝나는본드는 위치가 1"
   ]
  },
  {
   "cell_type": "code",
   "execution_count": null,
   "metadata": {},
   "outputs": [],
   "source": [
    "m.GetBondBetweenAtoms(0,1).GetBondType() # 첫번째와 두번째 사이의 본드의 타입은? 싱글이다."
   ]
  },
  {
   "cell_type": "code",
   "execution_count": 2,
   "metadata": {},
   "outputs": [
    {
     "ename": "NameError",
     "evalue": "name 'atom' is not defined",
     "output_type": "error",
     "traceback": [
      "\u001b[1;31m---------------------------------------------------------------------------\u001b[0m",
      "\u001b[1;31mNameError\u001b[0m                                 Traceback (most recent call last)",
      "\u001b[1;32m<ipython-input-2-e8e8ecb82190>\u001b[0m in \u001b[0;36m<module>\u001b[1;34m\u001b[0m\n\u001b[1;32m----> 1\u001b[1;33m \u001b[0mneighbors\u001b[0m \u001b[1;33m=\u001b[0m \u001b[0matom\u001b[0m\u001b[1;33m.\u001b[0m\u001b[0mGetNeighbors\u001b[0m\u001b[1;33m(\u001b[0m\u001b[0mm\u001b[0m\u001b[1;33m)\u001b[0m \u001b[1;31m# 특정 원자의 neighbors (이웃한 원자들의 리스트)를 리턴\u001b[0m\u001b[1;33m\u001b[0m\u001b[1;33m\u001b[0m\u001b[0m\n\u001b[0m",
      "\u001b[1;31mNameError\u001b[0m: name 'atom' is not defined"
     ]
    }
   ],
   "source": [
    "neighbors = atom.GetNeighbors(m) # 특정 원자의 neighbors (이웃한 원자들의 리스트)를 리턴"
   ]
  },
  {
   "cell_type": "markdown",
   "metadata": {},
   "source": [
    "* 리스트로 한번에 쓰기"
   ]
  },
  {
   "cell_type": "code",
   "execution_count": null,
   "metadata": {},
   "outputs": [],
   "source": [
    "# python에서는 list comprehension 을 제공. \n",
    "large_mol2 = [mol for mol in suppl if mol.GetNumAtoms() >=30]\n",
    "print(len(large_mol2))"
   ]
  },
  {
   "cell_type": "markdown",
   "metadata": {},
   "source": [
    "* 평균 표준편차"
   ]
  },
  {
   "cell_type": "code",
   "execution_count": 23,
   "metadata": {},
   "outputs": [
    {
     "name": "stdout",
     "output_type": "stream",
     "text": [
      "doner 평균/표쥰편차는: 1.5655, 1.3140\n",
      "acceptor 평균/표쥰편차는: 4.2841, 2.2476\n"
     ]
    }
   ],
   "source": [
    "import math\n",
    "hba_nums = [] #acceptor\n",
    "hbd_nums = [] #doner\n",
    "for m in mols:\n",
    "    hba_nums.append(rdMolDescriptors.CalcNumHBA(m))\n",
    "    hbd_nums.append(rdMolDescriptors.CalcNumHBD(m))\n",
    "    \n",
    "def average(num_list):\n",
    "    avg = sum(num_list) / len(num_list)\n",
    "    return avg\n",
    "\n",
    "def average_and_atd(num_list):\n",
    "    avg = sum(num_list) / len(num_list)\n",
    "    std = 0\n",
    "    for n in num_list:\n",
    "        std = std + ((n-avg)**2)\n",
    "    std = std / (len(num_list)-1)\n",
    "    std = math.sqrt(std)\n",
    "    return avg, std\n",
    "hbd_avg, hbd_std = average_and_atd(hbd_nums)\n",
    "hba_avg, hba_std = average_and_atd(hba_nums)\n",
    "print(f\"doner 평균/표쥰편차는: {hbd_avg:.4f}, {hbd_std:.4f}\") # 소수점 4번째까지 나타냄\n",
    "print(f\"acceptor 평균/표쥰편차는: {hba_avg:.4f}, {hba_std:.4f}\")"
   ]
  },
  {
   "cell_type": "markdown",
   "metadata": {},
   "source": [
    "* rdkit 홈페이지"
   ]
  },
  {
   "cell_type": "markdown",
   "metadata": {},
   "source": [
    "https://www.rdkit.org/docs/source/rdkit.Chem.rdchem.html"
   ]
  },
  {
   "cell_type": "code",
   "execution_count": 4,
   "metadata": {},
   "outputs": [
    {
     "ename": "NameError",
     "evalue": "name 'Chem' is not defined",
     "output_type": "error",
     "traceback": [
      "\u001b[1;31m---------------------------------------------------------------------------\u001b[0m",
      "\u001b[1;31mNameError\u001b[0m                                 Traceback (most recent call last)",
      "\u001b[1;32m<ipython-input-4-ef974025df8d>\u001b[0m in \u001b[0;36m<module>\u001b[1;34m\u001b[0m\n\u001b[1;32m----> 1\u001b[1;33m \u001b[0mm\u001b[0m \u001b[1;33m=\u001b[0m \u001b[0mChem\u001b[0m\u001b[1;33m.\u001b[0m\u001b[0mMolFromSmiles\u001b[0m\u001b[1;33m(\u001b[0m\u001b[1;34m\"CCC\"\u001b[0m\u001b[1;33m)\u001b[0m\u001b[1;33m\u001b[0m\u001b[1;33m\u001b[0m\u001b[0m\n\u001b[0m\u001b[0;32m      2\u001b[0m \u001b[0ma\u001b[0m \u001b[1;33m=\u001b[0m \u001b[0mm\u001b[0m\u001b[1;33m.\u001b[0m\u001b[0mGetNumAtoms\u001b[0m\u001b[1;33m(\u001b[0m\u001b[1;33m)\u001b[0m\u001b[1;33m\u001b[0m\u001b[1;33m\u001b[0m\u001b[0m\n\u001b[0;32m      3\u001b[0m \u001b[0mA\u001b[0m \u001b[1;33m=\u001b[0m \u001b[1;33m[\u001b[0m\u001b[1;33m]\u001b[0m\u001b[1;33m\u001b[0m\u001b[1;33m\u001b[0m\u001b[0m\n\u001b[0;32m      4\u001b[0m \u001b[1;32mfor\u001b[0m \u001b[0mi\u001b[0m \u001b[1;32min\u001b[0m \u001b[0mrange\u001b[0m\u001b[1;33m(\u001b[0m\u001b[1;36m0\u001b[0m\u001b[1;33m,\u001b[0m\u001b[0ma\u001b[0m\u001b[1;33m)\u001b[0m\u001b[1;33m:\u001b[0m\u001b[1;33m\u001b[0m\u001b[1;33m\u001b[0m\u001b[0m\n\u001b[0;32m      5\u001b[0m     \u001b[0matom\u001b[0m \u001b[1;33m=\u001b[0m \u001b[0mm\u001b[0m\u001b[1;33m.\u001b[0m\u001b[0mGetAtomWithIdx\u001b[0m\u001b[1;33m(\u001b[0m\u001b[0mi\u001b[0m\u001b[1;33m)\u001b[0m\u001b[1;33m\u001b[0m\u001b[1;33m\u001b[0m\u001b[0m\n",
      "\u001b[1;31mNameError\u001b[0m: name 'Chem' is not defined"
     ]
    }
   ],
   "source": [
    "m = Chem.MolFromSmiles(\"CCC\")\n",
    "a = m.GetNumAtoms()\n",
    "A = []\n",
    "for i in range(0,a):\n",
    "    atom = m.GetAtomWithIdx(i)\n",
    "    neighbors = atom.GetNeighbors()\n",
    "    A.append(neighbors)\n"
   ]
  },
  {
   "cell_type": "code",
   "execution_count": null,
   "metadata": {},
   "outputs": [],
   "source": []
  },
  {
   "cell_type": "code",
   "execution_count": null,
   "metadata": {},
   "outputs": [],
   "source": []
  },
  {
   "cell_type": "code",
   "execution_count": null,
   "metadata": {},
   "outputs": [],
   "source": []
  }
 ],
 "metadata": {
  "kernelspec": {
   "display_name": "Python 3",
   "language": "python",
   "name": "python3"
  },
  "language_info": {
   "codemirror_mode": {
    "name": "ipython",
    "version": 3
   },
   "file_extension": ".py",
   "mimetype": "text/x-python",
   "name": "python",
   "nbconvert_exporter": "python",
   "pygments_lexer": "ipython3",
   "version": "3.8.3"
  }
 },
 "nbformat": 4,
 "nbformat_minor": 4
}
