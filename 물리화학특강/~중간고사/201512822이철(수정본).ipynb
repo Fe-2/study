{
 "cells": [
  {
   "cell_type": "raw",
   "metadata": {},
   "source": [
    "\n",
    "본 답안지는 타인의 도움 없이 스스로의 힘으로 작성되었음을 확인합니다.\n"
   ]
  },
  {
   "cell_type": "code",
   "execution_count": 1,
   "metadata": {},
   "outputs": [],
   "source": [
    "import rdkit\n",
    "import math\n",
    "from rdkit import Chem \n",
    "from rdkit.Chem import AllChem\n",
    "from rdkit.Chem import Draw\n",
    "from rdkit.Chem import rdMolDescriptors"
   ]
  },
  {
   "cell_type": "code",
   "execution_count": 2,
   "metadata": {},
   "outputs": [],
   "source": [
    "mols = []\n",
    "with open (\"drugs.smi\") as fp:\n",
    "    for l in fp:\n",
    "        mol = Chem.MolFromSmiles(l.strip())\n",
    "        molh = Chem.AddHs(mol)\n",
    "        mols.append(mol)"
   ]
  },
  {
   "cell_type": "code",
   "execution_count": 3,
   "metadata": {},
   "outputs": [
    {
     "name": "stdout",
     "output_type": "stream",
     "text": [
      "6 X 1 = 6\n",
      "6 X 2 = 12\n",
      "6 X 3 = 18\n",
      "6 X 4 = 24\n",
      "6 X 5 = 30\n",
      "6 X 6 = 36\n",
      "6 X 7 = 42\n",
      "6 X 8 = 48\n",
      "6 X 9 = 54\n",
      "6 X 10 = 60\n"
     ]
    }
   ],
   "source": [
    "#1\n",
    "\n",
    "def my_func(n):\n",
    "    for i in range(1,11):\n",
    "        print(n,\"X\",i,\"=\",i*n)\n",
    "        \n",
    "my_func(6)"
   ]
  },
  {
   "cell_type": "code",
   "execution_count": 4,
   "metadata": {},
   "outputs": [
    {
     "name": "stdout",
     "output_type": "stream",
     "text": [
      "[0, 1, 2, 3, 4, 5, 6, 7, 8, 9, 4]\n"
     ]
    }
   ],
   "source": [
    "#2\n",
    "L = [0, 0, 1, 2, 3, 4, 4, 5, 6, 6, 6, 7, 8, 9, 4, 4]\n",
    "newL = []\n",
    "\n",
    "L.append(\"Parity bit\")\n",
    "\n",
    "\n",
    "for i in range(0,len(L)-1):\n",
    "    if not L[i] == L[i+1]:\n",
    "        newL.append(L[i])\n",
    "        \n",
    "print(newL)\n",
    "        \n"
   ]
  },
  {
   "cell_type": "code",
   "execution_count": 5,
   "metadata": {},
   "outputs": [
    {
     "name": "stdin",
     "output_type": "stream",
     "text": [
      "입력 문자열:  w3resource\n"
     ]
    },
    {
     "name": "stdout",
     "output_type": "stream",
     "text": [
      "Current character w position at 0\n",
      "Current character 3 position at 1\n",
      "Current character r position at 2\n",
      "Current character e position at 3\n",
      "Current character s position at 4\n",
      "Current character o position at 5\n",
      "Current character u position at 6\n",
      "Current character r position at 7\n",
      "Current character c position at 8\n",
      "Current character e position at 9\n"
     ]
    }
   ],
   "source": [
    "#3\n",
    "\n",
    "x = str(input(\"입력 문자열: \"))\n",
    "\n",
    "for i in range(0,len(x)):\n",
    "    print(\"Current character\", x[i],\"position at\",i)\n"
   ]
  },
  {
   "cell_type": "code",
   "execution_count": 6,
   "metadata": {},
   "outputs": [
    {
     "name": "stdout",
     "output_type": "stream",
     "text": [
      "The MWs of 10 heaviest molecules: 59.04834715999999\n",
      "The MWs of 10 heaviest molecules: 60.032362748\n",
      "The MWs of 10 heaviest molecules: 74.01675296\n",
      "The MWs of 10 heaviest molecules: 75.0320284\n",
      "The MWs of 10 heaviest molecules: 76.027277368\n",
      "The MWs of 10 heaviest molecules: 77.029920224\n",
      "The MWs of 10 heaviest molecules: 94.053098192\n",
      "The MWs of 10 heaviest molecules: 99.94733484\n",
      "The MWs of 10 heaviest molecules: 102.042927432\n",
      "The MWs of 10 heaviest molecules: 104.047344116\n",
      "====\n",
      "The MWs of 10 heaviest molecules: 775.3549597960015\n",
      "The MWs of 10 heaviest molecules: 776.6866998320004\n",
      "The MWs of 10 heaviest molecules: 820.8803234120007\n",
      "The MWs of 10 heaviest molecules: 867.3180956200013\n",
      "The MWs of 10 heaviest molecules: 881.4224451000015\n",
      "The MWs of 10 heaviest molecules: 882.4064606880015\n",
      "The MWs of 10 heaviest molecules: 888.4134378880016\n",
      "The MWs of 10 heaviest molecules: 893.5051121040019\n",
      "The MWs of 10 heaviest molecules: 1112.4907001400018\n",
      "The MWs of 10 heaviest molecules: 2748.146422311943\n"
     ]
    }
   ],
   "source": [
    "#4\n",
    "mols=[]\n",
    "sup = Chem.SDMolSupplier(\"drugs.sdf\")\n",
    "qnswkfid1 = []\n",
    "qnswkfid = []\n",
    "smallest=[]\n",
    "biggest=[]\n",
    "\n",
    "for i in sup:\n",
    "    mols.append(i)\n",
    "    \n",
    "for x in range(0,len(mols)):\n",
    "    m= mols[x]\n",
    "    mH= Chem.AddHs(m)\n",
    "    qnswkfid1.append(rdkit.Chem.rdMolDescriptors.CalcExactMolWt(mH))\n",
    "\n",
    "qnswkfidwndqhrwprj = set(qnswkfid1)\n",
    "qnswkfid = list(qnswkfidwndqhrwprj)\n",
    "    \n",
    "qnswkfidwjdfuf = sorted(qnswkfid)\n",
    "\n",
    "for j in range(0,len(qnswkfid)):\n",
    "    x = qnswkfid[j]\n",
    "    for k in range(0,10):\n",
    "        small = qnswkfidwjdfuf[k]\n",
    "        if small == x:\n",
    "            smallest.append(small)\n",
    "            \n",
    "qnswkfidwjdfuf.sort(reverse=True)\n",
    "\n",
    "for j in range(0,len(qnswkfid)):\n",
    "    x = qnswkfid[j]\n",
    "    for k in range(0,10):\n",
    "        big = qnswkfidwjdfuf[k]\n",
    "        if big == x:\n",
    "            biggest.append(big)\n",
    "            \n",
    "S = set(smallest)\n",
    "B = set(biggest)\n",
    "Sl = list(S)            \n",
    "Bl = list(B)\n",
    "Sl.sort()\n",
    "Bl.sort()\n",
    "\n",
    "for i in Sl:\n",
    "    print(\"The MWs of 10 heaviest molecules:\",i)\n",
    "print(\"====\")\n",
    "for i in Bl:\n",
    "    print(\"The MWs of 10 heaviest molecules:\",i)"
   ]
  },
  {
   "cell_type": "code",
   "execution_count": 7,
   "metadata": {},
   "outputs": [],
   "source": [
    "#5\n",
    "\n",
    "def aroma(m):\n",
    "    count = 0\n",
    "    for bond in m.GetBonds():\n",
    "        if bond.GetBondType() == rdkit.Chem.BondType.AROMATIC:\n",
    "            count += 1\n",
    "        else:\n",
    "            continue\n",
    "    return count\n",
    "\n",
    "def double(m):\n",
    "    count = 0\n",
    "    for bond in m.GetBonds():\n",
    "        if bond.GetBondType() == rdkit.Chem.BondType.DOUBLE:\n",
    "            count += 1\n",
    "        else:\n",
    "            continue\n",
    "    return count\n",
    "\n",
    "smiles = []\n",
    "\n",
    "for i in mols:\n",
    "    flag = True\n",
    "    r = rdkit.Chem.rdMolDescriptors.CalcNumRotatableBonds(i)\n",
    "    if aroma(m) >6:\n",
    "        flag = False\n",
    "    if r > 3:\n",
    "        flag = False\n",
    "    if 1 > double(m):\n",
    "        flag = False\n",
    "    if flag == True:\n",
    "        smile = Chem.MolToSmiles(i)\n",
    "        smiles.append(smile)\n",
    "\n",
    "\n",
    "with open('results.smi', 'w') as f:\n",
    "    for a in smiles:\n",
    "        f.write(a)\n",
    "        f.write(\"\\n\")\n",
    "\n",
    "\n"
   ]
  },
  {
   "cell_type": "code",
   "execution_count": 8,
   "metadata": {},
   "outputs": [
    {
     "name": "stdout",
     "output_type": "stream",
     "text": [
      "          MW    N_Rings N_HBA\n",
      "Average 348.8   2.7     4.4\n",
      "STD     175.2   1.5     2.3\n",
      "Min     59.0    0.0     0.0\n",
      "Max     2748.1  10.0    14.0\n"
     ]
    }
   ],
   "source": [
    "#6\n",
    "\n",
    "mols = []\n",
    "with open (\"molecules.smi\") as fp:\n",
    "    for l in fp:\n",
    "        mol = Chem.MolFromSmiles(l.strip())\n",
    "        molh = Chem.AddHs(mol)\n",
    "        mols.append(mol)\n",
    "\n",
    "MWs=[]\n",
    "NRs=[]\n",
    "NHBAs=[]\n",
    "\n",
    "\n",
    "def MW(m):\n",
    "    return rdkit.Chem.rdMolDescriptors.CalcExactMolWt(m)\n",
    "def NR(m):\n",
    "    return rdkit.Chem.rdMolDescriptors.CalcNumRings(m)\n",
    "def NHBA(m):\n",
    "    return rdkit.Chem.rdMolDescriptors.CalcNumHBA(m)\n",
    "\n",
    "def avg(x):\n",
    "    count = 0\n",
    "    return (sum(x) / len(x))\n",
    "\n",
    "def std(x):\n",
    "    avg = sum(x) / len(x)\n",
    "    std = 0\n",
    "    for n in x:\n",
    "        std = std + (n-avg)**2\n",
    "    std = std / (len(x) - 1)\n",
    "    std = math.sqrt(std)\n",
    "    return std\n",
    "\n",
    "for i in range(0,len(mols)):\n",
    "    mol= mols[i]\n",
    "    MWs.append(MW(mol))\n",
    "    NRs.append(NR(mol))\n",
    "    NHBAs.append(NHBA(mol))\n",
    "\n",
    "    \n",
    "print(\"          MW    N_Rings N_HBA\")\n",
    "print(\"Average\",format(avg(MWs),\".1f\"),\" \",format(avg(NRs),\".1f\"),\"   \",format(avg(NHBAs),\".1f\"))\n",
    "print(\"STD    \",format(std(MWs),\".1f\"),\" \",format(std(NRs),\".1f\"),\"   \",format(std(NHBAs),\".1f\"))\n",
    "print(\"Min    \",format(min(MWs),\".1f\"),\"  \",format(min(NRs),\".1f\"),\"   \",format(min(NHBAs),\".1f\"))\n",
    "print(\"Max    \",format(max(MWs),\".1f\"),\"\",format(max(NRs),\".1f\"),\"  \",format(max(NHBAs),\".1f\"))"
   ]
  },
  {
   "cell_type": "code",
   "execution_count": null,
   "metadata": {},
   "outputs": [],
   "source": []
  },
  {
   "cell_type": "code",
   "execution_count": null,
   "metadata": {},
   "outputs": [],
   "source": []
  }
 ],
 "metadata": {
  "kernelspec": {
   "display_name": "Python 3",
   "language": "python",
   "name": "python3"
  },
  "language_info": {
   "codemirror_mode": {
    "name": "ipython",
    "version": 3
   },
   "file_extension": ".py",
   "mimetype": "text/x-python",
   "name": "python",
   "nbconvert_exporter": "python",
   "pygments_lexer": "ipython3",
   "version": "3.8.3"
  }
 },
 "nbformat": 4,
 "nbformat_minor": 4
}
