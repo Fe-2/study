{
 "cells": [
  {
   "cell_type": "code",
   "execution_count": 159,
   "metadata": {},
   "outputs": [
    {
     "name": "stdout",
     "output_type": "stream",
     "text": [
      "0~4 Atoms     //  18\n",
      "5~8 Atoms     //  60\n",
      "9~12 Atoms    //  121\n",
      "13~15 Atoms   //  76\n",
      "another Atoms //  450\n",
      "725\n"
     ]
    }
   ],
   "source": [
    "#1 (smiles로 바꿔서 C를 찾는과정에서 Cl과 Cr등 탄소이외의 C가 검출되어서 틀림)\n",
    "import rdkit\n",
    "from rdkit import Chem \n",
    "from rdkit.Chem import AllChem\n",
    "\n",
    "sup = Chem.SDMolSupplier(\"drugs.sdf\")\n",
    "mols = []\n",
    "smiles = []\n",
    "C = 0\n",
    "Zero = 0\n",
    "Five = 0\n",
    "Nine = 0\n",
    "Thirteen = 0\n",
    "Another = 0\n",
    "\n",
    "for i in sup:\n",
    "    mols.append(i)\n",
    "\n",
    "for j in range(0,len(mols)):\n",
    "    mol = mols[j]\n",
    "    smile = Chem.MolToSmiles(mol)\n",
    "    smiles.append(smile)\n",
    "\n",
    "for k in range(0, len(smiles)):\n",
    "    S = smiles[k]\n",
    "    C = S.count(\"C\") + S.count(\"c\")  \n",
    "    if 4 >= C and C >= 0:\n",
    "        Zero += 1\n",
    "    elif 8 >= C and C >= 5:\n",
    "        Five += 1\n",
    "    elif 12 >= C and C >= 9:\n",
    "        Nine += 1\n",
    "    elif 15 >= C and C >= 13:\n",
    "        Thirteen += 1\n",
    "    else:\n",
    "        Another += 1\n",
    "    #print(S,\"//\",C)\n",
    "            \n",
    "print(\"0~4 Atoms     // \", Zero)\n",
    "print(\"5~8 Atoms     // \", Five)\n",
    "print(\"9~12 Atoms    // \", Nine)\n",
    "print(\"13~15 Atoms   // \", Thirteen)\n",
    "print(\"another Atoms // \", Another)\n",
    "print(Zero + Five + Nine + Thirteen + Another)\n"
   ]
  },
  {
   "cell_type": "code",
   "execution_count": 2,
   "metadata": {},
   "outputs": [
    {
     "name": "stdout",
     "output_type": "stream",
     "text": [
      "0~4 Atoms     //  20\n",
      "5~8 Atoms     //  60\n",
      "9~12 Atoms    //  123\n",
      "13~15 Atoms   //  81\n",
      "another Atoms //  441\n",
      "725\n"
     ]
    }
   ],
   "source": [
    "#1\n",
    "\n",
    "import rdkit\n",
    "from rdkit import Chem \n",
    "from rdkit.Chem import AllChem\n",
    "sup = Chem.SDMolSupplier(\"drugs.sdf\")\n",
    "mols = []\n",
    "C = 0\n",
    "Count = 0\n",
    "AllC = []\n",
    "Zero = 0\n",
    "Five = 0\n",
    "Nine = 0\n",
    "Thirteen = 0\n",
    "Another = 0\n",
    "\n",
    "\n",
    "for i in sup:\n",
    "    mols.append(i)\n",
    "\n",
    "    \n",
    "for j in mols:\n",
    "    mol = j\n",
    "    for k in mol.GetAtoms():\n",
    "        A = k.GetSymbol()\n",
    "        if A == \"C\":\n",
    "            Count += 1\n",
    "    C = Count\n",
    "    Count = 0\n",
    "    AllC.append(C)\n",
    "\n",
    "\n",
    "for N in range(0, max(AllC)+1):\n",
    "    if 4 >= N and N >= 0:\n",
    "        Zero += AllC.count(N)\n",
    "    elif 8 >= N and N >= 5:\n",
    "        Five += AllC.count(N)\n",
    "    elif 12 >= N and N >= 9:\n",
    "        Nine += AllC.count(N)\n",
    "    elif 15 >= N and N >= 13:\n",
    "        Thirteen += AllC.count(N)\n",
    "    else:\n",
    "        Another += AllC.count(N)\n",
    "    \n",
    "    \n",
    "print(\"0~4 Atoms     // \", Zero)\n",
    "print(\"5~8 Atoms     // \", Five)\n",
    "print(\"9~12 Atoms    // \", Nine)\n",
    "print(\"13~15 Atoms   // \", Thirteen)\n",
    "print(\"another Atoms // \", Another)\n",
    "print(Zero + Five + Nine + Thirteen + Another)\n",
    "\n",
    "\n",
    "#AllCS = sorted(AllC)\n",
    "#print(AllC)\n",
    "#for N in range(0, max(AllC)+1):\n",
    "#    if not AllC.count(N) == 0:\n",
    "#        print(N,\"개의 탄소를 가지는 분자의 갯수는 \", AllC.count(N),\"개 입니다.\")\n",
    "\n"
   ]
  },
  {
   "cell_type": "markdown",
   "metadata": {},
   "source": [
    "================================================================"
   ]
  },
  {
   "cell_type": "code",
   "execution_count": 3,
   "metadata": {},
   "outputs": [
    {
     "name": "stdout",
     "output_type": "stream",
     "text": [
      "[(45, 57), (57, 69)]\n"
     ]
    }
   ],
   "source": [
    "#2\n",
    "\n",
    "S = [124,14,324,234,345,534,45,57,69,756]\n",
    "X = []\n",
    "Smallest = 0\n",
    "Small = []\n",
    "\n",
    "Ssort = sorted(S)\n",
    "\n",
    "for i in range(0, len(Ssort)-1):\n",
    "    j = i+1\n",
    "    X.append(Ssort[j] - Ssort[i])\n",
    "\n",
    "Smallest = min(X) \n",
    "\n",
    "for i in range(0, len(Ssort)-1):\n",
    "    j = i+1\n",
    "    if Ssort[j] - Ssort[i] == Smallest:\n",
    "        Small.append((Ssort[i],Ssort[j]))\n",
    "print(Small)"
   ]
  },
  {
   "cell_type": "markdown",
   "metadata": {},
   "source": [
    "======================================================================================="
   ]
  },
  {
   "cell_type": "code",
   "execution_count": 4,
   "metadata": {},
   "outputs": [
    {
     "name": "stdin",
     "output_type": "stream",
     "text": [
      "검색할 원자링의 갯수를 입력하세요:  7\n"
     ]
    },
    {
     "name": "stdout",
     "output_type": "stream",
     "text": [
      "해당 분자의 번호는  [35, 76, 78, 108, 115, 120, 122, 124, 131, 143, 169, 195, 215, 250, 255, 272, 286, 297, 299, 328, 334, 347, 351, 380, 386, 429, 449, 450, 456, 488, 492, 517, 550, 561, 601, 605, 620, 624, 626, 654, 659, 661, 690, 711, 714, 723] 입니다.\n",
      "7 개의 원자링을 가지는 화합물의 수는 46 개 입니다.\n"
     ]
    }
   ],
   "source": [
    "#3 n개의 원자링을 갖는 화합물은 몇개?\n",
    "\n",
    "import rdkit\n",
    "from rdkit import Chem \n",
    "from rdkit.Chem import AllChem\n",
    "\n",
    "sup = Chem.SDMolSupplier(\"drugs.sdf\")\n",
    "\n",
    "mols = []\n",
    "ok = 0\n",
    "TrueorFalse = 0\n",
    "good= []\n",
    "Count = 0\n",
    "번호 = []\n",
    "n = int(input(\"검색할 원자링의 갯수를 입력하세요: \"))\n",
    "for i in sup:\n",
    "    mols.append(i)\n",
    "\n",
    "    \n",
    "for j in range(0,len(mols)):\n",
    "    mol = mols[j]\n",
    "    for k in range(0,mol.GetNumAtoms()):\n",
    "        if mol.GetAtomWithIdx(k).IsInRingSize(n) == True:\n",
    "            ok += 1\n",
    "    TrueorFalse = ok\n",
    "    good.append(TrueorFalse)\n",
    "    ok = 0\n",
    "\n",
    "for num in range(0, len(good)):\n",
    "    if not good[num] == 0:\n",
    "        Count += 1\n",
    "        번호.append(num)      \n",
    "\n",
    "print(\"해당 분자의 번호는 \" ,번호, \"입니다.\")\n",
    "print(n,\"개의 원자링을 가지는 화합물의 수는\",Count,\"개 입니다.\")"
   ]
  },
  {
   "cell_type": "code",
   "execution_count": 5,
   "metadata": {},
   "outputs": [
    {
     "name": "stdin",
     "output_type": "stream",
     "text": [
      "검색할 탄소링의 갯수를 입력하세요:  7\n"
     ]
    },
    {
     "name": "stdout",
     "output_type": "stream",
     "text": [
      "해당 분자의 번호는  [78, 347, 386, 429, 449, 492, 601, 605] 입니다.\n",
      "7 개의 탄소링을 가지는 화합물의 수는 8 개 입니다.\n"
     ]
    }
   ],
   "source": [
    "#4 n개의 탄소링을 갖는 화합물은 몇개?\n",
    "\n",
    "import rdkit\n",
    "from rdkit import Chem \n",
    "from rdkit.Chem import AllChem\n",
    "\n",
    "sup = Chem.SDMolSupplier(\"drugs.sdf\")\n",
    "\n",
    "mols = []\n",
    "ok = 0\n",
    "TrueorFalse = 0\n",
    "good= []\n",
    "Count = 0\n",
    "Atoms=[]\n",
    "CAtoms =[]\n",
    "Flag = True\n",
    "번호 = []\n",
    "\n",
    "n = int(input(\"검색할 탄소링의 갯수를 입력하세요: \"))\n",
    "for i in sup:\n",
    "    mols.append(i)\n",
    "\n",
    "    \n",
    "for j in range(0,len(mols)):\n",
    "    mol = mols[j]\n",
    "    for k in range(0,mol.GetNumAtoms()):\n",
    "        if mol.GetAtomWithIdx(k).IsInRingSize(n) == True:\n",
    "            for A in mol.GetAtoms():\n",
    "                Atoms.append(A.GetSymbol())\n",
    "                CAtoms = Atoms\n",
    "            if CAtoms[k] == \"C\":\n",
    "                ok += 1\n",
    "            else:\n",
    "                Flag = False\n",
    "    Flag2 = Flag\n",
    "    if Flag2 == True:\n",
    "        TrueorFalse = ok\n",
    "        good.append(TrueorFalse)\n",
    "    else:\n",
    "        good.append(0)\n",
    "    Flag = True\n",
    "    ok = 0\n",
    "    Atoms=[]\n",
    "    \n",
    "for num in range(0, len(good)):\n",
    "    if not good[num] == 0:\n",
    "        Count += 1\n",
    "        번호.append(num)      \n",
    "        \n",
    "print(\"해당 분자의 번호는 \" ,번호, \"입니다.\")\n",
    "print(n,\"개의 탄소링을 가지는 화합물의 수는\",Count,\"개 입니다.\")"
   ]
  },
  {
   "cell_type": "code",
   "execution_count": 6,
   "metadata": {},
   "outputs": [
    {
     "name": "stdin",
     "output_type": "stream",
     "text": [
      "검색할 탄소링의 갯수를 입력하세요:  7\n"
     ]
    },
    {
     "name": "stdout",
     "output_type": "stream",
     "text": [
      "해당 분자의 번호는  [78, 347, 386, 429, 449, 492, 601, 605] 입니다.\n",
      "7 개의 탄소링을 가지는 화합물의 수는 8 개 입니다.\n"
     ]
    }
   ],
   "source": [
    "#4 n개의 탄소링을 갖는 화합물은 몇개?\n",
    "\n",
    "import rdkit\n",
    "from rdkit import Chem \n",
    "from rdkit.Chem import AllChem\n",
    "\n",
    "sup = Chem.SDMolSupplier(\"drugs.sdf\")\n",
    "\n",
    "mols =[]\n",
    "CAtoms=[]\n",
    "Atoms=[]\n",
    "번호 = []\n",
    "Count = 0\n",
    "RingFlag = False\n",
    "RFlag = False\n",
    "AtomFlag = False\n",
    "AFlag = False\n",
    "\n",
    "n = int(input(\"검색할 탄소링의 갯수를 입력하세요: \"))\n",
    "for i in sup:\n",
    "    mols.append(i)\n",
    "\n",
    "    \n",
    "for j in range(0,len(mols)):\n",
    "    mol = mols[j]\n",
    "    for k in range(0,mol.GetNumAtoms()):\n",
    "        if mol.GetAtomWithIdx(k).IsInRingSize(n) == True:\n",
    "            RFlag = True     \n",
    "\n",
    "            for a in mol.GetAtoms():\n",
    "                Atom = a.GetSymbol()\n",
    "                Atoms.append(Atom)\n",
    "        \n",
    "            CAtoms = Atoms\n",
    "        \n",
    "            if not CAtoms[k] == \"C\":\n",
    "                AFlag = False\n",
    "    \n",
    "    Atoms =[]                      \n",
    "    RingFlag = RFlag\n",
    "    AtomFlag = AFlag\n",
    "    \n",
    "    if RingFlag == True:\n",
    "        if AtomFlag == True:\n",
    "            번호.append(j)\n",
    "            Count += 1\n",
    "    AFlag = True\n",
    "    RFlag = False\n",
    "\n",
    "print(\"해당 분자의 번호는 \" ,번호, \"입니다.\")\n",
    "print(n,\"개의 탄소링을 가지는 화합물의 수는\",Count,\"개 입니다.\")"
   ]
  },
  {
   "cell_type": "code",
   "execution_count": 7,
   "metadata": {},
   "outputs": [],
   "source": [
    "#분자 그림그리기 \n",
    "\n",
    "#print(Chem.MolToMolBlock(mols[103]))\n",
    "#mH = Chem.AddHs(mols[103])\n",
    "#from rdkit.Chem import AllChem\n",
    "#AllChem.Compute2DCoords(mH)\n",
    "#from rdkit.Chem import Draw\n",
    "#Draw.MolToFile(mH,\"mH.png\")"
   ]
  },
  {
   "cell_type": "code",
   "execution_count": 8,
   "metadata": {},
   "outputs": [
    {
     "name": "stdout",
     "output_type": "stream",
     "text": [
      "가장 짧은 두 점사이의 거리는 44.384682042344295 이고, 두 점의 좌표는  (577, 345) , (560, 386) 입니다.\n"
     ]
    }
   ],
   "source": [
    "#2차원의 점에서 가장 짧은거리구하기\n",
    "import math\n",
    "\n",
    "S = [(577, 345), (534, 234), (513, 142), (560, 386),(123,454),(675,978)]\n",
    "\n",
    "def 길이(a):\n",
    "    l = math.sqrt((a[0]-a[2])**2 + (a[1]-a[3])**2)\n",
    "    return l\n",
    "\n",
    "길이s = []\n",
    "\n",
    "smallest = {} \n",
    "\n",
    "for i in range(0,len(S)):\n",
    "    for j in range(0,len(S)):\n",
    "        point = [0,0,0,0]\n",
    "        point[0] = S[i][0]\n",
    "        point[1] = S[i][1]\n",
    "        point[2] = S[j][0]\n",
    "        point[3] = S[j][1]\n",
    "        if not 길이(point) == 0:\n",
    "            길이s.append(길이(point))\n",
    "        \n",
    "for i in range(0,len(S)):\n",
    "    for j in range(0,len(S)):\n",
    "        point = [0,0,0,0]\n",
    "        point[0] = S[i][0]\n",
    "        point[1] = S[i][1]\n",
    "        point[2] = S[j][0]\n",
    "        point[3] = S[j][1]\n",
    "        if 길이(point) == min(길이s):\n",
    "            점1 = (point[0],point[1])\n",
    "            점2 = (point[2],point[3])\n",
    "\n",
    "점12 = (점1[0],점1[1],점2[0],점2[1])            \n",
    "print(\"가장 짧은 두 점사이의 거리는\",길이(점12),\"이고, 두 점의 좌표는 \" ,점2,\",\", 점1,\"입니다.\")\n",
    "\n",
    "           "
   ]
  },
  {
   "cell_type": "code",
   "execution_count": 164,
   "metadata": {},
   "outputs": [
    {
     "data": {
      "image/png": "[encoded data removed]",
      "text/plain": [
       "<rdkit.Chem.rdchem.Mol at 0x1dffb0afd00>"
      ]
     },
     "execution_count": 164,
     "metadata": {},
     "output_type": "execute_result"
    }
   ],
   "source": [
    "#이중결합 확인하기\n",
    "def hasdoublebond(m):\n",
    "    double=0\n",
    "    for bond in m.GetBonds():\n",
    "        if bond.GetBondType() == rdkit.Chem.BondType.DOUBLE:\n",
    "            double += 1\n",
    "        else:\n",
    "            continue\n",
    "    return double\n",
    "\n",
    "hasdoublebond(mols[2])\n"
   ]
  },
  {
   "cell_type": "code",
   "execution_count": 10,
   "metadata": {},
   "outputs": [
    {
     "name": "stdout",
     "output_type": "stream",
     "text": [
      "4000\n"
     ]
    }
   ],
   "source": [
    "# 1부터 10000까지 8이라는 숫자는 몇번 나오는가??\n",
    "\n",
    "합=0\n",
    "일부터만까지 = []\n",
    "for i in range(1,10000):\n",
    "    일부터만까지.append(i)\n",
    "\n",
    "a = str(일부터만까지)\n",
    "\n",
    "print(a.count(\"8\"))\n",
    "   \n",
    "        "
   ]
  },
  {
   "cell_type": "code",
   "execution_count": 11,
   "metadata": {},
   "outputs": [
    {
     "name": "stdin",
     "output_type": "stream",
     "text": [
      "입력하신 문자열 safasdf\n"
     ]
    },
    {
     "name": "stdout",
     "output_type": "stream",
     "text": [
      "출력1 =  a2d1f2s2\n",
      "======\n",
      "출력2 =  a2d1f2s2\n"
     ]
    }
   ],
   "source": [
    "# 문자열을 입력받고 같은문자가 연속적으로 반복되는 경우에 그 반복 횟수를 표시하여 문자열을 압축하기.\n",
    "\n",
    "answk = input(\"입력하신 문자열\")\n",
    "answks = []\n",
    "cnffur1 = []\n",
    "cnffur2 = \"\"\n",
    "for i in answk:\n",
    "    answks.append(i)\n",
    "\n",
    "answktpt = set(answks)\n",
    "wndqhrwprj = list(answktpt)\n",
    "wjdfuf = sorted(wndqhrwprj)\n",
    "\n",
    "\n",
    "for i in wjdfuf:\n",
    "    cnffur1.append(i)\n",
    "    cnffur1.append(str(answks.count(i)))\n",
    "print(\"출력1 = \",''.join(cnffur1))\n",
    "print(\"======\")\n",
    "for j in wjdfuf:\n",
    "    cnffur2 += j\n",
    "    cnffur2 += str(answks.count(j))\n",
    "\n",
    "print(\"출력2 = \",cnffur2)\n",
    "\n"
   ]
  },
  {
   "cell_type": "code",
   "execution_count": 12,
   "metadata": {},
   "outputs": [
    {
     "name": "stdout",
     "output_type": "stream",
     "text": [
      "모든 3의 배수와 5의 배수의 합은 233168 입니다.\n"
     ]
    }
   ],
   "source": [
    "#1부터 1000까지의 수 중에서 모든 3의 배수와 모든5의 배수의 합을 구하기\n",
    "count = 0\n",
    "for i in range(1,1000):\n",
    "    if (i % 3) == 0 or (i % 5) == 0:\n",
    "        count += i\n",
    "print(\"모든 3의 배수와 5의 배수의 합은\",count,\"입니다.\")"
   ]
  },
  {
   "cell_type": "code",
   "execution_count": 13,
   "metadata": {},
   "outputs": [
    {
     "name": "stdin",
     "output_type": "stream",
     "text": [
      "총 게시물 갯수 100\n",
      "한 페이지에 보여줄 게시물 수 10\n"
     ]
    },
    {
     "name": "stdout",
     "output_type": "stream",
     "text": [
      "총 페이지의 갯수는 10 개 입니다.\n"
     ]
    }
   ],
   "source": [
    "#페이지갯수 출력\n",
    "m = int(input(\"총 게시물 갯수\"))\n",
    "n = int(input(\"한 페이지에 보여줄 게시물 수\"))\n",
    "\n",
    "if m % n == 0:\n",
    "    page = m/n\n",
    "else:\n",
    "    page = ((m - (m % n)) / n) + 1\n",
    "\n",
    "print(\"총 페이지의 갯수는\", int(page),\"개 입니다.\")"
   ]
  },
  {
   "cell_type": "code",
   "execution_count": 14,
   "metadata": {},
   "outputs": [
    {
     "name": "stdin",
     "output_type": "stream",
     "text": [
      "n을 입력하세요 10\n"
     ]
    },
    {
     "name": "stdout",
     "output_type": "stream",
     "text": [
      "2520\n"
     ]
    }
   ],
   "source": [
    "#1부터 n까지 모든수로 나눠떨어지는 N찾기(큰거못함)\n",
    "\n",
    "n = int(input(\"n을 입력하세요\"))\n",
    "\n",
    "i=0\n",
    "\n",
    "while True:\n",
    "    i += 1\n",
    "    flag = True\n",
    "    for j in range(1,n+1):\n",
    "        if not i % j == 0:\n",
    "            flag = False\n",
    "    if flag == True:\n",
    "        break\n",
    "        \n",
    "print(i)"
   ]
  },
  {
   "cell_type": "code",
   "execution_count": 15,
   "metadata": {},
   "outputs": [
    {
     "name": "stdin",
     "output_type": "stream",
     "text": [
      "n을 입력하세요 : 10\n"
     ]
    },
    {
     "name": "stdout",
     "output_type": "stream",
     "text": [
      "1 부터 10 까지의 모든 수로 나누어도 나머지가 0인 수는\n",
      " 2520 입니다.\n"
     ]
    }
   ],
   "source": [
    "#1부터 n까지 모든수로 나눠떨어지는 N찾기\n",
    "\n",
    "n = int(input(\"n을 입력하세요 :\"))\n",
    "thtn = []\n",
    "dirtn =[]\n",
    "thtnrhq = 1\n",
    "times = 0\n",
    "\n",
    "for i in range(1,n+1):\n",
    "    dirtn = []\n",
    "    for j in range(1,n+1):\n",
    "        if (i % j) == 0:\n",
    "            dirtn.append(j)\n",
    "    if len(dirtn) == 2:\n",
    "        thtn.append(i)\n",
    "\n",
    "        \n",
    "for k in thtn:\n",
    "    thtnrhq *=k\n",
    "\n",
    "while True:\n",
    "    flag = True\n",
    "    times += 1\n",
    "    num =  thtnrhq * times\n",
    "    for l in range(1,n+1):\n",
    "        if not num%l == 0:\n",
    "            flag = False\n",
    "    if flag == True:\n",
    "        N = num \n",
    "        break\n",
    "\n",
    "print(\"1 부터\",n,\"까지의 모든 수로 나누어도 나머지가 0인 수는\\n\",N,\"입니다.\")"
   ]
  },
  {
   "cell_type": "code",
   "execution_count": 16,
   "metadata": {},
   "outputs": [
    {
     "name": "stdin",
     "output_type": "stream",
     "text": [
      "이진법으로 나타낼 숫자를 입력하세요 : 10\n"
     ]
    },
    {
     "name": "stdout",
     "output_type": "stream",
     "text": [
      "1010(2)\n"
     ]
    }
   ],
   "source": [
    "# 2진법으로 나타내기\n",
    "\n",
    "n = int(input(\"이진법으로 나타낼 숫자를 입력하세요 :\"))\n",
    "tmd = []\n",
    "dlwlsqjq = \"\"\n",
    "\n",
    "for i in range(0,n):\n",
    "    if not 2**i > n:\n",
    "        tmd.append(i)\n",
    "\n",
    "tmd.reverse()\n",
    "\n",
    "for j in tmd:\n",
    "    if n-(2**j) >= 0:\n",
    "        dlwlsqjq += \"1\"\n",
    "        n = n-(2**j) \n",
    "    else:\n",
    "        dlwlsqjq += \"0\"\n",
    "\n",
    "print(dlwlsqjq,\"\\b(2)\")"
   ]
  },
  {
   "cell_type": "code",
   "execution_count": 17,
   "metadata": {},
   "outputs": [
    {
     "name": "stdin",
     "output_type": "stream",
     "text": [
      "옮긴 칸의 숫자를 입력하세요 : 2\n",
      "암호화 할 알파벳을 입력하세요 AS\n"
     ]
    },
    {
     "name": "stdout",
     "output_type": "stream",
     "text": [
      "예를들어, A -> C\n",
      "CU\n"
     ]
    }
   ],
   "source": [
    "#시저 암호는, 고대 로마의 황제 줄리어스 시저가 만들어 낸 암호인데, \n",
    "#예를 들어 알파벳 A를 입력했을 때, 그 알파벳의 n개 뒤에 오는\n",
    "#(여기서는 예를 들 때 3으로 지정하였다)알파벳이 출력되는 것이다. \n",
    "#예를 들어 바꾸려는 단어가 'CAT\"고, n을 5로 지정하였을 때 \"HFY\"가 되는 것이다.\n",
    "#어떠한 암호를 만들 문장과 n을 입력했을 때 암호를 만들어 출력하는 프로그램을 작성해라.\n",
    "\n",
    "alp = \"AaBbCcDdEeFfGgHhIiJjKkLlMmNnOoPpQqRrSsTtUuVvWwXxYyZzAa\"\n",
    "alplist = list(alp)\n",
    "\n",
    "\n",
    "n = int(input(\"옮긴 칸의 숫자를 입력하세요 :\"))\n",
    "dkaghans = str(input(\"암호화 할 알파벳을 입력하세요\"))\n",
    "dkaghanslist = list(dkaghans)\n",
    "cnffur = \"\"\n",
    "\n",
    "print(\"예를들어, A ->\",alp[n*2])\n",
    "\n",
    "for i in dkaghanslist:\n",
    "    for k in range(0,len(alplist)-2):\n",
    "        if i == alp[k]:\n",
    "            cnffur += alplist[k+n*2]\n",
    "print(cnffur)"
   ]
  },
  {
   "cell_type": "code",
   "execution_count": 18,
   "metadata": {},
   "outputs": [
    {
     "name": "stdout",
     "output_type": "stream",
     "text": [
      "1227365\n"
     ]
    }
   ],
   "source": [
    "#https://codingdojang.com/scode/365?answer_mode=hide\n",
    "def d(a):\n",
    "    l = list(str(a))\n",
    "    for i in range(0,len(l)):\n",
    "        a += int(l[i])\n",
    "    return a\n",
    "\n",
    "selfn = []\n",
    "\n",
    "for i in range(1,5001):\n",
    "    selfn.append(i)\n",
    "\n",
    "\n",
    "for j in range(1,5001):\n",
    "    if selfn.count(d(j)):\n",
    "        selfn.remove(d(j))\n",
    "\n",
    "\n",
    "sum=0\n",
    "\n",
    "for k in selfn:\n",
    "    sum += k\n",
    "    \n",
    "print(sum)"
   ]
  },
  {
   "cell_type": "code",
   "execution_count": 19,
   "metadata": {},
   "outputs": [
    {
     "data": {
      "text/plain": [
       "6.4031242374328485"
      ]
     },
     "execution_count": 19,
     "metadata": {},
     "output_type": "execute_result"
    }
   ],
   "source": [
    "#대각선 길이 구하기\n",
    "#https://codingdojang.com/scode/672?answer_mode=hide\n",
    "import math\n",
    "\n",
    "def 대각선(a,b):\n",
    "    return math.sqrt(a**2 + b**2)\n",
    "\n",
    "대각선(4,5)"
   ]
  },
  {
   "cell_type": "code",
   "execution_count": 20,
   "metadata": {},
   "outputs": [
    {
     "name": "stdin",
     "output_type": "stream",
     "text": [
      "X진법으로 나타낼 X를 입력하세요 8\n",
      "X진법으로 나타낼 수를 입력하세요 1000\n"
     ]
    },
    {
     "name": "stdout",
     "output_type": "stream",
     "text": [
      "1750 ( 8 )\n"
     ]
    }
   ],
   "source": [
    "# X진법으로 나타내기\n",
    "\n",
    "\n",
    "x = int(input(\"X진법으로 나타낼 X를 입력하세요\"))\n",
    "n = int(input(\"X진법으로 나타낼 수를 입력하세요\"))\n",
    "\n",
    "\n",
    "wlstn = \"\"\n",
    "\n",
    "for i in range(n,0,-1):\n",
    "    if n - x**i >= 0:\n",
    "        big = i\n",
    "        break\n",
    "\n",
    "for j in range(big,0,-1):\n",
    "    if n == (x**j):\n",
    "        wlstn += \"1\"\n",
    "        n = 0\n",
    "        break\n",
    "    else:\n",
    "        if n // (x**j) > 0:\n",
    "            wlstn += str(n // (x**j))\n",
    "            n = n - ((n // (x**j)) * (x**j))\n",
    "        else:\n",
    "            wlstn += \"0\"\n",
    "\n",
    "if not n == 0:    \n",
    "    wlstn += str(n)\n",
    "else:\n",
    "    for k in range(0,j):\n",
    "        wlstn += \"0\"\n",
    "\n",
    "print(wlstn,\"(\",x,\")\")"
   ]
  },
  {
   "cell_type": "code",
   "execution_count": 14,
   "metadata": {},
   "outputs": [
    {
     "name": "stdout",
     "output_type": "stream",
     "text": [
      "[17, 23, 25, 31, 36, 61, 72, 77, 95, 99, 121, 124, 174, 242, 303, 329, 338, 367, 387, 396, 419, 496, 555, 559, 581, 602, 703, 722]\n"
     ]
    }
   ],
   "source": [
    "#원자가 20개인것들의 번호를 출력\n",
    "import rdkit\n",
    "from rdkit import Chem \n",
    "from rdkit.Chem import AllChem\n",
    "\n",
    "sup = Chem.SDMolSupplier(\"drugs.sdf\")\n",
    "atom20 = []\n",
    "\n",
    "for i in range(0,len(sup)):\n",
    "    m = sup[i]\n",
    "    num_atom = m.GetNumAtoms()\n",
    "    if num_atom ==20:\n",
    "        atom20.append(i+1)\n",
    "        \n",
    "print(atom20)\n",
    "\n"
   ]
  },
  {
   "cell_type": "code",
   "execution_count": 29,
   "metadata": {},
   "outputs": [
    {
     "name": "stdout",
     "output_type": "stream",
     "text": [
      "1. 김씨는  2 명입니다.(중복제거 전)\n",
      "   이씨는  6 명입니다.(중복제거 전)\n",
      "2. 이재영은 3 번 반복됩니다.\n",
      "3. 이유덕,이재영,권종표,박민호,강상희,김지완,최승혁,이성연,박영서,전경헌,송정환,김재성\n",
      "4. 강상희,권종표,김재성,김지완,박민호,박영서,송정환,이성연,이유덕,이재영,전경헌,최승혁\n"
     ]
    }
   ],
   "source": [
    "#https://codingdojang.com/scode/410?answer_mode=hide\n",
    "\n",
    "S = \"이유덕,이재영,권종표,이재영,박민호,강상희,이재영,김지완,최승혁,이성연,박영서,박민호,전경헌,송정환,김재성,이유덕,전경헌\"\n",
    "L = S.split(\",\")\n",
    "\n",
    "김=0\n",
    "이=0\n",
    "count = 0\n",
    "\n",
    "for i in L:\n",
    "    if i[0] == \"김\":\n",
    "        김+=1\n",
    "    elif i[0] == \"이\":\n",
    "        이+=1\n",
    "\n",
    "print(\"1. 김씨는 \",김,\"명입니다.(중복제거 전)\")\n",
    "print(\"   이씨는 \",이,\"명입니다.(중복제거 전)\")\n",
    "\n",
    "for i in L:\n",
    "    if i == \"이재영\":\n",
    "        count +=1\n",
    "print(\"2. 이재영은\",count,\"번 반복됩니다.\")\n",
    "\n",
    "wndqhrwprjL = []\n",
    "\n",
    "for i in L:\n",
    "    if not (i in wndqhrwprjL) == True:\n",
    "        wndqhrwprjL.append(i)\n",
    "\n",
    "\n",
    "print(\"3.\",','.join(wndqhrwprjL))\n",
    "\n",
    "wndqhrwprjL.sort()\n",
    "\n",
    "print(\"4.\",','.join(wndqhrwprjL))\n",
    "\n"
   ]
  },
  {
   "cell_type": "code",
   "execution_count": 133,
   "metadata": {},
   "outputs": [
    {
     "name": "stdin",
     "output_type": "stream",
     "text": [
      "변의길이 1 : 12\n",
      "변의길이 2 : 12\n",
      "변의길이 3 : 8\n"
     ]
    },
    {
     "name": "stdout",
     "output_type": "stream",
     "text": [
      "변의 길이가 12 12 8 인 삼각형의 반지름은 2.828 입니다.\n"
     ]
    }
   ],
   "source": [
    "#https://codingdojang.com/scode/442?answer_mode=hide\n",
    "import math\n",
    "a = int(input(\"변의길이 1 :\"))\n",
    "b = int(input(\"변의길이 2 :\"))\n",
    "c = int(input(\"변의길이 3 :\"))\n",
    "Flag =True\n",
    "quss = [a,b,c]\n",
    "quss.sort(reverse = True)\n",
    "\n",
    "if quss[0] >= (quss[1]+quss[2]):\n",
    "    print(\"삼각형이 아닙니다.\")\n",
    "    Flag = False\n",
    "    \n",
    "if Flag == True:\n",
    "    for i in range(0,len(quss)):\n",
    "        j = quss[i]\n",
    "        if j>1000000:\n",
    "            print(i+1,\"번째의 변의길이가 너무 큽니다(1000000이하로 입력)\")\n",
    "            Flag = False\n",
    "            break\n",
    "            \n",
    "if Flag == True:\n",
    "    qussgkq = a+b+c\n",
    "    \n",
    "    s= qussgkq / 2\n",
    "    sjfqdl = math.sqrt(s*(s-a)*(s-b)*(s-c))\n",
    "    r = sjfqdl * 2/qussgkq\n",
    "    print(\"변의 길이가\",quss[0],quss[1],quss[2],\"인 삼각형의 반지름은\",format(r,\".3f\"),\"입니다.\")\n",
    "\n"
   ]
  },
  {
   "cell_type": "code",
   "execution_count": 148,
   "metadata": {},
   "outputs": [
    {
     "name": "stdin",
     "output_type": "stream",
     "text": [
      "숫자를 입력하세요 123213\n"
     ]
    },
    {
     "data": {
      "text/plain": [
       "False"
      ]
     },
     "execution_count": 148,
     "metadata": {},
     "output_type": "execute_result"
    }
   ],
   "source": [
    "#https://codingdojang.com/scode/488?answer_mode=hide\n",
    "\n",
    "\n",
    "n = int(input(\"숫자를 입력하세요\"))\n",
    "\n",
    "def 판독기(N):\n",
    "    strN = str(N)\n",
    "    strNlist = []\n",
    "    for i in strN:\n",
    "        strNlist.append(i)\n",
    "    strNlistset = set(strNlist)\n",
    "    wndqhrwprj = list(strNlistset)\n",
    "\n",
    "\n",
    "    if len(wndqhrwprj) == len(strNlist):\n",
    "        return True\n",
    "    else:\n",
    "        return False\n",
    "\n",
    "판독기(n)"
   ]
  },
  {
   "cell_type": "code",
   "execution_count": 157,
   "metadata": {},
   "outputs": [
    {
     "name": "stdin",
     "output_type": "stream",
     "text": [
      "구하고싶은 피보나치수열의 항의 갯수를 입력하세요 8\n"
     ]
    },
    {
     "name": "stdout",
     "output_type": "stream",
     "text": [
      "0\n",
      "1\n",
      "1\n",
      "2\n",
      "3\n",
      "5\n",
      "8\n",
      "13\n"
     ]
    }
   ],
   "source": [
    "#https://codingdojang.com/scode/461?answer_mode=hide\n",
    "\n",
    "n= int(input(\"구하고싶은 피보나치수열의 항의 갯수를 입력하세요\"))\n",
    "\n",
    "vlqhskcl = [0,1]\n",
    "\n",
    "for i in range(0,n-2):\n",
    "    N = vlqhskcl[i]+vlqhskcl[i+1]\n",
    "    vlqhskcl.append(N)\n",
    "\n",
    "for j in vlqhskcl:\n",
    "    print(j)"
   ]
  },
  {
   "cell_type": "code",
   "execution_count": 205,
   "metadata": {},
   "outputs": [],
   "source": [
    "#이중결합 확인하기\n",
    "\n",
    "def hasdoublebond(m):\n",
    "    for bond in m.GetBonds():\n",
    "        if bond.GetBondType() == rdkit.Chem.BondType.DOUBLE:\n",
    "            return True\n",
    "    return False\n"
   ]
  },
  {
   "cell_type": "code",
   "execution_count": 202,
   "metadata": {},
   "outputs": [],
   "source": [
    "m = Chem.MolFromSmiles('O=C=O')"
   ]
  },
  {
   "cell_type": "code",
   "execution_count": 204,
   "metadata": {},
   "outputs": [
    {
     "data": {
      "image/png": "[encoded data removed]",
      "text/plain": [
       "<rdkit.Chem.rdchem.Mol at 0x1dff80b24e0>"
      ]
     },
     "execution_count": 204,
     "metadata": {},
     "output_type": "execute_result"
    }
   ],
   "source": [
    "m"
   ]
  },
  {
   "cell_type": "code",
   "execution_count": null,
   "metadata": {},
   "outputs": [],
   "source": []
  }
 ],
 "metadata": {
  "kernelspec": {
   "display_name": "Python 3",
   "language": "python",
   "name": "python3"
  },
  "language_info": {
   "codemirror_mode": {
    "name": "ipython",
    "version": 3
   },
   "file_extension": ".py",
   "mimetype": "text/x-python",
   "name": "python",
   "nbconvert_exporter": "python",
   "pygments_lexer": "ipython3",
   "version": "3.8.3"
  }
 },
 "nbformat": 4,
 "nbformat_minor": 4
}
