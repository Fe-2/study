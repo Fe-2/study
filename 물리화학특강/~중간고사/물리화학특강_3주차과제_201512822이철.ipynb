{
 "cells": [
  {
   "cell_type": "code",
   "execution_count": null,
   "metadata": {},
   "outputs": [],
   "source": [
    "#Q91\n",
    "inventory = {\"메로나\": [300,20],\n",
    "             \"비비빅\": [400,3],\n",
    "             \"죠스바\": [250,100]}\n",
    "print(inventory)"
   ]
  },
  {
   "cell_type": "code",
   "execution_count": null,
   "metadata": {},
   "outputs": [],
   "source": [
    "#Q92\n",
    "inventory = {\"메로나\": [300,20],\n",
    "             \"비비빅\": [400,3],\n",
    "             \"죠스바\": [250,100]}\n",
    "print(inventory[\"메로나\"][0], \"원\")"
   ]
  },
  {
   "cell_type": "code",
   "execution_count": null,
   "metadata": {},
   "outputs": [],
   "source": [
    "#Q93\n",
    "inventory = {\"메로나\": [300,20],\n",
    "             \"비비빅\": [400,3],\n",
    "             \"죠스바\": [250,100]}\n",
    "print(inventory[\"메로나\"][1], \"개\")"
   ]
  },
  {
   "cell_type": "code",
   "execution_count": 4,
   "metadata": {},
   "outputs": [],
   "source": [
    "#Q94\n",
    "inventory = {\"메로나\": [300,20],\n",
    "             \"비비빅\": [400,3],\n",
    "             \"죠스바\": [250,100]}\n",
    "inventory[\"월드콘\"] = [500,7]\n",
    "print(inventory)"
   ]
  },
  {
   "cell_type": "code",
   "execution_count": 5,
   "metadata": {},
   "outputs": [
    {
     "name": "stdout",
     "output_type": "stream",
     "text": [
      "['탱크보이', '폴라포', '빵빠레', '월드콘', '메로나']\n"
     ]
    }
   ],
   "source": [
    "#Q95\n",
    "icecream = {'탱크보이': 1200, '폴라포': 1200, '빵빠레': 1800, '월드콘': 1500, '메로나': 1000}\n",
    "icecreamkeys = list(icecream.keys())\n",
    "print(icecreamkeys)"
   ]
  },
  {
   "cell_type": "code",
   "execution_count": 6,
   "metadata": {},
   "outputs": [
    {
     "name": "stdout",
     "output_type": "stream",
     "text": [
      "[1200, 1200, 1800, 1500, 1000]\n"
     ]
    }
   ],
   "source": [
    "#Q96\n",
    "icecream = {'탱크보이': 1200, '폴라포': 1200, '빵빠레': 1800, '월드콘': 1500, '메로나': 1000}\n",
    "icecreamvalues = list(icecream.values())\n",
    "print(icecreamvalues)"
   ]
  },
  {
   "cell_type": "code",
   "execution_count": 7,
   "metadata": {},
   "outputs": [
    {
     "name": "stdout",
     "output_type": "stream",
     "text": [
      "6700\n"
     ]
    }
   ],
   "source": [
    "#Q97\n",
    "icecream = {'탱크보이': 1200, '폴라포': 1200, '빵빠레': 1800, '월드콘': 1500, '메로나': 1000}\n",
    "print(sum(icecream.values()))"
   ]
  },
  {
   "cell_type": "code",
   "execution_count": 8,
   "metadata": {},
   "outputs": [
    {
     "name": "stdout",
     "output_type": "stream",
     "text": [
      "{'탱크보이': 1200, '폴라포': 1200, '빵빠레': 1800, '월드콘': 1500, '메로나': 1000, '팥빙수': 2700, '아맛나': 1000}\n"
     ]
    }
   ],
   "source": [
    "#Q98\n",
    "icecream = {'탱크보이': 1200, '폴라포': 1200, '빵빠레': 1800, '월드콘': 1500, '메로나': 1000}\n",
    "new_product = {'팥빙수':2700, '아맛나':1000}\n",
    "\n",
    "icecream.update(new_product)\n",
    "\n",
    "print(icecream)"
   ]
  },
  {
   "cell_type": "code",
   "execution_count": 9,
   "metadata": {},
   "outputs": [
    {
     "name": "stdout",
     "output_type": "stream",
     "text": [
      "{'apple': 300, 'pear': 250, 'peach': 400}\n"
     ]
    }
   ],
   "source": [
    "#Q99\n",
    "keys = (\"apple\", \"pear\", \"peach\")\n",
    "vals = (300, 250, 400)\n",
    "result = dict(zip(keys,vals))\n",
    "print(result)"
   ]
  },
  {
   "cell_type": "code",
   "execution_count": 10,
   "metadata": {},
   "outputs": [
    {
     "name": "stdout",
     "output_type": "stream",
     "text": [
      "{'09/05': 10500, '09/06': 10300, '09/07': 10100, '09/08': 10800, '09/09': 11000}\n"
     ]
    }
   ],
   "source": [
    "#Q100\n",
    "date = ['09/05', '09/06', '09/07', '09/08', '09/09']\n",
    "close_price = [10500, 10300, 10100, 10800, 11000]\n",
    "close_table = dict(zip(date,close_price))\n",
    "print(close_table)"
   ]
  },
  {
   "cell_type": "code",
   "execution_count": null,
   "metadata": {},
   "outputs": [],
   "source": [
    "#Q121\n",
    "a = input(\"\")\n",
    "if a.islower():\n",
    "    print(a.upper())\n",
    "else:\n",
    "    print(a.lower())"
   ]
  },
  {
   "cell_type": "code",
   "execution_count": null,
   "metadata": {},
   "outputs": [],
   "source": [
    "#Q122\n",
    "a = input(\"a:\")\n",
    "a = int(a)\n",
    "if 81 <= a <= 100:\n",
    "    grade = \"A\"\n",
    "elif 61 <= a <= 80:\n",
    "    grade = \"B\"\n",
    "elif 41 <= a <= 60:\n",
    "    grade = \"C\"\n",
    "elif 21 <= a <= 40:\n",
    "    grade = \"D\"\n",
    "else:\n",
    "    grade = \"E\"\n",
    "    \n",
    "print(\"grade is\", grade)"
   ]
  },
  {
   "cell_type": "code",
   "execution_count": null,
   "metadata": {},
   "outputs": [],
   "source": [
    "#Q123\n",
    "환율 = {\"달러\": 1167, \n",
    "        \"엔\": 1.096, \n",
    "        \"유로\": 1268, \n",
    "        \"위안\": 171}\n",
    "user = input(\"입력(돈 단위) :\")\n",
    "num, currency = user.split()\n",
    "print(float(num) * 환율[currency], \"원\")"
   ]
  },
  {
   "cell_type": "code",
   "execution_count": null,
   "metadata": {},
   "outputs": [],
   "source": [
    "#Q124\n",
    "num1 = input(\"num1 :\")\n",
    "num2 = input(\"num2 :\")\n",
    "num3 = input(\"num3 :\")\n",
    "num1 = int(num1)\n",
    "num2 = int(num2)\n",
    "num3 = int(num3)\n",
    "\n",
    "if num1 > num2 and num1 > num3:\n",
    "    big = num1\n",
    "elif num2 > num1 and num2 > num3:\n",
    "    big = num2\n",
    "else:\n",
    "    big = num3\n",
    "    \n",
    "print(\"biggest is \",big)\n"
   ]
  },
  {
   "cell_type": "code",
   "execution_count": null,
   "metadata": {},
   "outputs": [],
   "source": [
    "#Q125\n",
    "number = input(\"휴대전화번호입력 : \")\n",
    "number = number.split(\"-\")[0]\n",
    "\n",
    "if number == \"011\":\n",
    "    통신사 = \"SKT\"\n",
    "elif number == \"016\":\n",
    "    통신사 = \"KT\"\n",
    "elif number == \"019\":\n",
    "    통신사 = \"LG\"\n",
    "else:\n",
    "    통신사 = \"알수없음\"\n",
    "print(\"당신의 통신사는 \", 통신사)"
   ]
  },
  {
   "cell_type": "code",
   "execution_count": null,
   "metadata": {},
   "outputs": [],
   "source": [
    "#Q126\n",
    "num = input(\"우편번호 :\")\n",
    "num = num[:3]\n",
    "\n",
    "if num in [\"010\", \"011\", \"012\"]:\n",
    "    print(\"강북구\")\n",
    "elif num in [\"014\", \"015\", \"016\"]:\n",
    "    print(\"도봉구\")\n",
    "else:\n",
    "    print(\"노원구\")"
   ]
  },
  {
   "cell_type": "code",
   "execution_count": null,
   "metadata": {},
   "outputs": [],
   "source": [
    "#Q127\n",
    "num = input(\"주민등록번호 :\")\n",
    "num = num[7]\n",
    "\n",
    "if num in [\"1\", \"3\"]:\n",
    "    print(\"남자\")\n",
    "else:\n",
    "    print(\"여자\")"
   ]
  },
  {
   "cell_type": "code",
   "execution_count": null,
   "metadata": {},
   "outputs": [],
   "source": [
    "#Q128\n",
    "num = input(\"주민등록번호 :\")\n",
    "num = num[8:10]\n",
    "num = int(num)\n",
    "\n",
    "if 0 < num <=8:\n",
    "    print(\"서울입니다.\")\n",
    "else:\n",
    "    print(\"서울이 아닙니다\")"
   ]
  },
  {
   "cell_type": "code",
   "execution_count": null,
   "metadata": {},
   "outputs": [],
   "source": [
    "#Q129\n",
    "num = input(\"주민등록번호 :\")\n",
    "일차계산 = int(num[0])*2 + int(num[1])*3 + int(num[2])*4 + int(num[3])*5 + int(num[4])*6 + int(num[5])*7 + int(num[7])*8 + int(num[8])*9 + int(num[9])*2 + int(num[10])*3 + int(num[11])*4+ int(num[12])*5\n",
    "\n",
    "이차계산 = 11 - (일차계산 % 11)\n",
    "\n",
    "이차계산 = str(이차계산)\n",
    "\n",
    "if num[-1] == 이차계산:\n",
    "    print(\"유효한 주민등록번호입니다.\")\n",
    "else:\n",
    "    print(\"유효하지 않은 주민등록번호입니다.\")"
   ]
  },
  {
   "cell_type": "code",
   "execution_count": null,
   "metadata": {},
   "outputs": [],
   "source": [
    "#Q130\n",
    "import requests\n",
    "btc = requests.get(\"https://api.bithumb.com/public/ticker/\").json()['data']\n",
    "\n",
    "시가 = float(btc['opening_price'])\n",
    "종가 = float(btc['closing_price'])\n",
    "최고가 = float(btc['max_price'])\n",
    "최저가 = float(btc['min_price'])\n",
    "\n",
    "변동폭 = 최고가 - 최저가\n",
    "\n",
    "\n",
    "print(\"시가 =\", 시가)\n",
    "print(\"종가 =\", 종가)\n",
    "print(\"최고가 =\", 최고가)\n",
    "print(\"최저가 =\", 최저가)\n",
    "print(\"변동폭 =\", 변동폭,\"\\n\")\n",
    "\n",
    "\n",
    "if 시가+변동폭 > 최고가:\n",
    "    print(\"상승장\")\n",
    "else:\n",
    "    print(\"하락장\")"
   ]
  },
  {
   "cell_type": "code",
   "execution_count": null,
   "metadata": {},
   "outputs": [],
   "source": [
    "#Q151\n",
    "리스트 = [3, -20, -3, 44]\n",
    "for 숫자 in 리스트:\n",
    "    if 숫자 < 0:\n",
    "        print(숫자)"
   ]
  },
  {
   "cell_type": "code",
   "execution_count": null,
   "metadata": {},
   "outputs": [],
   "source": [
    "#Q152\n",
    "리스트 = [3, 100, 23, 44]\n",
    "for 숫자 in 리스트:\n",
    "    if 숫자 % 3 == 0:\n",
    "        print(숫자)"
   ]
  },
  {
   "cell_type": "code",
   "execution_count": null,
   "metadata": {},
   "outputs": [],
   "source": [
    "#Q153\n",
    "리스트 = [13, 21, 12, 14, 30, 18]\n",
    "for 숫자 in 리스트:\n",
    "    if 숫자 % 3 == 0 and 숫자 < 20:\n",
    "        print(숫자)"
   ]
  },
  {
   "cell_type": "code",
   "execution_count": null,
   "metadata": {},
   "outputs": [],
   "source": [
    "#Q154\n",
    "리스트 = [\"I\", \"study\", \"python\", \"language\", \"!\"]\n",
    "for 글자 in 리스트:\n",
    "    if len(글자) >= 3:\n",
    "        print(글자)"
   ]
  },
  {
   "cell_type": "code",
   "execution_count": null,
   "metadata": {},
   "outputs": [],
   "source": [
    "#Q155\n",
    "리스트 = [\"A\", \"b\", \"c\", \"D\"]\n",
    "for 알파벳 in 리스트:\n",
    "    if 알파벳.isupper():\n",
    "        print(알파벳)"
   ]
  },
  {
   "cell_type": "code",
   "execution_count": null,
   "metadata": {},
   "outputs": [],
   "source": [
    "#Q156\n",
    "리스트 = [\"A\", \"b\", \"c\", \"D\"]\n",
    "for 알파벳 in 리스트:\n",
    "    if 알파벳.isupper() == False:\n",
    "        print(알파벳)"
   ]
  },
  {
   "cell_type": "code",
   "execution_count": null,
   "metadata": {},
   "outputs": [],
   "source": [
    "#Q157\n",
    "리스트 = ['dog', 'cat', 'parrot']\n",
    "for 단어 in 리스트:\n",
    "    첫글자 = 단어[0]\n",
    "    대문자 = 단어[0].upper()\n",
    "    print(대문자 + 단어[1:])"
   ]
  },
  {
   "cell_type": "code",
   "execution_count": null,
   "metadata": {},
   "outputs": [],
   "source": [
    "#Q158\n",
    "리스트 = ['hello.py', 'ex01.py', 'intro.hwp']\n",
    "for 파일 in 리스트:\n",
    "    파일명, 확장자 = 파일.split(\".\")\n",
    "    print(\"파일명 = \", 파일명)\n",
    "    print(\"확장자 = \", 확장자)\n"
   ]
  },
  {
   "cell_type": "code",
   "execution_count": null,
   "metadata": {},
   "outputs": [],
   "source": [
    "#Q159\n",
    "리스트 = ['intra.h', 'intra.c', 'define.h', 'run.py']\n",
    "for 파일 in 리스트:\n",
    "    파일명, 확장자 = 파일.split(\".\")\n",
    "    if 확장자 == \"h\":\n",
    "        print(파일)"
   ]
  },
  {
   "cell_type": "code",
   "execution_count": null,
   "metadata": {},
   "outputs": [],
   "source": [
    "#Q160\n",
    "리스트 = ['intra.h', 'intra.c', 'define.h', 'run.py']\n",
    "for 파일 in 리스트:\n",
    "    파일명, 확장자 = 파일.split(\".\")\n",
    "    if 확장자 == \"h\" or  확장자 == \"c\":\n",
    "        print(파일)"
   ]
  },
  {
   "cell_type": "code",
   "execution_count": null,
   "metadata": {},
   "outputs": [],
   "source": [
    "#Q191\n",
    "data = [\n",
    "    [ 2000,  3050,  2050,  1980],\n",
    "    [ 7500,  2050,  2050,  1980],\n",
    "    [15450, 15050, 15550, 14900]\n",
    "]\n",
    "\n",
    "\n",
    "for line in data:\n",
    "    for column in line:\n",
    "        print(column * 1.00014)"
   ]
  },
  {
   "cell_type": "code",
   "execution_count": null,
   "metadata": {},
   "outputs": [],
   "source": [
    "#Q192\n",
    "data = [\n",
    "    [ 2000,  3050,  2050,  1980],\n",
    "    [ 7500,  2050,  2050,  1980],\n",
    "    [15450, 15050, 15550, 14900]\n",
    "]\n",
    "\n",
    "\n",
    "for line in data:\n",
    "    for column in line:\n",
    "        print(column * 1.00014)\n",
    "    print(\"---------------------\")"
   ]
  },
  {
   "cell_type": "code",
   "execution_count": null,
   "metadata": {},
   "outputs": [],
   "source": [
    "#Q193\n",
    "data = [\n",
    "    [ 2000,  3050,  2050,  1980],\n",
    "    [ 7500,  2050,  2050,  1980],\n",
    "    [15450, 15050, 15550, 14900]\n",
    "]\n",
    "\n",
    "result =[]\n",
    "\n",
    "for line in data:\n",
    "    for column in line:\n",
    "        result.append(column * 1.00014)\n",
    "print(result)"
   ]
  },
  {
   "cell_type": "code",
   "execution_count": null,
   "metadata": {},
   "outputs": [],
   "source": [
    "#Q194\n",
    "data = [\n",
    "    [ 2000,  3050,  2050,  1980],\n",
    "    [ 7500,  2050,  2050,  1980],\n",
    "    [15450, 15050, 15550, 14900]\n",
    "]\n",
    "\n",
    "result =[]\n",
    "\n",
    "for line in data:\n",
    "    result2 = []\n",
    "    for column in line:\n",
    "        result2.append(column * 1.00014)\n",
    "    result.append(result2)\n",
    "print(result)"
   ]
  },
  {
   "cell_type": "code",
   "execution_count": null,
   "metadata": {},
   "outputs": [],
   "source": [
    "#Q195\n",
    "ohlc = [[\"open\", \"high\", \"low\", \"close\"],\n",
    "        [100, 110, 70, 100],\n",
    "        [200, 210, 180, 190],\n",
    "        [300, 310, 300, 310]]\n",
    "\n",
    "for line in ohlc[1:]:\n",
    "    종가 = int(line[3])\n",
    "    print(종가)"
   ]
  },
  {
   "cell_type": "code",
   "execution_count": null,
   "metadata": {},
   "outputs": [],
   "source": [
    "#Q196\n",
    "ohlc = [[\"open\", \"high\", \"low\", \"close\"],\n",
    "        [100, 110, 70, 100],\n",
    "        [200, 210, 180, 190],\n",
    "        [300, 310, 300, 310]]\n",
    "\n",
    "for line in ohlc[1:]:\n",
    "    종가 = int(line[3])\n",
    "    if 종가 >= 150:\n",
    "        print(종가)"
   ]
  },
  {
   "cell_type": "code",
   "execution_count": null,
   "metadata": {},
   "outputs": [],
   "source": [
    "#Q197\n",
    "ohlc = [[\"open\", \"high\", \"low\", \"close\"],\n",
    "        [100, 110, 70, 100],\n",
    "        [200, 210, 180, 190],\n",
    "        [300, 310, 300, 310]]\n",
    "\n",
    "for line in ohlc[1:]:\n",
    "    종가 = int(line[3])\n",
    "    시가 = int(line[0])\n",
    "    if 종가 >= 시가:\n",
    "        print(종가)"
   ]
  },
  {
   "cell_type": "code",
   "execution_count": null,
   "metadata": {},
   "outputs": [],
   "source": [
    "#Q198\n",
    "ohlc = [[\"open\", \"high\", \"low\", \"close\"],\n",
    "        [100, 110, 70, 100],\n",
    "        [200, 210, 180, 190],\n",
    "        [300, 310, 300, 310]]\n",
    "\n",
    "volatility = []\n",
    "for line in ohlc[1:]:\n",
    "    고가 = int(line[1])\n",
    "    저가 = int(line[2])\n",
    "    변동폭 = 고가 - 저가\n",
    "    volatility.append(변동폭)\n",
    "\n",
    "print(volatility)"
   ]
  },
  {
   "cell_type": "code",
   "execution_count": null,
   "metadata": {},
   "outputs": [],
   "source": [
    "#Q199\n",
    "ohlc = [[\"open\", \"high\", \"low\", \"close\"],\n",
    "        [100, 110, 70, 100],\n",
    "        [200, 210, 180, 190],\n",
    "        [300, 310, 300, 310]]\n",
    "\n",
    "for line in ohlc[1:]:\n",
    "    시가 = int(line[0])\n",
    "    고가 = int(line[1])\n",
    "    저가 = int(line[2])\n",
    "    종가 = int(line[3])\n",
    "    변동폭 = 고가 - 저가\n",
    "    \n",
    "    if 종가 > 시가:\n",
    "        print(변동폭)"
   ]
  },
  {
   "cell_type": "code",
   "execution_count": null,
   "metadata": {},
   "outputs": [],
   "source": [
    "#Q200\n",
    "ohlc = [[\"open\", \"high\", \"low\", \"close\"],\n",
    "        [100, 110, 70, 100],\n",
    "        [200, 210, 180, 190],\n",
    "        [300, 310, 300, 310]]\n",
    "\n",
    "수익 = []\n",
    "for line in ohlc[1:]:\n",
    "    시가 = int(line[0])\n",
    "    고가 = int(line[1])\n",
    "    저가 = int(line[2])\n",
    "    종가 = int(line[3])\n",
    "    변동폭 = 고가 - 저가\n",
    "    수익.append(종가 - 시가)\n",
    "\n",
    "print(sum(수익))\n",
    "    "
   ]
  },
  {
   "cell_type": "code",
   "execution_count": null,
   "metadata": {},
   "outputs": [],
   "source": []
  }
 ],
 "metadata": {
  "kernelspec": {
   "display_name": "Python 3",
   "language": "python",
   "name": "python3"
  },
  "language_info": {
   "codemirror_mode": {
    "name": "ipython",
    "version": 3
   },
   "file_extension": ".py",
   "mimetype": "text/x-python",
   "name": "python",
   "nbconvert_exporter": "python",
   "pygments_lexer": "ipython3",
   "version": "3.8.3"
  }
 },
 "nbformat": 4,
 "nbformat_minor": 4
}
