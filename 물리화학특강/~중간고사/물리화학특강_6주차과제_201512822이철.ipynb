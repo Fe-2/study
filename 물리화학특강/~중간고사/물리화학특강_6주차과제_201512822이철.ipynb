{
 "cells": [
  {
   "cell_type": "code",
   "execution_count": 1,
   "metadata": {},
   "outputs": [
    {
     "name": "stdout",
     "output_type": "stream",
     "text": [
      "1-1\n",
      "김씨는 2 명입니다.\n",
      "이씨는 6 명입니다.\n",
      "\n",
      "1-2\n",
      "이재영은 3 번 반복됩니다.\n",
      "\n",
      "1-3\n",
      "{'박민호', '박영서', '권종표', '전경헌', '김재성', '송정환', '최승혁', '이유덕', '김지완', '이성연', '강상희', '이재영'}\n",
      "\n",
      "1-4\n",
      "['강상희', '권종표', '김재성', '김지완', '박민호', '박영서', '송정환', '이성연', '이유덕', '이재영', '전경헌', '최승혁']\n"
     ]
    }
   ],
   "source": [
    "#1\n",
    "names = \"이유덕,이재영,권종표,이재영,박민호,강상희,이재영,김지완,최승혁,이성연,박영서,박민호,전경헌,송정환,김재성,이유덕,전경헌\".split(\",\")\n",
    "print(\"1-1\")\n",
    "김 = []\n",
    "이 = []\n",
    "for i in names:\n",
    "    if i[0] == \"김\":\n",
    "        김.append(i)\n",
    "    elif i[0] == \"이\":\n",
    "        이.append(i)\n",
    "print(\"김씨는\",len(김),\"명입니다.\")\n",
    "print(\"이씨는\",len(이),\"명입니다.\")\n",
    "#=====================================================\n",
    "names = \"이유덕,이재영,권종표,이재영,박민호,강상희,이재영,김지완,최승혁,이성연,박영서,박민호,전경헌,송정환,김재성,이유덕,전경헌\".split(\",\")\n",
    "print(\"\\n1-2\")\n",
    "이재영 = []\n",
    "for i in names:\n",
    "    if i == \"이재영\":\n",
    "        이재영.append(i)\n",
    "        \n",
    "print(\"이재영은\",len(이재영),\"번 반복됩니다.\")\n",
    "#=====================================================\n",
    "names = \"이유덕,이재영,권종표,이재영,박민호,강상희,이재영,김지완,최승혁,이성연,박영서,박민호,전경헌,송정환,김재성,이유덕,전경헌\".split(\",\")\n",
    "print(\"\\n1-3\")\n",
    "\n",
    "중복제거 = set(names)\n",
    "\n",
    "print(중복제거)\n",
    "#=====================================================\n",
    "names = \"이유덕,이재영,권종표,이재영,박민호,강상희,이재영,김지완,최승혁,이성연,박영서,박민호,전경헌,송정환,김재성,이유덕,전경헌\".split(\",\")\n",
    "print(\"\\n1-4\")\n",
    "\n",
    "중복제거 = set(names)\n",
    "\n",
    "정렬 = sorted(중복제거)\n",
    "print(정렬)"
   ]
  },
  {
   "cell_type": "code",
   "execution_count": 2,
   "metadata": {},
   "outputs": [
    {
     "name": "stdin",
     "output_type": "stream",
     "text": [
      "첫번째 변의 길이 : 12\n",
      "두번째 변의 길이 : 12\n",
      "세번째 변의 길이 : 8\n"
     ]
    },
    {
     "name": "stdout",
     "output_type": "stream",
     "text": [
      "\n",
      "내접원의 반지름은  2.828 입니다\n"
     ]
    }
   ],
   "source": [
    "#2\n",
    "import cmath\n",
    "a = float(input(\"첫번째 변의 길이 :\"))\n",
    "b = float(input(\"두번째 변의 길이 :\"))\n",
    "c = float(input(\"세번째 변의 길이 :\"))\n",
    "x = 0\n",
    "\n",
    "if max(a, b, c) >= min(a,b,c) + (a+b+c-max(a,b,c)-min(a,b,c)):\n",
    "    print (\"\\n삼각형이 아닙니다.\")\n",
    "else:\n",
    "    s = (a + b+ c) /2\n",
    "    A = cmath.sqrt(s * (s-a) * (s-b) * (s-c))\n",
    "    r = A * 2 / (a + b +c)\n",
    "    print(\"\\n내접원의 반지름은 \",round(r.real,3),\"입니다\")"
   ]
  },
  {
   "cell_type": "code",
   "execution_count": 3,
   "metadata": {},
   "outputs": [
    {
     "name": "stdin",
     "output_type": "stream",
     "text": [
      "입력하신 숫자 = 123123131\n"
     ]
    },
    {
     "name": "stdout",
     "output_type": "stream",
     "text": [
      "\n",
      "False, 0~9까지의 숫자가 각각 한 번 씩만 사용된 것이 아닙니다\n"
     ]
    }
   ],
   "source": [
    "#3\n",
    "\n",
    "num = input(\"입력하신 숫자 =\")\n",
    "nums = []\n",
    "\n",
    "for i in range(0, len(num)):\n",
    "    nums.append(num[i])\n",
    "\n",
    "if len(set(nums)) == len(nums):\n",
    "    print(\"\\nTrue, 0~9까지의 숫자가 각각 한 번 씩만 사용된 것입니다\")\n",
    "else:\n",
    "    print(\"\\nFalse, 0~9까지의 숫자가 각각 한 번 씩만 사용된 것이 아닙니다\")"
   ]
  },
  {
   "cell_type": "code",
   "execution_count": 4,
   "metadata": {},
   "outputs": [
    {
     "name": "stdin",
     "output_type": "stream",
     "text": [
      "반복할 숫자 n =  12\n"
     ]
    },
    {
     "name": "stdout",
     "output_type": "stream",
     "text": [
      "1 번째항은  0 입니다\n",
      "2 번째항은  1 입니다\n",
      "3 번째항은  1 입니다\n",
      "4 번째항은  2 입니다\n",
      "5 번째항은  3 입니다\n",
      "6 번째항은  5 입니다\n",
      "7 번째항은  8 입니다\n",
      "8 번째항은  13 입니다\n",
      "9 번째항은  21 입니다\n",
      "10 번째항은  34 입니다\n",
      "11 번째항은  55 입니다\n",
      "12 번째항은  89 입니다\n"
     ]
    }
   ],
   "source": [
    "#4\n",
    "\n",
    "n = int(input(\"반복할 숫자 n = \"))\n",
    "항1 = 0\n",
    "항2 = 1\n",
    "새항 = 0\n",
    "for i in range(0, n):\n",
    "    print((i+1),\"번째항은 \" ,항1 ,\"입니다\")\n",
    "    새항 = 항1 + 항2\n",
    "    항1 = 항2\n",
    "    항2 = 새항\n",
    "      "
   ]
  },
  {
   "cell_type": "code",
   "execution_count": 5,
   "metadata": {},
   "outputs": [],
   "source": [
    "#291\n",
    "f = open(\"매수종목1.txt\", mode=\"wt\")\n",
    "f.write(\"005930\\n\")\n",
    "f.write(\"005380\\n\")\n",
    "f.write(\"035420\")\n",
    "f.close()"
   ]
  },
  {
   "cell_type": "code",
   "execution_count": 6,
   "metadata": {},
   "outputs": [],
   "source": [
    "#292\n",
    "f = open(\"매수종목2.txt\", mode=\"wt\")\n",
    "f.write(\"005930 삼성전자\\n\")\n",
    "f.write(\"005380 현대차\\n\")\n",
    "f.write(\"035420 NAVER\")\n",
    "f.close()"
   ]
  },
  {
   "cell_type": "code",
   "execution_count": 7,
   "metadata": {},
   "outputs": [],
   "source": [
    "#293\n",
    "import csv\n",
    "\n",
    "f = open(\"매수종목.csv\", mode=\"wt\", encoding=\"cp949\", newline='')\n",
    "writer = csv.writer(f)\n",
    "writer.writerow([\"종목명\", \"종목코드\", \"PER\"])\n",
    "writer.writerow([\"삼성전자\", \"005930\", 15.59])\n",
    "writer.writerow([\"NAVER\", \"035420\", 55.82])\n",
    "f.close()"
   ]
  },
  {
   "cell_type": "code",
   "execution_count": 8,
   "metadata": {},
   "outputs": [
    {
     "name": "stdout",
     "output_type": "stream",
     "text": [
      "['005930', '005380', '035420']\n"
     ]
    },
    {
     "data": {
      "text/plain": [
       "<function TextIOWrapper.close()>"
      ]
     },
     "execution_count": 8,
     "metadata": {},
     "output_type": "execute_result"
    }
   ],
   "source": [
    "#294\n",
    "f = open(\"매수종목1.txt\", \"r\" )\n",
    "lines = f.readlines()\n",
    "\n",
    "l = []\n",
    "\n",
    "for line in lines:\n",
    "    x = line.strip()\n",
    "    l.append(x)\n",
    "    \n",
    "print(l)\n",
    "\n",
    "f.close"
   ]
  },
  {
   "cell_type": "code",
   "execution_count": 9,
   "metadata": {},
   "outputs": [
    {
     "name": "stdout",
     "output_type": "stream",
     "text": [
      "{'005930': '삼성전자', '005380': '현대차', '035420': 'NAVER'}\n"
     ]
    },
    {
     "data": {
      "text/plain": [
       "<function TextIOWrapper.close()>"
      ]
     },
     "execution_count": 9,
     "metadata": {},
     "output_type": "execute_result"
    }
   ],
   "source": [
    "#295\n",
    "f = open(\"매수종목2.txt\")\n",
    "lines = f.readlines()\n",
    "\n",
    "l = {}\n",
    "\n",
    "for line in lines:\n",
    "    x = line.strip()\n",
    "    a,b = line.split()\n",
    "    l[a] =b\n",
    "    \n",
    "print(l)\n",
    "f.close"
   ]
  },
  {
   "cell_type": "code",
   "execution_count": 10,
   "metadata": {},
   "outputs": [
    {
     "name": "stdout",
     "output_type": "stream",
     "text": [
      "10.31\n",
      "0\n",
      "8.0\n"
     ]
    }
   ],
   "source": [
    "#296\n",
    "per = [\"10.31\", \"\", \"8.00\"]\n",
    "\n",
    "for i in per:\n",
    "    try:\n",
    "        print(float(i))\n",
    "    except:\n",
    "        print(0)\n",
    "    "
   ]
  },
  {
   "cell_type": "code",
   "execution_count": 11,
   "metadata": {},
   "outputs": [
    {
     "name": "stdout",
     "output_type": "stream",
     "text": [
      "[10.31, 0, 8.0]\n"
     ]
    }
   ],
   "source": [
    "#297\n",
    "per = [\"10.31\", \"\", \"8.00\"]\n",
    "\n",
    "l = []\n",
    "for i in per:\n",
    "    try:\n",
    "        l.append(float(i))\n",
    "    \n",
    "    except:\n",
    "        l.append(0)\n",
    "     \n",
    "print(l)"
   ]
  },
  {
   "cell_type": "code",
   "execution_count": 12,
   "metadata": {},
   "outputs": [
    {
     "name": "stdout",
     "output_type": "stream",
     "text": [
      "0으로 나누면 안되요\n"
     ]
    }
   ],
   "source": [
    "#298\n",
    "try:\n",
    "    b = 3 / 0\n",
    "except ZeroDivisionError:\n",
    "    print(\"0으로 나누면 안되요\")"
   ]
  },
  {
   "cell_type": "code",
   "execution_count": 13,
   "metadata": {},
   "outputs": [
    {
     "name": "stdout",
     "output_type": "stream",
     "text": [
      "1\n",
      "2\n",
      "3\n",
      "list index out of range\n",
      "list index out of range\n"
     ]
    }
   ],
   "source": [
    "#299\n",
    "data = [1, 2, 3]\n",
    "\n",
    "for i in range(5):\n",
    "    try:\n",
    "        print(data[i])\n",
    "    except IndexError as e:\n",
    "        print(e)"
   ]
  },
  {
   "cell_type": "code",
   "execution_count": 14,
   "metadata": {},
   "outputs": [
    {
     "name": "stdout",
     "output_type": "stream",
     "text": [
      "10.31\n",
      "에러없음\n",
      "완료\n",
      "\n",
      "0 \n",
      "에러있음\n",
      "완료\n",
      "\n",
      "8.0\n",
      "에러없음\n",
      "완료\n",
      "\n"
     ]
    }
   ],
   "source": [
    "#300\n",
    "per = [\"10.31\", \"\", \"8.00\"]\n",
    "\n",
    "for i in per:\n",
    "    try:\n",
    "        print(float(i))\n",
    "    except:\n",
    "        print(0,\"\\n에러있음\")\n",
    "    else:\n",
    "        print(\"에러없음\")\n",
    "    finally:\n",
    "        print(\"완료\\n\")"
   ]
  },
  {
   "cell_type": "code",
   "execution_count": null,
   "metadata": {},
   "outputs": [],
   "source": []
  }
 ],
 "metadata": {
  "kernelspec": {
   "display_name": "Python 3",
   "language": "python",
   "name": "python3"
  },
  "language_info": {
   "codemirror_mode": {
    "name": "ipython",
    "version": 3
   },
   "file_extension": ".py",
   "mimetype": "text/x-python",
   "name": "python",
   "nbconvert_exporter": "python",
   "pygments_lexer": "ipython3",
   "version": "3.8.3"
  }
 },
 "nbformat": 4,
 "nbformat_minor": 4
}
